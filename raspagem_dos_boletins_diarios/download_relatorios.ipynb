{
 "metadata": {
  "language_info": {
   "codemirror_mode": {
    "name": "ipython",
    "version": 3
   },
   "file_extension": ".py",
   "mimetype": "text/x-python",
   "name": "python",
   "nbconvert_exporter": "python",
   "pygments_lexer": "ipython3",
   "version": "3.7.0-final"
  },
  "orig_nbformat": 2,
  "kernelspec": {
   "name": "python370jvsc74a57bd054c85eb7dbd5a2167103f12628956715de332074f8028b8b97960d2088cc3691",
   "display_name": "Python 3.7.0 64-bit (conda)"
  }
 },
 "nbformat": 4,
 "nbformat_minor": 2,
 "cells": [
  {
   "cell_type": "code",
   "execution_count": 1,
   "metadata": {},
   "outputs": [],
   "source": [
    "import requests\n",
    "from datetime import datetime\n",
    "from datetime import timedelta\n",
    "import pandas as pd\n",
    "import urllib.request"
   ]
  },
  {
   "cell_type": "code",
   "execution_count": 2,
   "metadata": {},
   "outputs": [],
   "source": [
    "data = '06_01_21_'\n",
    "data_url_acento = data\n",
    "data_url = data"
   ]
  },
  {
   "cell_type": "code",
   "execution_count": 3,
   "metadata": {},
   "outputs": [],
   "source": [
    "def download_file(url, data):\n",
    "    response = urllib.request.urlopen(url)\n",
    "    with open(f'relatorio_{data}.pdf', mode='wb') as file:\n",
    "        file.write(response.read())"
   ]
  },
  {
   "cell_type": "code",
   "execution_count": 10,
   "metadata": {},
   "outputs": [],
   "source": [
    "for i in range(100):\n",
    "    while True:\n",
    "        try:\n",
    "            url = f'http://www.fvs.am.gov.br/media/publicacao/{data_url_acento}BOLETIM_DI%C3%81RIO_DE_CASOS_COVID-19.pdf'\n",
    "            response = requests.get(url)\n",
    "            response.raise_for_status()\n",
    "            break\n",
    "        except requests.HTTPError:\n",
    "            data_url_acento = pd.to_datetime(data_url_acento, format=\"%d_%m_%y_\")\n",
    "            data_url_acento = data_url_acento + timedelta(1)\n",
    "            data_url_acento = str(data_url_acento)[2:10]\n",
    "            data_url_acento = data_url_acento.split('-')\n",
    "            data_url_acento.reverse()\n",
    "            data_url_acento = [x + \"_\" for x in data_url_acento]\n",
    "            data_url_acento = \"\".join(data_url_acento)\n",
    "            continue \n",
    "\n",
    "    data_res = pd.to_datetime(data_url_acento, format=\"%d_%m_%y_\")\n",
    "    data_res = str(data_res)[2:10]\n",
    "    download_file(url, data_res)\n",
    "    data_url_acento = pd.to_datetime(data_url_acento, format=\"%d_%m_%y_\")\n",
    "    data_url_acento = data_url_acento + timedelta(1)"
   ]
  },
  {
   "cell_type": "code",
   "execution_count": 4,
   "metadata": {},
   "outputs": [],
   "source": [
    "for i in range(100):\n",
    "    while True:\n",
    "        try:\n",
    "            url = f'http://www.fvs.am.gov.br/media/publicacao/{data_url}BOLETIM_DIARIO_DE_CASOS_COVID-19.pdf'\n",
    "            response = requests.get(url)\n",
    "            response.raise_for_status()\n",
    "            break\n",
    "        except requests.HTTPError:\n",
    "            data_url = pd.to_datetime(data_url, format=\"%d_%m_%y_\")\n",
    "            data_url = data_url + timedelta(1)\n",
    "            data_url = str(data_url)[2:10]\n",
    "            data_url = data_url.split('-')\n",
    "            data_url.reverse()\n",
    "            data_url = [x + \"_\" for x in data_url]\n",
    "            data_url = \"\".join(data_url)\n",
    "            continue \n",
    "    data_res = pd.to_datetime(data_url, format=\"%d_%m_%y_\")\n",
    "    data_res = str(data_res)[2:10]\n",
    "    download_file(url, data_res)\n",
    "    data_url = pd.to_datetime(data_url, format=\"%d_%m_%y_\")\n",
    "    data_url = data_url + timedelta(1)"
   ]
  },
  {
   "cell_type": "code",
   "execution_count": null,
   "metadata": {},
   "outputs": [],
   "source": []
  }
 ]
}