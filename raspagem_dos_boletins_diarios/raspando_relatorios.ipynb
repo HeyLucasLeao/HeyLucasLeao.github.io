{
 "metadata": {
  "language_info": {
   "codemirror_mode": {
    "name": "ipython",
    "version": 3
   },
   "file_extension": ".py",
   "mimetype": "text/x-python",
   "name": "python",
   "nbconvert_exporter": "python",
   "pygments_lexer": "ipython3",
   "version": "3.7.0-final"
  },
  "orig_nbformat": 2,
  "kernelspec": {
   "name": "python370jvsc74a57bd054c85eb7dbd5a2167103f12628956715de332074f8028b8b97960d2088cc3691",
   "display_name": "Python 3.7.0 64-bit (conda)"
  }
 },
 "nbformat": 4,
 "nbformat_minor": 2,
 "cells": [
  {
   "source": [
    "### Neste documento cria-se os CSVs, fazendo raspagem de periodos de relatório, utilizando a biblioteca tabula-py. Nela, eu dou o dimensionamento do retângulo que quero extrair, e depois faço o tratamento. Por não extrair com exatidão, tampouco um padrão ao relatório do FVS, divide cada extração em periodos de tempo, sempre alterando quando necessário."
   ],
   "cell_type": "markdown",
   "metadata": {}
  },
  {
   "cell_type": "code",
   "execution_count": 325,
   "metadata": {},
   "outputs": [],
   "source": [
    "from tabula import read_pdf\n",
    "import pandas as pd\n",
    "import csv\n",
    "import numpy as np\n",
    "from os import listdir"
   ]
  },
  {
   "cell_type": "code",
   "execution_count": 478,
   "metadata": {},
   "outputs": [],
   "source": [
    "AREA = [271.968, \n",
    "409.618,\n",
    "386.647,\n",
    "832.562]"
   ]
  },
  {
   "cell_type": "code",
   "execution_count": 479,
   "metadata": {},
   "outputs": [],
   "source": [
    "PATH_PDF = r'C:\\Users\\heylu\\Documents\\github\\HeyLucasLeao.github.io\\raspagem_dos_boletins_diarios\\relatorios'\n",
    "PATH_CSV = r'C:\\Users\\heylu\\Documents\\github\\HeyLucasLeao.github.io\\raspagem_dos_boletins_diarios\\raw_csvs'"
   ]
  },
  {
   "cell_type": "code",
   "execution_count": 424,
   "metadata": {},
   "outputs": [
    {
     "output_type": "error",
     "ename": "FileNotFoundError",
     "evalue": "[Errno 2] No such file or directory: 'C:\\\\Users\\\\heylu\\\\Documents\\\\estudos\\\\bot_estudos\\\\relatorios\\\\r'",
     "traceback": [
      "\u001b[1;31m---------------------------------------------------------------------------\u001b[0m",
      "\u001b[1;31mFileNotFoundError\u001b[0m                         Traceback (most recent call last)",
      "\u001b[1;32m<ipython-input-424-7724e9b2215d>\u001b[0m in \u001b[0;36m<module>\u001b[1;34m\u001b[0m\n\u001b[0;32m      1\u001b[0m \u001b[1;32mfor\u001b[0m \u001b[0mfile_name\u001b[0m \u001b[1;32min\u001b[0m \u001b[0mlistdir\u001b[0m\u001b[1;33m(\u001b[0m\u001b[0mPATH_PDF\u001b[0m\u001b[1;33m)\u001b[0m\u001b[1;33m[\u001b[0m\u001b[1;36m6\u001b[0m\u001b[1;33m]\u001b[0m\u001b[1;33m:\u001b[0m\u001b[1;33m\u001b[0m\u001b[0m\n\u001b[1;32m----> 2\u001b[1;33m     \u001b[0mtaxa_de_ocupacao\u001b[0m \u001b[1;33m=\u001b[0m \u001b[0mread_pdf\u001b[0m\u001b[1;33m(\u001b[0m\u001b[1;34mr'C:\\Users\\heylu\\Documents\\estudos\\bot_estudos\\relatorios'\u001b[0m \u001b[1;33m+\u001b[0m \u001b[1;34m'\\\\'\u001b[0m \u001b[1;33m+\u001b[0m  \u001b[0mfile_name\u001b[0m\u001b[1;33m,\u001b[0m \u001b[0mpages\u001b[0m\u001b[1;33m=\u001b[0m\u001b[1;36m2\u001b[0m\u001b[1;33m,\u001b[0m \u001b[0marea\u001b[0m\u001b[1;33m=\u001b[0m\u001b[0mAREA\u001b[0m\u001b[1;33m,\u001b[0m \u001b[0mstream\u001b[0m\u001b[1;33m=\u001b[0m\u001b[1;32mTrue\u001b[0m\u001b[1;33m)\u001b[0m\u001b[1;33m[\u001b[0m\u001b[1;36m0\u001b[0m\u001b[1;33m]\u001b[0m\u001b[1;33m\u001b[0m\u001b[0m\n\u001b[0m\u001b[0;32m      3\u001b[0m     \u001b[0mtaxa_de_ocupacao\u001b[0m \u001b[1;33m=\u001b[0m \u001b[0mtaxa_de_ocupacao\u001b[0m\u001b[1;33m.\u001b[0m\u001b[0mshift\u001b[0m\u001b[1;33m(\u001b[0m\u001b[1;33m-\u001b[0m\u001b[1;36m1\u001b[0m\u001b[1;33m)\u001b[0m\u001b[1;33m.\u001b[0m\u001b[0mdrop\u001b[0m\u001b[1;33m(\u001b[0m\u001b[0mindex\u001b[0m\u001b[1;33m=\u001b[0m\u001b[1;33m[\u001b[0m\u001b[1;36m9\u001b[0m\u001b[1;33m,\u001b[0m \u001b[1;36m10\u001b[0m\u001b[1;33m]\u001b[0m\u001b[1;33m)\u001b[0m\u001b[1;33m\u001b[0m\u001b[0m\n\u001b[0;32m      4\u001b[0m     \u001b[0mtaxa_de_ocupacao\u001b[0m\u001b[1;33m[\u001b[0m\u001b[1;34m'UTI'\u001b[0m\u001b[1;33m]\u001b[0m \u001b[1;33m=\u001b[0m \u001b[1;33m[\u001b[0m\u001b[0mx\u001b[0m\u001b[1;33m.\u001b[0m\u001b[0msplit\u001b[0m\u001b[1;33m(\u001b[0m\u001b[1;33m)\u001b[0m\u001b[1;33m[\u001b[0m\u001b[1;33m-\u001b[0m\u001b[1;36m1\u001b[0m\u001b[1;33m:\u001b[0m\u001b[1;33m]\u001b[0m \u001b[1;32mfor\u001b[0m \u001b[0mx\u001b[0m \u001b[1;32min\u001b[0m \u001b[0mtaxa_de_ocupacao\u001b[0m\u001b[1;33m[\u001b[0m\u001b[1;34m'UNIDADE'\u001b[0m\u001b[1;33m]\u001b[0m\u001b[1;33m]\u001b[0m\u001b[1;33m\u001b[0m\u001b[0m\n\u001b[0;32m      5\u001b[0m     \u001b[0mtaxa_de_ocupacao\u001b[0m\u001b[1;33m[\u001b[0m\u001b[1;34m'UTI'\u001b[0m\u001b[1;33m]\u001b[0m \u001b[1;33m=\u001b[0m \u001b[1;33m[\u001b[0m\u001b[0mx\u001b[0m\u001b[1;33m[\u001b[0m\u001b[1;36m0\u001b[0m\u001b[1;33m]\u001b[0m \u001b[1;32mfor\u001b[0m \u001b[0mx\u001b[0m \u001b[1;32min\u001b[0m \u001b[0mtaxa_de_ocupacao\u001b[0m\u001b[1;33m[\u001b[0m\u001b[1;34m'UTI'\u001b[0m\u001b[1;33m]\u001b[0m\u001b[1;33m]\u001b[0m\u001b[1;33m\u001b[0m\u001b[0m\n",
      "\u001b[1;32m~\\miniconda3\\lib\\site-packages\\tabula\\io.py\u001b[0m in \u001b[0;36mread_pdf\u001b[1;34m(input_path, output_format, encoding, java_options, pandas_options, multiple_tables, user_agent, **kwargs)\u001b[0m\n\u001b[0;32m    312\u001b[0m \u001b[1;33m\u001b[0m\u001b[0m\n\u001b[0;32m    313\u001b[0m     \u001b[1;32mif\u001b[0m \u001b[1;32mnot\u001b[0m \u001b[0mos\u001b[0m\u001b[1;33m.\u001b[0m\u001b[0mpath\u001b[0m\u001b[1;33m.\u001b[0m\u001b[0mexists\u001b[0m\u001b[1;33m(\u001b[0m\u001b[0mpath\u001b[0m\u001b[1;33m)\u001b[0m\u001b[1;33m:\u001b[0m\u001b[1;33m\u001b[0m\u001b[0m\n\u001b[1;32m--> 314\u001b[1;33m         \u001b[1;32mraise\u001b[0m \u001b[0mFileNotFoundError\u001b[0m\u001b[1;33m(\u001b[0m\u001b[0merrno\u001b[0m\u001b[1;33m.\u001b[0m\u001b[0mENOENT\u001b[0m\u001b[1;33m,\u001b[0m \u001b[0mos\u001b[0m\u001b[1;33m.\u001b[0m\u001b[0mstrerror\u001b[0m\u001b[1;33m(\u001b[0m\u001b[0merrno\u001b[0m\u001b[1;33m.\u001b[0m\u001b[0mENOENT\u001b[0m\u001b[1;33m)\u001b[0m\u001b[1;33m,\u001b[0m \u001b[0mpath\u001b[0m\u001b[1;33m)\u001b[0m\u001b[1;33m\u001b[0m\u001b[0m\n\u001b[0m\u001b[0;32m    315\u001b[0m \u001b[1;33m\u001b[0m\u001b[0m\n\u001b[0;32m    316\u001b[0m     \u001b[1;32mif\u001b[0m \u001b[0mos\u001b[0m\u001b[1;33m.\u001b[0m\u001b[0mpath\u001b[0m\u001b[1;33m.\u001b[0m\u001b[0mgetsize\u001b[0m\u001b[1;33m(\u001b[0m\u001b[0mpath\u001b[0m\u001b[1;33m)\u001b[0m \u001b[1;33m==\u001b[0m \u001b[1;36m0\u001b[0m\u001b[1;33m:\u001b[0m\u001b[1;33m\u001b[0m\u001b[0m\n",
      "\u001b[1;31mFileNotFoundError\u001b[0m: [Errno 2] No such file or directory: 'C:\\\\Users\\\\heylu\\\\Documents\\\\estudos\\\\bot_estudos\\\\relatorios\\\\r'"
     ]
    }
   ],
   "source": [
    "for file_name in listdir(PATH_PDF)[:4 + 1]: #raspagem até a data 21-01-14\n",
    "    taxa_de_ocupacao = read_pdf(r'C:\\Users\\heylu\\Documents\\estudos\\bot_estudos\\relatorios' + '\\\\' +  file_name, pages=2, area=AREA, stream=True)[0]\n",
    "    taxa_de_ocupacao = taxa_de_ocupacao.shift(-1).drop(index=[9, 10])\n",
    "    taxa_de_ocupacao['UTI'] = [x.split()[-1:] for x in taxa_de_ocupacao['UNIDADE']]\n",
    "    taxa_de_ocupacao['UTI'] = [x[0] for x in taxa_de_ocupacao['UTI']]\n",
    "    taxa_de_ocupacao['UNIDADE'] = [x.split()[:-1] for x in taxa_de_ocupacao['UNIDADE']]\n",
    "    taxa_de_ocupacao['UNIDADE'] = [\" \".join(x) for x in taxa_de_ocupacao['UNIDADE']]\n",
    "    taxa_de_ocupacao['Unnamed: 0'] = taxa_de_ocupacao['Unnamed: 1']\n",
    "    arr = [x.split() for x in taxa_de_ocupacao['LEITOS CLÍNICOS']]\n",
    "    taxa_de_ocupacao['Unamed: 1'] = [x[0] for x in arr]\n",
    "    taxa_de_ocupacao['LEITOS CLÍNICOS'] = [x[1] for x in arr]\n",
    "\n",
    "    arr = []\n",
    "    for x in taxa_de_ocupacao['SALA VERMELHA']:\n",
    "        if isinstance(x, str):\n",
    "            arr.append(x.split())\n",
    "        else:\n",
    "            arr.append([float('NaN'), float('NaN')])\n",
    "    arr[-2] = [float('nan'), arr[-2][0]]\n",
    "    taxa_de_ocupacao['SALA VERMELHA'] = [x[0] for x in arr]\n",
    "    taxa_de_ocupacao['Unamed: 1'] = [x[1] for x in arr]\n",
    "    taxa_de_ocupacao.rename(columns={'UTI': 'uti_geral',\n",
    "    'Unnamed: 0': 'uti_covid-19',\n",
    "    'Unnamed: 1': 'leitos_clinicos_geral',\n",
    "    'LEITOS CLÍNICOS': 'leitos_clinicos_covid-19',\n",
    "    'SALA VERMELHA': 'sala_vermelha_geral',\n",
    "    'Unamed: 1': 'sala_vermelha_covid-19'}, inplace=True)\n",
    "\n",
    "    taxa_de_ocupacao = taxa_de_ocupacao.T\n",
    "    taxa_de_ocupacao.insert(loc=0, \n",
    "    column='Data', \n",
    "    value=file_name[file_name.index('_') + 1:file_name.index('.')])\n",
    "\n",
    "    for files in listdir(PATH_CSV):\n",
    "        with open(r'C:\\Users\\heylu\\Documents\\estudos\\bot_estudos\\csvs' + '\\\\' + files, 'a+', newline='') as f:\n",
    "            writer = csv.writer(f)\n",
    "            dados = np.array(taxa_de_ocupacao.loc[[files[:files.index('.')]]]).ravel()\n",
    "            writer.writerow(dados)"
   ]
  },
  {
   "cell_type": "code",
   "execution_count": 477,
   "metadata": {},
   "outputs": [
    {
     "output_type": "error",
     "ename": "IndexError",
     "evalue": "list index out of range",
     "traceback": [
      "\u001b[1;31m---------------------------------------------------------------------------\u001b[0m",
      "\u001b[1;31mIndexError\u001b[0m                                Traceback (most recent call last)",
      "\u001b[1;32m<ipython-input-477-e1e5c42dbc87>\u001b[0m in \u001b[0;36m<module>\u001b[1;34m\u001b[0m\n\u001b[0;32m     16\u001b[0m     \u001b[0marr\u001b[0m\u001b[1;33m[\u001b[0m\u001b[1;33m-\u001b[0m\u001b[1;36m2\u001b[0m\u001b[1;33m]\u001b[0m \u001b[1;33m=\u001b[0m \u001b[1;33m[\u001b[0m\u001b[0mfloat\u001b[0m\u001b[1;33m(\u001b[0m\u001b[1;34m'nan'\u001b[0m\u001b[1;33m)\u001b[0m\u001b[1;33m,\u001b[0m \u001b[0marr\u001b[0m\u001b[1;33m[\u001b[0m\u001b[1;33m-\u001b[0m\u001b[1;36m2\u001b[0m\u001b[1;33m]\u001b[0m\u001b[1;33m[\u001b[0m\u001b[1;36m0\u001b[0m\u001b[1;33m]\u001b[0m\u001b[1;33m]\u001b[0m\u001b[1;33m\u001b[0m\u001b[0m\n\u001b[0;32m     17\u001b[0m     \u001b[0mtaxa_de_ocupacao\u001b[0m\u001b[1;33m[\u001b[0m\u001b[1;34m'Unnamed: 4'\u001b[0m\u001b[1;33m]\u001b[0m \u001b[1;33m=\u001b[0m \u001b[1;33m[\u001b[0m\u001b[0mx\u001b[0m\u001b[1;33m[\u001b[0m\u001b[1;36m0\u001b[0m\u001b[1;33m]\u001b[0m \u001b[1;32mfor\u001b[0m \u001b[0mx\u001b[0m \u001b[1;32min\u001b[0m \u001b[0marr\u001b[0m\u001b[1;33m]\u001b[0m\u001b[1;33m\u001b[0m\u001b[0m\n\u001b[1;32m---> 18\u001b[1;33m     \u001b[0mtaxa_de_ocupacao\u001b[0m\u001b[1;33m[\u001b[0m\u001b[1;34m'Unnamed: 5'\u001b[0m\u001b[1;33m]\u001b[0m \u001b[1;33m=\u001b[0m \u001b[1;33m[\u001b[0m\u001b[0mx\u001b[0m\u001b[1;33m[\u001b[0m\u001b[1;36m1\u001b[0m\u001b[1;33m]\u001b[0m \u001b[1;32mfor\u001b[0m \u001b[0mx\u001b[0m \u001b[1;32min\u001b[0m \u001b[0marr\u001b[0m\u001b[1;33m]\u001b[0m\u001b[1;33m\u001b[0m\u001b[0m\n\u001b[0m\u001b[0;32m     19\u001b[0m \u001b[1;33m\u001b[0m\u001b[0m\n\u001b[0;32m     20\u001b[0m     taxa_de_ocupacao.rename(columns={'UTI': 'uti_geral',\n",
      "\u001b[1;32m<ipython-input-477-e1e5c42dbc87>\u001b[0m in \u001b[0;36m<listcomp>\u001b[1;34m(.0)\u001b[0m\n\u001b[0;32m     16\u001b[0m     \u001b[0marr\u001b[0m\u001b[1;33m[\u001b[0m\u001b[1;33m-\u001b[0m\u001b[1;36m2\u001b[0m\u001b[1;33m]\u001b[0m \u001b[1;33m=\u001b[0m \u001b[1;33m[\u001b[0m\u001b[0mfloat\u001b[0m\u001b[1;33m(\u001b[0m\u001b[1;34m'nan'\u001b[0m\u001b[1;33m)\u001b[0m\u001b[1;33m,\u001b[0m \u001b[0marr\u001b[0m\u001b[1;33m[\u001b[0m\u001b[1;33m-\u001b[0m\u001b[1;36m2\u001b[0m\u001b[1;33m]\u001b[0m\u001b[1;33m[\u001b[0m\u001b[1;36m0\u001b[0m\u001b[1;33m]\u001b[0m\u001b[1;33m]\u001b[0m\u001b[1;33m\u001b[0m\u001b[0m\n\u001b[0;32m     17\u001b[0m     \u001b[0mtaxa_de_ocupacao\u001b[0m\u001b[1;33m[\u001b[0m\u001b[1;34m'Unnamed: 4'\u001b[0m\u001b[1;33m]\u001b[0m \u001b[1;33m=\u001b[0m \u001b[1;33m[\u001b[0m\u001b[0mx\u001b[0m\u001b[1;33m[\u001b[0m\u001b[1;36m0\u001b[0m\u001b[1;33m]\u001b[0m \u001b[1;32mfor\u001b[0m \u001b[0mx\u001b[0m \u001b[1;32min\u001b[0m \u001b[0marr\u001b[0m\u001b[1;33m]\u001b[0m\u001b[1;33m\u001b[0m\u001b[0m\n\u001b[1;32m---> 18\u001b[1;33m     \u001b[0mtaxa_de_ocupacao\u001b[0m\u001b[1;33m[\u001b[0m\u001b[1;34m'Unnamed: 5'\u001b[0m\u001b[1;33m]\u001b[0m \u001b[1;33m=\u001b[0m \u001b[1;33m[\u001b[0m\u001b[0mx\u001b[0m\u001b[1;33m[\u001b[0m\u001b[1;36m1\u001b[0m\u001b[1;33m]\u001b[0m \u001b[1;32mfor\u001b[0m \u001b[0mx\u001b[0m \u001b[1;32min\u001b[0m \u001b[0marr\u001b[0m\u001b[1;33m]\u001b[0m\u001b[1;33m\u001b[0m\u001b[0m\n\u001b[0m\u001b[0;32m     19\u001b[0m \u001b[1;33m\u001b[0m\u001b[0m\n\u001b[0;32m     20\u001b[0m     taxa_de_ocupacao.rename(columns={'UTI': 'uti_geral',\n",
      "\u001b[1;31mIndexError\u001b[0m: list index out of range"
     ]
    }
   ],
   "source": [
    "for file_name in listdir(PATH_PDF)[5:6]: #raspagem da data 21-01-16\n",
    "    taxa_de_ocupacao = read_pdf(r'C:\\Users\\heylu\\Documents\\estudos\\bot_estudos\\relatorios' + '\\\\' +  file_name, pages=2, area=AREA, stream=True)[0]\n",
    "    taxa_de_ocupacao = taxa_de_ocupacao.drop(index=[0,1,11])\n",
    "    taxa_de_ocupacao['Unnamed: 1'] = [x.split()[-1] for x in taxa_de_ocupacao['Unnamed: 0']]\n",
    "    taxa_de_ocupacao['Unnamed: 0'] = [x.split()[:-1] for x in taxa_de_ocupacao['Unnamed: 0']]\n",
    "    taxa_de_ocupacao['Unnamed: 2'] = taxa_de_ocupacao['Unnamed: 3']\n",
    "    arr = [x.split() for x in taxa_de_ocupacao['TAXA DE OCUPAÇÃO EM MANAUS']]\n",
    "    taxa_de_ocupacao['Unnamed: 3'] = [x[0] for x in arr]\n",
    "    taxa_de_ocupacao['TAXA DE OCUPAÇÃO EM MANAUS'] = [x[1] for x in arr]\n",
    "    arr = []\n",
    "    for x in taxa_de_ocupacao['Unnamed: 4']:\n",
    "        if isinstance(x, str):\n",
    "            arr.append(x.split())\n",
    "        else:\n",
    "            arr.append([float('NaN'), float('NaN')])\n",
    "    arr[-2] = [float('nan'), arr[-2][0]]\n",
    "    taxa_de_ocupacao['Unnamed: 4'] = [x[0] for x in arr]\n",
    "    taxa_de_ocupacao['Unnamed: 5'] = [x[1] for x in arr]\n",
    "\n",
    "    taxa_de_ocupacao.rename(columns={'UTI': 'uti_geral',\n",
    "    'Unnamed: 0': 'unidade',\n",
    "    'Unnamed: 1': 'uti_geral',\n",
    "    'Unnamed: 2': 'uti_covid-19',\n",
    "    'Unnamed: 3': 'leitos_clinicos_geral',\n",
    "    'TAXA DE OCUPAÇÃO EM MANAUS': 'leitos_clinicos_covid-19',\n",
    "    'Unnamed: 4': 'sala_vermelha_geral',\n",
    "    'Unnamed: 5': 'sala_vermelha_covid-19'}, inplace=True)\n",
    "    taxa_de_ocupacao = taxa_de_ocupacao.T\n",
    "    taxa_de_ocupacao.insert(loc=0, \n",
    "    column='Data', \n",
    "    value=file_name[file_name.index('_') + 1:file_name.index('.')])\n",
    "\n",
    "    for files in listdir(PATH_CSV):\n",
    "        with open(r'C:\\Users\\heylu\\Documents\\estudos\\bot_estudos\\csvs' + '\\\\' + files, 'a+', newline='') as f:\n",
    "            writer = csv.writer(f)\n",
    "            dados = np.array(taxa_de_ocupacao.loc[[files[:files.index('.')]]]).ravel()\n",
    "            writer.writerow(dados)"
   ]
  },
  {
   "cell_type": "code",
   "execution_count": 566,
   "metadata": {},
   "outputs": [
    {
     "output_type": "error",
     "ename": "KeyError",
     "evalue": "'Unnamed: 3'",
     "traceback": [
      "\u001b[1;31m---------------------------------------------------------------------------\u001b[0m",
      "\u001b[1;31mKeyError\u001b[0m                                  Traceback (most recent call last)",
      "\u001b[1;32m~\\miniconda3\\lib\\site-packages\\pandas\\core\\indexes\\base.py\u001b[0m in \u001b[0;36mget_loc\u001b[1;34m(self, key, method, tolerance)\u001b[0m\n\u001b[0;32m   3079\u001b[0m             \u001b[1;32mtry\u001b[0m\u001b[1;33m:\u001b[0m\u001b[1;33m\u001b[0m\u001b[0m\n\u001b[1;32m-> 3080\u001b[1;33m                 \u001b[1;32mreturn\u001b[0m \u001b[0mself\u001b[0m\u001b[1;33m.\u001b[0m\u001b[0m_engine\u001b[0m\u001b[1;33m.\u001b[0m\u001b[0mget_loc\u001b[0m\u001b[1;33m(\u001b[0m\u001b[0mcasted_key\u001b[0m\u001b[1;33m)\u001b[0m\u001b[1;33m\u001b[0m\u001b[0m\n\u001b[0m\u001b[0;32m   3081\u001b[0m             \u001b[1;32mexcept\u001b[0m \u001b[0mKeyError\u001b[0m \u001b[1;32mas\u001b[0m \u001b[0merr\u001b[0m\u001b[1;33m:\u001b[0m\u001b[1;33m\u001b[0m\u001b[0m\n",
      "\u001b[1;32mpandas\\_libs\\index.pyx\u001b[0m in \u001b[0;36mpandas._libs.index.IndexEngine.get_loc\u001b[1;34m()\u001b[0m\n",
      "\u001b[1;32mpandas\\_libs\\index.pyx\u001b[0m in \u001b[0;36mpandas._libs.index.IndexEngine.get_loc\u001b[1;34m()\u001b[0m\n",
      "\u001b[1;32mpandas\\_libs\\hashtable_class_helper.pxi\u001b[0m in \u001b[0;36mpandas._libs.hashtable.PyObjectHashTable.get_item\u001b[1;34m()\u001b[0m\n",
      "\u001b[1;32mpandas\\_libs\\hashtable_class_helper.pxi\u001b[0m in \u001b[0;36mpandas._libs.hashtable.PyObjectHashTable.get_item\u001b[1;34m()\u001b[0m\n",
      "\u001b[1;31mKeyError\u001b[0m: 'Unnamed: 3'",
      "\nThe above exception was the direct cause of the following exception:\n",
      "\u001b[1;31mKeyError\u001b[0m                                  Traceback (most recent call last)",
      "\u001b[1;32m<ipython-input-566-e3c2fc6b08b0>\u001b[0m in \u001b[0;36m<module>\u001b[1;34m\u001b[0m\n\u001b[0;32m      2\u001b[0m     \u001b[0mtaxa_de_ocupacao\u001b[0m \u001b[1;33m=\u001b[0m \u001b[0mread_pdf\u001b[0m\u001b[1;33m(\u001b[0m\u001b[1;34mr'C:\\Users\\heylu\\Documents\\estudos\\bot_estudos\\relatorios'\u001b[0m \u001b[1;33m+\u001b[0m \u001b[1;34m'\\\\'\u001b[0m \u001b[1;33m+\u001b[0m  \u001b[0mfile_name\u001b[0m\u001b[1;33m,\u001b[0m \u001b[0mpages\u001b[0m\u001b[1;33m=\u001b[0m\u001b[1;36m2\u001b[0m\u001b[1;33m,\u001b[0m \u001b[0marea\u001b[0m\u001b[1;33m=\u001b[0m\u001b[0mAREA\u001b[0m\u001b[1;33m,\u001b[0m \u001b[0mstream\u001b[0m\u001b[1;33m=\u001b[0m\u001b[1;32mTrue\u001b[0m\u001b[1;33m)\u001b[0m\u001b[1;33m[\u001b[0m\u001b[1;36m0\u001b[0m\u001b[1;33m]\u001b[0m\u001b[1;33m\u001b[0m\u001b[0m\n\u001b[0;32m      3\u001b[0m     \u001b[0mtaxa_de_ocupacao\u001b[0m \u001b[1;33m=\u001b[0m \u001b[0mtaxa_de_ocupacao\u001b[0m\u001b[1;33m.\u001b[0m\u001b[0mdrop\u001b[0m\u001b[1;33m(\u001b[0m\u001b[0mindex\u001b[0m\u001b[1;33m=\u001b[0m\u001b[1;33m[\u001b[0m\u001b[1;36m0\u001b[0m\u001b[1;33m,\u001b[0m \u001b[1;36m1\u001b[0m\u001b[1;33m,\u001b[0m \u001b[1;36m8\u001b[0m\u001b[1;33m]\u001b[0m\u001b[1;33m)\u001b[0m\u001b[1;33m\u001b[0m\u001b[0m\n\u001b[1;32m----> 4\u001b[1;33m     \u001b[0mtaxa_de_ocupacao\u001b[0m\u001b[1;33m[\u001b[0m\u001b[1;34m'Unnamed: 2'\u001b[0m\u001b[1;33m]\u001b[0m \u001b[1;33m=\u001b[0m \u001b[0mtaxa_de_ocupacao\u001b[0m\u001b[1;33m[\u001b[0m\u001b[1;34m'Unnamed: 3'\u001b[0m\u001b[1;33m]\u001b[0m\u001b[1;33m\u001b[0m\u001b[0m\n\u001b[0m\u001b[0;32m      5\u001b[0m     \u001b[0marr\u001b[0m \u001b[1;33m=\u001b[0m \u001b[1;33m[\u001b[0m\u001b[0mx\u001b[0m\u001b[1;33m.\u001b[0m\u001b[0msplit\u001b[0m\u001b[1;33m(\u001b[0m\u001b[1;33m)\u001b[0m \u001b[1;32mfor\u001b[0m \u001b[0mx\u001b[0m \u001b[1;32min\u001b[0m \u001b[0mtaxa_de_ocupacao\u001b[0m\u001b[1;33m[\u001b[0m\u001b[1;34m'TAXA DE OCUPAÇÃO EM MANAUS'\u001b[0m\u001b[1;33m]\u001b[0m\u001b[1;33m]\u001b[0m\u001b[1;33m\u001b[0m\u001b[0m\n\u001b[0;32m      6\u001b[0m     \u001b[0mtaxa_de_ocupacao\u001b[0m\u001b[1;33m[\u001b[0m\u001b[1;34m'Unnamed: 3'\u001b[0m\u001b[1;33m]\u001b[0m \u001b[1;33m=\u001b[0m \u001b[1;33m[\u001b[0m\u001b[0mx\u001b[0m\u001b[1;33m[\u001b[0m\u001b[1;36m0\u001b[0m\u001b[1;33m]\u001b[0m \u001b[1;32mfor\u001b[0m \u001b[0mx\u001b[0m \u001b[1;32min\u001b[0m \u001b[0marr\u001b[0m\u001b[1;33m]\u001b[0m\u001b[1;33m\u001b[0m\u001b[0m\n",
      "\u001b[1;32m~\\miniconda3\\lib\\site-packages\\pandas\\core\\frame.py\u001b[0m in \u001b[0;36m__getitem__\u001b[1;34m(self, key)\u001b[0m\n\u001b[0;32m   3022\u001b[0m             \u001b[1;32mif\u001b[0m \u001b[0mself\u001b[0m\u001b[1;33m.\u001b[0m\u001b[0mcolumns\u001b[0m\u001b[1;33m.\u001b[0m\u001b[0mnlevels\u001b[0m \u001b[1;33m>\u001b[0m \u001b[1;36m1\u001b[0m\u001b[1;33m:\u001b[0m\u001b[1;33m\u001b[0m\u001b[0m\n\u001b[0;32m   3023\u001b[0m                 \u001b[1;32mreturn\u001b[0m \u001b[0mself\u001b[0m\u001b[1;33m.\u001b[0m\u001b[0m_getitem_multilevel\u001b[0m\u001b[1;33m(\u001b[0m\u001b[0mkey\u001b[0m\u001b[1;33m)\u001b[0m\u001b[1;33m\u001b[0m\u001b[0m\n\u001b[1;32m-> 3024\u001b[1;33m             \u001b[0mindexer\u001b[0m \u001b[1;33m=\u001b[0m \u001b[0mself\u001b[0m\u001b[1;33m.\u001b[0m\u001b[0mcolumns\u001b[0m\u001b[1;33m.\u001b[0m\u001b[0mget_loc\u001b[0m\u001b[1;33m(\u001b[0m\u001b[0mkey\u001b[0m\u001b[1;33m)\u001b[0m\u001b[1;33m\u001b[0m\u001b[0m\n\u001b[0m\u001b[0;32m   3025\u001b[0m             \u001b[1;32mif\u001b[0m \u001b[0mis_integer\u001b[0m\u001b[1;33m(\u001b[0m\u001b[0mindexer\u001b[0m\u001b[1;33m)\u001b[0m\u001b[1;33m:\u001b[0m\u001b[1;33m\u001b[0m\u001b[0m\n\u001b[0;32m   3026\u001b[0m                 \u001b[0mindexer\u001b[0m \u001b[1;33m=\u001b[0m \u001b[1;33m[\u001b[0m\u001b[0mindexer\u001b[0m\u001b[1;33m]\u001b[0m\u001b[1;33m\u001b[0m\u001b[0m\n",
      "\u001b[1;32m~\\miniconda3\\lib\\site-packages\\pandas\\core\\indexes\\base.py\u001b[0m in \u001b[0;36mget_loc\u001b[1;34m(self, key, method, tolerance)\u001b[0m\n\u001b[0;32m   3080\u001b[0m                 \u001b[1;32mreturn\u001b[0m \u001b[0mself\u001b[0m\u001b[1;33m.\u001b[0m\u001b[0m_engine\u001b[0m\u001b[1;33m.\u001b[0m\u001b[0mget_loc\u001b[0m\u001b[1;33m(\u001b[0m\u001b[0mcasted_key\u001b[0m\u001b[1;33m)\u001b[0m\u001b[1;33m\u001b[0m\u001b[0m\n\u001b[0;32m   3081\u001b[0m             \u001b[1;32mexcept\u001b[0m \u001b[0mKeyError\u001b[0m \u001b[1;32mas\u001b[0m \u001b[0merr\u001b[0m\u001b[1;33m:\u001b[0m\u001b[1;33m\u001b[0m\u001b[0m\n\u001b[1;32m-> 3082\u001b[1;33m                 \u001b[1;32mraise\u001b[0m \u001b[0mKeyError\u001b[0m\u001b[1;33m(\u001b[0m\u001b[0mkey\u001b[0m\u001b[1;33m)\u001b[0m \u001b[1;32mfrom\u001b[0m \u001b[0merr\u001b[0m\u001b[1;33m\u001b[0m\u001b[0m\n\u001b[0m\u001b[0;32m   3083\u001b[0m \u001b[1;33m\u001b[0m\u001b[0m\n\u001b[0;32m   3084\u001b[0m         \u001b[1;32mif\u001b[0m \u001b[0mtolerance\u001b[0m \u001b[1;32mis\u001b[0m \u001b[1;32mnot\u001b[0m \u001b[1;32mNone\u001b[0m\u001b[1;33m:\u001b[0m\u001b[1;33m\u001b[0m\u001b[0m\n",
      "\u001b[1;31mKeyError\u001b[0m: 'Unnamed: 3'"
     ]
    }
   ],
   "source": [
    "for file_name in listdir(PATH_PDF)[11:12]: #raspagem do dia 21-01-18 ao dia 21-01-27\n",
    "    taxa_de_ocupacao = read_pdf(r'C:\\Users\\heylu\\Documents\\estudos\\bot_estudos\\relatorios' + '\\\\' +  file_name, pages=2, area=AREA, stream=True)[0]\n",
    "    taxa_de_ocupacao = taxa_de_ocupacao.drop(index=[0, 1, 8])\n",
    "    taxa_de_ocupacao['Unnamed: 2'] = taxa_de_ocupacao['Unnamed: 3']\n",
    "    arr = [x.split() for x in taxa_de_ocupacao['TAXA DE OCUPAÇÃO EM MANAUS']]\n",
    "    taxa_de_ocupacao['Unnamed: 3'] = [x[0] for x in arr]\n",
    "    taxa_de_ocupacao['TAXA DE OCUPAÇÃO EM MANAUS'] = [x[1] for x in arr]\n",
    "    arr = []\n",
    "    for x in taxa_de_ocupacao['Unnamed: 4']:\n",
    "        if isinstance(x, str):\n",
    "            arr.append(x.split())\n",
    "        else:\n",
    "            arr.append([float('NaN'), float('NaN')])\n",
    "    arr[3].append(float('NaN'))\n",
    "    taxa_de_ocupacao['Unnamed: 5'] = [x[1] for x in arr]\n",
    "    taxa_de_ocupacao['Unnamed: 4'] = [x[0] for x in arr]\n",
    "    taxa_de_ocupacao.rename(columns={\n",
    "    'Unnamed: 0': 'unidade',\n",
    "    'Unnamed: 1': 'uti_geral',\n",
    "    'Unnamed: 2': 'uti_covid-19',\n",
    "    'Unnamed: 3': 'leitos_clinicos_geral',\n",
    "    'TAXA DE OCUPAÇÃO EM MANAUS': 'leitos_clinicos_covid-19',\n",
    "    'Unnamed: 4': 'sala_vermelha_geral',\n",
    "    'Unnamed: 5': 'sala_vermelha_covid-19'}, inplace=True)\n",
    "    taxa_de_ocupacao = taxa_de_ocupacao.T\n",
    "    taxa_de_ocupacao.insert(loc=0, \n",
    "    column='Data', \n",
    "    value=file_name[file_name.index('_') + 1:file_name.index('.')])\n",
    "\n",
    "    for files in listdir(PATH_CSV):\n",
    "        with open(r'C:\\Users\\heylu\\Documents\\estudos\\bot_estudos\\csvs' + '\\\\' + files, 'a+', newline='') as f:\n",
    "            writer = csv.writer(f)\n",
    "            dados = np.array(taxa_de_ocupacao.loc[[files[:files.index('.')]]]).ravel()\n",
    "            writer.writerow(dados)"
   ]
  },
  {
   "cell_type": "code",
   "execution_count": 567,
   "metadata": {},
   "outputs": [],
   "source": [
    "file_name = 'relatorio_21-01-29.pdf'"
   ]
  },
  {
   "cell_type": "code",
   "execution_count": 614,
   "metadata": {},
   "outputs": [
    {
     "output_type": "error",
     "ename": "KeyError",
     "evalue": "'[13] not found in axis'",
     "traceback": [
      "\u001b[1;31m---------------------------------------------------------------------------\u001b[0m",
      "\u001b[1;31mKeyError\u001b[0m                                  Traceback (most recent call last)",
      "\u001b[1;32m<ipython-input-614-1768acd9d8e6>\u001b[0m in \u001b[0;36m<module>\u001b[1;34m\u001b[0m\n\u001b[0;32m      1\u001b[0m \u001b[1;32mfor\u001b[0m \u001b[0mfile_name\u001b[0m \u001b[1;32min\u001b[0m \u001b[0mlistdir\u001b[0m\u001b[1;33m(\u001b[0m\u001b[0mPATH_PDF\u001b[0m\u001b[1;33m)\u001b[0m\u001b[1;33m[\u001b[0m\u001b[1;36m31\u001b[0m\u001b[1;33m:\u001b[0m\u001b[1;36m50\u001b[0m\u001b[1;33m]\u001b[0m\u001b[1;33m:\u001b[0m \u001b[1;31m#raspagem do dia 21-01-31 ao dia 21-01-27\u001b[0m\u001b[1;33m\u001b[0m\u001b[0m\n\u001b[0;32m      2\u001b[0m     \u001b[0mtaxa_de_ocupacao\u001b[0m \u001b[1;33m=\u001b[0m \u001b[0mread_pdf\u001b[0m\u001b[1;33m(\u001b[0m\u001b[1;34mr'C:\\Users\\heylu\\Documents\\estudos\\bot_estudos\\relatorios'\u001b[0m \u001b[1;33m+\u001b[0m \u001b[1;34m'\\\\'\u001b[0m \u001b[1;33m+\u001b[0m  \u001b[0mfile_name\u001b[0m\u001b[1;33m,\u001b[0m \u001b[0mpages\u001b[0m\u001b[1;33m=\u001b[0m\u001b[1;36m2\u001b[0m\u001b[1;33m,\u001b[0m \u001b[0marea\u001b[0m\u001b[1;33m=\u001b[0m\u001b[1;33m[\u001b[0m\u001b[1;36m299.252\u001b[0m\u001b[1;33m,\u001b[0m\u001b[1;36m429.189\u001b[0m\u001b[1;33m,\u001b[0m\u001b[1;36m427.122\u001b[0m\u001b[1;33m,\u001b[0m\u001b[1;36m811.535\u001b[0m\u001b[1;33m]\u001b[0m\u001b[1;33m,\u001b[0m \u001b[0mstream\u001b[0m\u001b[1;33m=\u001b[0m\u001b[1;32mTrue\u001b[0m\u001b[1;33m)\u001b[0m\u001b[1;33m[\u001b[0m\u001b[1;36m0\u001b[0m\u001b[1;33m]\u001b[0m\u001b[1;33m\u001b[0m\u001b[0m\n\u001b[1;32m----> 3\u001b[1;33m     \u001b[0mtaxa_de_ocupacao\u001b[0m \u001b[1;33m=\u001b[0m \u001b[0mtaxa_de_ocupacao\u001b[0m\u001b[1;33m.\u001b[0m\u001b[0mdrop\u001b[0m\u001b[1;33m(\u001b[0m\u001b[0mindex\u001b[0m\u001b[1;33m=\u001b[0m\u001b[1;33m[\u001b[0m\u001b[1;36m0\u001b[0m\u001b[1;33m,\u001b[0m \u001b[1;36m1\u001b[0m\u001b[1;33m,\u001b[0m \u001b[1;36m8\u001b[0m\u001b[1;33m,\u001b[0m \u001b[1;36m9\u001b[0m\u001b[1;33m,\u001b[0m \u001b[1;36m13\u001b[0m\u001b[1;33m]\u001b[0m\u001b[1;33m)\u001b[0m\u001b[1;33m\u001b[0m\u001b[0m\n\u001b[0m\u001b[0;32m      4\u001b[0m     \u001b[0mtaxa_de_ocupacao\u001b[0m\u001b[1;33m[\u001b[0m\u001b[1;34m'Unnamed: 1'\u001b[0m\u001b[1;33m]\u001b[0m \u001b[1;33m=\u001b[0m \u001b[1;33m[\u001b[0m\u001b[0mx\u001b[0m\u001b[1;33m.\u001b[0m\u001b[0msplit\u001b[0m\u001b[1;33m(\u001b[0m\u001b[1;33m)\u001b[0m\u001b[1;33m[\u001b[0m\u001b[1;33m-\u001b[0m\u001b[1;36m1\u001b[0m\u001b[1;33m]\u001b[0m \u001b[1;32mfor\u001b[0m \u001b[0mx\u001b[0m \u001b[1;32min\u001b[0m \u001b[0mtaxa_de_ocupacao\u001b[0m\u001b[1;33m[\u001b[0m\u001b[1;34m'Unnamed: 0'\u001b[0m\u001b[1;33m]\u001b[0m\u001b[1;33m]\u001b[0m\u001b[1;33m\u001b[0m\u001b[0m\n\u001b[0;32m      5\u001b[0m     \u001b[0mtaxa_de_ocupacao\u001b[0m\u001b[1;33m[\u001b[0m\u001b[1;34m'Unnamed: 0'\u001b[0m\u001b[1;33m]\u001b[0m \u001b[1;33m=\u001b[0m \u001b[1;33m[\u001b[0m\u001b[1;34m\" \"\u001b[0m\u001b[1;33m.\u001b[0m\u001b[0mjoin\u001b[0m\u001b[1;33m(\u001b[0m\u001b[0mx\u001b[0m\u001b[1;33m.\u001b[0m\u001b[0msplit\u001b[0m\u001b[1;33m(\u001b[0m\u001b[1;33m)\u001b[0m\u001b[1;33m[\u001b[0m\u001b[1;33m:\u001b[0m\u001b[1;33m-\u001b[0m\u001b[1;36m1\u001b[0m\u001b[1;33m]\u001b[0m\u001b[1;33m)\u001b[0m \u001b[1;32mfor\u001b[0m \u001b[0mx\u001b[0m \u001b[1;32min\u001b[0m \u001b[0mtaxa_de_ocupacao\u001b[0m\u001b[1;33m[\u001b[0m\u001b[1;34m'Unnamed: 0'\u001b[0m\u001b[1;33m]\u001b[0m\u001b[1;33m]\u001b[0m\u001b[1;33m\u001b[0m\u001b[0m\n",
      "\u001b[1;32m~\\miniconda3\\lib\\site-packages\\pandas\\core\\frame.py\u001b[0m in \u001b[0;36mdrop\u001b[1;34m(self, labels, axis, index, columns, level, inplace, errors)\u001b[0m\n\u001b[0;32m   4313\u001b[0m             \u001b[0mlevel\u001b[0m\u001b[1;33m=\u001b[0m\u001b[0mlevel\u001b[0m\u001b[1;33m,\u001b[0m\u001b[1;33m\u001b[0m\u001b[0m\n\u001b[0;32m   4314\u001b[0m             \u001b[0minplace\u001b[0m\u001b[1;33m=\u001b[0m\u001b[0minplace\u001b[0m\u001b[1;33m,\u001b[0m\u001b[1;33m\u001b[0m\u001b[0m\n\u001b[1;32m-> 4315\u001b[1;33m             \u001b[0merrors\u001b[0m\u001b[1;33m=\u001b[0m\u001b[0merrors\u001b[0m\u001b[1;33m,\u001b[0m\u001b[1;33m\u001b[0m\u001b[0m\n\u001b[0m\u001b[0;32m   4316\u001b[0m         )\n\u001b[0;32m   4317\u001b[0m \u001b[1;33m\u001b[0m\u001b[0m\n",
      "\u001b[1;32m~\\miniconda3\\lib\\site-packages\\pandas\\core\\generic.py\u001b[0m in \u001b[0;36mdrop\u001b[1;34m(self, labels, axis, index, columns, level, inplace, errors)\u001b[0m\n\u001b[0;32m   4151\u001b[0m         \u001b[1;32mfor\u001b[0m \u001b[0maxis\u001b[0m\u001b[1;33m,\u001b[0m \u001b[0mlabels\u001b[0m \u001b[1;32min\u001b[0m \u001b[0maxes\u001b[0m\u001b[1;33m.\u001b[0m\u001b[0mitems\u001b[0m\u001b[1;33m(\u001b[0m\u001b[1;33m)\u001b[0m\u001b[1;33m:\u001b[0m\u001b[1;33m\u001b[0m\u001b[0m\n\u001b[0;32m   4152\u001b[0m             \u001b[1;32mif\u001b[0m \u001b[0mlabels\u001b[0m \u001b[1;32mis\u001b[0m \u001b[1;32mnot\u001b[0m \u001b[1;32mNone\u001b[0m\u001b[1;33m:\u001b[0m\u001b[1;33m\u001b[0m\u001b[0m\n\u001b[1;32m-> 4153\u001b[1;33m                 \u001b[0mobj\u001b[0m \u001b[1;33m=\u001b[0m \u001b[0mobj\u001b[0m\u001b[1;33m.\u001b[0m\u001b[0m_drop_axis\u001b[0m\u001b[1;33m(\u001b[0m\u001b[0mlabels\u001b[0m\u001b[1;33m,\u001b[0m \u001b[0maxis\u001b[0m\u001b[1;33m,\u001b[0m \u001b[0mlevel\u001b[0m\u001b[1;33m=\u001b[0m\u001b[0mlevel\u001b[0m\u001b[1;33m,\u001b[0m \u001b[0merrors\u001b[0m\u001b[1;33m=\u001b[0m\u001b[0merrors\u001b[0m\u001b[1;33m)\u001b[0m\u001b[1;33m\u001b[0m\u001b[0m\n\u001b[0m\u001b[0;32m   4154\u001b[0m \u001b[1;33m\u001b[0m\u001b[0m\n\u001b[0;32m   4155\u001b[0m         \u001b[1;32mif\u001b[0m \u001b[0minplace\u001b[0m\u001b[1;33m:\u001b[0m\u001b[1;33m\u001b[0m\u001b[0m\n",
      "\u001b[1;32m~\\miniconda3\\lib\\site-packages\\pandas\\core\\generic.py\u001b[0m in \u001b[0;36m_drop_axis\u001b[1;34m(self, labels, axis, level, errors)\u001b[0m\n\u001b[0;32m   4186\u001b[0m                 \u001b[0mnew_axis\u001b[0m \u001b[1;33m=\u001b[0m \u001b[0maxis\u001b[0m\u001b[1;33m.\u001b[0m\u001b[0mdrop\u001b[0m\u001b[1;33m(\u001b[0m\u001b[0mlabels\u001b[0m\u001b[1;33m,\u001b[0m \u001b[0mlevel\u001b[0m\u001b[1;33m=\u001b[0m\u001b[0mlevel\u001b[0m\u001b[1;33m,\u001b[0m \u001b[0merrors\u001b[0m\u001b[1;33m=\u001b[0m\u001b[0merrors\u001b[0m\u001b[1;33m)\u001b[0m\u001b[1;33m\u001b[0m\u001b[0m\n\u001b[0;32m   4187\u001b[0m             \u001b[1;32melse\u001b[0m\u001b[1;33m:\u001b[0m\u001b[1;33m\u001b[0m\u001b[0m\n\u001b[1;32m-> 4188\u001b[1;33m                 \u001b[0mnew_axis\u001b[0m \u001b[1;33m=\u001b[0m \u001b[0maxis\u001b[0m\u001b[1;33m.\u001b[0m\u001b[0mdrop\u001b[0m\u001b[1;33m(\u001b[0m\u001b[0mlabels\u001b[0m\u001b[1;33m,\u001b[0m \u001b[0merrors\u001b[0m\u001b[1;33m=\u001b[0m\u001b[0merrors\u001b[0m\u001b[1;33m)\u001b[0m\u001b[1;33m\u001b[0m\u001b[0m\n\u001b[0m\u001b[0;32m   4189\u001b[0m             \u001b[0mresult\u001b[0m \u001b[1;33m=\u001b[0m \u001b[0mself\u001b[0m\u001b[1;33m.\u001b[0m\u001b[0mreindex\u001b[0m\u001b[1;33m(\u001b[0m\u001b[1;33m**\u001b[0m\u001b[1;33m{\u001b[0m\u001b[0maxis_name\u001b[0m\u001b[1;33m:\u001b[0m \u001b[0mnew_axis\u001b[0m\u001b[1;33m}\u001b[0m\u001b[1;33m)\u001b[0m\u001b[1;33m\u001b[0m\u001b[0m\n\u001b[0;32m   4190\u001b[0m \u001b[1;33m\u001b[0m\u001b[0m\n",
      "\u001b[1;32m~\\miniconda3\\lib\\site-packages\\pandas\\core\\indexes\\base.py\u001b[0m in \u001b[0;36mdrop\u001b[1;34m(self, labels, errors)\u001b[0m\n\u001b[0;32m   5589\u001b[0m         \u001b[1;32mif\u001b[0m \u001b[0mmask\u001b[0m\u001b[1;33m.\u001b[0m\u001b[0many\u001b[0m\u001b[1;33m(\u001b[0m\u001b[1;33m)\u001b[0m\u001b[1;33m:\u001b[0m\u001b[1;33m\u001b[0m\u001b[0m\n\u001b[0;32m   5590\u001b[0m             \u001b[1;32mif\u001b[0m \u001b[0merrors\u001b[0m \u001b[1;33m!=\u001b[0m \u001b[1;34m\"ignore\"\u001b[0m\u001b[1;33m:\u001b[0m\u001b[1;33m\u001b[0m\u001b[0m\n\u001b[1;32m-> 5591\u001b[1;33m                 \u001b[1;32mraise\u001b[0m \u001b[0mKeyError\u001b[0m\u001b[1;33m(\u001b[0m\u001b[1;34mf\"{labels[mask]} not found in axis\"\u001b[0m\u001b[1;33m)\u001b[0m\u001b[1;33m\u001b[0m\u001b[0m\n\u001b[0m\u001b[0;32m   5592\u001b[0m             \u001b[0mindexer\u001b[0m \u001b[1;33m=\u001b[0m \u001b[0mindexer\u001b[0m\u001b[1;33m[\u001b[0m\u001b[1;33m~\u001b[0m\u001b[0mmask\u001b[0m\u001b[1;33m]\u001b[0m\u001b[1;33m\u001b[0m\u001b[0m\n\u001b[0;32m   5593\u001b[0m         \u001b[1;32mreturn\u001b[0m \u001b[0mself\u001b[0m\u001b[1;33m.\u001b[0m\u001b[0mdelete\u001b[0m\u001b[1;33m(\u001b[0m\u001b[0mindexer\u001b[0m\u001b[1;33m)\u001b[0m\u001b[1;33m\u001b[0m\u001b[0m\n",
      "\u001b[1;31mKeyError\u001b[0m: '[13] not found in axis'"
     ]
    }
   ],
   "source": [
    "for file_name in listdir(PATH_PDF)[12:35]: #raspagem do dia 21-01-31 ao dia 21-03-09\n",
    "    taxa_de_ocupacao = read_pdf(r'C:\\Users\\heylu\\Documents\\estudos\\bot_estudos\\relatorios' + '\\\\' +  file_name, pages=2, area=[299.252,429.189,427.122,811.535], stream=True)[0]\n",
    "    taxa_de_ocupacao = taxa_de_ocupacao.drop(index=[0, 1, 8, 9, 13])\n",
    "    taxa_de_ocupacao['Unnamed: 1'] = [x.split()[-1] for x in taxa_de_ocupacao['Unnamed: 0']]\n",
    "    taxa_de_ocupacao['Unnamed: 0'] = [\" \".join(x.split()[:-1]) for x in taxa_de_ocupacao['Unnamed: 0']]\n",
    "    taxa_de_ocupacao['Unnamed: 2'] = taxa_de_ocupacao['Unnamed: 3']\n",
    "    arr = [x.split() for x in taxa_de_ocupacao['TAXA DE OCUPAÇÃO EM MANAUS']]\n",
    "    taxa_de_ocupacao['Unnamed: 3'] = [x[0] for x in arr]\n",
    "    taxa_de_ocupacao['TAXA DE OCUPAÇÃO EM MANAUS'] = [x[1] for x in arr]\n",
    "    arr = []\n",
    "    for x in taxa_de_ocupacao['Unnamed: 4']:\n",
    "        if isinstance(x, str):\n",
    "            arr.append(x.split())\n",
    "        else:\n",
    "            arr.append([float('NaN'), float('NaN')])\n",
    "    arr[3].append(float('NaN'))\n",
    "    taxa_de_ocupacao['Unnamed: 5'] = [x[1] for x in arr]\n",
    "    taxa_de_ocupacao['Unnamed: 4'] = [x[0] for x in arr]\n",
    "    taxa_de_ocupacao.rename(columns={\n",
    "    'Unnamed: 0': 'unidade',\n",
    "    'Unnamed: 1': 'uti_geral',\n",
    "    'Unnamed: 2': 'uti_covid-19',\n",
    "    'Unnamed: 3': 'leitos_clinicos_geral',\n",
    "    'TAXA DE OCUPAÇÃO EM MANAUS': 'leitos_clinicos_covid-19',\n",
    "    'Unnamed: 4': 'sala_vermelha_geral',\n",
    "    'Unnamed: 5': 'sala_vermelha_covid-19'}, inplace=True)\n",
    "    taxa_de_ocupacao = taxa_de_ocupacao.T\n",
    "    taxa_de_ocupacao.insert(loc=0, \n",
    "    column='Data', \n",
    "    value=file_name[file_name.index('_') + 1:file_name.index('.')])\n",
    "\n",
    "    for files in listdir(PATH_CSV):\n",
    "        with open(r'C:\\Users\\heylu\\Documents\\estudos\\bot_estudos\\csvs' + '\\\\' + files, 'a+', newline='') as f:\n",
    "            writer = csv.writer(f)\n",
    "            dados = np.array(taxa_de_ocupacao.loc[[files[:files.index('.')]]]).ravel()\n",
    "            writer.writerow(dados)"
   ]
  },
  {
   "cell_type": "code",
   "execution_count": 619,
   "metadata": {},
   "outputs": [],
   "source": [
    "file_name = listdir(PATH_PDF)[36]"
   ]
  },
  {
   "cell_type": "code",
   "execution_count": 667,
   "metadata": {},
   "outputs": [
    {
     "output_type": "error",
     "ename": "KeyError",
     "evalue": "'UNIDADE'",
     "traceback": [
      "\u001b[1;31m---------------------------------------------------------------------------\u001b[0m",
      "\u001b[1;31mKeyError\u001b[0m                                  Traceback (most recent call last)",
      "\u001b[1;32m~\\miniconda3\\lib\\site-packages\\pandas\\core\\indexes\\base.py\u001b[0m in \u001b[0;36mget_loc\u001b[1;34m(self, key, method, tolerance)\u001b[0m\n\u001b[0;32m   3079\u001b[0m             \u001b[1;32mtry\u001b[0m\u001b[1;33m:\u001b[0m\u001b[1;33m\u001b[0m\u001b[0m\n\u001b[1;32m-> 3080\u001b[1;33m                 \u001b[1;32mreturn\u001b[0m \u001b[0mself\u001b[0m\u001b[1;33m.\u001b[0m\u001b[0m_engine\u001b[0m\u001b[1;33m.\u001b[0m\u001b[0mget_loc\u001b[0m\u001b[1;33m(\u001b[0m\u001b[0mcasted_key\u001b[0m\u001b[1;33m)\u001b[0m\u001b[1;33m\u001b[0m\u001b[0m\n\u001b[0m\u001b[0;32m   3081\u001b[0m             \u001b[1;32mexcept\u001b[0m \u001b[0mKeyError\u001b[0m \u001b[1;32mas\u001b[0m \u001b[0merr\u001b[0m\u001b[1;33m:\u001b[0m\u001b[1;33m\u001b[0m\u001b[0m\n",
      "\u001b[1;32mpandas\\_libs\\index.pyx\u001b[0m in \u001b[0;36mpandas._libs.index.IndexEngine.get_loc\u001b[1;34m()\u001b[0m\n",
      "\u001b[1;32mpandas\\_libs\\index.pyx\u001b[0m in \u001b[0;36mpandas._libs.index.IndexEngine.get_loc\u001b[1;34m()\u001b[0m\n",
      "\u001b[1;32mpandas\\_libs\\hashtable_class_helper.pxi\u001b[0m in \u001b[0;36mpandas._libs.hashtable.PyObjectHashTable.get_item\u001b[1;34m()\u001b[0m\n",
      "\u001b[1;32mpandas\\_libs\\hashtable_class_helper.pxi\u001b[0m in \u001b[0;36mpandas._libs.hashtable.PyObjectHashTable.get_item\u001b[1;34m()\u001b[0m\n",
      "\u001b[1;31mKeyError\u001b[0m: 'UNIDADE'",
      "\nThe above exception was the direct cause of the following exception:\n",
      "\u001b[1;31mKeyError\u001b[0m                                  Traceback (most recent call last)",
      "\u001b[1;32m<ipython-input-667-d637e06230d6>\u001b[0m in \u001b[0;36m<module>\u001b[1;34m\u001b[0m\n\u001b[0;32m      2\u001b[0m     \u001b[0mtaxa_de_ocupacao\u001b[0m \u001b[1;33m=\u001b[0m \u001b[0mread_pdf\u001b[0m\u001b[1;33m(\u001b[0m\u001b[1;34mr'C:\\Users\\heylu\\Documents\\estudos\\bot_estudos\\relatorios'\u001b[0m \u001b[1;33m+\u001b[0m \u001b[1;34m'\\\\'\u001b[0m \u001b[1;33m+\u001b[0m  \u001b[0mfile_name\u001b[0m\u001b[1;33m,\u001b[0m \u001b[0mpages\u001b[0m\u001b[1;33m=\u001b[0m\u001b[1;36m2\u001b[0m\u001b[1;33m,\u001b[0m \u001b[0marea\u001b[0m\u001b[1;33m=\u001b[0m\u001b[1;33m[\u001b[0m\u001b[1;36m299.252\u001b[0m\u001b[1;33m,\u001b[0m\u001b[1;36m429.189\u001b[0m\u001b[1;33m,\u001b[0m\u001b[1;36m427.122\u001b[0m\u001b[1;33m,\u001b[0m\u001b[1;36m811.535\u001b[0m\u001b[1;33m]\u001b[0m\u001b[1;33m,\u001b[0m \u001b[0mstream\u001b[0m\u001b[1;33m=\u001b[0m\u001b[1;32mTrue\u001b[0m\u001b[1;33m)\u001b[0m\u001b[1;33m[\u001b[0m\u001b[1;36m0\u001b[0m\u001b[1;33m]\u001b[0m\u001b[1;33m\u001b[0m\u001b[0m\n\u001b[0;32m      3\u001b[0m     \u001b[0mtaxa_de_ocupacao\u001b[0m \u001b[1;33m=\u001b[0m \u001b[0mtaxa_de_ocupacao\u001b[0m\u001b[1;33m.\u001b[0m\u001b[0mdrop\u001b[0m\u001b[1;33m(\u001b[0m\u001b[0mindex\u001b[0m\u001b[1;33m=\u001b[0m\u001b[1;33m[\u001b[0m\u001b[1;36m0\u001b[0m\u001b[1;33m,\u001b[0m \u001b[1;36m7\u001b[0m\u001b[1;33m,\u001b[0m \u001b[1;36m11\u001b[0m\u001b[1;33m,\u001b[0m \u001b[1;36m12\u001b[0m\u001b[1;33m]\u001b[0m\u001b[1;33m)\u001b[0m\u001b[1;33m\u001b[0m\u001b[0m\n\u001b[1;32m----> 4\u001b[1;33m     \u001b[0mtaxa_de_ocupacao\u001b[0m\u001b[1;33m[\u001b[0m\u001b[1;34m'UTI'\u001b[0m\u001b[1;33m]\u001b[0m \u001b[1;33m=\u001b[0m \u001b[1;33m[\u001b[0m\u001b[0mx\u001b[0m\u001b[1;33m.\u001b[0m\u001b[0msplit\u001b[0m\u001b[1;33m(\u001b[0m\u001b[1;33m)\u001b[0m\u001b[1;33m[\u001b[0m\u001b[1;33m-\u001b[0m\u001b[1;36m1\u001b[0m\u001b[1;33m]\u001b[0m \u001b[1;32mfor\u001b[0m \u001b[0mx\u001b[0m \u001b[1;32min\u001b[0m \u001b[0mtaxa_de_ocupacao\u001b[0m\u001b[1;33m[\u001b[0m\u001b[1;34m'UNIDADE'\u001b[0m\u001b[1;33m]\u001b[0m\u001b[1;33m]\u001b[0m\u001b[1;33m\u001b[0m\u001b[0m\n\u001b[0m\u001b[0;32m      5\u001b[0m     \u001b[0mtaxa_de_ocupacao\u001b[0m\u001b[1;33m[\u001b[0m\u001b[1;34m'UNIDADE'\u001b[0m\u001b[1;33m]\u001b[0m \u001b[1;33m=\u001b[0m \u001b[1;33m[\u001b[0m\u001b[1;34m\" \"\u001b[0m\u001b[1;33m.\u001b[0m\u001b[0mjoin\u001b[0m\u001b[1;33m(\u001b[0m\u001b[0mx\u001b[0m\u001b[1;33m.\u001b[0m\u001b[0msplit\u001b[0m\u001b[1;33m(\u001b[0m\u001b[1;33m)\u001b[0m\u001b[1;33m[\u001b[0m\u001b[1;33m:\u001b[0m\u001b[1;33m-\u001b[0m\u001b[1;36m1\u001b[0m\u001b[1;33m]\u001b[0m\u001b[1;33m)\u001b[0m \u001b[1;32mfor\u001b[0m \u001b[0mx\u001b[0m \u001b[1;32min\u001b[0m \u001b[0mtaxa_de_ocupacao\u001b[0m\u001b[1;33m[\u001b[0m\u001b[1;34m'UNIDADE'\u001b[0m\u001b[1;33m]\u001b[0m\u001b[1;33m]\u001b[0m\u001b[1;33m\u001b[0m\u001b[0m\n\u001b[0;32m      6\u001b[0m     \u001b[0marr\u001b[0m \u001b[1;33m=\u001b[0m \u001b[1;33m[\u001b[0m\u001b[0mx\u001b[0m\u001b[1;33m.\u001b[0m\u001b[0msplit\u001b[0m\u001b[1;33m(\u001b[0m\u001b[1;33m)\u001b[0m \u001b[1;32mfor\u001b[0m \u001b[0mx\u001b[0m \u001b[1;32min\u001b[0m \u001b[0mtaxa_de_ocupacao\u001b[0m\u001b[1;33m[\u001b[0m\u001b[1;34m'LEITOS CLÍNICOS'\u001b[0m\u001b[1;33m]\u001b[0m\u001b[1;33m]\u001b[0m\u001b[1;33m\u001b[0m\u001b[0m\n",
      "\u001b[1;32m~\\miniconda3\\lib\\site-packages\\pandas\\core\\frame.py\u001b[0m in \u001b[0;36m__getitem__\u001b[1;34m(self, key)\u001b[0m\n\u001b[0;32m   3022\u001b[0m             \u001b[1;32mif\u001b[0m \u001b[0mself\u001b[0m\u001b[1;33m.\u001b[0m\u001b[0mcolumns\u001b[0m\u001b[1;33m.\u001b[0m\u001b[0mnlevels\u001b[0m \u001b[1;33m>\u001b[0m \u001b[1;36m1\u001b[0m\u001b[1;33m:\u001b[0m\u001b[1;33m\u001b[0m\u001b[0m\n\u001b[0;32m   3023\u001b[0m                 \u001b[1;32mreturn\u001b[0m \u001b[0mself\u001b[0m\u001b[1;33m.\u001b[0m\u001b[0m_getitem_multilevel\u001b[0m\u001b[1;33m(\u001b[0m\u001b[0mkey\u001b[0m\u001b[1;33m)\u001b[0m\u001b[1;33m\u001b[0m\u001b[0m\n\u001b[1;32m-> 3024\u001b[1;33m             \u001b[0mindexer\u001b[0m \u001b[1;33m=\u001b[0m \u001b[0mself\u001b[0m\u001b[1;33m.\u001b[0m\u001b[0mcolumns\u001b[0m\u001b[1;33m.\u001b[0m\u001b[0mget_loc\u001b[0m\u001b[1;33m(\u001b[0m\u001b[0mkey\u001b[0m\u001b[1;33m)\u001b[0m\u001b[1;33m\u001b[0m\u001b[0m\n\u001b[0m\u001b[0;32m   3025\u001b[0m             \u001b[1;32mif\u001b[0m \u001b[0mis_integer\u001b[0m\u001b[1;33m(\u001b[0m\u001b[0mindexer\u001b[0m\u001b[1;33m)\u001b[0m\u001b[1;33m:\u001b[0m\u001b[1;33m\u001b[0m\u001b[0m\n\u001b[0;32m   3026\u001b[0m                 \u001b[0mindexer\u001b[0m \u001b[1;33m=\u001b[0m \u001b[1;33m[\u001b[0m\u001b[0mindexer\u001b[0m\u001b[1;33m]\u001b[0m\u001b[1;33m\u001b[0m\u001b[0m\n",
      "\u001b[1;32m~\\miniconda3\\lib\\site-packages\\pandas\\core\\indexes\\base.py\u001b[0m in \u001b[0;36mget_loc\u001b[1;34m(self, key, method, tolerance)\u001b[0m\n\u001b[0;32m   3080\u001b[0m                 \u001b[1;32mreturn\u001b[0m \u001b[0mself\u001b[0m\u001b[1;33m.\u001b[0m\u001b[0m_engine\u001b[0m\u001b[1;33m.\u001b[0m\u001b[0mget_loc\u001b[0m\u001b[1;33m(\u001b[0m\u001b[0mcasted_key\u001b[0m\u001b[1;33m)\u001b[0m\u001b[1;33m\u001b[0m\u001b[0m\n\u001b[0;32m   3081\u001b[0m             \u001b[1;32mexcept\u001b[0m \u001b[0mKeyError\u001b[0m \u001b[1;32mas\u001b[0m \u001b[0merr\u001b[0m\u001b[1;33m:\u001b[0m\u001b[1;33m\u001b[0m\u001b[0m\n\u001b[1;32m-> 3082\u001b[1;33m                 \u001b[1;32mraise\u001b[0m \u001b[0mKeyError\u001b[0m\u001b[1;33m(\u001b[0m\u001b[0mkey\u001b[0m\u001b[1;33m)\u001b[0m \u001b[1;32mfrom\u001b[0m \u001b[0merr\u001b[0m\u001b[1;33m\u001b[0m\u001b[0m\n\u001b[0m\u001b[0;32m   3083\u001b[0m \u001b[1;33m\u001b[0m\u001b[0m\n\u001b[0;32m   3084\u001b[0m         \u001b[1;32mif\u001b[0m \u001b[0mtolerance\u001b[0m \u001b[1;32mis\u001b[0m \u001b[1;32mnot\u001b[0m \u001b[1;32mNone\u001b[0m\u001b[1;33m:\u001b[0m\u001b[1;33m\u001b[0m\u001b[0m\n",
      "\u001b[1;31mKeyError\u001b[0m: 'UNIDADE'"
     ]
    }
   ],
   "source": [
    "for file_name in listdir(PATH_PDF)[36:42]: #raspagem do dia 21-03-11 ao 21-03-21\n",
    "    taxa_de_ocupacao = read_pdf(r'C:\\Users\\heylu\\Documents\\estudos\\bot_estudos\\relatorios' + '\\\\' +  file_name, pages=2, area=[299.252,429.189,427.122,811.535], stream=True)[0]\n",
    "    taxa_de_ocupacao = taxa_de_ocupacao.drop(index=[0, 7, 11, 12])\n",
    "    taxa_de_ocupacao['UTI'] = [x.split()[-1] for x in taxa_de_ocupacao['UNIDADE']]\n",
    "    taxa_de_ocupacao['UNIDADE'] = [\" \".join(x.split()[:-1]) for x in taxa_de_ocupacao['UNIDADE']]\n",
    "    arr = [x.split() for x in taxa_de_ocupacao['LEITOS CLÍNICOS']]\n",
    "    taxa_de_ocupacao.insert(3, column='LEITOS CLÍNICOS GERAL', value=[x[0] for x in arr])\n",
    "    taxa_de_ocupacao['LEITOS CLÍNICOS'] = [x[1] for x in arr]\n",
    "    taxa_de_ocupacao.rename(columns={\n",
    "    'UNIDADE': 'unidade',\n",
    "    'UTI': 'uti_geral',\n",
    "    'Unnamed: 0': 'uti_covid-19',\n",
    "    'LEITOS CLÍNICOS GERAL': 'leitos_clinicos_geral',\n",
    "    'LEITOS CLÍNICOS': 'leitos_clinicos_covid-19',\n",
    "    'Unnamed: 1': 'sala_vermelha_geral',\n",
    "    'SALA VERMELHA': 'sala_vermelha_covid-19'}, inplace=True)\n",
    "    taxa_de_ocupacao = taxa_de_ocupacao.T\n",
    "    taxa_de_ocupacao.insert(loc=0, \n",
    "    column='Data', \n",
    "    value=file_name[file_name.index('_') + 1:file_name.index('.')])\n",
    "    for files in listdir(PATH_CSV):\n",
    "        with open(r'C:\\Users\\heylu\\Documents\\estudos\\bot_estudos\\csvs' + '\\\\' + files, 'a+', newline='') as f:\n",
    "            writer = csv.writer(f)\n",
    "            dados = np.array(taxa_de_ocupacao.loc[[files[:files.index('.')]]]).ravel()\n",
    "            writer.writerow(dados)"
   ]
  },
  {
   "cell_type": "code",
   "execution_count": 635,
   "metadata": {},
   "outputs": [],
   "source": [
    "taxa_de_ocupacao = read_pdf(r'C:\\Users\\heylu\\Documents\\estudos\\bot_estudos\\relatorios' + '\\\\' +  file_name, pages=2, area=[299.252,429.189,427.122,811.535], stream=True)[0]"
   ]
  },
  {
   "cell_type": "code",
   "execution_count": 699,
   "metadata": {},
   "outputs": [],
   "source": [
    "for file_name in listdir(PATH_PDF)[42:55]: #raspagem do dia 21-03-23 ao 21-04-11\n",
    "    taxa_de_ocupacao = read_pdf(r'C:\\Users\\heylu\\Documents\\estudos\\bot_estudos\\relatorios' + '\\\\' +  file_name, pages=2, area=AREA, stream=True)[0]\n",
    "    taxa_de_ocupacao = taxa_de_ocupacao.drop(index=[0, 1, 8, 12])\n",
    "    taxa_de_ocupacao['Unnamed: 1'] = [x.split()[-1] for x in taxa_de_ocupacao['Unnamed: 0']]\n",
    "    taxa_de_ocupacao['Unnamed: 0'] = [\" \".join(x.split()[:-1]) for x in taxa_de_ocupacao['Unnamed: 0']]\n",
    "    taxa_de_ocupacao['Unnamed: 2'] = taxa_de_ocupacao['Unnamed: 3']\n",
    "    arr = [x.split() for x in taxa_de_ocupacao['TAXA DE OCUPAÇÃO EM MANAUS']]\n",
    "    taxa_de_ocupacao['Unnamed: 3'] = [x[0] for x in arr]\n",
    "    taxa_de_ocupacao['TAXA DE OCUPAÇÃO EM MANAUS'] = [x[1] for x in arr]\n",
    "    taxa_de_ocupacao.drop(columns='Unnamed: 5', inplace=True)\n",
    "    taxa_de_ocupacao.rename(columns={\n",
    "    'Unnamed: 0': 'unidade',\n",
    "    'Unnamed: 1': 'uti_geral',\n",
    "    'Unnamed: 2': 'uti_covid-19',\n",
    "    'Unnamed: 3': 'leitos_clinicos_geral',\n",
    "    'TAXA DE OCUPAÇÃO EM MANAUS': 'leitos_clinicos_covid-19',\n",
    "    'Unnamed: 4': 'sala_vermelha_geral',\n",
    "    'Unnamed: 6': 'sala_vermelha_covid-19'}, inplace=True)\n",
    "    taxa_de_ocupacao = taxa_de_ocupacao.T\n",
    "    taxa_de_ocupacao.insert(loc=0, \n",
    "    column='Data', \n",
    "    value=file_name[file_name.index('_') + 1:file_name.index('.')])\n",
    "\n",
    "    for files in listdir(PATH_CSV):\n",
    "        with open(r'C:\\Users\\heylu\\Documents\\estudos\\bot_estudos\\csvs' + '\\\\' + files, 'a+', newline='') as f:\n",
    "            writer = csv.writer(f)\n",
    "            dados = np.array(taxa_de_ocupacao.loc[[files[:files.index('.')]]]).ravel()\n",
    "            writer.writerow(dados)"
   ]
  },
  {
   "cell_type": "code",
   "execution_count": null,
   "metadata": {},
   "outputs": [],
   "source": []
  }
 ]
}