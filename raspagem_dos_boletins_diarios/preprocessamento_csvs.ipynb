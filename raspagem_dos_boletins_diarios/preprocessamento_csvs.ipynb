{
 "metadata": {
  "language_info": {
   "codemirror_mode": {
    "name": "ipython",
    "version": 3
   },
   "file_extension": ".py",
   "mimetype": "text/x-python",
   "name": "python",
   "nbconvert_exporter": "python",
   "pygments_lexer": "ipython3",
   "version": "3.7.0-final"
  },
  "orig_nbformat": 2,
  "kernelspec": {
   "name": "python370jvsc74a57bd054c85eb7dbd5a2167103f12628956715de332074f8028b8b97960d2088cc3691",
   "display_name": "Python 3.7.0 64-bit (conda)"
  }
 },
 "nbformat": 4,
 "nbformat_minor": 2,
 "cells": [
  {
   "cell_type": "code",
   "execution_count": 4,
   "metadata": {},
   "outputs": [],
   "source": [
    "import pandas as pd\n",
    "from os import listdir"
   ]
  },
  {
   "cell_type": "code",
   "execution_count": 5,
   "metadata": {},
   "outputs": [],
   "source": [
    "PATH_CSVS = r'C:\\Users\\heylu\\Documents\\github\\HeyLucasLeao.github.io\\raspagem_dos_boletins_diarios\\csvs'"
   ]
  },
  {
   "cell_type": "code",
   "execution_count": 6,
   "metadata": {},
   "outputs": [],
   "source": [
    "file_name = 'sala_vermelha_covid-19.csv'\n",
    "df = pd.read_csv(PATH_CSVS + \"\\\\\" + file_name, index_col='Data')"
   ]
  },
  {
   "cell_type": "code",
   "execution_count": 7,
   "metadata": {},
   "outputs": [
    {
     "output_type": "execute_result",
     "data": {
      "text/plain": [
       "         Rede P�blica Adulto (total)    Geral Gestante Oncol�gico Card�aco  \\\n",
       "Data                                                                         \n",
       "21-01-06       93,02%        100,00%      NaN      NaN        NaN      NaN   \n",
       "21-01-08       84,21%         85,14%   85,14%      NaN        NaN      NaN   \n",
       "21-01-10       80,00%         82,76%   82,76%      NaN        NaN      NaN   \n",
       "21-01-12       85,00%         87,93%   87,93%      NaN        NaN      NaN   \n",
       "21-01-14       83,33%         86,21%   94,34%      NaN        NaN      NaN   \n",
       "21-01-16       73,97%         76,06%   94,74%      NaN        NaN      NaN   \n",
       "21-01-18       88,33%         91,07%  118,60%      NaN        NaN      NaN   \n",
       "21-01-20       89,04%         90,14%  108,47%      NaN        NaN      NaN   \n",
       "21-01-22       83,12%         84,00%   93,55%   16,67%        NaN      NaN   \n",
       "21-01-24       78,08%         80,00%   84,75%    0,00%        NaN      NaN   \n",
       "21-01-26       82,35%         83,58%   90,20%    0,00%        NaN      NaN   \n",
       "21-01-27       86,89%         88,14%   95,65%   16,67%        NaN      NaN   \n",
       "21-01-29      107,61%         81,54%   86,27%   16,67%    100,00%    0,00%   \n",
       "21-01-31      107,45%         80,88%   88,46%   16,67%     80,00%    0,00%   \n",
       "21-02-01      112,94%         84,75%   90,70%   16,67%    100,00%    0,00%   \n",
       "21-02-02      107,53%         85,07%   88,89%   20,00%    100,00%    0,00%   \n",
       "21-02-06       96,55%         78,69%   87,23%   33,33%     62,50%    0,00%   \n",
       "21-02-07       87,06%         71,19%   91,30%    0,00%      0,00%    0,00%   \n",
       "21-02-08       86,46%         65,22%   78,57%   20,00%      0,00%    0,00%   \n",
       "21-02-10       87,78%         68,75%   84,00%    0,00%     25,00%    0,00%   \n",
       "21-02-11       88,04%         74,24%   90,38%    0,00%     25,00%    0,00%   \n",
       "21-02-12       88,31%         78,43%   90,00%   66,67%     25,00%    0,00%   \n",
       "21-02-14       76,24%         77,42%   84,31%    0,00%     62,50%    0,00%   \n",
       "21-02-15       77,23%         75,41%   88,00%    0,00%     25,00%    0,00%   \n",
       "21-02-16       73,79%         69,23%   83,33%    0,00%      0,00%    0,00%   \n",
       "21-02-18       73,47%         75,81%   88,24%    0,00%     25,00%    0,00%   \n",
       "21-02-20       63,16%         64,71%   82,50%    0,00%      0,00%    0,00%   \n",
       "21-02-22       64,56%         67,35%   81,58%    0,00%     25,00%    0,00%   \n",
       "21-02-24       45,45%         54,24%   62,00%    0,00%     16,67%    0,00%   \n",
       "21-02-28       53,49%         60,56%   68,33%    0,00%     25,00%    0,00%   \n",
       "21-03-02       38,16%         49,15%   48,15%   33,33%    100,00%    0,00%   \n",
       "21-03-04       53,75%         67,74%   67,92%   75,00%     60,00%    0,00%   \n",
       "21-03-07       50,00%         58,93%   62,26%    0,00%    #DIV/0!    0,00%   \n",
       "21-03-09       45,21%         56,14%   58,49%   25,00%      0,00%    0,00%   \n",
       "21-03-11       49,30%         50,72%   58,33%    0,00%      0,00%    0,00%   \n",
       "21-03-13       45,71%         47,06%   54,24%    0,00%      0,00%    0,00%   \n",
       "21-03-15       33,80%         34,78%   40,00%    0,00%      0,00%    0,00%   \n",
       "21-03-17       39,29%         40,74%   43,14%    0,00%      0,00%    0,00%   \n",
       "21-03-19       34,00%         35,42%   37,78%    0,00%      0,00%    0,00%   \n",
       "21-03-21       43,18%         45,24%   48,72%    0,00%      0,00%    0,00%   \n",
       "21-03-23       41,30%         43,18%   47,50%    0,00%      0,00%    0,00%   \n",
       "21-03-24       19,61%         20,41%   21,95%    0,00%     20,00%    0,00%   \n",
       "21-03-26       34,62%         36,00%   41,46%    0,00%     16,67%    0,00%   \n",
       "21-03-28       34,88%         36,59%   45,16%    0,00%     16,67%    0,00%   \n",
       "21-03-30       33,33%         35,29%   45,83%    0,00%     16,67%    0,00%   \n",
       "21-04-01       29,41%         30,61%   35,90%    0,00%     16,67%    0,00%   \n",
       "21-04-03       22,00%         22,92%   25,64%    0,00%     16,67%    0,00%   \n",
       "21-04-05       26,19%         27,50%   35,48%    0,00%      0,00%    0,00%   \n",
       "21-04-05       26,19%         27,50%   35,48%    0,00%      0,00%    0,00%   \n",
       "21-04-07       34,00%         35,42%   38,46%   33,33%     16,67%    0,00%   \n",
       "21-04-09       26,67%         27,91%   32,35%    0,00%     16,67%    0,00%   \n",
       "21-04-11       31,11%         32,56%   38,24%    0,00%     16,67%    0,00%   \n",
       "\n",
       "          Infatil Rede Privada    Total  \n",
       "Data                                     \n",
       "21-01-06    0,00%      100,00%   95,38%  \n",
       "21-01-08   50,00%       77,08%   81,45%  \n",
       "21-01-10    0,00%       83,33%   80,95%  \n",
       "21-01-12    0,00%       75,00%   82,14%  \n",
       "21-01-14    0,00%       77,78%   82,05%  \n",
       "21-01-16    0,00%       66,67%   72,53%  \n",
       "21-01-18   66,67%       44,44%   78,21%  \n",
       "21-01-20  100,00%       61,11%   83,52%  \n",
       "21-01-22  100,00%       83,33%   83,16%  \n",
       "21-01-24   50,00%       94,44%   81,32%  \n",
       "21-01-26    0,00%       66,67%   79,07%  \n",
       "21-01-27  100,00%       50,00%   78,48%  \n",
       "21-01-29   50,00%       83,33%  103,64%  \n",
       "21-01-31    0,00%       56,52%   97,44%  \n",
       "21-02-01    0,00%       47,83%   99,07%  \n",
       "21-02-02    0,00%       69,23%   99,16%  \n",
       "21-02-06    0,00%       16,00%   78,57%  \n",
       "21-02-07    0,00%       15,38%   70,27%  \n",
       "21-02-08   50,00%       28,57%   76,07%  \n",
       "21-02-10    0,00%       29,41%   78,50%  \n",
       "21-02-11    0,00%       28,57%   76,99%  \n",
       "21-02-12    0,00%       19,05%   73,47%  \n",
       "21-02-14    0,00%       17,39%   65,32%  \n",
       "21-02-15   50,00%       19,05%   67,21%  \n",
       "21-02-16    0,00%       57,14%   72,73%  \n",
       "21-02-18   50,00%       57,14%   72,38%  \n",
       "21-02-20    0,00%       57,14%   62,75%  \n",
       "21-02-22    0,00%       57,14%   63,95%  \n",
       "21-02-24    0,00%       80,00%   47,31%  \n",
       "21-02-28    0,00%       33,33%   51,58%  \n",
       "21-03-02    0,00%       50,00%   39,29%  \n",
       "21-03-04    0,00%       80,00%   55,29%  \n",
       "21-03-07    0,00%       42,86%   49,33%  \n",
       "21-03-09    0,00%       60,00%   46,15%  \n",
       "21-03-11    0,00%       60,00%   50,00%  \n",
       "21-03-13    0,00%       60,00%   46,67%  \n",
       "21-03-15    0,00%       40,00%   34,21%  \n",
       "21-03-17    0,00%       60,00%   40,98%  \n",
       "21-03-19    0,00%       40,00%   34,55%  \n",
       "21-03-21    0,00%       28,57%   41,18%  \n",
       "21-03-23    0,00%       40,00%   41,18%  \n",
       "21-03-24    0,00%       40,00%   21,43%  \n",
       "21-03-26    0,00%        0,00%   31,58%  \n",
       "21-03-28    0,00%        0,00%   30,00%  \n",
       "21-03-30    0,00%        0,00%   25,53%  \n",
       "21-04-01    0,00%        0,00%   24,19%  \n",
       "21-04-03    0,00%       18,18%   21,31%  \n",
       "21-04-05    0,00%        9,09%   22,64%  \n",
       "21-04-05    0,00%        9,09%   22,64%  \n",
       "21-04-07    0,00%       18,18%   31,15%  \n",
       "21-04-09    0,00%        0,00%   21,43%  \n",
       "21-04-11    0,00%        7,69%   25,86%  "
      ],
      "text/html": "<div>\n<style scoped>\n    .dataframe tbody tr th:only-of-type {\n        vertical-align: middle;\n    }\n\n    .dataframe tbody tr th {\n        vertical-align: top;\n    }\n\n    .dataframe thead th {\n        text-align: right;\n    }\n</style>\n<table border=\"1\" class=\"dataframe\">\n  <thead>\n    <tr style=\"text-align: right;\">\n      <th></th>\n      <th>Rede P�blica</th>\n      <th>Adulto (total)</th>\n      <th>Geral</th>\n      <th>Gestante</th>\n      <th>Oncol�gico</th>\n      <th>Card�aco</th>\n      <th>Infatil</th>\n      <th>Rede Privada</th>\n      <th>Total</th>\n    </tr>\n    <tr>\n      <th>Data</th>\n      <th></th>\n      <th></th>\n      <th></th>\n      <th></th>\n      <th></th>\n      <th></th>\n      <th></th>\n      <th></th>\n      <th></th>\n    </tr>\n  </thead>\n  <tbody>\n    <tr>\n      <th>21-01-06</th>\n      <td>93,02%</td>\n      <td>100,00%</td>\n      <td>NaN</td>\n      <td>NaN</td>\n      <td>NaN</td>\n      <td>NaN</td>\n      <td>0,00%</td>\n      <td>100,00%</td>\n      <td>95,38%</td>\n    </tr>\n    <tr>\n      <th>21-01-08</th>\n      <td>84,21%</td>\n      <td>85,14%</td>\n      <td>85,14%</td>\n      <td>NaN</td>\n      <td>NaN</td>\n      <td>NaN</td>\n      <td>50,00%</td>\n      <td>77,08%</td>\n      <td>81,45%</td>\n    </tr>\n    <tr>\n      <th>21-01-10</th>\n      <td>80,00%</td>\n      <td>82,76%</td>\n      <td>82,76%</td>\n      <td>NaN</td>\n      <td>NaN</td>\n      <td>NaN</td>\n      <td>0,00%</td>\n      <td>83,33%</td>\n      <td>80,95%</td>\n    </tr>\n    <tr>\n      <th>21-01-12</th>\n      <td>85,00%</td>\n      <td>87,93%</td>\n      <td>87,93%</td>\n      <td>NaN</td>\n      <td>NaN</td>\n      <td>NaN</td>\n      <td>0,00%</td>\n      <td>75,00%</td>\n      <td>82,14%</td>\n    </tr>\n    <tr>\n      <th>21-01-14</th>\n      <td>83,33%</td>\n      <td>86,21%</td>\n      <td>94,34%</td>\n      <td>NaN</td>\n      <td>NaN</td>\n      <td>NaN</td>\n      <td>0,00%</td>\n      <td>77,78%</td>\n      <td>82,05%</td>\n    </tr>\n    <tr>\n      <th>21-01-16</th>\n      <td>73,97%</td>\n      <td>76,06%</td>\n      <td>94,74%</td>\n      <td>NaN</td>\n      <td>NaN</td>\n      <td>NaN</td>\n      <td>0,00%</td>\n      <td>66,67%</td>\n      <td>72,53%</td>\n    </tr>\n    <tr>\n      <th>21-01-18</th>\n      <td>88,33%</td>\n      <td>91,07%</td>\n      <td>118,60%</td>\n      <td>NaN</td>\n      <td>NaN</td>\n      <td>NaN</td>\n      <td>66,67%</td>\n      <td>44,44%</td>\n      <td>78,21%</td>\n    </tr>\n    <tr>\n      <th>21-01-20</th>\n      <td>89,04%</td>\n      <td>90,14%</td>\n      <td>108,47%</td>\n      <td>NaN</td>\n      <td>NaN</td>\n      <td>NaN</td>\n      <td>100,00%</td>\n      <td>61,11%</td>\n      <td>83,52%</td>\n    </tr>\n    <tr>\n      <th>21-01-22</th>\n      <td>83,12%</td>\n      <td>84,00%</td>\n      <td>93,55%</td>\n      <td>16,67%</td>\n      <td>NaN</td>\n      <td>NaN</td>\n      <td>100,00%</td>\n      <td>83,33%</td>\n      <td>83,16%</td>\n    </tr>\n    <tr>\n      <th>21-01-24</th>\n      <td>78,08%</td>\n      <td>80,00%</td>\n      <td>84,75%</td>\n      <td>0,00%</td>\n      <td>NaN</td>\n      <td>NaN</td>\n      <td>50,00%</td>\n      <td>94,44%</td>\n      <td>81,32%</td>\n    </tr>\n    <tr>\n      <th>21-01-26</th>\n      <td>82,35%</td>\n      <td>83,58%</td>\n      <td>90,20%</td>\n      <td>0,00%</td>\n      <td>NaN</td>\n      <td>NaN</td>\n      <td>0,00%</td>\n      <td>66,67%</td>\n      <td>79,07%</td>\n    </tr>\n    <tr>\n      <th>21-01-27</th>\n      <td>86,89%</td>\n      <td>88,14%</td>\n      <td>95,65%</td>\n      <td>16,67%</td>\n      <td>NaN</td>\n      <td>NaN</td>\n      <td>100,00%</td>\n      <td>50,00%</td>\n      <td>78,48%</td>\n    </tr>\n    <tr>\n      <th>21-01-29</th>\n      <td>107,61%</td>\n      <td>81,54%</td>\n      <td>86,27%</td>\n      <td>16,67%</td>\n      <td>100,00%</td>\n      <td>0,00%</td>\n      <td>50,00%</td>\n      <td>83,33%</td>\n      <td>103,64%</td>\n    </tr>\n    <tr>\n      <th>21-01-31</th>\n      <td>107,45%</td>\n      <td>80,88%</td>\n      <td>88,46%</td>\n      <td>16,67%</td>\n      <td>80,00%</td>\n      <td>0,00%</td>\n      <td>0,00%</td>\n      <td>56,52%</td>\n      <td>97,44%</td>\n    </tr>\n    <tr>\n      <th>21-02-01</th>\n      <td>112,94%</td>\n      <td>84,75%</td>\n      <td>90,70%</td>\n      <td>16,67%</td>\n      <td>100,00%</td>\n      <td>0,00%</td>\n      <td>0,00%</td>\n      <td>47,83%</td>\n      <td>99,07%</td>\n    </tr>\n    <tr>\n      <th>21-02-02</th>\n      <td>107,53%</td>\n      <td>85,07%</td>\n      <td>88,89%</td>\n      <td>20,00%</td>\n      <td>100,00%</td>\n      <td>0,00%</td>\n      <td>0,00%</td>\n      <td>69,23%</td>\n      <td>99,16%</td>\n    </tr>\n    <tr>\n      <th>21-02-06</th>\n      <td>96,55%</td>\n      <td>78,69%</td>\n      <td>87,23%</td>\n      <td>33,33%</td>\n      <td>62,50%</td>\n      <td>0,00%</td>\n      <td>0,00%</td>\n      <td>16,00%</td>\n      <td>78,57%</td>\n    </tr>\n    <tr>\n      <th>21-02-07</th>\n      <td>87,06%</td>\n      <td>71,19%</td>\n      <td>91,30%</td>\n      <td>0,00%</td>\n      <td>0,00%</td>\n      <td>0,00%</td>\n      <td>0,00%</td>\n      <td>15,38%</td>\n      <td>70,27%</td>\n    </tr>\n    <tr>\n      <th>21-02-08</th>\n      <td>86,46%</td>\n      <td>65,22%</td>\n      <td>78,57%</td>\n      <td>20,00%</td>\n      <td>0,00%</td>\n      <td>0,00%</td>\n      <td>50,00%</td>\n      <td>28,57%</td>\n      <td>76,07%</td>\n    </tr>\n    <tr>\n      <th>21-02-10</th>\n      <td>87,78%</td>\n      <td>68,75%</td>\n      <td>84,00%</td>\n      <td>0,00%</td>\n      <td>25,00%</td>\n      <td>0,00%</td>\n      <td>0,00%</td>\n      <td>29,41%</td>\n      <td>78,50%</td>\n    </tr>\n    <tr>\n      <th>21-02-11</th>\n      <td>88,04%</td>\n      <td>74,24%</td>\n      <td>90,38%</td>\n      <td>0,00%</td>\n      <td>25,00%</td>\n      <td>0,00%</td>\n      <td>0,00%</td>\n      <td>28,57%</td>\n      <td>76,99%</td>\n    </tr>\n    <tr>\n      <th>21-02-12</th>\n      <td>88,31%</td>\n      <td>78,43%</td>\n      <td>90,00%</td>\n      <td>66,67%</td>\n      <td>25,00%</td>\n      <td>0,00%</td>\n      <td>0,00%</td>\n      <td>19,05%</td>\n      <td>73,47%</td>\n    </tr>\n    <tr>\n      <th>21-02-14</th>\n      <td>76,24%</td>\n      <td>77,42%</td>\n      <td>84,31%</td>\n      <td>0,00%</td>\n      <td>62,50%</td>\n      <td>0,00%</td>\n      <td>0,00%</td>\n      <td>17,39%</td>\n      <td>65,32%</td>\n    </tr>\n    <tr>\n      <th>21-02-15</th>\n      <td>77,23%</td>\n      <td>75,41%</td>\n      <td>88,00%</td>\n      <td>0,00%</td>\n      <td>25,00%</td>\n      <td>0,00%</td>\n      <td>50,00%</td>\n      <td>19,05%</td>\n      <td>67,21%</td>\n    </tr>\n    <tr>\n      <th>21-02-16</th>\n      <td>73,79%</td>\n      <td>69,23%</td>\n      <td>83,33%</td>\n      <td>0,00%</td>\n      <td>0,00%</td>\n      <td>0,00%</td>\n      <td>0,00%</td>\n      <td>57,14%</td>\n      <td>72,73%</td>\n    </tr>\n    <tr>\n      <th>21-02-18</th>\n      <td>73,47%</td>\n      <td>75,81%</td>\n      <td>88,24%</td>\n      <td>0,00%</td>\n      <td>25,00%</td>\n      <td>0,00%</td>\n      <td>50,00%</td>\n      <td>57,14%</td>\n      <td>72,38%</td>\n    </tr>\n    <tr>\n      <th>21-02-20</th>\n      <td>63,16%</td>\n      <td>64,71%</td>\n      <td>82,50%</td>\n      <td>0,00%</td>\n      <td>0,00%</td>\n      <td>0,00%</td>\n      <td>0,00%</td>\n      <td>57,14%</td>\n      <td>62,75%</td>\n    </tr>\n    <tr>\n      <th>21-02-22</th>\n      <td>64,56%</td>\n      <td>67,35%</td>\n      <td>81,58%</td>\n      <td>0,00%</td>\n      <td>25,00%</td>\n      <td>0,00%</td>\n      <td>0,00%</td>\n      <td>57,14%</td>\n      <td>63,95%</td>\n    </tr>\n    <tr>\n      <th>21-02-24</th>\n      <td>45,45%</td>\n      <td>54,24%</td>\n      <td>62,00%</td>\n      <td>0,00%</td>\n      <td>16,67%</td>\n      <td>0,00%</td>\n      <td>0,00%</td>\n      <td>80,00%</td>\n      <td>47,31%</td>\n    </tr>\n    <tr>\n      <th>21-02-28</th>\n      <td>53,49%</td>\n      <td>60,56%</td>\n      <td>68,33%</td>\n      <td>0,00%</td>\n      <td>25,00%</td>\n      <td>0,00%</td>\n      <td>0,00%</td>\n      <td>33,33%</td>\n      <td>51,58%</td>\n    </tr>\n    <tr>\n      <th>21-03-02</th>\n      <td>38,16%</td>\n      <td>49,15%</td>\n      <td>48,15%</td>\n      <td>33,33%</td>\n      <td>100,00%</td>\n      <td>0,00%</td>\n      <td>0,00%</td>\n      <td>50,00%</td>\n      <td>39,29%</td>\n    </tr>\n    <tr>\n      <th>21-03-04</th>\n      <td>53,75%</td>\n      <td>67,74%</td>\n      <td>67,92%</td>\n      <td>75,00%</td>\n      <td>60,00%</td>\n      <td>0,00%</td>\n      <td>0,00%</td>\n      <td>80,00%</td>\n      <td>55,29%</td>\n    </tr>\n    <tr>\n      <th>21-03-07</th>\n      <td>50,00%</td>\n      <td>58,93%</td>\n      <td>62,26%</td>\n      <td>0,00%</td>\n      <td>#DIV/0!</td>\n      <td>0,00%</td>\n      <td>0,00%</td>\n      <td>42,86%</td>\n      <td>49,33%</td>\n    </tr>\n    <tr>\n      <th>21-03-09</th>\n      <td>45,21%</td>\n      <td>56,14%</td>\n      <td>58,49%</td>\n      <td>25,00%</td>\n      <td>0,00%</td>\n      <td>0,00%</td>\n      <td>0,00%</td>\n      <td>60,00%</td>\n      <td>46,15%</td>\n    </tr>\n    <tr>\n      <th>21-03-11</th>\n      <td>49,30%</td>\n      <td>50,72%</td>\n      <td>58,33%</td>\n      <td>0,00%</td>\n      <td>0,00%</td>\n      <td>0,00%</td>\n      <td>0,00%</td>\n      <td>60,00%</td>\n      <td>50,00%</td>\n    </tr>\n    <tr>\n      <th>21-03-13</th>\n      <td>45,71%</td>\n      <td>47,06%</td>\n      <td>54,24%</td>\n      <td>0,00%</td>\n      <td>0,00%</td>\n      <td>0,00%</td>\n      <td>0,00%</td>\n      <td>60,00%</td>\n      <td>46,67%</td>\n    </tr>\n    <tr>\n      <th>21-03-15</th>\n      <td>33,80%</td>\n      <td>34,78%</td>\n      <td>40,00%</td>\n      <td>0,00%</td>\n      <td>0,00%</td>\n      <td>0,00%</td>\n      <td>0,00%</td>\n      <td>40,00%</td>\n      <td>34,21%</td>\n    </tr>\n    <tr>\n      <th>21-03-17</th>\n      <td>39,29%</td>\n      <td>40,74%</td>\n      <td>43,14%</td>\n      <td>0,00%</td>\n      <td>0,00%</td>\n      <td>0,00%</td>\n      <td>0,00%</td>\n      <td>60,00%</td>\n      <td>40,98%</td>\n    </tr>\n    <tr>\n      <th>21-03-19</th>\n      <td>34,00%</td>\n      <td>35,42%</td>\n      <td>37,78%</td>\n      <td>0,00%</td>\n      <td>0,00%</td>\n      <td>0,00%</td>\n      <td>0,00%</td>\n      <td>40,00%</td>\n      <td>34,55%</td>\n    </tr>\n    <tr>\n      <th>21-03-21</th>\n      <td>43,18%</td>\n      <td>45,24%</td>\n      <td>48,72%</td>\n      <td>0,00%</td>\n      <td>0,00%</td>\n      <td>0,00%</td>\n      <td>0,00%</td>\n      <td>28,57%</td>\n      <td>41,18%</td>\n    </tr>\n    <tr>\n      <th>21-03-23</th>\n      <td>41,30%</td>\n      <td>43,18%</td>\n      <td>47,50%</td>\n      <td>0,00%</td>\n      <td>0,00%</td>\n      <td>0,00%</td>\n      <td>0,00%</td>\n      <td>40,00%</td>\n      <td>41,18%</td>\n    </tr>\n    <tr>\n      <th>21-03-24</th>\n      <td>19,61%</td>\n      <td>20,41%</td>\n      <td>21,95%</td>\n      <td>0,00%</td>\n      <td>20,00%</td>\n      <td>0,00%</td>\n      <td>0,00%</td>\n      <td>40,00%</td>\n      <td>21,43%</td>\n    </tr>\n    <tr>\n      <th>21-03-26</th>\n      <td>34,62%</td>\n      <td>36,00%</td>\n      <td>41,46%</td>\n      <td>0,00%</td>\n      <td>16,67%</td>\n      <td>0,00%</td>\n      <td>0,00%</td>\n      <td>0,00%</td>\n      <td>31,58%</td>\n    </tr>\n    <tr>\n      <th>21-03-28</th>\n      <td>34,88%</td>\n      <td>36,59%</td>\n      <td>45,16%</td>\n      <td>0,00%</td>\n      <td>16,67%</td>\n      <td>0,00%</td>\n      <td>0,00%</td>\n      <td>0,00%</td>\n      <td>30,00%</td>\n    </tr>\n    <tr>\n      <th>21-03-30</th>\n      <td>33,33%</td>\n      <td>35,29%</td>\n      <td>45,83%</td>\n      <td>0,00%</td>\n      <td>16,67%</td>\n      <td>0,00%</td>\n      <td>0,00%</td>\n      <td>0,00%</td>\n      <td>25,53%</td>\n    </tr>\n    <tr>\n      <th>21-04-01</th>\n      <td>29,41%</td>\n      <td>30,61%</td>\n      <td>35,90%</td>\n      <td>0,00%</td>\n      <td>16,67%</td>\n      <td>0,00%</td>\n      <td>0,00%</td>\n      <td>0,00%</td>\n      <td>24,19%</td>\n    </tr>\n    <tr>\n      <th>21-04-03</th>\n      <td>22,00%</td>\n      <td>22,92%</td>\n      <td>25,64%</td>\n      <td>0,00%</td>\n      <td>16,67%</td>\n      <td>0,00%</td>\n      <td>0,00%</td>\n      <td>18,18%</td>\n      <td>21,31%</td>\n    </tr>\n    <tr>\n      <th>21-04-05</th>\n      <td>26,19%</td>\n      <td>27,50%</td>\n      <td>35,48%</td>\n      <td>0,00%</td>\n      <td>0,00%</td>\n      <td>0,00%</td>\n      <td>0,00%</td>\n      <td>9,09%</td>\n      <td>22,64%</td>\n    </tr>\n    <tr>\n      <th>21-04-05</th>\n      <td>26,19%</td>\n      <td>27,50%</td>\n      <td>35,48%</td>\n      <td>0,00%</td>\n      <td>0,00%</td>\n      <td>0,00%</td>\n      <td>0,00%</td>\n      <td>9,09%</td>\n      <td>22,64%</td>\n    </tr>\n    <tr>\n      <th>21-04-07</th>\n      <td>34,00%</td>\n      <td>35,42%</td>\n      <td>38,46%</td>\n      <td>33,33%</td>\n      <td>16,67%</td>\n      <td>0,00%</td>\n      <td>0,00%</td>\n      <td>18,18%</td>\n      <td>31,15%</td>\n    </tr>\n    <tr>\n      <th>21-04-09</th>\n      <td>26,67%</td>\n      <td>27,91%</td>\n      <td>32,35%</td>\n      <td>0,00%</td>\n      <td>16,67%</td>\n      <td>0,00%</td>\n      <td>0,00%</td>\n      <td>0,00%</td>\n      <td>21,43%</td>\n    </tr>\n    <tr>\n      <th>21-04-11</th>\n      <td>31,11%</td>\n      <td>32,56%</td>\n      <td>38,24%</td>\n      <td>0,00%</td>\n      <td>16,67%</td>\n      <td>0,00%</td>\n      <td>0,00%</td>\n      <td>7,69%</td>\n      <td>25,86%</td>\n    </tr>\n  </tbody>\n</table>\n</div>"
     },
     "metadata": {},
     "execution_count": 7
    }
   ],
   "source": [
    "df"
   ]
  },
  {
   "cell_type": "code",
   "execution_count": 110,
   "metadata": {},
   "outputs": [
    {
     "output_type": "error",
     "ename": "ValueError",
     "evalue": "substring not found",
     "traceback": [
      "\u001b[1;31m---------------------------------------------------------------------------\u001b[0m",
      "\u001b[1;31mValueError\u001b[0m                                Traceback (most recent call last)",
      "\u001b[1;32m<ipython-input-110-96b2f4c2b2d4>\u001b[0m in \u001b[0;36m<module>\u001b[1;34m\u001b[0m\n\u001b[0;32m      2\u001b[0m     \u001b[1;32mfor\u001b[0m \u001b[0mi\u001b[0m \u001b[1;32min\u001b[0m \u001b[0mrange\u001b[0m\u001b[1;33m(\u001b[0m\u001b[0mlen\u001b[0m\u001b[1;33m(\u001b[0m\u001b[0mdf\u001b[0m\u001b[1;33m[\u001b[0m\u001b[0mcol\u001b[0m\u001b[1;33m]\u001b[0m\u001b[1;33m)\u001b[0m\u001b[1;33m)\u001b[0m\u001b[1;33m:\u001b[0m\u001b[1;33m\u001b[0m\u001b[0m\n\u001b[0;32m      3\u001b[0m         \u001b[1;32mif\u001b[0m \u001b[0misinstance\u001b[0m\u001b[1;33m(\u001b[0m\u001b[0mdf\u001b[0m\u001b[1;33m[\u001b[0m\u001b[0mcol\u001b[0m\u001b[1;33m]\u001b[0m\u001b[1;33m[\u001b[0m\u001b[0mi\u001b[0m\u001b[1;33m]\u001b[0m\u001b[1;33m,\u001b[0m \u001b[0mstr\u001b[0m\u001b[1;33m)\u001b[0m\u001b[1;33m:\u001b[0m\u001b[1;33m\u001b[0m\u001b[0m\n\u001b[1;32m----> 4\u001b[1;33m             \u001b[0mdf\u001b[0m\u001b[1;33m[\u001b[0m\u001b[0mcol\u001b[0m\u001b[1;33m]\u001b[0m\u001b[1;33m[\u001b[0m\u001b[0mi\u001b[0m\u001b[1;33m]\u001b[0m \u001b[1;33m=\u001b[0m \u001b[0mround\u001b[0m\u001b[1;33m(\u001b[0m\u001b[0mfloat\u001b[0m\u001b[1;33m(\u001b[0m\u001b[0mdf\u001b[0m\u001b[1;33m[\u001b[0m\u001b[0mcol\u001b[0m\u001b[1;33m]\u001b[0m\u001b[1;33m[\u001b[0m\u001b[0mi\u001b[0m\u001b[1;33m]\u001b[0m\u001b[1;33m[\u001b[0m\u001b[1;33m:\u001b[0m\u001b[0mdf\u001b[0m\u001b[1;33m[\u001b[0m\u001b[0mcol\u001b[0m\u001b[1;33m]\u001b[0m\u001b[1;33m[\u001b[0m\u001b[0mi\u001b[0m\u001b[1;33m]\u001b[0m\u001b[1;33m.\u001b[0m\u001b[0mindex\u001b[0m\u001b[1;33m(\u001b[0m\u001b[1;34m'%'\u001b[0m\u001b[1;33m)\u001b[0m\u001b[1;33m]\u001b[0m\u001b[1;33m.\u001b[0m\u001b[0mreplace\u001b[0m\u001b[1;33m(\u001b[0m\u001b[1;34m','\u001b[0m\u001b[1;33m,\u001b[0m \u001b[1;34m'.'\u001b[0m\u001b[1;33m)\u001b[0m\u001b[1;33m)\u001b[0m \u001b[1;33m/\u001b[0m\u001b[1;36m100\u001b[0m\u001b[1;33m,\u001b[0m \u001b[1;36m2\u001b[0m\u001b[1;33m)\u001b[0m\u001b[1;33m\u001b[0m\u001b[0m\n\u001b[0m",
      "\u001b[1;31mValueError\u001b[0m: substring not found"
     ]
    }
   ],
   "source": [
    "for col in df.columns:\n",
    "    for i in range(len(df[col])):\n",
    "        if isinstance(df[col][i], str):\n",
    "            df[col][i] = round(float(df[col][i][:df[col][i].index('%')].replace(',', '.')) /100, 2)"
   ]
  },
  {
   "cell_type": "code",
   "execution_count": 88,
   "metadata": {},
   "outputs": [],
   "source": [
    "#df.to_csv(PATH_CSVS + \"\\\\\" + file_name)"
   ]
  },
  {
   "cell_type": "code",
   "execution_count": null,
   "metadata": {},
   "outputs": [],
   "source": []
  }
 ]
}