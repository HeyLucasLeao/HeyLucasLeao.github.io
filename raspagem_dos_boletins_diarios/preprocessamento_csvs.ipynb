{
 "metadata": {
  "language_info": {
   "codemirror_mode": {
    "name": "ipython",
    "version": 3
   },
   "file_extension": ".py",
   "mimetype": "text/x-python",
   "name": "python",
   "nbconvert_exporter": "python",
   "pygments_lexer": "ipython3",
   "version": "3.7.0-final"
  },
  "orig_nbformat": 2,
  "kernelspec": {
   "name": "python370jvsc74a57bd054c85eb7dbd5a2167103f12628956715de332074f8028b8b97960d2088cc3691",
   "display_name": "Python 3.7.0 64-bit (conda)"
  }
 },
 "nbformat": 4,
 "nbformat_minor": 2,
 "cells": [
  {
   "source": [
    "### Apenas passa cada CSV, inicialmente em porcentagem, normalizado entre 1 e 0, com arredondamento de 2 casas"
   ],
   "cell_type": "markdown",
   "metadata": {}
  },
  {
   "cell_type": "code",
   "execution_count": 107,
   "metadata": {},
   "outputs": [],
   "source": [
    "import pandas as pd\n",
    "from os import listdir"
   ]
  },
  {
   "cell_type": "code",
   "execution_count": 108,
   "metadata": {},
   "outputs": [],
   "source": [
    "PATH_CSVS = r'C:\\Users\\heylu\\Documents\\github\\HeyLucasLeao.github.io\\raspagem_dos_boletins_diarios\\raw_csvs'"
   ]
  },
  {
   "cell_type": "code",
   "execution_count": 116,
   "metadata": {},
   "outputs": [],
   "source": [
    "for file_name in listdir(PATH_CSVS):\n",
    "    df = pd.read_csv(PATH_CSVS + \"\\\\\" + file_name, index_col='Data')\n",
    "    for col in df.columns:\n",
    "        for i in range(len(df[col])):\n",
    "            if isinstance(df[col][i], str):\n",
    "                df[col][i] = df[col][i][:-1]\n",
    "                df[col][i] = df[col][i].replace(',', '.')\n",
    "                df[col][i] = float(df[col][i])\n",
    "                df[col][i] = round(df[col][i] / 100, 2)\n",
    "                df[col][i] = \"{:.2f}\".format(df[col][i])\n",
    "    df.to_csv(r'C:\\Users\\heylu\\Documents\\github\\HeyLucasLeao.github.io\\raspagem_dos_boletins_diarios\\csvs_normalizados' + \"\\\\\"+ file_name)"
   ]
  }
 ]
}