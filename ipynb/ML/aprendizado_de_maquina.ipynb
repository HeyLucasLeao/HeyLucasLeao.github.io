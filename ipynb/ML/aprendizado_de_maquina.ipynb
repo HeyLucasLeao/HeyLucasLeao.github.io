{
 "cells": [
  {
   "cell_type": "markdown",
   "metadata": {},
   "source": [
    "# Aprendizado de Máquina"
   ]
  },
  {
   "cell_type": "markdown",
   "metadata": {},
   "source": [
    "### Teste paramétricos para elaboração de Stacking de modelo de Gradient Boosting com Rede Neural. Ainda em fases de teste"
   ]
  },
  {
   "cell_type": "code",
   "execution_count": 1,
   "metadata": {
    "execution": {
     "iopub.execute_input": "2021-01-06T10:23:24.380140Z",
     "iopub.status.busy": "2021-01-06T10:23:24.379116Z",
     "iopub.status.idle": "2021-01-06T10:23:36.317396Z",
     "shell.execute_reply": "2021-01-06T10:23:36.316399Z"
    }
   },
   "outputs": [],
   "source": [
    "import plotly.express as px\n",
    "import pandas as pd\n",
    "import numpy as np\n",
    "import requests\n",
    "import gzip"
   ]
  },
  {
   "cell_type": "code",
   "execution_count": 2,
   "metadata": {},
   "outputs": [],
   "source": [
    "from statsmodels.tsa.filters.hp_filter import hpfilter\n",
    "from yaml import safe_load\n",
    "import torch"
   ]
  },
  {
   "cell_type": "code",
   "execution_count": 3,
   "metadata": {},
   "outputs": [],
   "source": [
    "import pytorch_lightning as pl\n",
    "from pytorch_lightning.callbacks import EarlyStopping"
   ]
  },
  {
   "cell_type": "code",
   "execution_count": 127,
   "metadata": {},
   "outputs": [],
   "source": [
    "from pytorch_forecasting import Baseline, TemporalFusionTransformer, TimeSeriesDataSet\n",
    "from sklearn.preprocessing import MinMaxScaler\n",
    "from pytorch_forecasting.metrics import QuantileLoss\n",
    "from sktime.performance_metrics.forecasting import smape_loss\n",
    "from sklearn.neighbors import KNeighborsRegressor\n",
    "from lightgbm import LGBMRegressor\n",
    "from mlxtend.regressor import StackingRegressor"
   ]
  },
  {
   "cell_type": "code",
   "execution_count": 5,
   "metadata": {},
   "outputs": [],
   "source": [
    "SEED = 4"
   ]
  },
  {
   "cell_type": "code",
   "execution_count": 6,
   "metadata": {
    "execution": {
     "iopub.execute_input": "2021-01-06T10:23:48.381745Z",
     "iopub.status.busy": "2021-01-06T10:23:48.380746Z",
     "iopub.status.idle": "2021-01-06T10:23:56.739574Z",
     "shell.execute_reply": "2021-01-06T10:23:56.739574Z"
    }
   },
   "outputs": [],
   "source": [
    "url = 'https://github.com/wcota/covid19br/blob/master/cases-brazil-cities-time.csv.gz?raw=true'\n",
    "r = requests.get(url, allow_redirects=True)\n",
    "open('data.csv.gz','wb').write(r.content)\n",
    "gz = gzip.open('data.csv.gz')\n",
    "df = pd.read_csv(gz)"
   ]
  },
  {
   "cell_type": "code",
   "execution_count": 7,
   "metadata": {},
   "outputs": [
    {
     "output_type": "stream",
     "name": "stdout",
     "text": [
      "cuda\n"
     ]
    }
   ],
   "source": [
    "if torch.cuda.is_available():\n",
    "    device = torch.device('cuda')\n",
    "else:\n",
    "    device = torch.device('cpu')\n",
    "print(device)"
   ]
  },
  {
   "cell_type": "code",
   "execution_count": 8,
   "metadata": {},
   "outputs": [],
   "source": [
    "with open('config.yml') as f:\n",
    "    config = safe_load(f)"
   ]
  },
  {
   "cell_type": "markdown",
   "metadata": {},
   "source": [
    "## Validação de Modelos"
   ]
  },
  {
   "cell_type": "code",
   "execution_count": 9,
   "metadata": {},
   "outputs": [],
   "source": [
    "def to_zero(x):\n",
    "    if x < 0:\n",
    "        return 0\n",
    "    return x"
   ]
  },
  {
   "cell_type": "code",
   "execution_count": 10,
   "metadata": {
    "execution": {
     "iopub.execute_input": "2021-01-06T10:23:56.742565Z",
     "iopub.status.busy": "2021-01-06T10:23:56.742565Z",
     "iopub.status.idle": "2021-01-06T10:23:57.094021Z",
     "shell.execute_reply": "2021-01-06T10:23:57.092994Z"
    }
   },
   "outputs": [],
   "source": [
    "data = df.query(\"state == 'AM'\").groupby('date').sum()\n",
    "data.index = pd.to_datetime(data.index)\n",
    "data.index.freq = 'D'\n",
    "data.drop(columns=['epi_week', 'ibgeID', 'cod_RegiaoDeSaude', 'deaths', 'totalCases'], inplace=True)\n",
    "data = data.iloc[:,:2]"
   ]
  },
  {
   "cell_type": "code",
   "execution_count": 11,
   "metadata": {},
   "outputs": [],
   "source": [
    "data['newDeaths'] = data['newDeaths'].apply(to_zero)\n",
    "data['newCases'] = data['newCases'].apply(to_zero)"
   ]
  },
  {
   "cell_type": "code",
   "execution_count": 12,
   "metadata": {},
   "outputs": [],
   "source": [
    "for col in data.columns:\n",
    "    data['log' + \"_\" + col] = np.log(data[col] + 1)"
   ]
  },
  {
   "cell_type": "code",
   "execution_count": 13,
   "metadata": {},
   "outputs": [],
   "source": [
    "for col in data.columns[:2]:\n",
    "    cycle, trend = hpfilter(data[col])\n",
    "    data[col + '_' + 'cycle'] = cycle.round()\n",
    "    data[col + '_' + 'trend'] = trend.round()"
   ]
  },
  {
   "cell_type": "code",
   "execution_count": 14,
   "metadata": {},
   "outputs": [
    {
     "output_type": "stream",
     "name": "stderr",
     "text": [
      "<ipython-input-14-361b6790fdb9>:7: SettingWithCopyWarning: \nA value is trying to be set on a copy of a slice from a DataFrame.\nTry using .loc[row_indexer,col_indexer] = value instead\n\nSee the caveats in the documentation: https://pandas.pydata.org/pandas-docs/stable/user_guide/indexing.html#returning-a-view-versus-a-copy\n  data_from_newCases['MA_7'] = data_from_newCases['newCases'].rolling(7).mean()\n"
     ]
    }
   ],
   "source": [
    "data['newDeaths_trend'] = data['newDeaths_trend'].apply(to_zero)\n",
    "data['newCases_trend'] = data['newCases_trend'].apply(to_zero)\n",
    "data['dia_da_semana'] = data.index.day_name()\n",
    "data.reset_index(inplace=True)\n",
    "data['date'] = pd.to_datetime(data['date'])\n",
    "data_from_newCases = data[['date', 'newCases', 'log_newCases', 'newCases_trend','newCases_cycle', 'dia_da_semana']]\n",
    "data_from_newCases['MA_7'] = data_from_newCases['newCases'].rolling(7).mean()\n",
    "data_from_newCases = data_from_newCases.fillna(0)"
   ]
  },
  {
   "cell_type": "code",
   "execution_count": 15,
   "metadata": {},
   "outputs": [],
   "source": [
    "data_from_newCases['group_ids'] = 1"
   ]
  },
  {
   "cell_type": "code",
   "execution_count": 16,
   "metadata": {},
   "outputs": [],
   "source": [
    "scaler = MinMaxScaler([0,10])"
   ]
  },
  {
   "cell_type": "code",
   "execution_count": 17,
   "metadata": {},
   "outputs": [],
   "source": [
    "data_from_newCases['newCases_cycle'] = scaler.fit_transform(data_from_newCases[['newCases_cycle']])\n",
    "data_from_newCases['MA_7'] = scaler.fit_transform(data_from_newCases[['MA_7']])"
   ]
  },
  {
   "cell_type": "code",
   "execution_count": 18,
   "metadata": {},
   "outputs": [],
   "source": [
    "data_from_newCases[\"time_idx\"] = range(len(data_from_newCases['date'])) #time_idx\n",
    "training_cutoff = data_from_newCases[\"time_idx\"].max() - config['max_prediction_length']['value']"
   ]
  },
  {
   "cell_type": "code",
   "execution_count": 19,
   "metadata": {},
   "outputs": [],
   "source": [
    "def customLegend(fig, nameSwap):\n",
    "    for i, dat in enumerate(fig.data):\n",
    "        for elem in dat:\n",
    "            if elem == 'name':\n",
    "                fig.data[i].name = nameSwap[fig.data[i].name]\n",
    "    return(fig)"
   ]
  },
  {
   "cell_type": "code",
   "execution_count": 20,
   "metadata": {},
   "outputs": [],
   "source": [
    "def special_days(x):\n",
    "    if x == 'Monday' or x == 'Sunday':\n",
    "        return '1'\n",
    "    return '0'"
   ]
  },
  {
   "cell_type": "code",
   "execution_count": 21,
   "metadata": {},
   "outputs": [],
   "source": [
    "data_from_newCases['dia_da_semana'] = data_from_newCases['dia_da_semana'].apply(special_days)\n",
    "data_from_newCases.rename(columns={'dia_da_semana': 'is_special_day'}, inplace=True)"
   ]
  },
  {
   "cell_type": "code",
   "execution_count": 22,
   "metadata": {},
   "outputs": [],
   "source": [
    "training = TimeSeriesDataSet(\n",
    "    data_from_newCases[lambda x: x.time_idx <= training_cutoff],\n",
    "    time_idx=\"time_idx\",\n",
    "    target=config['target']['value'],\n",
    "    group_ids=['group_ids'],\n",
    "    min_encoder_length= config['max_encoder_length']['value'] // 2,\n",
    "    max_encoder_length= config['max_encoder_length']['value'],\n",
    "    time_varying_known_categoricals=['is_special_day'],\n",
    "    max_prediction_length=config['max_prediction_length']['value'],\n",
    "    min_prediction_length=1,\n",
    "    time_varying_unknown_reals=config['time_varying_unknown_reals']['value'],\n",
    "    add_relative_time_idx=True,\n",
    "    add_target_scales=True,\n",
    "    add_encoder_length=True,\n",
    "    )"
   ]
  },
  {
   "cell_type": "code",
   "execution_count": 23,
   "metadata": {},
   "outputs": [],
   "source": [
    "validation = TimeSeriesDataSet.from_dataset(training, data_from_newCases, predict=True, stop_randomization=True)\n",
    "batch_size = 128  # set this between 32 to 128\n",
    "train_dataloader = training.to_dataloader(train=True, batch_size=batch_size, num_workers = 0)\n",
    "val_dataloader = validation.to_dataloader(train=False, batch_size=batch_size * 10, num_workers = 0)"
   ]
  },
  {
   "cell_type": "code",
   "execution_count": 24,
   "metadata": {},
   "outputs": [
    {
     "output_type": "execute_result",
     "data": {
      "text/plain": [
       "81.35713958740234"
      ]
     },
     "metadata": {},
     "execution_count": 24
    }
   ],
   "source": [
    "actuals = list(val_dataloader)[0][0]['encoder_target'][0][-14:]\n",
    "baseline_predictions = Baseline().predict(val_dataloader)\n",
    "(actuals - baseline_predictions).abs().mean().item()"
   ]
  },
  {
   "cell_type": "code",
   "execution_count": 25,
   "metadata": {},
   "outputs": [
    {
     "output_type": "stream",
     "name": "stderr",
     "text": [
      "Global seed set to 42\n",
      "GPU available: True, used: True\n",
      "TPU available: False, using: 0 TPU cores\n",
      "Number of parameters in network: 8.8k\n"
     ]
    }
   ],
   "source": [
    "pl.seed_everything(42)\n",
    "early_stop_callback = EarlyStopping(monitor=\"val_loss\", min_delta=1e-4, patience=10,      verbose=False, mode=\"min\")\n",
    "\n",
    "trainer = pl.Trainer(\n",
    "    gpus= 1,\n",
    "    # clipping gradients is a hyperparameter and important to prevent divergance\n",
    "    # of the gradient for recurrent neural networks\n",
    "    gradient_clip_val=config['gradient_clip_val']['value'],\n",
    "    callbacks=[early_stop_callback]\n",
    ")\n",
    "\n",
    "\n",
    "tft = TemporalFusionTransformer.from_dataset(\n",
    "    training,\n",
    "    # not meaningful for finding the learning rate but otherwise very important\n",
    "    learning_rate=config['learning_rate']['value'],\n",
    "    hidden_size=config['hidden_size']['value'],  # most important hyperparameter apart from learning rate\n",
    "    # number of attention heads. Set to up to 4 for large datasets\n",
    "    attention_head_size=config['attention_head_size']['value'],\n",
    "    dropout=config['dropout']['value'],  # between 0.1 and 0.3 are good values\n",
    "    hidden_continuous_size=config['hidden_continuous_size']['value'],  # set to <= hidden_size\n",
    "    output_size= config['output_size']['value'],  # 7 quantiles by default\n",
    "    loss=QuantileLoss(),\n",
    "    # reduce learning rate if no improvement in validation loss after x epochs\n",
    "    reduce_on_plateau_patience=config['reduce_on_plateau_patience']['value'],\n",
    ")\n",
    "print(f\"Number of parameters in network: {tft.size()/1e3:.1f}k\")"
   ]
  },
  {
   "cell_type": "code",
   "execution_count": 26,
   "metadata": {
    "tags": []
   },
   "outputs": [
    {
     "output_type": "stream",
     "name": "stderr",
     "text": [
      "LOCAL_RANK: 0 - CUDA_VISIBLE_DEVICES: [0]\n",
      "\n",
      "   | Name                               | Type                            | Params\n",
      "----------------------------------------------------------------------------------------\n",
      "0  | loss                               | QuantileLoss                    | 0     \n",
      "1  | logging_metrics                    | ModuleList                      | 0     \n",
      "2  | input_embeddings                   | MultiEmbedding                  | 2     \n",
      "3  | prescalers                         | ModuleDict                      | 128   \n",
      "4  | static_variable_selection          | VariableSelectionNetwork        | 1.2 K \n",
      "5  | encoder_variable_selection         | VariableSelectionNetwork        | 2.3 K \n",
      "6  | decoder_variable_selection         | VariableSelectionNetwork        | 460   \n",
      "7  | static_context_variable_selection  | GatedResidualNetwork            | 378   \n",
      "8  | static_context_initial_hidden_lstm | GatedResidualNetwork            | 378   \n",
      "9  | static_context_initial_cell_lstm   | GatedResidualNetwork            | 378   \n",
      "10 | static_context_enrichment          | GatedResidualNetwork            | 378   \n",
      "11 | lstm_encoder                       | LSTM                            | 720   \n",
      "12 | lstm_decoder                       | LSTM                            | 720   \n",
      "13 | post_lstm_gate_encoder             | GatedLinearUnit                 | 180   \n",
      "14 | post_lstm_add_norm_encoder         | AddNorm                         | 18    \n",
      "15 | static_enrichment                  | GatedResidualNetwork            | 459   \n",
      "16 | multihead_attn                     | InterpretableMultiHeadAttention | 237   \n",
      "17 | post_attn_gate_norm                | GateAddNorm                     | 198   \n",
      "18 | pos_wise_ff                        | GatedResidualNetwork            | 378   \n",
      "19 | pre_output_gate_norm               | GateAddNorm                     | 198   \n",
      "20 | output_layer                       | Linear                          | 140   \n",
      "----------------------------------------------------------------------------------------\n",
      "8.8 K     Trainable params\n",
      "0         Non-trainable params\n",
      "8.8 K     Total params\n",
      "0.035     Total estimated model params size (MB)\n",
      "Epoch 0:  75%|███████▌  | 3/4 [00:01<00:00,  2.63it/s, loss=186, v_num=30, val_loss=309.0, train_loss_step=177.0]\n",
      "Validating: 0it [00:00, ?it/s]\u001b[A\n",
      "Epoch 0: 100%|██████████| 4/4 [00:01<00:00,  3.38it/s, loss=186, v_num=30, val_loss=128.0, train_loss_step=163.0, train_loss_epoch=186.0]\n",
      "Epoch 1:  75%|███████▌  | 3/4 [00:01<00:00,  2.64it/s, loss=169, v_num=30, val_loss=128.0, train_loss_step=171.0, train_loss_epoch=186.0]\n",
      "Validating: 0it [00:00, ?it/s]\u001b[A\n",
      "Epoch 1: 100%|██████████| 4/4 [00:01<00:00,  3.38it/s, loss=169, v_num=30, val_loss=134.0, train_loss_step=134.0, train_loss_epoch=152.0]\n",
      "Epoch 2:  75%|███████▌  | 3/4 [00:01<00:00,  2.76it/s, loss=161, v_num=30, val_loss=134.0, train_loss_step=152.0, train_loss_epoch=152.0]\n",
      "Validating: 0it [00:00, ?it/s]\u001b[A\n",
      "Epoch 2: 100%|██████████| 4/4 [00:01<00:00,  3.54it/s, loss=161, v_num=30, val_loss=111.0, train_loss_step=147.0, train_loss_epoch=147.0]\n",
      "Epoch 3:  75%|███████▌  | 3/4 [00:01<00:00,  2.71it/s, loss=155, v_num=30, val_loss=111.0, train_loss_step=132.0, train_loss_epoch=147.0]\n",
      "Validating: 0it [00:00, ?it/s]\u001b[A\n",
      "Epoch 3: 100%|██████████| 4/4 [00:01<00:00,  3.47it/s, loss=155, v_num=30, val_loss=99.30, train_loss_step=135.0, train_loss_epoch=137.0]\n",
      "Epoch 4:  75%|███████▌  | 3/4 [00:01<00:00,  2.78it/s, loss=150, v_num=30, val_loss=99.30, train_loss_step=128.0, train_loss_epoch=137.0]\n",
      "Validating: 0it [00:00, ?it/s]\u001b[A\n",
      "Epoch 4: 100%|██████████| 4/4 [00:01<00:00,  3.55it/s, loss=150, v_num=30, val_loss=86.20, train_loss_step=114.0, train_loss_epoch=131.0]\n",
      "Epoch 5:  75%|███████▌  | 3/4 [00:01<00:00,  2.74it/s, loss=147, v_num=30, val_loss=86.20, train_loss_step=148.0, train_loss_epoch=131.0]\n",
      "Validating: 0it [00:00, ?it/s]\u001b[A\n",
      "Epoch 5: 100%|██████████| 4/4 [00:01<00:00,  3.50it/s, loss=147, v_num=30, val_loss=93.20, train_loss_step=117.0, train_loss_epoch=128.0]\n",
      "Epoch 6:  75%|███████▌  | 3/4 [00:01<00:00,  2.79it/s, loss=140, v_num=30, val_loss=93.20, train_loss_step=127.0, train_loss_epoch=128.0]\n",
      "Validating: 0it [00:00, ?it/s]\u001b[A\n",
      "Epoch 6: 100%|██████████| 4/4 [00:01<00:00,  3.57it/s, loss=140, v_num=30, val_loss=88.70, train_loss_step=133.0, train_loss_epoch=128.0]\n",
      "Epoch 7:  75%|███████▌  | 3/4 [00:01<00:00,  2.80it/s, loss=135, v_num=30, val_loss=88.70, train_loss_step=123.0, train_loss_epoch=128.0]\n",
      "Validating: 0it [00:00, ?it/s]\u001b[A\n",
      "Epoch 7: 100%|██████████| 4/4 [00:01<00:00,  3.60it/s, loss=135, v_num=30, val_loss=86.70, train_loss_step=131.0, train_loss_epoch=125.0]\n",
      "Epoch 8:  75%|███████▌  | 3/4 [00:01<00:00,  2.85it/s, loss=131, v_num=30, val_loss=86.70, train_loss_step=105.0, train_loss_epoch=125.0]\n",
      "Validating: 0it [00:00, ?it/s]\u001b[A\n",
      "Epoch 8: 100%|██████████| 4/4 [00:01<00:00,  3.64it/s, loss=131, v_num=30, val_loss=86.10, train_loss_step=150.0, train_loss_epoch=124.0]\n",
      "Epoch 9:  75%|███████▌  | 3/4 [00:01<00:00,  2.80it/s, loss=126, v_num=30, val_loss=86.10, train_loss_step=148.0, train_loss_epoch=124.0]\n",
      "Validating: 0it [00:00, ?it/s]\u001b[A\n",
      "Epoch 9: 100%|██████████| 4/4 [00:01<00:00,  3.59it/s, loss=126, v_num=30, val_loss=86.10, train_loss_step=105.0, train_loss_epoch=117.0]\n",
      "Epoch 10:  75%|███████▌  | 3/4 [00:01<00:00,  2.84it/s, loss=123, v_num=30, val_loss=86.10, train_loss_step=125.0, train_loss_epoch=117.0]\n",
      "Validating: 0it [00:00, ?it/s]\u001b[A\n",
      "Epoch 10: 100%|██████████| 4/4 [00:01<00:00,  3.61it/s, loss=123, v_num=30, val_loss=85.10, train_loss_step=116.0, train_loss_epoch=120.0]\n",
      "Epoch 11:  75%|███████▌  | 3/4 [00:01<00:00,  2.81it/s, loss=123, v_num=30, val_loss=85.10, train_loss_step=125.0, train_loss_epoch=120.0]\n",
      "Validating: 0it [00:00, ?it/s]\u001b[A\n",
      "Epoch 11: 100%|██████████| 4/4 [00:01<00:00,  3.60it/s, loss=123, v_num=30, val_loss=84.30, train_loss_step=113.0, train_loss_epoch=118.0]\n",
      "Epoch 12:  75%|███████▌  | 3/4 [00:01<00:00,  2.74it/s, loss=122, v_num=30, val_loss=84.30, train_loss_step=121.0, train_loss_epoch=118.0]\n",
      "Validating: 0it [00:00, ?it/s]\u001b[A\n",
      "Epoch 12: 100%|██████████| 4/4 [00:01<00:00,  3.52it/s, loss=122, v_num=30, val_loss=86.00, train_loss_step=105.0, train_loss_epoch=118.0]\n",
      "Epoch 13:  75%|███████▌  | 3/4 [00:01<00:00,  2.63it/s, loss=120, v_num=30, val_loss=86.00, train_loss_step=125.0, train_loss_epoch=118.0]\n",
      "Validating: 0it [00:00, ?it/s]\u001b[A\n",
      "Epoch 13: 100%|██████████| 4/4 [00:01<00:00,  3.38it/s, loss=120, v_num=30, val_loss=88.10, train_loss_step=118.0, train_loss_epoch=119.0]\n",
      "Epoch 14:  75%|███████▌  | 3/4 [00:01<00:00,  2.78it/s, loss=119, v_num=30, val_loss=88.10, train_loss_step=133.0, train_loss_epoch=119.0]\n",
      "Validating: 0it [00:00, ?it/s]\u001b[A\n",
      "Epoch 14: 100%|██████████| 4/4 [00:01<00:00,  3.57it/s, loss=119, v_num=30, val_loss=93.50, train_loss_step=114.0, train_loss_epoch=116.0]\n",
      "Epoch 15:  75%|███████▌  | 3/4 [00:01<00:00,  2.80it/s, loss=119, v_num=30, val_loss=93.50, train_loss_step=104.0, train_loss_epoch=116.0]\n",
      "Validating: 0it [00:00, ?it/s]\u001b[A\n",
      "Epoch 15: 100%|██████████| 4/4 [00:01<00:00,  3.59it/s, loss=119, v_num=30, val_loss=88.50, train_loss_step=129.0, train_loss_epoch=117.0]\n",
      "Epoch 16: 100%|██████████| 4/4 [00:02<00:00,  1.40it/s, loss=118, v_num=30, val_loss=88.50, train_loss_step=122.0, train_loss_epoch=117.0]\n",
      "Validating: 0it [00:00, ?it/s]\u001b[A\n",
      "Epoch 16: 100%|██████████| 4/4 [00:02<00:00,  1.38it/s, loss=118, v_num=30, val_loss=102.0, train_loss_step=101.0, train_loss_epoch=116.0]\n",
      "Epoch 17:  75%|███████▌  | 3/4 [00:01<00:00,  2.83it/s, loss=117, v_num=30, val_loss=102.0, train_loss_step=108.0, train_loss_epoch=116.0]\n",
      "Validating: 0it [00:00, ?it/s]\u001b[A\n",
      "Epoch 17: 100%|██████████| 4/4 [00:01<00:00,  3.63it/s, loss=117, v_num=30, val_loss=95.10, train_loss_step=108.0, train_loss_epoch=114.0]\n",
      "Epoch 18:  75%|███████▌  | 3/4 [00:01<00:00,  2.84it/s, loss=115, v_num=30, val_loss=95.10, train_loss_step=115.0, train_loss_epoch=114.0]\n",
      "Validating: 0it [00:00, ?it/s]\u001b[A\n",
      "Epoch 18: 100%|██████████| 4/4 [00:01<00:00,  3.64it/s, loss=115, v_num=30, val_loss=95.60, train_loss_step=107.0, train_loss_epoch=110.0]\n",
      "Epoch 19:  75%|███████▌  | 3/4 [00:01<00:00,  2.83it/s, loss=116, v_num=30, val_loss=95.60, train_loss_step=111.0, train_loss_epoch=110.0]\n",
      "Validating: 0it [00:00, ?it/s]\u001b[A\n",
      "Epoch 19: 100%|██████████| 4/4 [00:01<00:00,  3.62it/s, loss=116, v_num=30, val_loss=95.90, train_loss_step=110.0, train_loss_epoch=116.0]\n",
      "Epoch 20:  75%|███████▌  | 3/4 [00:01<00:00,  2.79it/s, loss=116, v_num=30, val_loss=95.90, train_loss_step=119.0, train_loss_epoch=116.0]\n",
      "Validating: 0it [00:00, ?it/s]\u001b[A\n",
      "Epoch 20: 100%|██████████| 4/4 [00:01<00:00,  3.57it/s, loss=116, v_num=30, val_loss=97.80, train_loss_step=114.0, train_loss_epoch=115.0]\n",
      "Epoch 21:  75%|███████▌  | 3/4 [00:01<00:00,  2.83it/s, loss=114, v_num=30, val_loss=97.80, train_loss_step=111.0, train_loss_epoch=115.0]\n",
      "Validating: 0it [00:00, ?it/s]\u001b[A\n",
      "Epoch 21: 100%|██████████| 4/4 [00:01<00:00,  3.63it/s, loss=114, v_num=30, val_loss=97.70, train_loss_step=108.0, train_loss_epoch=115.0]\n",
      "Epoch 21: 100%|██████████| 4/4 [00:01<00:00,  3.60it/s, loss=114, v_num=30, val_loss=97.70, train_loss_step=108.0, train_loss_epoch=115.0]\n"
     ]
    },
    {
     "output_type": "execute_result",
     "data": {
      "text/plain": [
       "1"
      ]
     },
     "metadata": {},
     "execution_count": 26
    }
   ],
   "source": [
    "trainer.fit(\n",
    "    tft,\n",
    "    train_dataloader=train_dataloader,\n",
    "    val_dataloaders=val_dataloader,\n",
    ")"
   ]
  },
  {
   "cell_type": "code",
   "execution_count": 27,
   "metadata": {},
   "outputs": [],
   "source": [
    "best_model_path = trainer.checkpoint_callback.best_model_path"
   ]
  },
  {
   "cell_type": "code",
   "execution_count": 28,
   "metadata": {},
   "outputs": [],
   "source": [
    "best_tft = TemporalFusionTransformer.load_from_checkpoint(best_model_path)"
   ]
  },
  {
   "cell_type": "code",
   "execution_count": 29,
   "metadata": {},
   "outputs": [
    {
     "output_type": "execute_result",
     "data": {
      "text/plain": [
       "61.68909454345703"
      ]
     },
     "metadata": {},
     "execution_count": 29
    }
   ],
   "source": [
    "actuals = list(val_dataloader)[0][0]['encoder_target'][0][-14:]\n",
    "predictions = best_tft.predict(val_dataloader)\n",
    "(actuals - predictions).abs().mean().item()"
   ]
  },
  {
   "cell_type": "code",
   "execution_count": 30,
   "metadata": {},
   "outputs": [
    {
     "output_type": "display_data",
     "data": {
      "application/vnd.plotly.v1+json": {
       "config": {
        "plotlyServerURL": "https://plot.ly"
       },
       "data": [
        {
         "hovertemplate": "Variáveis=wide_variable_0<br>Índice=%{x}<br>Quantidade=%{y}<extra></extra>",
         "legendgroup": "wide_variable_0",
         "line": {
          "color": "#636efa",
          "dash": "solid",
          "shape": "spline"
         },
         "mode": "lines",
         "name": "NN",
         "orientation": "v",
         "showlegend": true,
         "type": "scatter",
         "x": [
          0,
          1,
          2,
          3,
          4,
          5,
          6,
          7,
          8,
          9,
          10,
          11,
          12,
          13
         ],
         "xaxis": "x",
         "y": [
          978,
          983,
          989,
          1001,
          994,
          988,
          993,
          997,
          998,
          1000,
          1010,
          1000,
          992,
          997
         ],
         "yaxis": "y"
        },
        {
         "hovertemplate": "Variáveis=wide_variable_1<br>Índice=%{x}<br>Quantidade=%{y}<extra></extra>",
         "legendgroup": "wide_variable_1",
         "line": {
          "color": "#EF553B",
          "dash": "solid",
          "shape": "spline"
         },
         "mode": "lines",
         "name": "H&W",
         "orientation": "v",
         "showlegend": true,
         "type": "scatter",
         "x": [
          0,
          1,
          2,
          3,
          4,
          5,
          6,
          7,
          8,
          9,
          10,
          11,
          12,
          13
         ],
         "xaxis": "x",
         "y": [
          997,
          991,
          983,
          976,
          967,
          959,
          949,
          938,
          926,
          913,
          899,
          885,
          871,
          855
         ],
         "yaxis": "y"
        },
        {
         "hovertemplate": "Variáveis=wide_variable_2<br>Índice=%{x}<br>Quantidade=%{y}<extra></extra>",
         "legendgroup": "wide_variable_2",
         "line": {
          "color": "#00cc96",
          "dash": "solid",
          "shape": "spline"
         },
         "mode": "lines",
         "name": "Número de Casos",
         "orientation": "v",
         "showlegend": true,
         "type": "scatter",
         "x": [
          0,
          1,
          2,
          3,
          4,
          5,
          6,
          7,
          8,
          9,
          10,
          11,
          12,
          13
         ],
         "xaxis": "x",
         "y": [
          960,
          1172,
          737,
          535,
          489,
          995,
          820,
          893,
          773,
          701,
          484,
          442,
          734,
          0
         ],
         "yaxis": "y"
        }
       ],
       "layout": {
        "legend": {
         "title": {
          "text": "Variáveis"
         },
         "tracegroupgap": 0
        },
        "margin": {
         "t": 60
        },
        "template": {
         "data": {
          "bar": [
           {
            "error_x": {
             "color": "#2a3f5f"
            },
            "error_y": {
             "color": "#2a3f5f"
            },
            "marker": {
             "line": {
              "color": "#E5ECF6",
              "width": 0.5
             }
            },
            "type": "bar"
           }
          ],
          "barpolar": [
           {
            "marker": {
             "line": {
              "color": "#E5ECF6",
              "width": 0.5
             }
            },
            "type": "barpolar"
           }
          ],
          "carpet": [
           {
            "aaxis": {
             "endlinecolor": "#2a3f5f",
             "gridcolor": "white",
             "linecolor": "white",
             "minorgridcolor": "white",
             "startlinecolor": "#2a3f5f"
            },
            "baxis": {
             "endlinecolor": "#2a3f5f",
             "gridcolor": "white",
             "linecolor": "white",
             "minorgridcolor": "white",
             "startlinecolor": "#2a3f5f"
            },
            "type": "carpet"
           }
          ],
          "choropleth": [
           {
            "colorbar": {
             "outlinewidth": 0,
             "ticks": ""
            },
            "type": "choropleth"
           }
          ],
          "contour": [
           {
            "colorbar": {
             "outlinewidth": 0,
             "ticks": ""
            },
            "colorscale": [
             [
              0,
              "#0d0887"
             ],
             [
              0.1111111111111111,
              "#46039f"
             ],
             [
              0.2222222222222222,
              "#7201a8"
             ],
             [
              0.3333333333333333,
              "#9c179e"
             ],
             [
              0.4444444444444444,
              "#bd3786"
             ],
             [
              0.5555555555555556,
              "#d8576b"
             ],
             [
              0.6666666666666666,
              "#ed7953"
             ],
             [
              0.7777777777777778,
              "#fb9f3a"
             ],
             [
              0.8888888888888888,
              "#fdca26"
             ],
             [
              1,
              "#f0f921"
             ]
            ],
            "type": "contour"
           }
          ],
          "contourcarpet": [
           {
            "colorbar": {
             "outlinewidth": 0,
             "ticks": ""
            },
            "type": "contourcarpet"
           }
          ],
          "heatmap": [
           {
            "colorbar": {
             "outlinewidth": 0,
             "ticks": ""
            },
            "colorscale": [
             [
              0,
              "#0d0887"
             ],
             [
              0.1111111111111111,
              "#46039f"
             ],
             [
              0.2222222222222222,
              "#7201a8"
             ],
             [
              0.3333333333333333,
              "#9c179e"
             ],
             [
              0.4444444444444444,
              "#bd3786"
             ],
             [
              0.5555555555555556,
              "#d8576b"
             ],
             [
              0.6666666666666666,
              "#ed7953"
             ],
             [
              0.7777777777777778,
              "#fb9f3a"
             ],
             [
              0.8888888888888888,
              "#fdca26"
             ],
             [
              1,
              "#f0f921"
             ]
            ],
            "type": "heatmap"
           }
          ],
          "heatmapgl": [
           {
            "colorbar": {
             "outlinewidth": 0,
             "ticks": ""
            },
            "colorscale": [
             [
              0,
              "#0d0887"
             ],
             [
              0.1111111111111111,
              "#46039f"
             ],
             [
              0.2222222222222222,
              "#7201a8"
             ],
             [
              0.3333333333333333,
              "#9c179e"
             ],
             [
              0.4444444444444444,
              "#bd3786"
             ],
             [
              0.5555555555555556,
              "#d8576b"
             ],
             [
              0.6666666666666666,
              "#ed7953"
             ],
             [
              0.7777777777777778,
              "#fb9f3a"
             ],
             [
              0.8888888888888888,
              "#fdca26"
             ],
             [
              1,
              "#f0f921"
             ]
            ],
            "type": "heatmapgl"
           }
          ],
          "histogram": [
           {
            "marker": {
             "colorbar": {
              "outlinewidth": 0,
              "ticks": ""
             }
            },
            "type": "histogram"
           }
          ],
          "histogram2d": [
           {
            "colorbar": {
             "outlinewidth": 0,
             "ticks": ""
            },
            "colorscale": [
             [
              0,
              "#0d0887"
             ],
             [
              0.1111111111111111,
              "#46039f"
             ],
             [
              0.2222222222222222,
              "#7201a8"
             ],
             [
              0.3333333333333333,
              "#9c179e"
             ],
             [
              0.4444444444444444,
              "#bd3786"
             ],
             [
              0.5555555555555556,
              "#d8576b"
             ],
             [
              0.6666666666666666,
              "#ed7953"
             ],
             [
              0.7777777777777778,
              "#fb9f3a"
             ],
             [
              0.8888888888888888,
              "#fdca26"
             ],
             [
              1,
              "#f0f921"
             ]
            ],
            "type": "histogram2d"
           }
          ],
          "histogram2dcontour": [
           {
            "colorbar": {
             "outlinewidth": 0,
             "ticks": ""
            },
            "colorscale": [
             [
              0,
              "#0d0887"
             ],
             [
              0.1111111111111111,
              "#46039f"
             ],
             [
              0.2222222222222222,
              "#7201a8"
             ],
             [
              0.3333333333333333,
              "#9c179e"
             ],
             [
              0.4444444444444444,
              "#bd3786"
             ],
             [
              0.5555555555555556,
              "#d8576b"
             ],
             [
              0.6666666666666666,
              "#ed7953"
             ],
             [
              0.7777777777777778,
              "#fb9f3a"
             ],
             [
              0.8888888888888888,
              "#fdca26"
             ],
             [
              1,
              "#f0f921"
             ]
            ],
            "type": "histogram2dcontour"
           }
          ],
          "mesh3d": [
           {
            "colorbar": {
             "outlinewidth": 0,
             "ticks": ""
            },
            "type": "mesh3d"
           }
          ],
          "parcoords": [
           {
            "line": {
             "colorbar": {
              "outlinewidth": 0,
              "ticks": ""
             }
            },
            "type": "parcoords"
           }
          ],
          "pie": [
           {
            "automargin": true,
            "type": "pie"
           }
          ],
          "scatter": [
           {
            "marker": {
             "colorbar": {
              "outlinewidth": 0,
              "ticks": ""
             }
            },
            "type": "scatter"
           }
          ],
          "scatter3d": [
           {
            "line": {
             "colorbar": {
              "outlinewidth": 0,
              "ticks": ""
             }
            },
            "marker": {
             "colorbar": {
              "outlinewidth": 0,
              "ticks": ""
             }
            },
            "type": "scatter3d"
           }
          ],
          "scattercarpet": [
           {
            "marker": {
             "colorbar": {
              "outlinewidth": 0,
              "ticks": ""
             }
            },
            "type": "scattercarpet"
           }
          ],
          "scattergeo": [
           {
            "marker": {
             "colorbar": {
              "outlinewidth": 0,
              "ticks": ""
             }
            },
            "type": "scattergeo"
           }
          ],
          "scattergl": [
           {
            "marker": {
             "colorbar": {
              "outlinewidth": 0,
              "ticks": ""
             }
            },
            "type": "scattergl"
           }
          ],
          "scattermapbox": [
           {
            "marker": {
             "colorbar": {
              "outlinewidth": 0,
              "ticks": ""
             }
            },
            "type": "scattermapbox"
           }
          ],
          "scatterpolar": [
           {
            "marker": {
             "colorbar": {
              "outlinewidth": 0,
              "ticks": ""
             }
            },
            "type": "scatterpolar"
           }
          ],
          "scatterpolargl": [
           {
            "marker": {
             "colorbar": {
              "outlinewidth": 0,
              "ticks": ""
             }
            },
            "type": "scatterpolargl"
           }
          ],
          "scatterternary": [
           {
            "marker": {
             "colorbar": {
              "outlinewidth": 0,
              "ticks": ""
             }
            },
            "type": "scatterternary"
           }
          ],
          "surface": [
           {
            "colorbar": {
             "outlinewidth": 0,
             "ticks": ""
            },
            "colorscale": [
             [
              0,
              "#0d0887"
             ],
             [
              0.1111111111111111,
              "#46039f"
             ],
             [
              0.2222222222222222,
              "#7201a8"
             ],
             [
              0.3333333333333333,
              "#9c179e"
             ],
             [
              0.4444444444444444,
              "#bd3786"
             ],
             [
              0.5555555555555556,
              "#d8576b"
             ],
             [
              0.6666666666666666,
              "#ed7953"
             ],
             [
              0.7777777777777778,
              "#fb9f3a"
             ],
             [
              0.8888888888888888,
              "#fdca26"
             ],
             [
              1,
              "#f0f921"
             ]
            ],
            "type": "surface"
           }
          ],
          "table": [
           {
            "cells": {
             "fill": {
              "color": "#EBF0F8"
             },
             "line": {
              "color": "white"
             }
            },
            "header": {
             "fill": {
              "color": "#C8D4E3"
             },
             "line": {
              "color": "white"
             }
            },
            "type": "table"
           }
          ]
         },
         "layout": {
          "annotationdefaults": {
           "arrowcolor": "#2a3f5f",
           "arrowhead": 0,
           "arrowwidth": 1
          },
          "autotypenumbers": "strict",
          "coloraxis": {
           "colorbar": {
            "outlinewidth": 0,
            "ticks": ""
           }
          },
          "colorscale": {
           "diverging": [
            [
             0,
             "#8e0152"
            ],
            [
             0.1,
             "#c51b7d"
            ],
            [
             0.2,
             "#de77ae"
            ],
            [
             0.3,
             "#f1b6da"
            ],
            [
             0.4,
             "#fde0ef"
            ],
            [
             0.5,
             "#f7f7f7"
            ],
            [
             0.6,
             "#e6f5d0"
            ],
            [
             0.7,
             "#b8e186"
            ],
            [
             0.8,
             "#7fbc41"
            ],
            [
             0.9,
             "#4d9221"
            ],
            [
             1,
             "#276419"
            ]
           ],
           "sequential": [
            [
             0,
             "#0d0887"
            ],
            [
             0.1111111111111111,
             "#46039f"
            ],
            [
             0.2222222222222222,
             "#7201a8"
            ],
            [
             0.3333333333333333,
             "#9c179e"
            ],
            [
             0.4444444444444444,
             "#bd3786"
            ],
            [
             0.5555555555555556,
             "#d8576b"
            ],
            [
             0.6666666666666666,
             "#ed7953"
            ],
            [
             0.7777777777777778,
             "#fb9f3a"
            ],
            [
             0.8888888888888888,
             "#fdca26"
            ],
            [
             1,
             "#f0f921"
            ]
           ],
           "sequentialminus": [
            [
             0,
             "#0d0887"
            ],
            [
             0.1111111111111111,
             "#46039f"
            ],
            [
             0.2222222222222222,
             "#7201a8"
            ],
            [
             0.3333333333333333,
             "#9c179e"
            ],
            [
             0.4444444444444444,
             "#bd3786"
            ],
            [
             0.5555555555555556,
             "#d8576b"
            ],
            [
             0.6666666666666666,
             "#ed7953"
            ],
            [
             0.7777777777777778,
             "#fb9f3a"
            ],
            [
             0.8888888888888888,
             "#fdca26"
            ],
            [
             1,
             "#f0f921"
            ]
           ]
          },
          "colorway": [
           "#636efa",
           "#EF553B",
           "#00cc96",
           "#ab63fa",
           "#FFA15A",
           "#19d3f3",
           "#FF6692",
           "#B6E880",
           "#FF97FF",
           "#FECB52"
          ],
          "font": {
           "color": "#2a3f5f"
          },
          "geo": {
           "bgcolor": "white",
           "lakecolor": "white",
           "landcolor": "#E5ECF6",
           "showlakes": true,
           "showland": true,
           "subunitcolor": "white"
          },
          "hoverlabel": {
           "align": "left"
          },
          "hovermode": "closest",
          "mapbox": {
           "style": "light"
          },
          "paper_bgcolor": "white",
          "plot_bgcolor": "#E5ECF6",
          "polar": {
           "angularaxis": {
            "gridcolor": "white",
            "linecolor": "white",
            "ticks": ""
           },
           "bgcolor": "#E5ECF6",
           "radialaxis": {
            "gridcolor": "white",
            "linecolor": "white",
            "ticks": ""
           }
          },
          "scene": {
           "xaxis": {
            "backgroundcolor": "#E5ECF6",
            "gridcolor": "white",
            "gridwidth": 2,
            "linecolor": "white",
            "showbackground": true,
            "ticks": "",
            "zerolinecolor": "white"
           },
           "yaxis": {
            "backgroundcolor": "#E5ECF6",
            "gridcolor": "white",
            "gridwidth": 2,
            "linecolor": "white",
            "showbackground": true,
            "ticks": "",
            "zerolinecolor": "white"
           },
           "zaxis": {
            "backgroundcolor": "#E5ECF6",
            "gridcolor": "white",
            "gridwidth": 2,
            "linecolor": "white",
            "showbackground": true,
            "ticks": "",
            "zerolinecolor": "white"
           }
          },
          "shapedefaults": {
           "line": {
            "color": "#2a3f5f"
           }
          },
          "ternary": {
           "aaxis": {
            "gridcolor": "white",
            "linecolor": "white",
            "ticks": ""
           },
           "baxis": {
            "gridcolor": "white",
            "linecolor": "white",
            "ticks": ""
           },
           "bgcolor": "#E5ECF6",
           "caxis": {
            "gridcolor": "white",
            "linecolor": "white",
            "ticks": ""
           }
          },
          "title": {
           "x": 0.05
          },
          "xaxis": {
           "automargin": true,
           "gridcolor": "white",
           "linecolor": "white",
           "ticks": "",
           "title": {
            "standoff": 15
           },
           "zerolinecolor": "white",
           "zerolinewidth": 2
          },
          "yaxis": {
           "automargin": true,
           "gridcolor": "white",
           "linecolor": "white",
           "ticks": "",
           "title": {
            "standoff": 15
           },
           "zerolinecolor": "white",
           "zerolinewidth": 2
          }
         }
        },
        "xaxis": {
         "anchor": "y",
         "domain": [
          0,
          1
         ],
         "title": {
          "text": "Índice"
         }
        },
        "yaxis": {
         "anchor": "x",
         "domain": [
          0,
          1
         ],
         "title": {
          "text": "Quantidade"
         }
        }
       }
      }
     },
     "metadata": {}
    }
   ],
   "source": [
    "fig = px.line(y=[predictions[0].round(), actuals, data_from_newCases['newCases'][-14:]], line_shape='spline', labels={'variable': 'Variáveis', 'index': 'Índice', 'value': 'Quantidade'})\n",
    "\n",
    "customLegend(fig=fig,nameSwap = {'wide_variable_0': 'NN', 'wide_variable_1': 'H&W', 'wide_variable_2': 'Número de Casos'})"
   ]
  },
  {
   "cell_type": "code",
   "execution_count": 31,
   "metadata": {},
   "outputs": [],
   "source": [
    "X_data = data_from_newCases.iloc[:,1:].drop(columns=['newCases_trend'])"
   ]
  },
  {
   "cell_type": "code",
   "execution_count": 32,
   "metadata": {},
   "outputs": [],
   "source": [
    "y_data = data_from_newCases['newCases_trend']"
   ]
  },
  {
   "cell_type": "code",
   "execution_count": 33,
   "metadata": {},
   "outputs": [],
   "source": [
    "X_train, X_test = X_data[:-14], X_data[-14:]\n",
    "y_train, y_test = y_data[:-14], y_data[-14:]"
   ]
  },
  {
   "cell_type": "code",
   "execution_count": 34,
   "metadata": {},
   "outputs": [
    {
     "output_type": "execute_result",
     "data": {
      "text/plain": [
       "0.3854660966028666"
      ]
     },
     "metadata": {},
     "execution_count": 34
    }
   ],
   "source": [
    "smape_loss(y_test, pd.Series(predictions[0], index=y_test.index))"
   ]
  },
  {
   "cell_type": "code",
   "execution_count": 35,
   "metadata": {},
   "outputs": [
    {
     "output_type": "stream",
     "name": "stderr",
     "text": [
      "<ipython-input-35-2c7b99353361>:1: SettingWithCopyWarning:\n\n\nA value is trying to be set on a copy of a slice from a DataFrame.\nTry using .loc[row_indexer,col_indexer] = value instead\n\nSee the caveats in the documentation: https://pandas.pydata.org/pandas-docs/stable/user_guide/indexing.html#returning-a-view-versus-a-copy\n\n<ipython-input-35-2c7b99353361>:2: SettingWithCopyWarning:\n\n\nA value is trying to be set on a copy of a slice from a DataFrame.\nTry using .loc[row_indexer,col_indexer] = value instead\n\nSee the caveats in the documentation: https://pandas.pydata.org/pandas-docs/stable/user_guide/indexing.html#returning-a-view-versus-a-copy\n\n"
     ]
    }
   ],
   "source": [
    "X_train['is_special_day'] = data_from_newCases['is_special_day'].apply(lambda x: int(x))\n",
    "X_test['is_special_day'] = data_from_newCases['is_special_day'].apply(lambda x: int(x))"
   ]
  },
  {
   "cell_type": "code",
   "execution_count": 172,
   "metadata": {},
   "outputs": [],
   "source": [
    "model_lgbm = LGBMRegressor(random_state=SEED,\n",
    "    colsample_bytree=0.1,\n",
    "    min_child_samples=74,\n",
    "    n_estimators=540, num_leaves=128,\n",
    "    subsample=0.990837022487766,\n",
    "    subsample_freq=1)"
   ]
  },
  {
   "cell_type": "code",
   "execution_count": 173,
   "metadata": {},
   "outputs": [
    {
     "output_type": "execute_result",
     "data": {
      "text/plain": [
       "LGBMRegressor(colsample_bytree=0.1, min_child_samples=74, n_estimators=540,\n",
       "              num_leaves=128, random_state=4, subsample=0.990837022487766,\n",
       "              subsample_freq=1)"
      ]
     },
     "metadata": {},
     "execution_count": 173
    }
   ],
   "source": [
    "model_lgbm.fit(X_train, y_train)"
   ]
  },
  {
   "cell_type": "code",
   "execution_count": 174,
   "metadata": {},
   "outputs": [],
   "source": [
    "y_pred_lgbm = pd.Series(model_lgbm.predict(X_test), index=y_test.index)"
   ]
  },
  {
   "cell_type": "code",
   "execution_count": 175,
   "metadata": {},
   "outputs": [],
   "source": [
    "def customLegend(fig, nameSwap):\n",
    "    for i, dat in enumerate(fig.data):\n",
    "        for elem in dat:\n",
    "            if elem == 'name':\n",
    "                fig.data[i].name = nameSwap[fig.data[i].name]\n",
    "    return(fig)\n",
    "\n",
    "#customLegend(fig=fig,nameSwap = {'0': 'Sim', '1': 'Não'})"
   ]
  },
  {
   "cell_type": "code",
   "execution_count": 176,
   "metadata": {},
   "outputs": [
    {
     "output_type": "display_data",
     "data": {
      "application/vnd.plotly.v1+json": {
       "config": {
        "plotlyServerURL": "https://plot.ly"
       },
       "data": [
        {
         "hovertemplate": "Variáveis=wide_variable_0<br>Índice=%{x}<br>Quantidade=%{y}<extra></extra>",
         "legendgroup": "wide_variable_0",
         "line": {
          "color": "#636efa",
          "dash": "solid",
          "shape": "spline"
         },
         "mode": "lines",
         "name": "Light GBM",
         "orientation": "v",
         "showlegend": true,
         "type": "scatter",
         "x": [
          0,
          1,
          2,
          3,
          4,
          5,
          6,
          7,
          8,
          9,
          10,
          11,
          12,
          13
         ],
         "xaxis": "x",
         "y": [
          823,
          871,
          762,
          784,
          731,
          785,
          700,
          662,
          668,
          612,
          585,
          578,
          545,
          669
         ],
         "yaxis": "y"
        },
        {
         "hovertemplate": "Variáveis=wide_variable_1<br>Índice=%{x}<br>Quantidade=%{y}<extra></extra>",
         "legendgroup": "wide_variable_1",
         "line": {
          "color": "#EF553B",
          "dash": "solid",
          "shape": "spline"
         },
         "mode": "lines",
         "name": "H&W",
         "orientation": "v",
         "showlegend": true,
         "type": "scatter",
         "x": [
          0,
          1,
          2,
          3,
          4,
          5,
          6,
          7,
          8,
          9,
          10,
          11,
          12,
          13
         ],
         "xaxis": "x",
         "y": [
          838,
          819,
          799,
          777,
          754,
          730,
          704,
          677,
          648,
          618,
          587,
          555,
          523,
          491
         ],
         "yaxis": "y"
        },
        {
         "hovertemplate": "Variáveis=wide_variable_2<br>Índice=%{x}<br>Quantidade=%{y}<extra></extra>",
         "legendgroup": "wide_variable_2",
         "line": {
          "color": "#00cc96",
          "dash": "solid",
          "shape": "spline"
         },
         "mode": "lines",
         "name": "Número de Casos",
         "orientation": "v",
         "showlegend": true,
         "type": "scatter",
         "x": [
          0,
          1,
          2,
          3,
          4,
          5,
          6,
          7,
          8,
          9,
          10,
          11,
          12,
          13
         ],
         "xaxis": "x",
         "y": [
          960,
          1172,
          737,
          535,
          489,
          995,
          820,
          893,
          773,
          701,
          484,
          442,
          734,
          0
         ],
         "yaxis": "y"
        }
       ],
       "layout": {
        "legend": {
         "title": {
          "text": "Variáveis"
         },
         "tracegroupgap": 0
        },
        "margin": {
         "t": 60
        },
        "template": {
         "data": {
          "bar": [
           {
            "error_x": {
             "color": "#2a3f5f"
            },
            "error_y": {
             "color": "#2a3f5f"
            },
            "marker": {
             "line": {
              "color": "#E5ECF6",
              "width": 0.5
             }
            },
            "type": "bar"
           }
          ],
          "barpolar": [
           {
            "marker": {
             "line": {
              "color": "#E5ECF6",
              "width": 0.5
             }
            },
            "type": "barpolar"
           }
          ],
          "carpet": [
           {
            "aaxis": {
             "endlinecolor": "#2a3f5f",
             "gridcolor": "white",
             "linecolor": "white",
             "minorgridcolor": "white",
             "startlinecolor": "#2a3f5f"
            },
            "baxis": {
             "endlinecolor": "#2a3f5f",
             "gridcolor": "white",
             "linecolor": "white",
             "minorgridcolor": "white",
             "startlinecolor": "#2a3f5f"
            },
            "type": "carpet"
           }
          ],
          "choropleth": [
           {
            "colorbar": {
             "outlinewidth": 0,
             "ticks": ""
            },
            "type": "choropleth"
           }
          ],
          "contour": [
           {
            "colorbar": {
             "outlinewidth": 0,
             "ticks": ""
            },
            "colorscale": [
             [
              0,
              "#0d0887"
             ],
             [
              0.1111111111111111,
              "#46039f"
             ],
             [
              0.2222222222222222,
              "#7201a8"
             ],
             [
              0.3333333333333333,
              "#9c179e"
             ],
             [
              0.4444444444444444,
              "#bd3786"
             ],
             [
              0.5555555555555556,
              "#d8576b"
             ],
             [
              0.6666666666666666,
              "#ed7953"
             ],
             [
              0.7777777777777778,
              "#fb9f3a"
             ],
             [
              0.8888888888888888,
              "#fdca26"
             ],
             [
              1,
              "#f0f921"
             ]
            ],
            "type": "contour"
           }
          ],
          "contourcarpet": [
           {
            "colorbar": {
             "outlinewidth": 0,
             "ticks": ""
            },
            "type": "contourcarpet"
           }
          ],
          "heatmap": [
           {
            "colorbar": {
             "outlinewidth": 0,
             "ticks": ""
            },
            "colorscale": [
             [
              0,
              "#0d0887"
             ],
             [
              0.1111111111111111,
              "#46039f"
             ],
             [
              0.2222222222222222,
              "#7201a8"
             ],
             [
              0.3333333333333333,
              "#9c179e"
             ],
             [
              0.4444444444444444,
              "#bd3786"
             ],
             [
              0.5555555555555556,
              "#d8576b"
             ],
             [
              0.6666666666666666,
              "#ed7953"
             ],
             [
              0.7777777777777778,
              "#fb9f3a"
             ],
             [
              0.8888888888888888,
              "#fdca26"
             ],
             [
              1,
              "#f0f921"
             ]
            ],
            "type": "heatmap"
           }
          ],
          "heatmapgl": [
           {
            "colorbar": {
             "outlinewidth": 0,
             "ticks": ""
            },
            "colorscale": [
             [
              0,
              "#0d0887"
             ],
             [
              0.1111111111111111,
              "#46039f"
             ],
             [
              0.2222222222222222,
              "#7201a8"
             ],
             [
              0.3333333333333333,
              "#9c179e"
             ],
             [
              0.4444444444444444,
              "#bd3786"
             ],
             [
              0.5555555555555556,
              "#d8576b"
             ],
             [
              0.6666666666666666,
              "#ed7953"
             ],
             [
              0.7777777777777778,
              "#fb9f3a"
             ],
             [
              0.8888888888888888,
              "#fdca26"
             ],
             [
              1,
              "#f0f921"
             ]
            ],
            "type": "heatmapgl"
           }
          ],
          "histogram": [
           {
            "marker": {
             "colorbar": {
              "outlinewidth": 0,
              "ticks": ""
             }
            },
            "type": "histogram"
           }
          ],
          "histogram2d": [
           {
            "colorbar": {
             "outlinewidth": 0,
             "ticks": ""
            },
            "colorscale": [
             [
              0,
              "#0d0887"
             ],
             [
              0.1111111111111111,
              "#46039f"
             ],
             [
              0.2222222222222222,
              "#7201a8"
             ],
             [
              0.3333333333333333,
              "#9c179e"
             ],
             [
              0.4444444444444444,
              "#bd3786"
             ],
             [
              0.5555555555555556,
              "#d8576b"
             ],
             [
              0.6666666666666666,
              "#ed7953"
             ],
             [
              0.7777777777777778,
              "#fb9f3a"
             ],
             [
              0.8888888888888888,
              "#fdca26"
             ],
             [
              1,
              "#f0f921"
             ]
            ],
            "type": "histogram2d"
           }
          ],
          "histogram2dcontour": [
           {
            "colorbar": {
             "outlinewidth": 0,
             "ticks": ""
            },
            "colorscale": [
             [
              0,
              "#0d0887"
             ],
             [
              0.1111111111111111,
              "#46039f"
             ],
             [
              0.2222222222222222,
              "#7201a8"
             ],
             [
              0.3333333333333333,
              "#9c179e"
             ],
             [
              0.4444444444444444,
              "#bd3786"
             ],
             [
              0.5555555555555556,
              "#d8576b"
             ],
             [
              0.6666666666666666,
              "#ed7953"
             ],
             [
              0.7777777777777778,
              "#fb9f3a"
             ],
             [
              0.8888888888888888,
              "#fdca26"
             ],
             [
              1,
              "#f0f921"
             ]
            ],
            "type": "histogram2dcontour"
           }
          ],
          "mesh3d": [
           {
            "colorbar": {
             "outlinewidth": 0,
             "ticks": ""
            },
            "type": "mesh3d"
           }
          ],
          "parcoords": [
           {
            "line": {
             "colorbar": {
              "outlinewidth": 0,
              "ticks": ""
             }
            },
            "type": "parcoords"
           }
          ],
          "pie": [
           {
            "automargin": true,
            "type": "pie"
           }
          ],
          "scatter": [
           {
            "marker": {
             "colorbar": {
              "outlinewidth": 0,
              "ticks": ""
             }
            },
            "type": "scatter"
           }
          ],
          "scatter3d": [
           {
            "line": {
             "colorbar": {
              "outlinewidth": 0,
              "ticks": ""
             }
            },
            "marker": {
             "colorbar": {
              "outlinewidth": 0,
              "ticks": ""
             }
            },
            "type": "scatter3d"
           }
          ],
          "scattercarpet": [
           {
            "marker": {
             "colorbar": {
              "outlinewidth": 0,
              "ticks": ""
             }
            },
            "type": "scattercarpet"
           }
          ],
          "scattergeo": [
           {
            "marker": {
             "colorbar": {
              "outlinewidth": 0,
              "ticks": ""
             }
            },
            "type": "scattergeo"
           }
          ],
          "scattergl": [
           {
            "marker": {
             "colorbar": {
              "outlinewidth": 0,
              "ticks": ""
             }
            },
            "type": "scattergl"
           }
          ],
          "scattermapbox": [
           {
            "marker": {
             "colorbar": {
              "outlinewidth": 0,
              "ticks": ""
             }
            },
            "type": "scattermapbox"
           }
          ],
          "scatterpolar": [
           {
            "marker": {
             "colorbar": {
              "outlinewidth": 0,
              "ticks": ""
             }
            },
            "type": "scatterpolar"
           }
          ],
          "scatterpolargl": [
           {
            "marker": {
             "colorbar": {
              "outlinewidth": 0,
              "ticks": ""
             }
            },
            "type": "scatterpolargl"
           }
          ],
          "scatterternary": [
           {
            "marker": {
             "colorbar": {
              "outlinewidth": 0,
              "ticks": ""
             }
            },
            "type": "scatterternary"
           }
          ],
          "surface": [
           {
            "colorbar": {
             "outlinewidth": 0,
             "ticks": ""
            },
            "colorscale": [
             [
              0,
              "#0d0887"
             ],
             [
              0.1111111111111111,
              "#46039f"
             ],
             [
              0.2222222222222222,
              "#7201a8"
             ],
             [
              0.3333333333333333,
              "#9c179e"
             ],
             [
              0.4444444444444444,
              "#bd3786"
             ],
             [
              0.5555555555555556,
              "#d8576b"
             ],
             [
              0.6666666666666666,
              "#ed7953"
             ],
             [
              0.7777777777777778,
              "#fb9f3a"
             ],
             [
              0.8888888888888888,
              "#fdca26"
             ],
             [
              1,
              "#f0f921"
             ]
            ],
            "type": "surface"
           }
          ],
          "table": [
           {
            "cells": {
             "fill": {
              "color": "#EBF0F8"
             },
             "line": {
              "color": "white"
             }
            },
            "header": {
             "fill": {
              "color": "#C8D4E3"
             },
             "line": {
              "color": "white"
             }
            },
            "type": "table"
           }
          ]
         },
         "layout": {
          "annotationdefaults": {
           "arrowcolor": "#2a3f5f",
           "arrowhead": 0,
           "arrowwidth": 1
          },
          "autotypenumbers": "strict",
          "coloraxis": {
           "colorbar": {
            "outlinewidth": 0,
            "ticks": ""
           }
          },
          "colorscale": {
           "diverging": [
            [
             0,
             "#8e0152"
            ],
            [
             0.1,
             "#c51b7d"
            ],
            [
             0.2,
             "#de77ae"
            ],
            [
             0.3,
             "#f1b6da"
            ],
            [
             0.4,
             "#fde0ef"
            ],
            [
             0.5,
             "#f7f7f7"
            ],
            [
             0.6,
             "#e6f5d0"
            ],
            [
             0.7,
             "#b8e186"
            ],
            [
             0.8,
             "#7fbc41"
            ],
            [
             0.9,
             "#4d9221"
            ],
            [
             1,
             "#276419"
            ]
           ],
           "sequential": [
            [
             0,
             "#0d0887"
            ],
            [
             0.1111111111111111,
             "#46039f"
            ],
            [
             0.2222222222222222,
             "#7201a8"
            ],
            [
             0.3333333333333333,
             "#9c179e"
            ],
            [
             0.4444444444444444,
             "#bd3786"
            ],
            [
             0.5555555555555556,
             "#d8576b"
            ],
            [
             0.6666666666666666,
             "#ed7953"
            ],
            [
             0.7777777777777778,
             "#fb9f3a"
            ],
            [
             0.8888888888888888,
             "#fdca26"
            ],
            [
             1,
             "#f0f921"
            ]
           ],
           "sequentialminus": [
            [
             0,
             "#0d0887"
            ],
            [
             0.1111111111111111,
             "#46039f"
            ],
            [
             0.2222222222222222,
             "#7201a8"
            ],
            [
             0.3333333333333333,
             "#9c179e"
            ],
            [
             0.4444444444444444,
             "#bd3786"
            ],
            [
             0.5555555555555556,
             "#d8576b"
            ],
            [
             0.6666666666666666,
             "#ed7953"
            ],
            [
             0.7777777777777778,
             "#fb9f3a"
            ],
            [
             0.8888888888888888,
             "#fdca26"
            ],
            [
             1,
             "#f0f921"
            ]
           ]
          },
          "colorway": [
           "#636efa",
           "#EF553B",
           "#00cc96",
           "#ab63fa",
           "#FFA15A",
           "#19d3f3",
           "#FF6692",
           "#B6E880",
           "#FF97FF",
           "#FECB52"
          ],
          "font": {
           "color": "#2a3f5f"
          },
          "geo": {
           "bgcolor": "white",
           "lakecolor": "white",
           "landcolor": "#E5ECF6",
           "showlakes": true,
           "showland": true,
           "subunitcolor": "white"
          },
          "hoverlabel": {
           "align": "left"
          },
          "hovermode": "closest",
          "mapbox": {
           "style": "light"
          },
          "paper_bgcolor": "white",
          "plot_bgcolor": "#E5ECF6",
          "polar": {
           "angularaxis": {
            "gridcolor": "white",
            "linecolor": "white",
            "ticks": ""
           },
           "bgcolor": "#E5ECF6",
           "radialaxis": {
            "gridcolor": "white",
            "linecolor": "white",
            "ticks": ""
           }
          },
          "scene": {
           "xaxis": {
            "backgroundcolor": "#E5ECF6",
            "gridcolor": "white",
            "gridwidth": 2,
            "linecolor": "white",
            "showbackground": true,
            "ticks": "",
            "zerolinecolor": "white"
           },
           "yaxis": {
            "backgroundcolor": "#E5ECF6",
            "gridcolor": "white",
            "gridwidth": 2,
            "linecolor": "white",
            "showbackground": true,
            "ticks": "",
            "zerolinecolor": "white"
           },
           "zaxis": {
            "backgroundcolor": "#E5ECF6",
            "gridcolor": "white",
            "gridwidth": 2,
            "linecolor": "white",
            "showbackground": true,
            "ticks": "",
            "zerolinecolor": "white"
           }
          },
          "shapedefaults": {
           "line": {
            "color": "#2a3f5f"
           }
          },
          "ternary": {
           "aaxis": {
            "gridcolor": "white",
            "linecolor": "white",
            "ticks": ""
           },
           "baxis": {
            "gridcolor": "white",
            "linecolor": "white",
            "ticks": ""
           },
           "bgcolor": "#E5ECF6",
           "caxis": {
            "gridcolor": "white",
            "linecolor": "white",
            "ticks": ""
           }
          },
          "title": {
           "x": 0.05
          },
          "xaxis": {
           "automargin": true,
           "gridcolor": "white",
           "linecolor": "white",
           "ticks": "",
           "title": {
            "standoff": 15
           },
           "zerolinecolor": "white",
           "zerolinewidth": 2
          },
          "yaxis": {
           "automargin": true,
           "gridcolor": "white",
           "linecolor": "white",
           "ticks": "",
           "title": {
            "standoff": 15
           },
           "zerolinecolor": "white",
           "zerolinewidth": 2
          }
         }
        },
        "xaxis": {
         "anchor": "y",
         "domain": [
          0,
          1
         ],
         "title": {
          "text": "Índice"
         }
        },
        "yaxis": {
         "anchor": "x",
         "domain": [
          0,
          1
         ],
         "title": {
          "text": "Quantidade"
         }
        }
       }
      }
     },
     "metadata": {}
    }
   ],
   "source": [
    "fig = px.line(y=[y_pred_lgbm.round(), y_test, data_from_newCases['newCases'][-14:]], line_shape='spline', labels={'variable': 'Variáveis', 'index': 'Índice', 'value': 'Quantidade'})\n",
    "\n",
    "customLegend(fig=fig,nameSwap = {'wide_variable_0': 'Light GBM', 'wide_variable_1': 'H&W', 'wide_variable_2': 'Número de Casos'})"
   ]
  },
  {
   "cell_type": "code",
   "execution_count": 171,
   "metadata": {},
   "outputs": [
    {
     "output_type": "execute_result",
     "data": {
      "text/plain": [
       "0.05010246249329041"
      ]
     },
     "metadata": {},
     "execution_count": 171
    }
   ],
   "source": [
    "smape_loss(y_test, y_pred_lgbm)"
   ]
  },
  {
   "cell_type": "code",
   "execution_count": 134,
   "metadata": {},
   "outputs": [],
   "source": [
    "model_knn = KNeighborsRegressor(n_neighbors=100, leaf_size=300)"
   ]
  },
  {
   "cell_type": "code",
   "execution_count": 135,
   "metadata": {},
   "outputs": [
    {
     "output_type": "execute_result",
     "data": {
      "text/plain": [
       "KNeighborsRegressor(leaf_size=300, n_neighbors=100)"
      ]
     },
     "metadata": {},
     "execution_count": 135
    }
   ],
   "source": [
    "model_knn.fit(X_train, y_train)"
   ]
  },
  {
   "cell_type": "code",
   "execution_count": 136,
   "metadata": {},
   "outputs": [],
   "source": [
    "y_pred_knn = model_knn.predict(X_test)"
   ]
  },
  {
   "cell_type": "code",
   "execution_count": 137,
   "metadata": {},
   "outputs": [
    {
     "output_type": "display_data",
     "data": {
      "application/vnd.plotly.v1+json": {
       "config": {
        "plotlyServerURL": "https://plot.ly"
       },
       "data": [
        {
         "hovertemplate": "Variáveis=wide_variable_0<br>Índice=%{x}<br>Quantidade=%{y}<extra></extra>",
         "legendgroup": "wide_variable_0",
         "line": {
          "color": "#636efa",
          "dash": "solid",
          "shape": "spline"
         },
         "mode": "lines",
         "name": "KNN",
         "orientation": "v",
         "showlegend": true,
         "type": "scatter",
         "x": [
          0,
          1,
          2,
          3,
          4,
          5,
          6,
          7,
          8,
          9,
          10,
          11,
          12,
          13
         ],
         "xaxis": "x",
         "y": [
          857,
          1033,
          806,
          778,
          783,
          884,
          794,
          816,
          792,
          794,
          784,
          789,
          810,
          432
         ],
         "yaxis": "y"
        },
        {
         "hovertemplate": "Variáveis=wide_variable_1<br>Índice=%{x}<br>Quantidade=%{y}<extra></extra>",
         "legendgroup": "wide_variable_1",
         "line": {
          "color": "#EF553B",
          "dash": "solid",
          "shape": "spline"
         },
         "mode": "lines",
         "name": "H&W",
         "orientation": "v",
         "showlegend": true,
         "type": "scatter",
         "x": [
          0,
          1,
          2,
          3,
          4,
          5,
          6,
          7,
          8,
          9,
          10,
          11,
          12,
          13
         ],
         "xaxis": "x",
         "y": [
          838,
          819,
          799,
          777,
          754,
          730,
          704,
          677,
          648,
          618,
          587,
          555,
          523,
          491
         ],
         "yaxis": "y"
        },
        {
         "hovertemplate": "Variáveis=wide_variable_2<br>Índice=%{x}<br>Quantidade=%{y}<extra></extra>",
         "legendgroup": "wide_variable_2",
         "line": {
          "color": "#00cc96",
          "dash": "solid",
          "shape": "spline"
         },
         "mode": "lines",
         "name": "Número de Casos",
         "orientation": "v",
         "showlegend": true,
         "type": "scatter",
         "x": [
          0,
          1,
          2,
          3,
          4,
          5,
          6,
          7,
          8,
          9,
          10,
          11,
          12,
          13
         ],
         "xaxis": "x",
         "y": [
          960,
          1172,
          737,
          535,
          489,
          995,
          820,
          893,
          773,
          701,
          484,
          442,
          734,
          0
         ],
         "yaxis": "y"
        }
       ],
       "layout": {
        "legend": {
         "title": {
          "text": "Variáveis"
         },
         "tracegroupgap": 0
        },
        "margin": {
         "t": 60
        },
        "template": {
         "data": {
          "bar": [
           {
            "error_x": {
             "color": "#2a3f5f"
            },
            "error_y": {
             "color": "#2a3f5f"
            },
            "marker": {
             "line": {
              "color": "#E5ECF6",
              "width": 0.5
             }
            },
            "type": "bar"
           }
          ],
          "barpolar": [
           {
            "marker": {
             "line": {
              "color": "#E5ECF6",
              "width": 0.5
             }
            },
            "type": "barpolar"
           }
          ],
          "carpet": [
           {
            "aaxis": {
             "endlinecolor": "#2a3f5f",
             "gridcolor": "white",
             "linecolor": "white",
             "minorgridcolor": "white",
             "startlinecolor": "#2a3f5f"
            },
            "baxis": {
             "endlinecolor": "#2a3f5f",
             "gridcolor": "white",
             "linecolor": "white",
             "minorgridcolor": "white",
             "startlinecolor": "#2a3f5f"
            },
            "type": "carpet"
           }
          ],
          "choropleth": [
           {
            "colorbar": {
             "outlinewidth": 0,
             "ticks": ""
            },
            "type": "choropleth"
           }
          ],
          "contour": [
           {
            "colorbar": {
             "outlinewidth": 0,
             "ticks": ""
            },
            "colorscale": [
             [
              0,
              "#0d0887"
             ],
             [
              0.1111111111111111,
              "#46039f"
             ],
             [
              0.2222222222222222,
              "#7201a8"
             ],
             [
              0.3333333333333333,
              "#9c179e"
             ],
             [
              0.4444444444444444,
              "#bd3786"
             ],
             [
              0.5555555555555556,
              "#d8576b"
             ],
             [
              0.6666666666666666,
              "#ed7953"
             ],
             [
              0.7777777777777778,
              "#fb9f3a"
             ],
             [
              0.8888888888888888,
              "#fdca26"
             ],
             [
              1,
              "#f0f921"
             ]
            ],
            "type": "contour"
           }
          ],
          "contourcarpet": [
           {
            "colorbar": {
             "outlinewidth": 0,
             "ticks": ""
            },
            "type": "contourcarpet"
           }
          ],
          "heatmap": [
           {
            "colorbar": {
             "outlinewidth": 0,
             "ticks": ""
            },
            "colorscale": [
             [
              0,
              "#0d0887"
             ],
             [
              0.1111111111111111,
              "#46039f"
             ],
             [
              0.2222222222222222,
              "#7201a8"
             ],
             [
              0.3333333333333333,
              "#9c179e"
             ],
             [
              0.4444444444444444,
              "#bd3786"
             ],
             [
              0.5555555555555556,
              "#d8576b"
             ],
             [
              0.6666666666666666,
              "#ed7953"
             ],
             [
              0.7777777777777778,
              "#fb9f3a"
             ],
             [
              0.8888888888888888,
              "#fdca26"
             ],
             [
              1,
              "#f0f921"
             ]
            ],
            "type": "heatmap"
           }
          ],
          "heatmapgl": [
           {
            "colorbar": {
             "outlinewidth": 0,
             "ticks": ""
            },
            "colorscale": [
             [
              0,
              "#0d0887"
             ],
             [
              0.1111111111111111,
              "#46039f"
             ],
             [
              0.2222222222222222,
              "#7201a8"
             ],
             [
              0.3333333333333333,
              "#9c179e"
             ],
             [
              0.4444444444444444,
              "#bd3786"
             ],
             [
              0.5555555555555556,
              "#d8576b"
             ],
             [
              0.6666666666666666,
              "#ed7953"
             ],
             [
              0.7777777777777778,
              "#fb9f3a"
             ],
             [
              0.8888888888888888,
              "#fdca26"
             ],
             [
              1,
              "#f0f921"
             ]
            ],
            "type": "heatmapgl"
           }
          ],
          "histogram": [
           {
            "marker": {
             "colorbar": {
              "outlinewidth": 0,
              "ticks": ""
             }
            },
            "type": "histogram"
           }
          ],
          "histogram2d": [
           {
            "colorbar": {
             "outlinewidth": 0,
             "ticks": ""
            },
            "colorscale": [
             [
              0,
              "#0d0887"
             ],
             [
              0.1111111111111111,
              "#46039f"
             ],
             [
              0.2222222222222222,
              "#7201a8"
             ],
             [
              0.3333333333333333,
              "#9c179e"
             ],
             [
              0.4444444444444444,
              "#bd3786"
             ],
             [
              0.5555555555555556,
              "#d8576b"
             ],
             [
              0.6666666666666666,
              "#ed7953"
             ],
             [
              0.7777777777777778,
              "#fb9f3a"
             ],
             [
              0.8888888888888888,
              "#fdca26"
             ],
             [
              1,
              "#f0f921"
             ]
            ],
            "type": "histogram2d"
           }
          ],
          "histogram2dcontour": [
           {
            "colorbar": {
             "outlinewidth": 0,
             "ticks": ""
            },
            "colorscale": [
             [
              0,
              "#0d0887"
             ],
             [
              0.1111111111111111,
              "#46039f"
             ],
             [
              0.2222222222222222,
              "#7201a8"
             ],
             [
              0.3333333333333333,
              "#9c179e"
             ],
             [
              0.4444444444444444,
              "#bd3786"
             ],
             [
              0.5555555555555556,
              "#d8576b"
             ],
             [
              0.6666666666666666,
              "#ed7953"
             ],
             [
              0.7777777777777778,
              "#fb9f3a"
             ],
             [
              0.8888888888888888,
              "#fdca26"
             ],
             [
              1,
              "#f0f921"
             ]
            ],
            "type": "histogram2dcontour"
           }
          ],
          "mesh3d": [
           {
            "colorbar": {
             "outlinewidth": 0,
             "ticks": ""
            },
            "type": "mesh3d"
           }
          ],
          "parcoords": [
           {
            "line": {
             "colorbar": {
              "outlinewidth": 0,
              "ticks": ""
             }
            },
            "type": "parcoords"
           }
          ],
          "pie": [
           {
            "automargin": true,
            "type": "pie"
           }
          ],
          "scatter": [
           {
            "marker": {
             "colorbar": {
              "outlinewidth": 0,
              "ticks": ""
             }
            },
            "type": "scatter"
           }
          ],
          "scatter3d": [
           {
            "line": {
             "colorbar": {
              "outlinewidth": 0,
              "ticks": ""
             }
            },
            "marker": {
             "colorbar": {
              "outlinewidth": 0,
              "ticks": ""
             }
            },
            "type": "scatter3d"
           }
          ],
          "scattercarpet": [
           {
            "marker": {
             "colorbar": {
              "outlinewidth": 0,
              "ticks": ""
             }
            },
            "type": "scattercarpet"
           }
          ],
          "scattergeo": [
           {
            "marker": {
             "colorbar": {
              "outlinewidth": 0,
              "ticks": ""
             }
            },
            "type": "scattergeo"
           }
          ],
          "scattergl": [
           {
            "marker": {
             "colorbar": {
              "outlinewidth": 0,
              "ticks": ""
             }
            },
            "type": "scattergl"
           }
          ],
          "scattermapbox": [
           {
            "marker": {
             "colorbar": {
              "outlinewidth": 0,
              "ticks": ""
             }
            },
            "type": "scattermapbox"
           }
          ],
          "scatterpolar": [
           {
            "marker": {
             "colorbar": {
              "outlinewidth": 0,
              "ticks": ""
             }
            },
            "type": "scatterpolar"
           }
          ],
          "scatterpolargl": [
           {
            "marker": {
             "colorbar": {
              "outlinewidth": 0,
              "ticks": ""
             }
            },
            "type": "scatterpolargl"
           }
          ],
          "scatterternary": [
           {
            "marker": {
             "colorbar": {
              "outlinewidth": 0,
              "ticks": ""
             }
            },
            "type": "scatterternary"
           }
          ],
          "surface": [
           {
            "colorbar": {
             "outlinewidth": 0,
             "ticks": ""
            },
            "colorscale": [
             [
              0,
              "#0d0887"
             ],
             [
              0.1111111111111111,
              "#46039f"
             ],
             [
              0.2222222222222222,
              "#7201a8"
             ],
             [
              0.3333333333333333,
              "#9c179e"
             ],
             [
              0.4444444444444444,
              "#bd3786"
             ],
             [
              0.5555555555555556,
              "#d8576b"
             ],
             [
              0.6666666666666666,
              "#ed7953"
             ],
             [
              0.7777777777777778,
              "#fb9f3a"
             ],
             [
              0.8888888888888888,
              "#fdca26"
             ],
             [
              1,
              "#f0f921"
             ]
            ],
            "type": "surface"
           }
          ],
          "table": [
           {
            "cells": {
             "fill": {
              "color": "#EBF0F8"
             },
             "line": {
              "color": "white"
             }
            },
            "header": {
             "fill": {
              "color": "#C8D4E3"
             },
             "line": {
              "color": "white"
             }
            },
            "type": "table"
           }
          ]
         },
         "layout": {
          "annotationdefaults": {
           "arrowcolor": "#2a3f5f",
           "arrowhead": 0,
           "arrowwidth": 1
          },
          "autotypenumbers": "strict",
          "coloraxis": {
           "colorbar": {
            "outlinewidth": 0,
            "ticks": ""
           }
          },
          "colorscale": {
           "diverging": [
            [
             0,
             "#8e0152"
            ],
            [
             0.1,
             "#c51b7d"
            ],
            [
             0.2,
             "#de77ae"
            ],
            [
             0.3,
             "#f1b6da"
            ],
            [
             0.4,
             "#fde0ef"
            ],
            [
             0.5,
             "#f7f7f7"
            ],
            [
             0.6,
             "#e6f5d0"
            ],
            [
             0.7,
             "#b8e186"
            ],
            [
             0.8,
             "#7fbc41"
            ],
            [
             0.9,
             "#4d9221"
            ],
            [
             1,
             "#276419"
            ]
           ],
           "sequential": [
            [
             0,
             "#0d0887"
            ],
            [
             0.1111111111111111,
             "#46039f"
            ],
            [
             0.2222222222222222,
             "#7201a8"
            ],
            [
             0.3333333333333333,
             "#9c179e"
            ],
            [
             0.4444444444444444,
             "#bd3786"
            ],
            [
             0.5555555555555556,
             "#d8576b"
            ],
            [
             0.6666666666666666,
             "#ed7953"
            ],
            [
             0.7777777777777778,
             "#fb9f3a"
            ],
            [
             0.8888888888888888,
             "#fdca26"
            ],
            [
             1,
             "#f0f921"
            ]
           ],
           "sequentialminus": [
            [
             0,
             "#0d0887"
            ],
            [
             0.1111111111111111,
             "#46039f"
            ],
            [
             0.2222222222222222,
             "#7201a8"
            ],
            [
             0.3333333333333333,
             "#9c179e"
            ],
            [
             0.4444444444444444,
             "#bd3786"
            ],
            [
             0.5555555555555556,
             "#d8576b"
            ],
            [
             0.6666666666666666,
             "#ed7953"
            ],
            [
             0.7777777777777778,
             "#fb9f3a"
            ],
            [
             0.8888888888888888,
             "#fdca26"
            ],
            [
             1,
             "#f0f921"
            ]
           ]
          },
          "colorway": [
           "#636efa",
           "#EF553B",
           "#00cc96",
           "#ab63fa",
           "#FFA15A",
           "#19d3f3",
           "#FF6692",
           "#B6E880",
           "#FF97FF",
           "#FECB52"
          ],
          "font": {
           "color": "#2a3f5f"
          },
          "geo": {
           "bgcolor": "white",
           "lakecolor": "white",
           "landcolor": "#E5ECF6",
           "showlakes": true,
           "showland": true,
           "subunitcolor": "white"
          },
          "hoverlabel": {
           "align": "left"
          },
          "hovermode": "closest",
          "mapbox": {
           "style": "light"
          },
          "paper_bgcolor": "white",
          "plot_bgcolor": "#E5ECF6",
          "polar": {
           "angularaxis": {
            "gridcolor": "white",
            "linecolor": "white",
            "ticks": ""
           },
           "bgcolor": "#E5ECF6",
           "radialaxis": {
            "gridcolor": "white",
            "linecolor": "white",
            "ticks": ""
           }
          },
          "scene": {
           "xaxis": {
            "backgroundcolor": "#E5ECF6",
            "gridcolor": "white",
            "gridwidth": 2,
            "linecolor": "white",
            "showbackground": true,
            "ticks": "",
            "zerolinecolor": "white"
           },
           "yaxis": {
            "backgroundcolor": "#E5ECF6",
            "gridcolor": "white",
            "gridwidth": 2,
            "linecolor": "white",
            "showbackground": true,
            "ticks": "",
            "zerolinecolor": "white"
           },
           "zaxis": {
            "backgroundcolor": "#E5ECF6",
            "gridcolor": "white",
            "gridwidth": 2,
            "linecolor": "white",
            "showbackground": true,
            "ticks": "",
            "zerolinecolor": "white"
           }
          },
          "shapedefaults": {
           "line": {
            "color": "#2a3f5f"
           }
          },
          "ternary": {
           "aaxis": {
            "gridcolor": "white",
            "linecolor": "white",
            "ticks": ""
           },
           "baxis": {
            "gridcolor": "white",
            "linecolor": "white",
            "ticks": ""
           },
           "bgcolor": "#E5ECF6",
           "caxis": {
            "gridcolor": "white",
            "linecolor": "white",
            "ticks": ""
           }
          },
          "title": {
           "x": 0.05
          },
          "xaxis": {
           "automargin": true,
           "gridcolor": "white",
           "linecolor": "white",
           "ticks": "",
           "title": {
            "standoff": 15
           },
           "zerolinecolor": "white",
           "zerolinewidth": 2
          },
          "yaxis": {
           "automargin": true,
           "gridcolor": "white",
           "linecolor": "white",
           "ticks": "",
           "title": {
            "standoff": 15
           },
           "zerolinecolor": "white",
           "zerolinewidth": 2
          }
         }
        },
        "xaxis": {
         "anchor": "y",
         "domain": [
          0,
          1
         ],
         "title": {
          "text": "Índice"
         }
        },
        "yaxis": {
         "anchor": "x",
         "domain": [
          0,
          1
         ],
         "title": {
          "text": "Quantidade"
         }
        }
       }
      }
     },
     "metadata": {}
    }
   ],
   "source": [
    "fig = px.line(y=[y_pred_knn.round(), y_test, data_from_newCases['newCases'][-14:]], line_shape='spline', labels={'variable': 'Variáveis', 'index': 'Índice', 'value': 'Quantidade'})\n",
    "\n",
    "customLegend(fig=fig,nameSwap = {'wide_variable_0': 'KNN', 'wide_variable_1': 'H&W', 'wide_variable_2': 'Número de Casos'})"
   ]
  },
  {
   "cell_type": "code",
   "execution_count": 138,
   "metadata": {},
   "outputs": [
    {
     "output_type": "execute_result",
     "data": {
      "text/plain": [
       "0.17457379606725748"
      ]
     },
     "metadata": {},
     "execution_count": 138
    }
   ],
   "source": [
    "smape_loss(y_test, pd.Series(y_pred_knn, index=y_test.index))"
   ]
  },
  {
   "cell_type": "code",
   "execution_count": 183,
   "metadata": {},
   "outputs": [],
   "source": [
    "knn = KNeighborsRegressor(n_neighbors=100, leaf_size=300)\n",
    "lgbm = LGBMRegressor(random_state=SEED,\n",
    "    colsample_bytree=0.1,\n",
    "    min_child_samples=74,\n",
    "    n_estimators=540, num_leaves=128,\n",
    "    subsample=0.990837022487766,\n",
    "    subsample_freq=1)"
   ]
  },
  {
   "cell_type": "code",
   "execution_count": 184,
   "metadata": {},
   "outputs": [
    {
     "output_type": "execute_result",
     "data": {
      "text/plain": [
       "[0.1, 128, 74, 0.990837022487766, 0.1, 540]"
      ]
     },
     "metadata": {},
     "execution_count": 184
    }
   ],
   "source": [
    "result.x"
   ]
  },
  {
   "cell_type": "code",
   "execution_count": 213,
   "metadata": {},
   "outputs": [],
   "source": [
    "lgbm_stacked = StackingRegressor(regressors=[knn, lgbm], \n",
    "                           meta_regressor=lgbm)"
   ]
  },
  {
   "cell_type": "code",
   "execution_count": 214,
   "metadata": {},
   "outputs": [
    {
     "output_type": "execute_result",
     "data": {
      "text/plain": [
       "StackingRegressor(meta_regressor=LGBMRegressor(colsample_bytree=0.1,\n",
       "                                               min_child_samples=74,\n",
       "                                               n_estimators=540, num_leaves=128,\n",
       "                                               random_state=4,\n",
       "                                               subsample=0.990837022487766,\n",
       "                                               subsample_freq=1),\n",
       "                  regressors=[KNeighborsRegressor(leaf_size=300,\n",
       "                                                  n_neighbors=100),\n",
       "                              LGBMRegressor(colsample_bytree=0.1,\n",
       "                                            min_child_samples=74,\n",
       "                                            n_estimators=540, num_leaves=128,\n",
       "                                            random_state=4,\n",
       "                                            subsample=0.990837022487766,\n",
       "                                            subsample_freq=1)])"
      ]
     },
     "metadata": {},
     "execution_count": 214
    }
   ],
   "source": [
    "lgbm_stacked.fit(X_train, y_train)"
   ]
  },
  {
   "cell_type": "code",
   "execution_count": 215,
   "metadata": {},
   "outputs": [
    {
     "output_type": "execute_result",
     "data": {
      "text/plain": [
       "0.3020392474672701"
      ]
     },
     "metadata": {},
     "execution_count": 215
    }
   ],
   "source": [
    "smape_loss(y_test, pd.Series(lgbm_stacked.predict(X_test),index=y_test.index))"
   ]
  },
  {
   "cell_type": "code",
   "execution_count": 216,
   "metadata": {},
   "outputs": [],
   "source": [
    "y_pred = pd.Series(lgbm_stacked.predict(X_test).round(), index=y_test.index)"
   ]
  },
  {
   "cell_type": "code",
   "execution_count": 217,
   "metadata": {},
   "outputs": [
    {
     "output_type": "execute_result",
     "data": {
      "text/plain": [
       "0.3022915745218276"
      ]
     },
     "metadata": {},
     "execution_count": 217
    }
   ],
   "source": [
    "smape_loss(y_test, y_pred)"
   ]
  },
  {
   "cell_type": "code",
   "execution_count": 218,
   "metadata": {},
   "outputs": [
    {
     "output_type": "display_data",
     "data": {
      "application/vnd.plotly.v1+json": {
       "config": {
        "plotlyServerURL": "https://plot.ly"
       },
       "data": [
        {
         "hovertemplate": "Variáveis=wide_variable_0<br>Índice=%{x}<br>Quantidade=%{y}<extra></extra>",
         "legendgroup": "wide_variable_0",
         "line": {
          "color": "#636efa",
          "dash": "solid",
          "shape": "spline"
         },
         "mode": "lines",
         "name": "KNN + LGBM",
         "orientation": "v",
         "showlegend": true,
         "type": "scatter",
         "x": [
          0,
          1,
          2,
          3,
          4,
          5,
          6,
          7,
          8,
          9,
          10,
          11,
          12,
          13
         ],
         "xaxis": "x",
         "y": [
          1021,
          1079,
          1027,
          706,
          781,
          945,
          896,
          1027,
          896,
          896,
          781,
          896,
          1027,
          334
         ],
         "yaxis": "y"
        },
        {
         "hovertemplate": "Variáveis=wide_variable_1<br>Índice=%{x}<br>Quantidade=%{y}<extra></extra>",
         "legendgroup": "wide_variable_1",
         "line": {
          "color": "#EF553B",
          "dash": "solid",
          "shape": "spline"
         },
         "mode": "lines",
         "name": "H&W",
         "orientation": "v",
         "showlegend": true,
         "type": "scatter",
         "x": [
          0,
          1,
          2,
          3,
          4,
          5,
          6,
          7,
          8,
          9,
          10,
          11,
          12,
          13
         ],
         "xaxis": "x",
         "y": [
          838,
          819,
          799,
          777,
          754,
          730,
          704,
          677,
          648,
          618,
          587,
          555,
          523,
          491
         ],
         "yaxis": "y"
        },
        {
         "hovertemplate": "Variáveis=wide_variable_2<br>Índice=%{x}<br>Quantidade=%{y}<extra></extra>",
         "legendgroup": "wide_variable_2",
         "line": {
          "color": "#00cc96",
          "dash": "solid",
          "shape": "spline"
         },
         "mode": "lines",
         "name": "Número de Casos",
         "orientation": "v",
         "showlegend": true,
         "type": "scatter",
         "x": [
          0,
          1,
          2,
          3,
          4,
          5,
          6,
          7,
          8,
          9,
          10,
          11,
          12,
          13
         ],
         "xaxis": "x",
         "y": [
          960,
          1172,
          737,
          535,
          489,
          995,
          820,
          893,
          773,
          701,
          484,
          442,
          734,
          0
         ],
         "yaxis": "y"
        }
       ],
       "layout": {
        "legend": {
         "title": {
          "text": "Variáveis"
         },
         "tracegroupgap": 0
        },
        "margin": {
         "t": 60
        },
        "template": {
         "data": {
          "bar": [
           {
            "error_x": {
             "color": "#2a3f5f"
            },
            "error_y": {
             "color": "#2a3f5f"
            },
            "marker": {
             "line": {
              "color": "#E5ECF6",
              "width": 0.5
             }
            },
            "type": "bar"
           }
          ],
          "barpolar": [
           {
            "marker": {
             "line": {
              "color": "#E5ECF6",
              "width": 0.5
             }
            },
            "type": "barpolar"
           }
          ],
          "carpet": [
           {
            "aaxis": {
             "endlinecolor": "#2a3f5f",
             "gridcolor": "white",
             "linecolor": "white",
             "minorgridcolor": "white",
             "startlinecolor": "#2a3f5f"
            },
            "baxis": {
             "endlinecolor": "#2a3f5f",
             "gridcolor": "white",
             "linecolor": "white",
             "minorgridcolor": "white",
             "startlinecolor": "#2a3f5f"
            },
            "type": "carpet"
           }
          ],
          "choropleth": [
           {
            "colorbar": {
             "outlinewidth": 0,
             "ticks": ""
            },
            "type": "choropleth"
           }
          ],
          "contour": [
           {
            "colorbar": {
             "outlinewidth": 0,
             "ticks": ""
            },
            "colorscale": [
             [
              0,
              "#0d0887"
             ],
             [
              0.1111111111111111,
              "#46039f"
             ],
             [
              0.2222222222222222,
              "#7201a8"
             ],
             [
              0.3333333333333333,
              "#9c179e"
             ],
             [
              0.4444444444444444,
              "#bd3786"
             ],
             [
              0.5555555555555556,
              "#d8576b"
             ],
             [
              0.6666666666666666,
              "#ed7953"
             ],
             [
              0.7777777777777778,
              "#fb9f3a"
             ],
             [
              0.8888888888888888,
              "#fdca26"
             ],
             [
              1,
              "#f0f921"
             ]
            ],
            "type": "contour"
           }
          ],
          "contourcarpet": [
           {
            "colorbar": {
             "outlinewidth": 0,
             "ticks": ""
            },
            "type": "contourcarpet"
           }
          ],
          "heatmap": [
           {
            "colorbar": {
             "outlinewidth": 0,
             "ticks": ""
            },
            "colorscale": [
             [
              0,
              "#0d0887"
             ],
             [
              0.1111111111111111,
              "#46039f"
             ],
             [
              0.2222222222222222,
              "#7201a8"
             ],
             [
              0.3333333333333333,
              "#9c179e"
             ],
             [
              0.4444444444444444,
              "#bd3786"
             ],
             [
              0.5555555555555556,
              "#d8576b"
             ],
             [
              0.6666666666666666,
              "#ed7953"
             ],
             [
              0.7777777777777778,
              "#fb9f3a"
             ],
             [
              0.8888888888888888,
              "#fdca26"
             ],
             [
              1,
              "#f0f921"
             ]
            ],
            "type": "heatmap"
           }
          ],
          "heatmapgl": [
           {
            "colorbar": {
             "outlinewidth": 0,
             "ticks": ""
            },
            "colorscale": [
             [
              0,
              "#0d0887"
             ],
             [
              0.1111111111111111,
              "#46039f"
             ],
             [
              0.2222222222222222,
              "#7201a8"
             ],
             [
              0.3333333333333333,
              "#9c179e"
             ],
             [
              0.4444444444444444,
              "#bd3786"
             ],
             [
              0.5555555555555556,
              "#d8576b"
             ],
             [
              0.6666666666666666,
              "#ed7953"
             ],
             [
              0.7777777777777778,
              "#fb9f3a"
             ],
             [
              0.8888888888888888,
              "#fdca26"
             ],
             [
              1,
              "#f0f921"
             ]
            ],
            "type": "heatmapgl"
           }
          ],
          "histogram": [
           {
            "marker": {
             "colorbar": {
              "outlinewidth": 0,
              "ticks": ""
             }
            },
            "type": "histogram"
           }
          ],
          "histogram2d": [
           {
            "colorbar": {
             "outlinewidth": 0,
             "ticks": ""
            },
            "colorscale": [
             [
              0,
              "#0d0887"
             ],
             [
              0.1111111111111111,
              "#46039f"
             ],
             [
              0.2222222222222222,
              "#7201a8"
             ],
             [
              0.3333333333333333,
              "#9c179e"
             ],
             [
              0.4444444444444444,
              "#bd3786"
             ],
             [
              0.5555555555555556,
              "#d8576b"
             ],
             [
              0.6666666666666666,
              "#ed7953"
             ],
             [
              0.7777777777777778,
              "#fb9f3a"
             ],
             [
              0.8888888888888888,
              "#fdca26"
             ],
             [
              1,
              "#f0f921"
             ]
            ],
            "type": "histogram2d"
           }
          ],
          "histogram2dcontour": [
           {
            "colorbar": {
             "outlinewidth": 0,
             "ticks": ""
            },
            "colorscale": [
             [
              0,
              "#0d0887"
             ],
             [
              0.1111111111111111,
              "#46039f"
             ],
             [
              0.2222222222222222,
              "#7201a8"
             ],
             [
              0.3333333333333333,
              "#9c179e"
             ],
             [
              0.4444444444444444,
              "#bd3786"
             ],
             [
              0.5555555555555556,
              "#d8576b"
             ],
             [
              0.6666666666666666,
              "#ed7953"
             ],
             [
              0.7777777777777778,
              "#fb9f3a"
             ],
             [
              0.8888888888888888,
              "#fdca26"
             ],
             [
              1,
              "#f0f921"
             ]
            ],
            "type": "histogram2dcontour"
           }
          ],
          "mesh3d": [
           {
            "colorbar": {
             "outlinewidth": 0,
             "ticks": ""
            },
            "type": "mesh3d"
           }
          ],
          "parcoords": [
           {
            "line": {
             "colorbar": {
              "outlinewidth": 0,
              "ticks": ""
             }
            },
            "type": "parcoords"
           }
          ],
          "pie": [
           {
            "automargin": true,
            "type": "pie"
           }
          ],
          "scatter": [
           {
            "marker": {
             "colorbar": {
              "outlinewidth": 0,
              "ticks": ""
             }
            },
            "type": "scatter"
           }
          ],
          "scatter3d": [
           {
            "line": {
             "colorbar": {
              "outlinewidth": 0,
              "ticks": ""
             }
            },
            "marker": {
             "colorbar": {
              "outlinewidth": 0,
              "ticks": ""
             }
            },
            "type": "scatter3d"
           }
          ],
          "scattercarpet": [
           {
            "marker": {
             "colorbar": {
              "outlinewidth": 0,
              "ticks": ""
             }
            },
            "type": "scattercarpet"
           }
          ],
          "scattergeo": [
           {
            "marker": {
             "colorbar": {
              "outlinewidth": 0,
              "ticks": ""
             }
            },
            "type": "scattergeo"
           }
          ],
          "scattergl": [
           {
            "marker": {
             "colorbar": {
              "outlinewidth": 0,
              "ticks": ""
             }
            },
            "type": "scattergl"
           }
          ],
          "scattermapbox": [
           {
            "marker": {
             "colorbar": {
              "outlinewidth": 0,
              "ticks": ""
             }
            },
            "type": "scattermapbox"
           }
          ],
          "scatterpolar": [
           {
            "marker": {
             "colorbar": {
              "outlinewidth": 0,
              "ticks": ""
             }
            },
            "type": "scatterpolar"
           }
          ],
          "scatterpolargl": [
           {
            "marker": {
             "colorbar": {
              "outlinewidth": 0,
              "ticks": ""
             }
            },
            "type": "scatterpolargl"
           }
          ],
          "scatterternary": [
           {
            "marker": {
             "colorbar": {
              "outlinewidth": 0,
              "ticks": ""
             }
            },
            "type": "scatterternary"
           }
          ],
          "surface": [
           {
            "colorbar": {
             "outlinewidth": 0,
             "ticks": ""
            },
            "colorscale": [
             [
              0,
              "#0d0887"
             ],
             [
              0.1111111111111111,
              "#46039f"
             ],
             [
              0.2222222222222222,
              "#7201a8"
             ],
             [
              0.3333333333333333,
              "#9c179e"
             ],
             [
              0.4444444444444444,
              "#bd3786"
             ],
             [
              0.5555555555555556,
              "#d8576b"
             ],
             [
              0.6666666666666666,
              "#ed7953"
             ],
             [
              0.7777777777777778,
              "#fb9f3a"
             ],
             [
              0.8888888888888888,
              "#fdca26"
             ],
             [
              1,
              "#f0f921"
             ]
            ],
            "type": "surface"
           }
          ],
          "table": [
           {
            "cells": {
             "fill": {
              "color": "#EBF0F8"
             },
             "line": {
              "color": "white"
             }
            },
            "header": {
             "fill": {
              "color": "#C8D4E3"
             },
             "line": {
              "color": "white"
             }
            },
            "type": "table"
           }
          ]
         },
         "layout": {
          "annotationdefaults": {
           "arrowcolor": "#2a3f5f",
           "arrowhead": 0,
           "arrowwidth": 1
          },
          "autotypenumbers": "strict",
          "coloraxis": {
           "colorbar": {
            "outlinewidth": 0,
            "ticks": ""
           }
          },
          "colorscale": {
           "diverging": [
            [
             0,
             "#8e0152"
            ],
            [
             0.1,
             "#c51b7d"
            ],
            [
             0.2,
             "#de77ae"
            ],
            [
             0.3,
             "#f1b6da"
            ],
            [
             0.4,
             "#fde0ef"
            ],
            [
             0.5,
             "#f7f7f7"
            ],
            [
             0.6,
             "#e6f5d0"
            ],
            [
             0.7,
             "#b8e186"
            ],
            [
             0.8,
             "#7fbc41"
            ],
            [
             0.9,
             "#4d9221"
            ],
            [
             1,
             "#276419"
            ]
           ],
           "sequential": [
            [
             0,
             "#0d0887"
            ],
            [
             0.1111111111111111,
             "#46039f"
            ],
            [
             0.2222222222222222,
             "#7201a8"
            ],
            [
             0.3333333333333333,
             "#9c179e"
            ],
            [
             0.4444444444444444,
             "#bd3786"
            ],
            [
             0.5555555555555556,
             "#d8576b"
            ],
            [
             0.6666666666666666,
             "#ed7953"
            ],
            [
             0.7777777777777778,
             "#fb9f3a"
            ],
            [
             0.8888888888888888,
             "#fdca26"
            ],
            [
             1,
             "#f0f921"
            ]
           ],
           "sequentialminus": [
            [
             0,
             "#0d0887"
            ],
            [
             0.1111111111111111,
             "#46039f"
            ],
            [
             0.2222222222222222,
             "#7201a8"
            ],
            [
             0.3333333333333333,
             "#9c179e"
            ],
            [
             0.4444444444444444,
             "#bd3786"
            ],
            [
             0.5555555555555556,
             "#d8576b"
            ],
            [
             0.6666666666666666,
             "#ed7953"
            ],
            [
             0.7777777777777778,
             "#fb9f3a"
            ],
            [
             0.8888888888888888,
             "#fdca26"
            ],
            [
             1,
             "#f0f921"
            ]
           ]
          },
          "colorway": [
           "#636efa",
           "#EF553B",
           "#00cc96",
           "#ab63fa",
           "#FFA15A",
           "#19d3f3",
           "#FF6692",
           "#B6E880",
           "#FF97FF",
           "#FECB52"
          ],
          "font": {
           "color": "#2a3f5f"
          },
          "geo": {
           "bgcolor": "white",
           "lakecolor": "white",
           "landcolor": "#E5ECF6",
           "showlakes": true,
           "showland": true,
           "subunitcolor": "white"
          },
          "hoverlabel": {
           "align": "left"
          },
          "hovermode": "closest",
          "mapbox": {
           "style": "light"
          },
          "paper_bgcolor": "white",
          "plot_bgcolor": "#E5ECF6",
          "polar": {
           "angularaxis": {
            "gridcolor": "white",
            "linecolor": "white",
            "ticks": ""
           },
           "bgcolor": "#E5ECF6",
           "radialaxis": {
            "gridcolor": "white",
            "linecolor": "white",
            "ticks": ""
           }
          },
          "scene": {
           "xaxis": {
            "backgroundcolor": "#E5ECF6",
            "gridcolor": "white",
            "gridwidth": 2,
            "linecolor": "white",
            "showbackground": true,
            "ticks": "",
            "zerolinecolor": "white"
           },
           "yaxis": {
            "backgroundcolor": "#E5ECF6",
            "gridcolor": "white",
            "gridwidth": 2,
            "linecolor": "white",
            "showbackground": true,
            "ticks": "",
            "zerolinecolor": "white"
           },
           "zaxis": {
            "backgroundcolor": "#E5ECF6",
            "gridcolor": "white",
            "gridwidth": 2,
            "linecolor": "white",
            "showbackground": true,
            "ticks": "",
            "zerolinecolor": "white"
           }
          },
          "shapedefaults": {
           "line": {
            "color": "#2a3f5f"
           }
          },
          "ternary": {
           "aaxis": {
            "gridcolor": "white",
            "linecolor": "white",
            "ticks": ""
           },
           "baxis": {
            "gridcolor": "white",
            "linecolor": "white",
            "ticks": ""
           },
           "bgcolor": "#E5ECF6",
           "caxis": {
            "gridcolor": "white",
            "linecolor": "white",
            "ticks": ""
           }
          },
          "title": {
           "x": 0.05
          },
          "xaxis": {
           "automargin": true,
           "gridcolor": "white",
           "linecolor": "white",
           "ticks": "",
           "title": {
            "standoff": 15
           },
           "zerolinecolor": "white",
           "zerolinewidth": 2
          },
          "yaxis": {
           "automargin": true,
           "gridcolor": "white",
           "linecolor": "white",
           "ticks": "",
           "title": {
            "standoff": 15
           },
           "zerolinecolor": "white",
           "zerolinewidth": 2
          }
         }
        },
        "xaxis": {
         "anchor": "y",
         "domain": [
          0,
          1
         ],
         "title": {
          "text": "Índice"
         }
        },
        "yaxis": {
         "anchor": "x",
         "domain": [
          0,
          1
         ],
         "title": {
          "text": "Quantidade"
         }
        }
       }
      }
     },
     "metadata": {}
    }
   ],
   "source": [
    "fig = px.line(y=[lgbm_stacked.predict(X_test).round(), y_test, data_from_newCases['newCases'][-14:]], line_shape='spline', labels={'variable': 'Variáveis', 'index': 'Índice', 'value': 'Quantidade'})\n",
    "\n",
    "customLegend(fig=fig,nameSwap = {'wide_variable_0': 'KNN + LGBM', 'wide_variable_1': 'H&W', 'wide_variable_2': 'Número de Casos'})"
   ]
  },
  {
   "cell_type": "code",
   "execution_count": 189,
   "metadata": {
    "tags": []
   },
   "outputs": [],
   "source": [
    "#def search_hyperparams(params):\n",
    "#    SEED = 4\n",
    "#\n",
    "#    learning_rate = params[0]\n",
    "#    num_leaves = params[1]\n",
    "#    min_child_samples = params[2]\n",
    "#    subsample = params[3]\n",
    "#    colsample_bytree = params[4]\n",
    "#    n_estimators = params[5]\n",
    "#\n",
    "#    print(params, '\\n')\n",
    "#    \n",
    "#    mdl = LGBMRegressor(random_state=SEED,\n",
    "#    learning_rate = learning_rate, \n",
    "#    num_leaves = num_leaves, \n",
    "#    min_child_samples = min_child_samples, \n",
    "#    subsample = subsample,\n",
    "#    colsample_bytree = colsample_bytree,\n",
    "#    subsample_freq=1,\n",
    "#    n_estimators=n_estimators)\n",
    "#    mdl.fit(X_train, y_train)\n",
    "#    y_pred = mdl.predict(X_test)\n",
    "#\n",
    "#    return smape_loss(y_test, pd.Series(y_pred, index=y_test.index))\n",
    "#\n",
    "#space = [(1e-3, 1e-1, 'log-uniform'), #learning rate\n",
    "#(2, 128), #num_leaves\n",
    "#(1, 100), #min_child_samples\n",
    "#(0.05, 1.0), #subsample\n",
    "#(0.1, 1.0), #colsample_bytree\n",
    "#(100, 1000)] #n_estimators\n",
    "#\n",
    "#result = gp_minimize(search_hyperparams, \n",
    "#space,\n",
    "#random_state=SEED, \n",
    "#verbose=1,\n",
    "#n_calls = 50,\n",
    "#n_random_starts=10)\n",
    "#\n",
    "#learning_rate, num_leaves, min_child_samples, subsample, colsample_bytree, n_estimators = #result.x #[0.1, 128, 1, 0.05, 1.0, 1000]"
   ]
  },
  {
   "cell_type": "code",
   "execution_count": 131,
   "metadata": {
    "tags": [
     "outputPrepend"
    ]
   },
   "outputs": [
    {
     "output_type": "stream",
     "name": "stdout",
     "text": [
      "t minimum: 0.2371\n",
      "Iteration No: 43 started. Searching for the next optimal point.\n",
      "[11, 126] \n",
      "\n",
      "Iteration No: 43 ended. Search finished for the next optimal point.\n",
      "Time taken: 0.3541\n",
      "Function value obtained: 0.4262\n",
      "Current minimum: 0.2371\n",
      "Iteration No: 44 started. Searching for the next optimal point.\n",
      "[100, 30] \n",
      "\n",
      "C:\\Users\\heylu\\miniconda3\\lib\\site-packages\\skopt\\optimizer\\optimizer.py:449: UserWarning:\n",
      "\n",
      "The objective has been evaluated at this point before.\n",
      "\n",
      "Iteration No: 44 ended. Search finished for the next optimal point.\n",
      "Time taken: 0.3800\n",
      "Function value obtained: 0.2371\n",
      "Current minimum: 0.2371\n",
      "Iteration No: 45 started. Searching for the next optimal point.\n",
      "[100, 300] \n",
      "\n",
      "C:\\Users\\heylu\\miniconda3\\lib\\site-packages\\skopt\\optimizer\\optimizer.py:449: UserWarning:\n",
      "\n",
      "The objective has been evaluated at this point before.\n",
      "\n",
      "Iteration No: 45 ended. Search finished for the next optimal point.\n",
      "Time taken: 0.3710\n",
      "Function value obtained: 0.2371\n",
      "Current minimum: 0.2371\n",
      "Iteration No: 46 started. Searching for the next optimal point.\n",
      "[33, 294] \n",
      "\n",
      "Iteration No: 46 ended. Search finished for the next optimal point.\n",
      "Time taken: 0.5397\n",
      "Function value obtained: 0.3351\n",
      "Current minimum: 0.2371\n",
      "Iteration No: 47 started. Searching for the next optimal point.\n",
      "[100, 30] \n",
      "\n",
      "C:\\Users\\heylu\\miniconda3\\lib\\site-packages\\skopt\\optimizer\\optimizer.py:449: UserWarning:\n",
      "\n",
      "The objective has been evaluated at this point before.\n",
      "\n",
      "Iteration No: 47 ended. Search finished for the next optimal point.\n",
      "Time taken: 0.4384\n",
      "Function value obtained: 0.2371\n",
      "Current minimum: 0.2371\n",
      "Iteration No: 48 started. Searching for the next optimal point.\n",
      "[89, 31] \n",
      "\n",
      "Iteration No: 48 ended. Search finished for the next optimal point.\n",
      "Time taken: 0.4802\n",
      "Function value obtained: 0.2453\n",
      "Current minimum: 0.2371\n",
      "Iteration No: 49 started. Searching for the next optimal point.\n",
      "[99, 299] \n",
      "\n",
      "Iteration No: 49 ended. Search finished for the next optimal point.\n",
      "Time taken: 0.5361\n",
      "Function value obtained: 0.2377\n",
      "Current minimum: 0.2371\n",
      "Iteration No: 50 started. Searching for the next optimal point.\n",
      "[100, 300] \n",
      "\n",
      "C:\\Users\\heylu\\miniconda3\\lib\\site-packages\\skopt\\optimizer\\optimizer.py:449: UserWarning:\n",
      "\n",
      "The objective has been evaluated at this point before.\n",
      "\n",
      "Iteration No: 50 ended. Search finished for the next optimal point.\n",
      "Time taken: 0.4931\n",
      "Function value obtained: 0.2371\n",
      "Current minimum: 0.2371\n",
      "Iteration No: 51 started. Searching for the next optimal point.\n",
      "[100, 300] \n",
      "\n",
      "C:\\Users\\heylu\\miniconda3\\lib\\site-packages\\skopt\\optimizer\\optimizer.py:449: UserWarning:\n",
      "\n",
      "The objective has been evaluated at this point before.\n",
      "\n",
      "Iteration No: 51 ended. Search finished for the next optimal point.\n",
      "Time taken: 0.4236\n",
      "Function value obtained: 0.2371\n",
      "Current minimum: 0.2371\n",
      "Iteration No: 52 started. Searching for the next optimal point.\n",
      "[100, 30] \n",
      "\n",
      "C:\\Users\\heylu\\miniconda3\\lib\\site-packages\\skopt\\optimizer\\optimizer.py:449: UserWarning:\n",
      "\n",
      "The objective has been evaluated at this point before.\n",
      "\n",
      "Iteration No: 52 ended. Search finished for the next optimal point.\n",
      "Time taken: 0.4174\n",
      "Function value obtained: 0.2371\n",
      "Current minimum: 0.2371\n",
      "Iteration No: 53 started. Searching for the next optimal point.\n",
      "[100, 30] \n",
      "\n",
      "C:\\Users\\heylu\\miniconda3\\lib\\site-packages\\skopt\\optimizer\\optimizer.py:449: UserWarning:\n",
      "\n",
      "The objective has been evaluated at this point before.\n",
      "\n",
      "Iteration No: 53 ended. Search finished for the next optimal point.\n",
      "Time taken: 0.4255\n",
      "Function value obtained: 0.2371\n",
      "Current minimum: 0.2371\n",
      "Iteration No: 54 started. Searching for the next optimal point.\n",
      "[100, 300] \n",
      "\n",
      "C:\\Users\\heylu\\miniconda3\\lib\\site-packages\\skopt\\optimizer\\optimizer.py:449: UserWarning:\n",
      "\n",
      "The objective has been evaluated at this point before.\n",
      "\n",
      "Iteration No: 54 ended. Search finished for the next optimal point.\n",
      "Time taken: 0.4483\n",
      "Function value obtained: 0.2371\n",
      "Current minimum: 0.2371\n",
      "Iteration No: 55 started. Searching for the next optimal point.\n",
      "[100, 300] \n",
      "\n",
      "C:\\Users\\heylu\\miniconda3\\lib\\site-packages\\skopt\\optimizer\\optimizer.py:449: UserWarning:\n",
      "\n",
      "The objective has been evaluated at this point before.\n",
      "\n",
      "Iteration No: 55 ended. Search finished for the next optimal point.\n",
      "Time taken: 0.4877\n",
      "Function value obtained: 0.2371\n",
      "Current minimum: 0.2371\n",
      "Iteration No: 56 started. Searching for the next optimal point.\n",
      "[100, 30] \n",
      "\n",
      "C:\\Users\\heylu\\miniconda3\\lib\\site-packages\\skopt\\optimizer\\optimizer.py:449: UserWarning:\n",
      "\n",
      "The objective has been evaluated at this point before.\n",
      "\n",
      "Iteration No: 56 ended. Search finished for the next optimal point.\n",
      "Time taken: 0.5895\n",
      "Function value obtained: 0.2371\n",
      "Current minimum: 0.2371\n",
      "Iteration No: 57 started. Searching for the next optimal point.\n",
      "[100, 32] \n",
      "\n",
      "Iteration No: 57 ended. Search finished for the next optimal point.\n",
      "Time taken: 0.5843\n",
      "Function value obtained: 0.2371\n",
      "Current minimum: 0.2371\n",
      "Iteration No: 58 started. Searching for the next optimal point.\n",
      "[100, 300] \n",
      "\n",
      "C:\\Users\\heylu\\miniconda3\\lib\\site-packages\\skopt\\optimizer\\optimizer.py:449: UserWarning:\n",
      "\n",
      "The objective has been evaluated at this point before.\n",
      "\n",
      "Iteration No: 58 ended. Search finished for the next optimal point.\n",
      "Time taken: 0.5558\n",
      "Function value obtained: 0.2371\n",
      "Current minimum: 0.2371\n",
      "Iteration No: 59 started. Searching for the next optimal point.\n",
      "[21, 150] \n",
      "\n",
      "Iteration No: 59 ended. Search finished for the next optimal point.\n",
      "Time taken: 0.5761\n",
      "Function value obtained: 0.3727\n",
      "Current minimum: 0.2371\n",
      "Iteration No: 60 started. Searching for the next optimal point.\n",
      "[97, 136] \n",
      "\n",
      "Iteration No: 60 ended. Search finished for the next optimal point.\n",
      "Time taken: 0.5721\n",
      "Function value obtained: 0.2395\n",
      "Current minimum: 0.2371\n",
      "Iteration No: 61 started. Searching for the next optimal point.\n",
      "[100, 300] \n",
      "\n",
      "C:\\Users\\heylu\\miniconda3\\lib\\site-packages\\skopt\\optimizer\\optimizer.py:449: UserWarning:\n",
      "\n",
      "The objective has been evaluated at this point before.\n",
      "\n",
      "Iteration No: 61 ended. Search finished for the next optimal point.\n",
      "Time taken: 0.6002\n",
      "Function value obtained: 0.2371\n",
      "Current minimum: 0.2371\n",
      "Iteration No: 62 started. Searching for the next optimal point.\n",
      "[100, 30] \n",
      "\n",
      "C:\\Users\\heylu\\miniconda3\\lib\\site-packages\\skopt\\optimizer\\optimizer.py:449: UserWarning:\n",
      "\n",
      "The objective has been evaluated at this point before.\n",
      "\n",
      "Iteration No: 62 ended. Search finished for the next optimal point.\n",
      "Time taken: 0.5611\n",
      "Function value obtained: 0.2371\n",
      "Current minimum: 0.2371\n",
      "Iteration No: 63 started. Searching for the next optimal point.\n",
      "[100, 300] \n",
      "\n",
      "C:\\Users\\heylu\\miniconda3\\lib\\site-packages\\skopt\\optimizer\\optimizer.py:449: UserWarning:\n",
      "\n",
      "The objective has been evaluated at this point before.\n",
      "\n",
      "Iteration No: 63 ended. Search finished for the next optimal point.\n",
      "Time taken: 0.5714\n",
      "Function value obtained: 0.2371\n",
      "Current minimum: 0.2371\n",
      "Iteration No: 64 started. Searching for the next optimal point.\n",
      "[100, 300] \n",
      "\n",
      "C:\\Users\\heylu\\miniconda3\\lib\\site-packages\\skopt\\optimizer\\optimizer.py:449: UserWarning:\n",
      "\n",
      "The objective has been evaluated at this point before.\n",
      "\n",
      "Iteration No: 64 ended. Search finished for the next optimal point.\n",
      "Time taken: 0.5359\n",
      "Function value obtained: 0.2371\n",
      "Current minimum: 0.2371\n",
      "Iteration No: 65 started. Searching for the next optimal point.\n",
      "[100, 30] \n",
      "\n",
      "C:\\Users\\heylu\\miniconda3\\lib\\site-packages\\skopt\\optimizer\\optimizer.py:449: UserWarning:\n",
      "\n",
      "The objective has been evaluated at this point before.\n",
      "\n",
      "Iteration No: 65 ended. Search finished for the next optimal point.\n",
      "Time taken: 0.5186\n",
      "Function value obtained: 0.2371\n",
      "Current minimum: 0.2371\n",
      "Iteration No: 66 started. Searching for the next optimal point.\n",
      "[100, 30] \n",
      "\n",
      "C:\\Users\\heylu\\miniconda3\\lib\\site-packages\\skopt\\optimizer\\optimizer.py:449: UserWarning:\n",
      "\n",
      "The objective has been evaluated at this point before.\n",
      "\n",
      "Iteration No: 66 ended. Search finished for the next optimal point.\n",
      "Time taken: 0.5391\n",
      "Function value obtained: 0.2371\n",
      "Current minimum: 0.2371\n",
      "Iteration No: 67 started. Searching for the next optimal point.\n",
      "[100, 300] \n",
      "\n",
      "C:\\Users\\heylu\\miniconda3\\lib\\site-packages\\skopt\\optimizer\\optimizer.py:449: UserWarning:\n",
      "\n",
      "The objective has been evaluated at this point before.\n",
      "\n",
      "Iteration No: 67 ended. Search finished for the next optimal point.\n",
      "Time taken: 0.5451\n",
      "Function value obtained: 0.2371\n",
      "Current minimum: 0.2371\n",
      "Iteration No: 68 started. Searching for the next optimal point.\n",
      "[100, 30] \n",
      "\n",
      "C:\\Users\\heylu\\miniconda3\\lib\\site-packages\\skopt\\optimizer\\optimizer.py:449: UserWarning:\n",
      "\n",
      "The objective has been evaluated at this point before.\n",
      "\n",
      "Iteration No: 68 ended. Search finished for the next optimal point.\n",
      "Time taken: 0.5471\n",
      "Function value obtained: 0.2371\n",
      "Current minimum: 0.2371\n",
      "Iteration No: 69 started. Searching for the next optimal point.\n",
      "[100, 300] \n",
      "\n",
      "C:\\Users\\heylu\\miniconda3\\lib\\site-packages\\skopt\\optimizer\\optimizer.py:449: UserWarning:\n",
      "\n",
      "The objective has been evaluated at this point before.\n",
      "\n",
      "Iteration No: 69 ended. Search finished for the next optimal point.\n",
      "Time taken: 0.5832\n",
      "Function value obtained: 0.2371\n",
      "Current minimum: 0.2371\n",
      "Iteration No: 70 started. Searching for the next optimal point.\n",
      "[100, 30] \n",
      "\n",
      "C:\\Users\\heylu\\miniconda3\\lib\\site-packages\\skopt\\optimizer\\optimizer.py:449: UserWarning:\n",
      "\n",
      "The objective has been evaluated at this point before.\n",
      "\n",
      "Iteration No: 70 ended. Search finished for the next optimal point.\n",
      "Time taken: 0.7006\n",
      "Function value obtained: 0.2371\n",
      "Current minimum: 0.2371\n",
      "Iteration No: 71 started. Searching for the next optimal point.\n",
      "[100, 300] \n",
      "\n",
      "C:\\Users\\heylu\\miniconda3\\lib\\site-packages\\skopt\\optimizer\\optimizer.py:449: UserWarning:\n",
      "\n",
      "The objective has been evaluated at this point before.\n",
      "\n",
      "Iteration No: 71 ended. Search finished for the next optimal point.\n",
      "Time taken: 0.6528\n",
      "Function value obtained: 0.2371\n",
      "Current minimum: 0.2371\n",
      "Iteration No: 72 started. Searching for the next optimal point.\n",
      "[100, 300] \n",
      "\n",
      "C:\\Users\\heylu\\miniconda3\\lib\\site-packages\\skopt\\optimizer\\optimizer.py:449: UserWarning:\n",
      "\n",
      "The objective has been evaluated at this point before.\n",
      "\n",
      "Iteration No: 72 ended. Search finished for the next optimal point.\n",
      "Time taken: 0.6850\n",
      "Function value obtained: 0.2371\n",
      "Current minimum: 0.2371\n",
      "Iteration No: 73 started. Searching for the next optimal point.\n",
      "[100, 300] \n",
      "\n",
      "C:\\Users\\heylu\\miniconda3\\lib\\site-packages\\skopt\\optimizer\\optimizer.py:449: UserWarning:\n",
      "\n",
      "The objective has been evaluated at this point before.\n",
      "\n",
      "Iteration No: 73 ended. Search finished for the next optimal point.\n",
      "Time taken: 0.5829\n",
      "Function value obtained: 0.2371\n",
      "Current minimum: 0.2371\n",
      "Iteration No: 74 started. Searching for the next optimal point.\n",
      "[100, 30] \n",
      "\n",
      "C:\\Users\\heylu\\miniconda3\\lib\\site-packages\\skopt\\optimizer\\optimizer.py:449: UserWarning:\n",
      "\n",
      "The objective has been evaluated at this point before.\n",
      "\n",
      "Iteration No: 74 ended. Search finished for the next optimal point.\n",
      "Time taken: 0.5953\n",
      "Function value obtained: 0.2371\n",
      "Current minimum: 0.2371\n",
      "Iteration No: 75 started. Searching for the next optimal point.\n",
      "[100, 30] \n",
      "\n",
      "C:\\Users\\heylu\\miniconda3\\lib\\site-packages\\skopt\\optimizer\\optimizer.py:449: UserWarning:\n",
      "\n",
      "The objective has been evaluated at this point before.\n",
      "\n",
      "Iteration No: 75 ended. Search finished for the next optimal point.\n",
      "Time taken: 0.6716\n",
      "Function value obtained: 0.2371\n",
      "Current minimum: 0.2371\n",
      "Iteration No: 76 started. Searching for the next optimal point.\n",
      "[100, 30] \n",
      "\n",
      "C:\\Users\\heylu\\miniconda3\\lib\\site-packages\\skopt\\optimizer\\optimizer.py:449: UserWarning:\n",
      "\n",
      "The objective has been evaluated at this point before.\n",
      "\n",
      "Iteration No: 76 ended. Search finished for the next optimal point.\n",
      "Time taken: 0.6675\n",
      "Function value obtained: 0.2371\n",
      "Current minimum: 0.2371\n",
      "Iteration No: 77 started. Searching for the next optimal point.\n",
      "[100, 30] \n",
      "\n",
      "C:\\Users\\heylu\\miniconda3\\lib\\site-packages\\skopt\\optimizer\\optimizer.py:449: UserWarning:\n",
      "\n",
      "The objective has been evaluated at this point before.\n",
      "\n",
      "Iteration No: 77 ended. Search finished for the next optimal point.\n",
      "Time taken: 0.6488\n",
      "Function value obtained: 0.2371\n",
      "Current minimum: 0.2371\n",
      "Iteration No: 78 started. Searching for the next optimal point.\n",
      "[100, 300] \n",
      "\n",
      "C:\\Users\\heylu\\miniconda3\\lib\\site-packages\\skopt\\optimizer\\optimizer.py:449: UserWarning:\n",
      "\n",
      "The objective has been evaluated at this point before.\n",
      "\n",
      "Iteration No: 78 ended. Search finished for the next optimal point.\n",
      "Time taken: 0.7221\n",
      "Function value obtained: 0.2371\n",
      "Current minimum: 0.2371\n",
      "Iteration No: 79 started. Searching for the next optimal point.\n",
      "[100, 300] \n",
      "\n",
      "C:\\Users\\heylu\\miniconda3\\lib\\site-packages\\skopt\\optimizer\\optimizer.py:449: UserWarning:\n",
      "\n",
      "The objective has been evaluated at this point before.\n",
      "\n",
      "Iteration No: 79 ended. Search finished for the next optimal point.\n",
      "Time taken: 0.6907\n",
      "Function value obtained: 0.2371\n",
      "Current minimum: 0.2371\n",
      "Iteration No: 80 started. Searching for the next optimal point.\n",
      "[100, 30] \n",
      "\n",
      "C:\\Users\\heylu\\miniconda3\\lib\\site-packages\\skopt\\optimizer\\optimizer.py:449: UserWarning:\n",
      "\n",
      "The objective has been evaluated at this point before.\n",
      "\n",
      "Iteration No: 80 ended. Search finished for the next optimal point.\n",
      "Time taken: 0.6857\n",
      "Function value obtained: 0.2371\n",
      "Current minimum: 0.2371\n",
      "Iteration No: 81 started. Searching for the next optimal point.\n",
      "[100, 300] \n",
      "\n",
      "C:\\Users\\heylu\\miniconda3\\lib\\site-packages\\skopt\\optimizer\\optimizer.py:449: UserWarning:\n",
      "\n",
      "The objective has been evaluated at this point before.\n",
      "\n",
      "Iteration No: 81 ended. Search finished for the next optimal point.\n",
      "Time taken: 0.6934\n",
      "Function value obtained: 0.2371\n",
      "Current minimum: 0.2371\n",
      "Iteration No: 82 started. Searching for the next optimal point.\n",
      "[100, 30] \n",
      "\n",
      "C:\\Users\\heylu\\miniconda3\\lib\\site-packages\\skopt\\optimizer\\optimizer.py:449: UserWarning:\n",
      "\n",
      "The objective has been evaluated at this point before.\n",
      "\n",
      "Iteration No: 82 ended. Search finished for the next optimal point.\n",
      "Time taken: 0.7576\n",
      "Function value obtained: 0.2371\n",
      "Current minimum: 0.2371\n",
      "Iteration No: 83 started. Searching for the next optimal point.\n",
      "[100, 299] \n",
      "\n",
      "Iteration No: 83 ended. Search finished for the next optimal point.\n",
      "Time taken: 0.7189\n",
      "Function value obtained: 0.2371\n",
      "Current minimum: 0.2371\n",
      "Iteration No: 84 started. Searching for the next optimal point.\n",
      "[100, 30] \n",
      "\n",
      "C:\\Users\\heylu\\miniconda3\\lib\\site-packages\\skopt\\optimizer\\optimizer.py:449: UserWarning:\n",
      "\n",
      "The objective has been evaluated at this point before.\n",
      "\n",
      "Iteration No: 84 ended. Search finished for the next optimal point.\n",
      "Time taken: 0.7404\n",
      "Function value obtained: 0.2371\n",
      "Current minimum: 0.2371\n",
      "Iteration No: 85 started. Searching for the next optimal point.\n",
      "[100, 300] \n",
      "\n",
      "C:\\Users\\heylu\\miniconda3\\lib\\site-packages\\skopt\\optimizer\\optimizer.py:449: UserWarning:\n",
      "\n",
      "The objective has been evaluated at this point before.\n",
      "\n",
      "Iteration No: 85 ended. Search finished for the next optimal point.\n",
      "Time taken: 0.7529\n",
      "Function value obtained: 0.2371\n",
      "Current minimum: 0.2371\n",
      "Iteration No: 86 started. Searching for the next optimal point.\n",
      "[100, 30] \n",
      "\n",
      "C:\\Users\\heylu\\miniconda3\\lib\\site-packages\\skopt\\optimizer\\optimizer.py:449: UserWarning:\n",
      "\n",
      "The objective has been evaluated at this point before.\n",
      "\n",
      "Iteration No: 86 ended. Search finished for the next optimal point.\n",
      "Time taken: 0.7239\n",
      "Function value obtained: 0.2371\n",
      "Current minimum: 0.2371\n",
      "Iteration No: 87 started. Searching for the next optimal point.\n",
      "[100, 300] \n",
      "\n",
      "C:\\Users\\heylu\\miniconda3\\lib\\site-packages\\skopt\\optimizer\\optimizer.py:449: UserWarning:\n",
      "\n",
      "The objective has been evaluated at this point before.\n",
      "\n",
      "Iteration No: 87 ended. Search finished for the next optimal point.\n",
      "Time taken: 0.7526\n",
      "Function value obtained: 0.2371\n",
      "Current minimum: 0.2371\n",
      "Iteration No: 88 started. Searching for the next optimal point.\n",
      "[100, 30] \n",
      "\n",
      "C:\\Users\\heylu\\miniconda3\\lib\\site-packages\\skopt\\optimizer\\optimizer.py:449: UserWarning:\n",
      "\n",
      "The objective has been evaluated at this point before.\n",
      "\n",
      "Iteration No: 88 ended. Search finished for the next optimal point.\n",
      "Time taken: 0.8081\n",
      "Function value obtained: 0.2371\n",
      "Current minimum: 0.2371\n",
      "Iteration No: 89 started. Searching for the next optimal point.\n",
      "[100, 300] \n",
      "\n",
      "C:\\Users\\heylu\\miniconda3\\lib\\site-packages\\skopt\\optimizer\\optimizer.py:449: UserWarning:\n",
      "\n",
      "The objective has been evaluated at this point before.\n",
      "\n",
      "Iteration No: 89 ended. Search finished for the next optimal point.\n",
      "Time taken: 0.7399\n",
      "Function value obtained: 0.2371\n",
      "Current minimum: 0.2371\n",
      "Iteration No: 90 started. Searching for the next optimal point.\n",
      "[100, 30] \n",
      "\n",
      "C:\\Users\\heylu\\miniconda3\\lib\\site-packages\\skopt\\optimizer\\optimizer.py:449: UserWarning:\n",
      "\n",
      "The objective has been evaluated at this point before.\n",
      "\n",
      "Iteration No: 90 ended. Search finished for the next optimal point.\n",
      "Time taken: 0.9310\n",
      "Function value obtained: 0.2371\n",
      "Current minimum: 0.2371\n",
      "Iteration No: 91 started. Searching for the next optimal point.\n",
      "[100, 300] \n",
      "\n",
      "C:\\Users\\heylu\\miniconda3\\lib\\site-packages\\skopt\\optimizer\\optimizer.py:449: UserWarning:\n",
      "\n",
      "The objective has been evaluated at this point before.\n",
      "\n",
      "Iteration No: 91 ended. Search finished for the next optimal point.\n",
      "Time taken: 0.9142\n",
      "Function value obtained: 0.2371\n",
      "Current minimum: 0.2371\n",
      "Iteration No: 92 started. Searching for the next optimal point.\n",
      "[100, 300] \n",
      "\n",
      "C:\\Users\\heylu\\miniconda3\\lib\\site-packages\\skopt\\optimizer\\optimizer.py:449: UserWarning:\n",
      "\n",
      "The objective has been evaluated at this point before.\n",
      "\n",
      "Iteration No: 92 ended. Search finished for the next optimal point.\n",
      "Time taken: 0.8904\n",
      "Function value obtained: 0.2371\n",
      "Current minimum: 0.2371\n",
      "Iteration No: 93 started. Searching for the next optimal point.\n",
      "[100, 32] \n",
      "\n",
      "C:\\Users\\heylu\\miniconda3\\lib\\site-packages\\skopt\\optimizer\\optimizer.py:449: UserWarning:\n",
      "\n",
      "The objective has been evaluated at this point before.\n",
      "\n",
      "Iteration No: 93 ended. Search finished for the next optimal point.\n",
      "Time taken: 0.9012\n",
      "Function value obtained: 0.2371\n",
      "Current minimum: 0.2371\n",
      "Iteration No: 94 started. Searching for the next optimal point.\n",
      "[100, 300] \n",
      "\n",
      "C:\\Users\\heylu\\miniconda3\\lib\\site-packages\\skopt\\optimizer\\optimizer.py:449: UserWarning:\n",
      "\n",
      "The objective has been evaluated at this point before.\n",
      "\n",
      "Iteration No: 94 ended. Search finished for the next optimal point.\n",
      "Time taken: 1.0611\n",
      "Function value obtained: 0.2371\n",
      "Current minimum: 0.2371\n",
      "Iteration No: 95 started. Searching for the next optimal point.\n",
      "[100, 30] \n",
      "\n",
      "C:\\Users\\heylu\\miniconda3\\lib\\site-packages\\skopt\\optimizer\\optimizer.py:449: UserWarning:\n",
      "\n",
      "The objective has been evaluated at this point before.\n",
      "\n",
      "Iteration No: 95 ended. Search finished for the next optimal point.\n",
      "Time taken: 0.9783\n",
      "Function value obtained: 0.2371\n",
      "Current minimum: 0.2371\n",
      "Iteration No: 96 started. Searching for the next optimal point.\n",
      "[100, 30] \n",
      "\n",
      "C:\\Users\\heylu\\miniconda3\\lib\\site-packages\\skopt\\optimizer\\optimizer.py:449: UserWarning:\n",
      "\n",
      "The objective has been evaluated at this point before.\n",
      "\n",
      "Iteration No: 96 ended. Search finished for the next optimal point.\n",
      "Time taken: 0.9616\n",
      "Function value obtained: 0.2371\n",
      "Current minimum: 0.2371\n",
      "Iteration No: 97 started. Searching for the next optimal point.\n",
      "[100, 299] \n",
      "\n",
      "C:\\Users\\heylu\\miniconda3\\lib\\site-packages\\skopt\\optimizer\\optimizer.py:449: UserWarning:\n",
      "\n",
      "The objective has been evaluated at this point before.\n",
      "\n",
      "Iteration No: 97 ended. Search finished for the next optimal point.\n",
      "Time taken: 0.9827\n",
      "Function value obtained: 0.2371\n",
      "Current minimum: 0.2371\n",
      "Iteration No: 98 started. Searching for the next optimal point.\n",
      "[100, 30] \n",
      "\n",
      "C:\\Users\\heylu\\miniconda3\\lib\\site-packages\\skopt\\optimizer\\optimizer.py:449: UserWarning:\n",
      "\n",
      "The objective has been evaluated at this point before.\n",
      "\n",
      "Iteration No: 98 ended. Search finished for the next optimal point.\n",
      "Time taken: 0.9688\n",
      "Function value obtained: 0.2371\n",
      "Current minimum: 0.2371\n",
      "Iteration No: 99 started. Searching for the next optimal point.\n",
      "[100, 300] \n",
      "\n",
      "C:\\Users\\heylu\\miniconda3\\lib\\site-packages\\skopt\\optimizer\\optimizer.py:449: UserWarning:\n",
      "\n",
      "The objective has been evaluated at this point before.\n",
      "\n",
      "Iteration No: 99 ended. Search finished for the next optimal point.\n",
      "Time taken: 1.0625\n",
      "Function value obtained: 0.2371\n",
      "Current minimum: 0.2371\n",
      "Iteration No: 100 started. Searching for the next optimal point.\n",
      "[100, 298] \n",
      "\n",
      "Iteration No: 100 ended. Search finished for the next optimal point.\n",
      "Time taken: 0.9923\n",
      "Function value obtained: 0.2371\n",
      "Current minimum: 0.2371\n"
     ]
    }
   ],
   "source": [
    "#def search_hyperparams(params):\n",
    "#    SEED = 4\n",
    "#\n",
    "#    n_neighbors = params[0]\n",
    "#    leaf_size = params[1]\n",
    "#\n",
    "#    print(params, '\\n')\n",
    "#    \n",
    "#    mdl = KNeighborsRegressor(\n",
    "#    weights = 'distance', \n",
    "#    leaf_size = leaf_size, \n",
    "#    n_neighbors = n_neighbors)\n",
    "#\n",
    "#    mdl.fit(X_train, y_train)\n",
    "#    y_pred = mdl.predict(X_test)\n",
    "#\n",
    "#    return smape_loss(y_test, pd.Series(y_pred, index=y_test.index))\n",
    "#\n",
    "#space = [(5, 100), #learning rate\n",
    "#(30, 300)] #n_estimators\n",
    "#\n",
    "#result = gp_minimize(search_hyperparams, \n",
    "#space,\n",
    "#random_state=SEED, \n",
    "#verbose=1,\n",
    "#n_calls = 100,\n",
    "#n_random_starts=10)\n",
    "#\n",
    "#n_neighbors, leaf_size = result.x #[0.1, 128, 1, 0.05, 1.0, 1000]"
   ]
  },
  {
   "cell_type": "code",
   "execution_count": 132,
   "metadata": {},
   "outputs": [
    {
     "output_type": "execute_result",
     "data": {
      "text/plain": [
       "100"
      ]
     },
     "metadata": {},
     "execution_count": 132
    }
   ],
   "source": [
    "n_neighbors"
   ]
  },
  {
   "cell_type": "code",
   "execution_count": 219,
   "metadata": {},
   "outputs": [
    {
     "output_type": "execute_result",
     "data": {
      "text/plain": [
       "          date  newCases  log_newCases  newCases_trend  newCases_cycle  \\\n",
       "0   2020-03-13         2      1.098612             0.0        3.649411   \n",
       "1   2020-03-14         0      0.000000             0.0        3.639159   \n",
       "2   2020-03-15         0      0.000000             0.0        3.636597   \n",
       "3   2020-03-16         0      0.000000             0.0        3.631471   \n",
       "4   2020-03-17         0      0.000000             0.0        3.628908   \n",
       "..         ...       ...           ...             ...             ...   \n",
       "400 2021-04-17       701      6.553933           618.0        3.836494   \n",
       "401 2021-04-18       484      6.184149           587.0        3.359815   \n",
       "402 2021-04-19       442      6.093570           555.0        3.334188   \n",
       "403 2021-04-20       734      6.599870           523.0        4.164531   \n",
       "404 2021-04-21         0      0.000000           491.0        2.365454   \n",
       "\n",
       "    is_special_day      MA_7  group_ids  time_idx  \n",
       "0                0  0.000000          1         0  \n",
       "1                0  0.000000          1         1  \n",
       "2                1  0.000000          1         2  \n",
       "3                1  0.000000          1         3  \n",
       "4                0  0.000000          1         4  \n",
       "..             ...       ...        ...       ...  \n",
       "400              0  2.540876          1       400  \n",
       "401              1  2.515984          1       401  \n",
       "402              1  2.493045          1       402  \n",
       "403              0  2.365660          1       403  \n",
       "404              0  1.965445          1       404  \n",
       "\n",
       "[405 rows x 9 columns]"
      ],
      "text/html": "<div>\n<style scoped>\n    .dataframe tbody tr th:only-of-type {\n        vertical-align: middle;\n    }\n\n    .dataframe tbody tr th {\n        vertical-align: top;\n    }\n\n    .dataframe thead th {\n        text-align: right;\n    }\n</style>\n<table border=\"1\" class=\"dataframe\">\n  <thead>\n    <tr style=\"text-align: right;\">\n      <th></th>\n      <th>date</th>\n      <th>newCases</th>\n      <th>log_newCases</th>\n      <th>newCases_trend</th>\n      <th>newCases_cycle</th>\n      <th>is_special_day</th>\n      <th>MA_7</th>\n      <th>group_ids</th>\n      <th>time_idx</th>\n    </tr>\n  </thead>\n  <tbody>\n    <tr>\n      <th>0</th>\n      <td>2020-03-13</td>\n      <td>2</td>\n      <td>1.098612</td>\n      <td>0.0</td>\n      <td>3.649411</td>\n      <td>0</td>\n      <td>0.000000</td>\n      <td>1</td>\n      <td>0</td>\n    </tr>\n    <tr>\n      <th>1</th>\n      <td>2020-03-14</td>\n      <td>0</td>\n      <td>0.000000</td>\n      <td>0.0</td>\n      <td>3.639159</td>\n      <td>0</td>\n      <td>0.000000</td>\n      <td>1</td>\n      <td>1</td>\n    </tr>\n    <tr>\n      <th>2</th>\n      <td>2020-03-15</td>\n      <td>0</td>\n      <td>0.000000</td>\n      <td>0.0</td>\n      <td>3.636597</td>\n      <td>1</td>\n      <td>0.000000</td>\n      <td>1</td>\n      <td>2</td>\n    </tr>\n    <tr>\n      <th>3</th>\n      <td>2020-03-16</td>\n      <td>0</td>\n      <td>0.000000</td>\n      <td>0.0</td>\n      <td>3.631471</td>\n      <td>1</td>\n      <td>0.000000</td>\n      <td>1</td>\n      <td>3</td>\n    </tr>\n    <tr>\n      <th>4</th>\n      <td>2020-03-17</td>\n      <td>0</td>\n      <td>0.000000</td>\n      <td>0.0</td>\n      <td>3.628908</td>\n      <td>0</td>\n      <td>0.000000</td>\n      <td>1</td>\n      <td>4</td>\n    </tr>\n    <tr>\n      <th>...</th>\n      <td>...</td>\n      <td>...</td>\n      <td>...</td>\n      <td>...</td>\n      <td>...</td>\n      <td>...</td>\n      <td>...</td>\n      <td>...</td>\n      <td>...</td>\n    </tr>\n    <tr>\n      <th>400</th>\n      <td>2021-04-17</td>\n      <td>701</td>\n      <td>6.553933</td>\n      <td>618.0</td>\n      <td>3.836494</td>\n      <td>0</td>\n      <td>2.540876</td>\n      <td>1</td>\n      <td>400</td>\n    </tr>\n    <tr>\n      <th>401</th>\n      <td>2021-04-18</td>\n      <td>484</td>\n      <td>6.184149</td>\n      <td>587.0</td>\n      <td>3.359815</td>\n      <td>1</td>\n      <td>2.515984</td>\n      <td>1</td>\n      <td>401</td>\n    </tr>\n    <tr>\n      <th>402</th>\n      <td>2021-04-19</td>\n      <td>442</td>\n      <td>6.093570</td>\n      <td>555.0</td>\n      <td>3.334188</td>\n      <td>1</td>\n      <td>2.493045</td>\n      <td>1</td>\n      <td>402</td>\n    </tr>\n    <tr>\n      <th>403</th>\n      <td>2021-04-20</td>\n      <td>734</td>\n      <td>6.599870</td>\n      <td>523.0</td>\n      <td>4.164531</td>\n      <td>0</td>\n      <td>2.365660</td>\n      <td>1</td>\n      <td>403</td>\n    </tr>\n    <tr>\n      <th>404</th>\n      <td>2021-04-21</td>\n      <td>0</td>\n      <td>0.000000</td>\n      <td>491.0</td>\n      <td>2.365454</td>\n      <td>0</td>\n      <td>1.965445</td>\n      <td>1</td>\n      <td>404</td>\n    </tr>\n  </tbody>\n</table>\n<p>405 rows × 9 columns</p>\n</div>"
     },
     "metadata": {},
     "execution_count": 219
    }
   ],
   "source": [
    "data_from_newCases"
   ]
  },
  {
   "cell_type": "code",
   "execution_count": 220,
   "metadata": {},
   "outputs": [
    {
     "output_type": "execute_result",
     "data": {
      "text/plain": [
       "     newCases  log_newCases  newCases_cycle  is_special_day      MA_7  \\\n",
       "391       960      6.867974        3.936443               0  2.781493   \n",
       "392      1172      7.067320        4.528447               0  2.948411   \n",
       "393       737      6.603944        3.464890               0  2.944019   \n",
       "394       535      6.284134        3.003588               1  2.986481   \n",
       "395       489      6.194405        2.944644               1  2.901069   \n",
       "396       995      6.903747        4.302922               0  2.921568   \n",
       "397       820      6.710523        3.921066               0  2.785885   \n",
       "398       893      6.795706        4.177345               0  2.753185   \n",
       "399       773      6.651572        3.944131               0  2.558446   \n",
       "400       701      6.553933        3.836494               0  2.540876   \n",
       "401       484      6.184149        3.359815               1  2.515984   \n",
       "402       442      6.093570        3.334188               1  2.493045   \n",
       "403       734      6.599870        4.164531               0  2.365660   \n",
       "404         0      0.000000        2.365454               0  1.965445   \n",
       "\n",
       "     group_ids  time_idx  \n",
       "391          1       391  \n",
       "392          1       392  \n",
       "393          1       393  \n",
       "394          1       394  \n",
       "395          1       395  \n",
       "396          1       396  \n",
       "397          1       397  \n",
       "398          1       398  \n",
       "399          1       399  \n",
       "400          1       400  \n",
       "401          1       401  \n",
       "402          1       402  \n",
       "403          1       403  \n",
       "404          1       404  "
      ],
      "text/html": "<div>\n<style scoped>\n    .dataframe tbody tr th:only-of-type {\n        vertical-align: middle;\n    }\n\n    .dataframe tbody tr th {\n        vertical-align: top;\n    }\n\n    .dataframe thead th {\n        text-align: right;\n    }\n</style>\n<table border=\"1\" class=\"dataframe\">\n  <thead>\n    <tr style=\"text-align: right;\">\n      <th></th>\n      <th>newCases</th>\n      <th>log_newCases</th>\n      <th>newCases_cycle</th>\n      <th>is_special_day</th>\n      <th>MA_7</th>\n      <th>group_ids</th>\n      <th>time_idx</th>\n    </tr>\n  </thead>\n  <tbody>\n    <tr>\n      <th>391</th>\n      <td>960</td>\n      <td>6.867974</td>\n      <td>3.936443</td>\n      <td>0</td>\n      <td>2.781493</td>\n      <td>1</td>\n      <td>391</td>\n    </tr>\n    <tr>\n      <th>392</th>\n      <td>1172</td>\n      <td>7.067320</td>\n      <td>4.528447</td>\n      <td>0</td>\n      <td>2.948411</td>\n      <td>1</td>\n      <td>392</td>\n    </tr>\n    <tr>\n      <th>393</th>\n      <td>737</td>\n      <td>6.603944</td>\n      <td>3.464890</td>\n      <td>0</td>\n      <td>2.944019</td>\n      <td>1</td>\n      <td>393</td>\n    </tr>\n    <tr>\n      <th>394</th>\n      <td>535</td>\n      <td>6.284134</td>\n      <td>3.003588</td>\n      <td>1</td>\n      <td>2.986481</td>\n      <td>1</td>\n      <td>394</td>\n    </tr>\n    <tr>\n      <th>395</th>\n      <td>489</td>\n      <td>6.194405</td>\n      <td>2.944644</td>\n      <td>1</td>\n      <td>2.901069</td>\n      <td>1</td>\n      <td>395</td>\n    </tr>\n    <tr>\n      <th>396</th>\n      <td>995</td>\n      <td>6.903747</td>\n      <td>4.302922</td>\n      <td>0</td>\n      <td>2.921568</td>\n      <td>1</td>\n      <td>396</td>\n    </tr>\n    <tr>\n      <th>397</th>\n      <td>820</td>\n      <td>6.710523</td>\n      <td>3.921066</td>\n      <td>0</td>\n      <td>2.785885</td>\n      <td>1</td>\n      <td>397</td>\n    </tr>\n    <tr>\n      <th>398</th>\n      <td>893</td>\n      <td>6.795706</td>\n      <td>4.177345</td>\n      <td>0</td>\n      <td>2.753185</td>\n      <td>1</td>\n      <td>398</td>\n    </tr>\n    <tr>\n      <th>399</th>\n      <td>773</td>\n      <td>6.651572</td>\n      <td>3.944131</td>\n      <td>0</td>\n      <td>2.558446</td>\n      <td>1</td>\n      <td>399</td>\n    </tr>\n    <tr>\n      <th>400</th>\n      <td>701</td>\n      <td>6.553933</td>\n      <td>3.836494</td>\n      <td>0</td>\n      <td>2.540876</td>\n      <td>1</td>\n      <td>400</td>\n    </tr>\n    <tr>\n      <th>401</th>\n      <td>484</td>\n      <td>6.184149</td>\n      <td>3.359815</td>\n      <td>1</td>\n      <td>2.515984</td>\n      <td>1</td>\n      <td>401</td>\n    </tr>\n    <tr>\n      <th>402</th>\n      <td>442</td>\n      <td>6.093570</td>\n      <td>3.334188</td>\n      <td>1</td>\n      <td>2.493045</td>\n      <td>1</td>\n      <td>402</td>\n    </tr>\n    <tr>\n      <th>403</th>\n      <td>734</td>\n      <td>6.599870</td>\n      <td>4.164531</td>\n      <td>0</td>\n      <td>2.365660</td>\n      <td>1</td>\n      <td>403</td>\n    </tr>\n    <tr>\n      <th>404</th>\n      <td>0</td>\n      <td>0.000000</td>\n      <td>2.365454</td>\n      <td>0</td>\n      <td>1.965445</td>\n      <td>1</td>\n      <td>404</td>\n    </tr>\n  </tbody>\n</table>\n</div>"
     },
     "metadata": {},
     "execution_count": 220
    }
   ],
   "source": [
    "X_test"
   ]
  },
  {
   "cell_type": "code",
   "execution_count": null,
   "metadata": {},
   "outputs": [],
   "source": []
  }
 ],
 "metadata": {
  "kernelspec": {
   "display_name": "base",
   "language": "python",
   "name": "base"
  },
  "language_info": {
   "codemirror_mode": {
    "name": "ipython",
    "version": 3
   },
   "file_extension": ".py",
   "mimetype": "text/x-python",
   "name": "python",
   "nbconvert_exporter": "python",
   "pygments_lexer": "ipython3",
   "version": "3.8.5"
  }
 },
 "nbformat": 4,
 "nbformat_minor": 2
}