{
 "cells": [
  {
   "cell_type": "markdown",
   "metadata": {},
   "source": [
    "# Aprendizado de Máquina"
   ]
  },
  {
   "cell_type": "markdown",
   "metadata": {},
   "source": [
    "### Este documento apenas tem objetivo para fins exploratórios. Ele não agrega a nada sobre o relatório principal. Nele, testei e explorei possibilidades acerca de utilizar algoritmos envolvendo Gradient Boosting, porém, devido a inconscitência dos dados, isto é, ser um Random Walk extremamente volátil, junto a um desbalanceamento de emissões de casos, tornou-se dificultoso um trabalho para se chegar em um modelo que apresentasse uma acurácia consistente, se baseando no erro percentual absoluto médio simétrico."
   ]
  },
  {
   "cell_type": "code",
   "execution_count": 2,
   "metadata": {
    "execution": {
     "iopub.execute_input": "2021-01-06T10:23:24.380140Z",
     "iopub.status.busy": "2021-01-06T10:23:24.379116Z",
     "iopub.status.idle": "2021-01-06T10:23:36.317396Z",
     "shell.execute_reply": "2021-01-06T10:23:36.316399Z"
    }
   },
   "outputs": [],
   "source": [
    "import plotly.express as px\n",
    "import pandas as pd\n",
    "import numpy as np\n",
    "import requests\n",
    "import gzip\n",
    "import plotly.graph_objects as go"
   ]
  },
  {
   "cell_type": "code",
   "execution_count": 3,
   "metadata": {},
   "outputs": [],
   "source": [
    "from sktime.forecasting.model_selection import temporal_train_test_split\n",
    "from sktime.performance_metrics.forecasting import smape_loss"
   ]
  },
  {
   "cell_type": "code",
   "execution_count": 4,
   "metadata": {},
   "outputs": [],
   "source": [
    "from numpy import ravel\n",
    "import sklearn.model_selection\n",
    "from sktime.forecasting.compose import make_reduction\n",
    "from skopt import gp_minimize\n",
    "from lightgbm import LGBMRegressor\n",
    "from statsmodels.tsa.filters.hp_filter import hpfilter\n",
    "from sktime.forecasting.model_evaluation import evaluate\n",
    "from sktime.forecasting.model_selection import ExpandingWindowSplitter\n",
    "from sktime.utils.plotting import plot_series\n",
    "from sktime.forecasting.model_selection import ForecastingGridSearchCV"
   ]
  },
  {
   "cell_type": "code",
   "execution_count": 5,
   "metadata": {},
   "outputs": [],
   "source": [
    "from sktime.forecasting.naive import NaiveForecaster\n",
    "from sklearn.model_selection import train_test_split\n",
    "import torch\n",
    "import torch.nn as nn\n",
    "import torch.nn.functional as F\n",
    "import torch.optim as optim"
   ]
  },
  {
   "cell_type": "code",
   "execution_count": 6,
   "metadata": {},
   "outputs": [],
   "source": [
    "import pytorch_lightning as pl\n",
    "from pytorch_lightning.callbacks import EarlyStopping, LearningRateMonitor\n",
    "\n",
    "from pytorch_forecasting import TimeSeriesDataSet, TemporalFusionTransformer"
   ]
  },
  {
   "cell_type": "code",
   "execution_count": 108,
   "metadata": {},
   "outputs": [],
   "source": [
    "from pytorch_forecasting import Baseline, TemporalFusionTransformer, TimeSeriesDataSet\n",
    "from pytorch_forecasting.data import GroupNormalizer\n",
    "from pytorch_forecasting.metrics import SMAPE, PoissonLoss, QuantileLoss\n",
    "from pytorch_forecasting.models.temporal_fusion_transformer.tuning import optimize_hyperparameters"
   ]
  },
  {
   "cell_type": "code",
   "execution_count": 7,
   "metadata": {},
   "outputs": [],
   "source": [
    "SEED = 4"
   ]
  },
  {
   "cell_type": "code",
   "execution_count": 8,
   "metadata": {
    "execution": {
     "iopub.execute_input": "2021-01-06T10:23:48.381745Z",
     "iopub.status.busy": "2021-01-06T10:23:48.380746Z",
     "iopub.status.idle": "2021-01-06T10:23:56.739574Z",
     "shell.execute_reply": "2021-01-06T10:23:56.739574Z"
    }
   },
   "outputs": [],
   "source": [
    "url = 'https://github.com/wcota/covid19br/blob/master/cases-brazil-cities-time.csv.gz?raw=true'\n",
    "r = requests.get(url, allow_redirects=True)\n",
    "open('data.csv.gz','wb').write(r.content)\n",
    "gz = gzip.open('data.csv.gz')\n",
    "df = pd.read_csv(gz)"
   ]
  },
  {
   "cell_type": "markdown",
   "metadata": {},
   "source": [
    "## Validação de Modelos"
   ]
  },
  {
   "cell_type": "code",
   "execution_count": 9,
   "metadata": {
    "execution": {
     "iopub.execute_input": "2021-01-06T10:23:56.742565Z",
     "iopub.status.busy": "2021-01-06T10:23:56.742565Z",
     "iopub.status.idle": "2021-01-06T10:23:57.094021Z",
     "shell.execute_reply": "2021-01-06T10:23:57.092994Z"
    }
   },
   "outputs": [],
   "source": [
    "total_de_casos_amazonas = df.query(\"state == 'AM'\").groupby('date').sum()\n",
    "total_de_casos_amazonas.index = pd.to_datetime(total_de_casos_amazonas.index)\n",
    "total_de_casos_amazonas.index.freq = 'D'\n",
    "total_de_casos_amazonas.drop(columns=['epi_week', 'ibgeID', 'cod_RegiaoDeSaude', 'deaths', 'totalCases'], inplace=True)\n",
    "total_de_casos_amazonas = total_de_casos_amazonas.iloc[:,:2]"
   ]
  },
  {
   "cell_type": "code",
   "execution_count": 10,
   "metadata": {},
   "outputs": [],
   "source": [
    "def to_zero(x):\n",
    "    if x < 0:\n",
    "        return 0\n",
    "    return x"
   ]
  },
  {
   "cell_type": "code",
   "execution_count": 11,
   "metadata": {},
   "outputs": [],
   "source": [
    "for col in total_de_casos_amazonas.columns:\n",
    "    cycle, trend = hpfilter(total_de_casos_amazonas[col])\n",
    "    total_de_casos_amazonas[col + '_' + 'cycle'] = cycle.round()\n",
    "    total_de_casos_amazonas[col + '_' + 'trend'] = trend.round()"
   ]
  },
  {
   "cell_type": "code",
   "execution_count": 12,
   "metadata": {},
   "outputs": [
    {
     "output_type": "execute_result",
     "data": {
      "text/plain": [
       "            newDeaths  newCases  newDeaths_cycle  newDeaths_trend  \\\n",
       "date                                                                \n",
       "2020-03-13          0         2              1.0             -1.0   \n",
       "2020-03-14          0         0              1.0             -1.0   \n",
       "2020-03-15          0         0              1.0             -1.0   \n",
       "2020-03-16          0         0              1.0             -1.0   \n",
       "2020-03-17          0         0              1.0             -1.0   \n",
       "...               ...       ...              ...              ...   \n",
       "2021-04-14         25       820              8.0             17.0   \n",
       "2021-04-15         18       893              1.0             17.0   \n",
       "2021-04-16         15       773             -1.0             16.0   \n",
       "2021-04-17         10       701             -6.0             16.0   \n",
       "2021-04-18          9       484             -6.0             15.0   \n",
       "\n",
       "            newCases_cycle  newCases_trend  \n",
       "date                                        \n",
       "2020-03-13            10.0            -8.0  \n",
       "2020-03-14             6.0            -6.0  \n",
       "2020-03-15             5.0            -5.0  \n",
       "2020-03-16             3.0            -3.0  \n",
       "2020-03-17             2.0            -2.0  \n",
       "...                    ...             ...  \n",
       "2021-04-14            64.0           756.0  \n",
       "2021-04-15           152.0           741.0  \n",
       "2021-04-16            48.0           725.0  \n",
       "2021-04-17            -7.0           708.0  \n",
       "2021-04-18          -208.0           692.0  \n",
       "\n",
       "[402 rows x 6 columns]"
      ],
      "text/html": "<div>\n<style scoped>\n    .dataframe tbody tr th:only-of-type {\n        vertical-align: middle;\n    }\n\n    .dataframe tbody tr th {\n        vertical-align: top;\n    }\n\n    .dataframe thead th {\n        text-align: right;\n    }\n</style>\n<table border=\"1\" class=\"dataframe\">\n  <thead>\n    <tr style=\"text-align: right;\">\n      <th></th>\n      <th>newDeaths</th>\n      <th>newCases</th>\n      <th>newDeaths_cycle</th>\n      <th>newDeaths_trend</th>\n      <th>newCases_cycle</th>\n      <th>newCases_trend</th>\n    </tr>\n    <tr>\n      <th>date</th>\n      <th></th>\n      <th></th>\n      <th></th>\n      <th></th>\n      <th></th>\n      <th></th>\n    </tr>\n  </thead>\n  <tbody>\n    <tr>\n      <th>2020-03-13</th>\n      <td>0</td>\n      <td>2</td>\n      <td>1.0</td>\n      <td>-1.0</td>\n      <td>10.0</td>\n      <td>-8.0</td>\n    </tr>\n    <tr>\n      <th>2020-03-14</th>\n      <td>0</td>\n      <td>0</td>\n      <td>1.0</td>\n      <td>-1.0</td>\n      <td>6.0</td>\n      <td>-6.0</td>\n    </tr>\n    <tr>\n      <th>2020-03-15</th>\n      <td>0</td>\n      <td>0</td>\n      <td>1.0</td>\n      <td>-1.0</td>\n      <td>5.0</td>\n      <td>-5.0</td>\n    </tr>\n    <tr>\n      <th>2020-03-16</th>\n      <td>0</td>\n      <td>0</td>\n      <td>1.0</td>\n      <td>-1.0</td>\n      <td>3.0</td>\n      <td>-3.0</td>\n    </tr>\n    <tr>\n      <th>2020-03-17</th>\n      <td>0</td>\n      <td>0</td>\n      <td>1.0</td>\n      <td>-1.0</td>\n      <td>2.0</td>\n      <td>-2.0</td>\n    </tr>\n    <tr>\n      <th>...</th>\n      <td>...</td>\n      <td>...</td>\n      <td>...</td>\n      <td>...</td>\n      <td>...</td>\n      <td>...</td>\n    </tr>\n    <tr>\n      <th>2021-04-14</th>\n      <td>25</td>\n      <td>820</td>\n      <td>8.0</td>\n      <td>17.0</td>\n      <td>64.0</td>\n      <td>756.0</td>\n    </tr>\n    <tr>\n      <th>2021-04-15</th>\n      <td>18</td>\n      <td>893</td>\n      <td>1.0</td>\n      <td>17.0</td>\n      <td>152.0</td>\n      <td>741.0</td>\n    </tr>\n    <tr>\n      <th>2021-04-16</th>\n      <td>15</td>\n      <td>773</td>\n      <td>-1.0</td>\n      <td>16.0</td>\n      <td>48.0</td>\n      <td>725.0</td>\n    </tr>\n    <tr>\n      <th>2021-04-17</th>\n      <td>10</td>\n      <td>701</td>\n      <td>-6.0</td>\n      <td>16.0</td>\n      <td>-7.0</td>\n      <td>708.0</td>\n    </tr>\n    <tr>\n      <th>2021-04-18</th>\n      <td>9</td>\n      <td>484</td>\n      <td>-6.0</td>\n      <td>15.0</td>\n      <td>-208.0</td>\n      <td>692.0</td>\n    </tr>\n  </tbody>\n</table>\n<p>402 rows × 6 columns</p>\n</div>"
     },
     "metadata": {},
     "execution_count": 12
    }
   ],
   "source": [
    "total_de_casos_amazonas"
   ]
  },
  {
   "cell_type": "code",
   "execution_count": 13,
   "metadata": {},
   "outputs": [],
   "source": [
    "total_de_casos_amazonas['newDeaths_trend'] = total_de_casos_amazonas['newDeaths_trend'].apply(to_zero)\n",
    "total_de_casos_amazonas['newCases_trend'] = total_de_casos_amazonas['newCases_trend'].apply(to_zero)"
   ]
  },
  {
   "cell_type": "code",
   "execution_count": 14,
   "metadata": {},
   "outputs": [
    {
     "output_type": "execute_result",
     "data": {
      "text/plain": [
       "            newDeaths  newCases  newDeaths_cycle  newDeaths_trend  \\\n",
       "date                                                                \n",
       "2020-03-13          0         2              1.0              0.0   \n",
       "2020-03-14          0         0              1.0              0.0   \n",
       "2020-03-15          0         0              1.0              0.0   \n",
       "2020-03-16          0         0              1.0              0.0   \n",
       "2020-03-17          0         0              1.0              0.0   \n",
       "...               ...       ...              ...              ...   \n",
       "2021-04-14         25       820              8.0             17.0   \n",
       "2021-04-15         18       893              1.0             17.0   \n",
       "2021-04-16         15       773             -1.0             16.0   \n",
       "2021-04-17         10       701             -6.0             16.0   \n",
       "2021-04-18          9       484             -6.0             15.0   \n",
       "\n",
       "            newCases_cycle  newCases_trend  \n",
       "date                                        \n",
       "2020-03-13            10.0             0.0  \n",
       "2020-03-14             6.0             0.0  \n",
       "2020-03-15             5.0             0.0  \n",
       "2020-03-16             3.0             0.0  \n",
       "2020-03-17             2.0             0.0  \n",
       "...                    ...             ...  \n",
       "2021-04-14            64.0           756.0  \n",
       "2021-04-15           152.0           741.0  \n",
       "2021-04-16            48.0           725.0  \n",
       "2021-04-17            -7.0           708.0  \n",
       "2021-04-18          -208.0           692.0  \n",
       "\n",
       "[402 rows x 6 columns]"
      ],
      "text/html": "<div>\n<style scoped>\n    .dataframe tbody tr th:only-of-type {\n        vertical-align: middle;\n    }\n\n    .dataframe tbody tr th {\n        vertical-align: top;\n    }\n\n    .dataframe thead th {\n        text-align: right;\n    }\n</style>\n<table border=\"1\" class=\"dataframe\">\n  <thead>\n    <tr style=\"text-align: right;\">\n      <th></th>\n      <th>newDeaths</th>\n      <th>newCases</th>\n      <th>newDeaths_cycle</th>\n      <th>newDeaths_trend</th>\n      <th>newCases_cycle</th>\n      <th>newCases_trend</th>\n    </tr>\n    <tr>\n      <th>date</th>\n      <th></th>\n      <th></th>\n      <th></th>\n      <th></th>\n      <th></th>\n      <th></th>\n    </tr>\n  </thead>\n  <tbody>\n    <tr>\n      <th>2020-03-13</th>\n      <td>0</td>\n      <td>2</td>\n      <td>1.0</td>\n      <td>0.0</td>\n      <td>10.0</td>\n      <td>0.0</td>\n    </tr>\n    <tr>\n      <th>2020-03-14</th>\n      <td>0</td>\n      <td>0</td>\n      <td>1.0</td>\n      <td>0.0</td>\n      <td>6.0</td>\n      <td>0.0</td>\n    </tr>\n    <tr>\n      <th>2020-03-15</th>\n      <td>0</td>\n      <td>0</td>\n      <td>1.0</td>\n      <td>0.0</td>\n      <td>5.0</td>\n      <td>0.0</td>\n    </tr>\n    <tr>\n      <th>2020-03-16</th>\n      <td>0</td>\n      <td>0</td>\n      <td>1.0</td>\n      <td>0.0</td>\n      <td>3.0</td>\n      <td>0.0</td>\n    </tr>\n    <tr>\n      <th>2020-03-17</th>\n      <td>0</td>\n      <td>0</td>\n      <td>1.0</td>\n      <td>0.0</td>\n      <td>2.0</td>\n      <td>0.0</td>\n    </tr>\n    <tr>\n      <th>...</th>\n      <td>...</td>\n      <td>...</td>\n      <td>...</td>\n      <td>...</td>\n      <td>...</td>\n      <td>...</td>\n    </tr>\n    <tr>\n      <th>2021-04-14</th>\n      <td>25</td>\n      <td>820</td>\n      <td>8.0</td>\n      <td>17.0</td>\n      <td>64.0</td>\n      <td>756.0</td>\n    </tr>\n    <tr>\n      <th>2021-04-15</th>\n      <td>18</td>\n      <td>893</td>\n      <td>1.0</td>\n      <td>17.0</td>\n      <td>152.0</td>\n      <td>741.0</td>\n    </tr>\n    <tr>\n      <th>2021-04-16</th>\n      <td>15</td>\n      <td>773</td>\n      <td>-1.0</td>\n      <td>16.0</td>\n      <td>48.0</td>\n      <td>725.0</td>\n    </tr>\n    <tr>\n      <th>2021-04-17</th>\n      <td>10</td>\n      <td>701</td>\n      <td>-6.0</td>\n      <td>16.0</td>\n      <td>-7.0</td>\n      <td>708.0</td>\n    </tr>\n    <tr>\n      <th>2021-04-18</th>\n      <td>9</td>\n      <td>484</td>\n      <td>-6.0</td>\n      <td>15.0</td>\n      <td>-208.0</td>\n      <td>692.0</td>\n    </tr>\n  </tbody>\n</table>\n<p>402 rows × 6 columns</p>\n</div>"
     },
     "metadata": {},
     "execution_count": 14
    }
   ],
   "source": [
    "total_de_casos_amazonas"
   ]
  },
  {
   "cell_type": "code",
   "execution_count": 17,
   "metadata": {},
   "outputs": [],
   "source": [
    "total_de_casos_amazonas['dia_da_semana'] = total_de_casos_amazonas.index.day_name()"
   ]
  },
  {
   "cell_type": "code",
   "execution_count": 18,
   "metadata": {},
   "outputs": [],
   "source": [
    "df_cases = total_de_casos_amazonas[['newCases', 'newCases_trend', 'newCases_cycle', 'dia_da_semana']]"
   ]
  },
  {
   "cell_type": "code",
   "execution_count": 19,
   "metadata": {},
   "outputs": [],
   "source": [
    "df_cases.reset_index(inplace=True)"
   ]
  },
  {
   "cell_type": "code",
   "execution_count": 20,
   "metadata": {},
   "outputs": [],
   "source": [
    "df['date'] = pd.to_datetime(df['date'], errors='coerce')"
   ]
  },
  {
   "cell_type": "code",
   "execution_count": 21,
   "metadata": {},
   "outputs": [
    {
     "output_type": "execute_result",
     "data": {
      "text/plain": [
       "          date  newCases  newCases_trend  newCases_cycle dia_da_semana\n",
       "0   2020-03-13         2             0.0            10.0        Friday\n",
       "1   2020-03-14         0             0.0             6.0      Saturday\n",
       "2   2020-03-15         0             0.0             5.0        Sunday\n",
       "3   2020-03-16         0             0.0             3.0        Monday\n",
       "4   2020-03-17         0             0.0             2.0       Tuesday\n",
       "..         ...       ...             ...             ...           ...\n",
       "397 2021-04-14       820           756.0            64.0     Wednesday\n",
       "398 2021-04-15       893           741.0           152.0      Thursday\n",
       "399 2021-04-16       773           725.0            48.0        Friday\n",
       "400 2021-04-17       701           708.0            -7.0      Saturday\n",
       "401 2021-04-18       484           692.0          -208.0        Sunday\n",
       "\n",
       "[402 rows x 5 columns]"
      ],
      "text/html": "<div>\n<style scoped>\n    .dataframe tbody tr th:only-of-type {\n        vertical-align: middle;\n    }\n\n    .dataframe tbody tr th {\n        vertical-align: top;\n    }\n\n    .dataframe thead th {\n        text-align: right;\n    }\n</style>\n<table border=\"1\" class=\"dataframe\">\n  <thead>\n    <tr style=\"text-align: right;\">\n      <th></th>\n      <th>date</th>\n      <th>newCases</th>\n      <th>newCases_trend</th>\n      <th>newCases_cycle</th>\n      <th>dia_da_semana</th>\n    </tr>\n  </thead>\n  <tbody>\n    <tr>\n      <th>0</th>\n      <td>2020-03-13</td>\n      <td>2</td>\n      <td>0.0</td>\n      <td>10.0</td>\n      <td>Friday</td>\n    </tr>\n    <tr>\n      <th>1</th>\n      <td>2020-03-14</td>\n      <td>0</td>\n      <td>0.0</td>\n      <td>6.0</td>\n      <td>Saturday</td>\n    </tr>\n    <tr>\n      <th>2</th>\n      <td>2020-03-15</td>\n      <td>0</td>\n      <td>0.0</td>\n      <td>5.0</td>\n      <td>Sunday</td>\n    </tr>\n    <tr>\n      <th>3</th>\n      <td>2020-03-16</td>\n      <td>0</td>\n      <td>0.0</td>\n      <td>3.0</td>\n      <td>Monday</td>\n    </tr>\n    <tr>\n      <th>4</th>\n      <td>2020-03-17</td>\n      <td>0</td>\n      <td>0.0</td>\n      <td>2.0</td>\n      <td>Tuesday</td>\n    </tr>\n    <tr>\n      <th>...</th>\n      <td>...</td>\n      <td>...</td>\n      <td>...</td>\n      <td>...</td>\n      <td>...</td>\n    </tr>\n    <tr>\n      <th>397</th>\n      <td>2021-04-14</td>\n      <td>820</td>\n      <td>756.0</td>\n      <td>64.0</td>\n      <td>Wednesday</td>\n    </tr>\n    <tr>\n      <th>398</th>\n      <td>2021-04-15</td>\n      <td>893</td>\n      <td>741.0</td>\n      <td>152.0</td>\n      <td>Thursday</td>\n    </tr>\n    <tr>\n      <th>399</th>\n      <td>2021-04-16</td>\n      <td>773</td>\n      <td>725.0</td>\n      <td>48.0</td>\n      <td>Friday</td>\n    </tr>\n    <tr>\n      <th>400</th>\n      <td>2021-04-17</td>\n      <td>701</td>\n      <td>708.0</td>\n      <td>-7.0</td>\n      <td>Saturday</td>\n    </tr>\n    <tr>\n      <th>401</th>\n      <td>2021-04-18</td>\n      <td>484</td>\n      <td>692.0</td>\n      <td>-208.0</td>\n      <td>Sunday</td>\n    </tr>\n  </tbody>\n</table>\n<p>402 rows × 5 columns</p>\n</div>"
     },
     "metadata": {},
     "execution_count": 21
    }
   ],
   "source": [
    "df_cases"
   ]
  },
  {
   "cell_type": "code",
   "execution_count": 97,
   "metadata": {},
   "outputs": [],
   "source": [
    "max_prediction_length = 14\n",
    "max_encoder_length = 24\n",
    "training_cutoff = df_cases[\"time_idx\"].max() - max_prediction_length"
   ]
  },
  {
   "cell_type": "code",
   "execution_count": 22,
   "metadata": {},
   "outputs": [
    {
     "output_type": "error",
     "ename": "AttributeError",
     "evalue": "'DataFrame' object has no attribute 'time_idx'",
     "traceback": [
      "\u001b[1;31m---------------------------------------------------------------------------\u001b[0m",
      "\u001b[1;31mAttributeError\u001b[0m                            Traceback (most recent call last)",
      "\u001b[1;32m<ipython-input-22-bef07d13bfd2>\u001b[0m in \u001b[0;36m<module>\u001b[1;34m\u001b[0m\n\u001b[0;32m      1\u001b[0m training = TimeSeriesDataSet(\n\u001b[1;32m----> 2\u001b[1;33m     \u001b[0mdf_cases\u001b[0m\u001b[1;33m[\u001b[0m\u001b[1;32mlambda\u001b[0m \u001b[0mx\u001b[0m\u001b[1;33m:\u001b[0m \u001b[0mx\u001b[0m\u001b[1;33m.\u001b[0m\u001b[0mtime_idx\u001b[0m \u001b[1;33m<=\u001b[0m \u001b[0mtraining_cutoff\u001b[0m\u001b[1;33m]\u001b[0m\u001b[1;33m,\u001b[0m\u001b[1;33m\u001b[0m\u001b[1;33m\u001b[0m\u001b[0m\n\u001b[0m\u001b[0;32m      3\u001b[0m     \u001b[0mtime_idx\u001b[0m\u001b[1;33m=\u001b[0m\u001b[1;34m\"time_idx\"\u001b[0m\u001b[1;33m,\u001b[0m\u001b[1;33m\u001b[0m\u001b[1;33m\u001b[0m\u001b[0m\n\u001b[0;32m      4\u001b[0m     \u001b[0mtarget\u001b[0m\u001b[1;33m=\u001b[0m\u001b[1;34m\"newCases\"\u001b[0m\u001b[1;33m,\u001b[0m\u001b[1;33m\u001b[0m\u001b[1;33m\u001b[0m\u001b[0m\n\u001b[0;32m      5\u001b[0m     \u001b[0mgroup_ids\u001b[0m\u001b[1;33m=\u001b[0m\u001b[1;33m[\u001b[0m\u001b[1;34m\"dia_da_semana\"\u001b[0m\u001b[1;33m]\u001b[0m\u001b[1;33m,\u001b[0m\u001b[1;33m\u001b[0m\u001b[1;33m\u001b[0m\u001b[0m\n",
      "\u001b[1;32m~\\miniconda3\\lib\\site-packages\\pandas\\core\\frame.py\u001b[0m in \u001b[0;36m__getitem__\u001b[1;34m(self, key)\u001b[0m\n\u001b[0;32m   2987\u001b[0m     \u001b[1;32mdef\u001b[0m \u001b[0m__getitem__\u001b[0m\u001b[1;33m(\u001b[0m\u001b[0mself\u001b[0m\u001b[1;33m,\u001b[0m \u001b[0mkey\u001b[0m\u001b[1;33m)\u001b[0m\u001b[1;33m:\u001b[0m\u001b[1;33m\u001b[0m\u001b[1;33m\u001b[0m\u001b[0m\n\u001b[0;32m   2988\u001b[0m         \u001b[0mkey\u001b[0m \u001b[1;33m=\u001b[0m \u001b[0mlib\u001b[0m\u001b[1;33m.\u001b[0m\u001b[0mitem_from_zerodim\u001b[0m\u001b[1;33m(\u001b[0m\u001b[0mkey\u001b[0m\u001b[1;33m)\u001b[0m\u001b[1;33m\u001b[0m\u001b[1;33m\u001b[0m\u001b[0m\n\u001b[1;32m-> 2989\u001b[1;33m         \u001b[0mkey\u001b[0m \u001b[1;33m=\u001b[0m \u001b[0mcom\u001b[0m\u001b[1;33m.\u001b[0m\u001b[0mapply_if_callable\u001b[0m\u001b[1;33m(\u001b[0m\u001b[0mkey\u001b[0m\u001b[1;33m,\u001b[0m \u001b[0mself\u001b[0m\u001b[1;33m)\u001b[0m\u001b[1;33m\u001b[0m\u001b[1;33m\u001b[0m\u001b[0m\n\u001b[0m\u001b[0;32m   2990\u001b[0m \u001b[1;33m\u001b[0m\u001b[0m\n\u001b[0;32m   2991\u001b[0m         \u001b[1;32mif\u001b[0m \u001b[0mis_hashable\u001b[0m\u001b[1;33m(\u001b[0m\u001b[0mkey\u001b[0m\u001b[1;33m)\u001b[0m\u001b[1;33m:\u001b[0m\u001b[1;33m\u001b[0m\u001b[1;33m\u001b[0m\u001b[0m\n",
      "\u001b[1;32m~\\miniconda3\\lib\\site-packages\\pandas\\core\\common.py\u001b[0m in \u001b[0;36mapply_if_callable\u001b[1;34m(maybe_callable, obj, **kwargs)\u001b[0m\n\u001b[0;32m    327\u001b[0m     \"\"\"\n\u001b[0;32m    328\u001b[0m     \u001b[1;32mif\u001b[0m \u001b[0mcallable\u001b[0m\u001b[1;33m(\u001b[0m\u001b[0mmaybe_callable\u001b[0m\u001b[1;33m)\u001b[0m\u001b[1;33m:\u001b[0m\u001b[1;33m\u001b[0m\u001b[1;33m\u001b[0m\u001b[0m\n\u001b[1;32m--> 329\u001b[1;33m         \u001b[1;32mreturn\u001b[0m \u001b[0mmaybe_callable\u001b[0m\u001b[1;33m(\u001b[0m\u001b[0mobj\u001b[0m\u001b[1;33m,\u001b[0m \u001b[1;33m**\u001b[0m\u001b[0mkwargs\u001b[0m\u001b[1;33m)\u001b[0m\u001b[1;33m\u001b[0m\u001b[1;33m\u001b[0m\u001b[0m\n\u001b[0m\u001b[0;32m    330\u001b[0m \u001b[1;33m\u001b[0m\u001b[0m\n\u001b[0;32m    331\u001b[0m     \u001b[1;32mreturn\u001b[0m \u001b[0mmaybe_callable\u001b[0m\u001b[1;33m\u001b[0m\u001b[1;33m\u001b[0m\u001b[0m\n",
      "\u001b[1;32m<ipython-input-22-bef07d13bfd2>\u001b[0m in \u001b[0;36m<lambda>\u001b[1;34m(x)\u001b[0m\n\u001b[0;32m      1\u001b[0m training = TimeSeriesDataSet(\n\u001b[1;32m----> 2\u001b[1;33m     \u001b[0mdf_cases\u001b[0m\u001b[1;33m[\u001b[0m\u001b[1;32mlambda\u001b[0m \u001b[0mx\u001b[0m\u001b[1;33m:\u001b[0m \u001b[0mx\u001b[0m\u001b[1;33m.\u001b[0m\u001b[0mtime_idx\u001b[0m \u001b[1;33m<=\u001b[0m \u001b[0mtraining_cutoff\u001b[0m\u001b[1;33m]\u001b[0m\u001b[1;33m,\u001b[0m\u001b[1;33m\u001b[0m\u001b[1;33m\u001b[0m\u001b[0m\n\u001b[0m\u001b[0;32m      3\u001b[0m     \u001b[0mtime_idx\u001b[0m\u001b[1;33m=\u001b[0m\u001b[1;34m\"time_idx\"\u001b[0m\u001b[1;33m,\u001b[0m\u001b[1;33m\u001b[0m\u001b[1;33m\u001b[0m\u001b[0m\n\u001b[0;32m      4\u001b[0m     \u001b[0mtarget\u001b[0m\u001b[1;33m=\u001b[0m\u001b[1;34m\"newCases\"\u001b[0m\u001b[1;33m,\u001b[0m\u001b[1;33m\u001b[0m\u001b[1;33m\u001b[0m\u001b[0m\n\u001b[0;32m      5\u001b[0m     \u001b[0mgroup_ids\u001b[0m\u001b[1;33m=\u001b[0m\u001b[1;33m[\u001b[0m\u001b[1;34m\"dia_da_semana\"\u001b[0m\u001b[1;33m]\u001b[0m\u001b[1;33m,\u001b[0m\u001b[1;33m\u001b[0m\u001b[1;33m\u001b[0m\u001b[0m\n",
      "\u001b[1;32m~\\miniconda3\\lib\\site-packages\\pandas\\core\\generic.py\u001b[0m in \u001b[0;36m__getattr__\u001b[1;34m(self, name)\u001b[0m\n\u001b[0;32m   5463\u001b[0m             \u001b[1;32mif\u001b[0m \u001b[0mself\u001b[0m\u001b[1;33m.\u001b[0m\u001b[0m_info_axis\u001b[0m\u001b[1;33m.\u001b[0m\u001b[0m_can_hold_identifiers_and_holds_name\u001b[0m\u001b[1;33m(\u001b[0m\u001b[0mname\u001b[0m\u001b[1;33m)\u001b[0m\u001b[1;33m:\u001b[0m\u001b[1;33m\u001b[0m\u001b[1;33m\u001b[0m\u001b[0m\n\u001b[0;32m   5464\u001b[0m                 \u001b[1;32mreturn\u001b[0m \u001b[0mself\u001b[0m\u001b[1;33m[\u001b[0m\u001b[0mname\u001b[0m\u001b[1;33m]\u001b[0m\u001b[1;33m\u001b[0m\u001b[1;33m\u001b[0m\u001b[0m\n\u001b[1;32m-> 5465\u001b[1;33m             \u001b[1;32mreturn\u001b[0m \u001b[0mobject\u001b[0m\u001b[1;33m.\u001b[0m\u001b[0m__getattribute__\u001b[0m\u001b[1;33m(\u001b[0m\u001b[0mself\u001b[0m\u001b[1;33m,\u001b[0m \u001b[0mname\u001b[0m\u001b[1;33m)\u001b[0m\u001b[1;33m\u001b[0m\u001b[1;33m\u001b[0m\u001b[0m\n\u001b[0m\u001b[0;32m   5466\u001b[0m \u001b[1;33m\u001b[0m\u001b[0m\n\u001b[0;32m   5467\u001b[0m     \u001b[1;32mdef\u001b[0m \u001b[0m__setattr__\u001b[0m\u001b[1;33m(\u001b[0m\u001b[0mself\u001b[0m\u001b[1;33m,\u001b[0m \u001b[0mname\u001b[0m\u001b[1;33m:\u001b[0m \u001b[0mstr\u001b[0m\u001b[1;33m,\u001b[0m \u001b[0mvalue\u001b[0m\u001b[1;33m)\u001b[0m \u001b[1;33m->\u001b[0m \u001b[1;32mNone\u001b[0m\u001b[1;33m:\u001b[0m\u001b[1;33m\u001b[0m\u001b[1;33m\u001b[0m\u001b[0m\n",
      "\u001b[1;31mAttributeError\u001b[0m: 'DataFrame' object has no attribute 'time_idx'"
     ]
    }
   ],
   "source": [
    "training = TimeSeriesDataSet(\n",
    "    df_cases[lambda x: x.time_idx <= training_cutoff],\n",
    "    time_idx=\"time_idx\",\n",
    "    target=\"newCases\",\n",
    "    group_ids=[\"dia_da_semana\"],\n",
    "    min_encoder_length=max_encoder_length // 2,  # keep encoder length long (as it is in the validation set)\n",
    "    max_encoder_length=max_encoder_length,\n",
    "    min_prediction_length=1,\n",
    "    max_prediction_length=max_prediction_length,\n",
    "    static_categoricals=[\"dia_da_semana\"],\n",
    "    time_varying_unknown_reals=[\n",
    "        \"newCases\",\n",
    "        \"newCases_trend\",\n",
    "        \"newCases_cycle\",\n",
    "    ],\n",
    "    target_normalizer=GroupNormalizer(\n",
    "        groups=[\"dia_da_semana\"], transformation=\"softplus\"\n",
    "    ),  # use softplus and normalize by group\n",
    "    add_relative_time_idx=True,\n",
    "    add_target_scales=True,\n",
    "    add_encoder_length=True\n",
    "    )"
   ]
  },
  {
   "cell_type": "code",
   "execution_count": 102,
   "metadata": {},
   "outputs": [
    {
     "output_type": "execute_result",
     "data": {
      "text/plain": [
       "          date  newCases  newCases_trend  newCases_cycle dia_da_semana  \\\n",
       "0   2020-03-13         2             0.0            10.0        Friday   \n",
       "1   2020-03-14         0             0.0             6.0      Saturday   \n",
       "2   2020-03-15         0             0.0             5.0        Sunday   \n",
       "3   2020-03-16         0             0.0             3.0        Monday   \n",
       "4   2020-03-17         0             0.0             2.0       Tuesday   \n",
       "..         ...       ...             ...             ...           ...   \n",
       "396 2021-04-13       995           797.0           198.0       Tuesday   \n",
       "397 2021-04-14       820           787.0            33.0     Wednesday   \n",
       "398 2021-04-15       893           776.0           117.0      Thursday   \n",
       "399 2021-04-16       773           765.0             8.0        Friday   \n",
       "400 2021-04-17       701           755.0           -54.0      Saturday   \n",
       "\n",
       "     time_idx  \n",
       "0           0  \n",
       "1           1  \n",
       "2           2  \n",
       "3           3  \n",
       "4           4  \n",
       "..        ...  \n",
       "396       396  \n",
       "397       397  \n",
       "398       398  \n",
       "399       399  \n",
       "400       400  \n",
       "\n",
       "[401 rows x 6 columns]"
      ],
      "text/html": "<div>\n<style scoped>\n    .dataframe tbody tr th:only-of-type {\n        vertical-align: middle;\n    }\n\n    .dataframe tbody tr th {\n        vertical-align: top;\n    }\n\n    .dataframe thead th {\n        text-align: right;\n    }\n</style>\n<table border=\"1\" class=\"dataframe\">\n  <thead>\n    <tr style=\"text-align: right;\">\n      <th></th>\n      <th>date</th>\n      <th>newCases</th>\n      <th>newCases_trend</th>\n      <th>newCases_cycle</th>\n      <th>dia_da_semana</th>\n      <th>time_idx</th>\n    </tr>\n  </thead>\n  <tbody>\n    <tr>\n      <th>0</th>\n      <td>2020-03-13</td>\n      <td>2</td>\n      <td>0.0</td>\n      <td>10.0</td>\n      <td>Friday</td>\n      <td>0</td>\n    </tr>\n    <tr>\n      <th>1</th>\n      <td>2020-03-14</td>\n      <td>0</td>\n      <td>0.0</td>\n      <td>6.0</td>\n      <td>Saturday</td>\n      <td>1</td>\n    </tr>\n    <tr>\n      <th>2</th>\n      <td>2020-03-15</td>\n      <td>0</td>\n      <td>0.0</td>\n      <td>5.0</td>\n      <td>Sunday</td>\n      <td>2</td>\n    </tr>\n    <tr>\n      <th>3</th>\n      <td>2020-03-16</td>\n      <td>0</td>\n      <td>0.0</td>\n      <td>3.0</td>\n      <td>Monday</td>\n      <td>3</td>\n    </tr>\n    <tr>\n      <th>4</th>\n      <td>2020-03-17</td>\n      <td>0</td>\n      <td>0.0</td>\n      <td>2.0</td>\n      <td>Tuesday</td>\n      <td>4</td>\n    </tr>\n    <tr>\n      <th>...</th>\n      <td>...</td>\n      <td>...</td>\n      <td>...</td>\n      <td>...</td>\n      <td>...</td>\n      <td>...</td>\n    </tr>\n    <tr>\n      <th>396</th>\n      <td>2021-04-13</td>\n      <td>995</td>\n      <td>797.0</td>\n      <td>198.0</td>\n      <td>Tuesday</td>\n      <td>396</td>\n    </tr>\n    <tr>\n      <th>397</th>\n      <td>2021-04-14</td>\n      <td>820</td>\n      <td>787.0</td>\n      <td>33.0</td>\n      <td>Wednesday</td>\n      <td>397</td>\n    </tr>\n    <tr>\n      <th>398</th>\n      <td>2021-04-15</td>\n      <td>893</td>\n      <td>776.0</td>\n      <td>117.0</td>\n      <td>Thursday</td>\n      <td>398</td>\n    </tr>\n    <tr>\n      <th>399</th>\n      <td>2021-04-16</td>\n      <td>773</td>\n      <td>765.0</td>\n      <td>8.0</td>\n      <td>Friday</td>\n      <td>399</td>\n    </tr>\n    <tr>\n      <th>400</th>\n      <td>2021-04-17</td>\n      <td>701</td>\n      <td>755.0</td>\n      <td>-54.0</td>\n      <td>Saturday</td>\n      <td>400</td>\n    </tr>\n  </tbody>\n</table>\n<p>401 rows × 6 columns</p>\n</div>"
     },
     "metadata": {},
     "execution_count": 102
    }
   ],
   "source": [
    "df_cases"
   ]
  },
  {
   "cell_type": "code",
   "execution_count": 85,
   "metadata": {},
   "outputs": [
    {
     "output_type": "stream",
     "name": "stderr",
     "text": [
      "<ipython-input-85-5790d343fddf>:1: SettingWithCopyWarning: \nA value is trying to be set on a copy of a slice from a DataFrame.\nTry using .loc[row_indexer,col_indexer] = value instead\n\nSee the caveats in the documentation: https://pandas.pydata.org/pandas-docs/stable/user_guide/indexing.html#returning-a-view-versus-a-copy\n  df_cases[\"time_idx\"] = [i for i in range(len(df_cases['date']))]\n"
     ]
    }
   ],
   "source": [
    "df_cases[\"time_idx\"] = [i for i in range(len(df_cases['date']))]"
   ]
  },
  {
   "cell_type": "code",
   "execution_count": 86,
   "metadata": {},
   "outputs": [
    {
     "output_type": "execute_result",
     "data": {
      "text/plain": [
       "          date  newCases  newCases_trend  newCases_cycle dia_da_semana  \\\n",
       "0   2020-03-13         2             0.0            10.0        Friday   \n",
       "1   2020-03-14         0             0.0             6.0      Saturday   \n",
       "2   2020-03-15         0             0.0             5.0        Sunday   \n",
       "3   2020-03-16         0             0.0             3.0        Monday   \n",
       "4   2020-03-17         0             0.0             2.0       Tuesday   \n",
       "..         ...       ...             ...             ...           ...   \n",
       "396 2021-04-13       995           797.0           198.0       Tuesday   \n",
       "397 2021-04-14       820           787.0            33.0     Wednesday   \n",
       "398 2021-04-15       893           776.0           117.0      Thursday   \n",
       "399 2021-04-16       773           765.0             8.0        Friday   \n",
       "400 2021-04-17       701           755.0           -54.0      Saturday   \n",
       "\n",
       "     time_idx  \n",
       "0           0  \n",
       "1           1  \n",
       "2           2  \n",
       "3           3  \n",
       "4           4  \n",
       "..        ...  \n",
       "396       396  \n",
       "397       397  \n",
       "398       398  \n",
       "399       399  \n",
       "400       400  \n",
       "\n",
       "[401 rows x 6 columns]"
      ],
      "text/html": "<div>\n<style scoped>\n    .dataframe tbody tr th:only-of-type {\n        vertical-align: middle;\n    }\n\n    .dataframe tbody tr th {\n        vertical-align: top;\n    }\n\n    .dataframe thead th {\n        text-align: right;\n    }\n</style>\n<table border=\"1\" class=\"dataframe\">\n  <thead>\n    <tr style=\"text-align: right;\">\n      <th></th>\n      <th>date</th>\n      <th>newCases</th>\n      <th>newCases_trend</th>\n      <th>newCases_cycle</th>\n      <th>dia_da_semana</th>\n      <th>time_idx</th>\n    </tr>\n  </thead>\n  <tbody>\n    <tr>\n      <th>0</th>\n      <td>2020-03-13</td>\n      <td>2</td>\n      <td>0.0</td>\n      <td>10.0</td>\n      <td>Friday</td>\n      <td>0</td>\n    </tr>\n    <tr>\n      <th>1</th>\n      <td>2020-03-14</td>\n      <td>0</td>\n      <td>0.0</td>\n      <td>6.0</td>\n      <td>Saturday</td>\n      <td>1</td>\n    </tr>\n    <tr>\n      <th>2</th>\n      <td>2020-03-15</td>\n      <td>0</td>\n      <td>0.0</td>\n      <td>5.0</td>\n      <td>Sunday</td>\n      <td>2</td>\n    </tr>\n    <tr>\n      <th>3</th>\n      <td>2020-03-16</td>\n      <td>0</td>\n      <td>0.0</td>\n      <td>3.0</td>\n      <td>Monday</td>\n      <td>3</td>\n    </tr>\n    <tr>\n      <th>4</th>\n      <td>2020-03-17</td>\n      <td>0</td>\n      <td>0.0</td>\n      <td>2.0</td>\n      <td>Tuesday</td>\n      <td>4</td>\n    </tr>\n    <tr>\n      <th>...</th>\n      <td>...</td>\n      <td>...</td>\n      <td>...</td>\n      <td>...</td>\n      <td>...</td>\n      <td>...</td>\n    </tr>\n    <tr>\n      <th>396</th>\n      <td>2021-04-13</td>\n      <td>995</td>\n      <td>797.0</td>\n      <td>198.0</td>\n      <td>Tuesday</td>\n      <td>396</td>\n    </tr>\n    <tr>\n      <th>397</th>\n      <td>2021-04-14</td>\n      <td>820</td>\n      <td>787.0</td>\n      <td>33.0</td>\n      <td>Wednesday</td>\n      <td>397</td>\n    </tr>\n    <tr>\n      <th>398</th>\n      <td>2021-04-15</td>\n      <td>893</td>\n      <td>776.0</td>\n      <td>117.0</td>\n      <td>Thursday</td>\n      <td>398</td>\n    </tr>\n    <tr>\n      <th>399</th>\n      <td>2021-04-16</td>\n      <td>773</td>\n      <td>765.0</td>\n      <td>8.0</td>\n      <td>Friday</td>\n      <td>399</td>\n    </tr>\n    <tr>\n      <th>400</th>\n      <td>2021-04-17</td>\n      <td>701</td>\n      <td>755.0</td>\n      <td>-54.0</td>\n      <td>Saturday</td>\n      <td>400</td>\n    </tr>\n  </tbody>\n</table>\n<p>401 rows × 6 columns</p>\n</div>"
     },
     "metadata": {},
     "execution_count": 86
    }
   ],
   "source": [
    "df_cases"
   ]
  },
  {
   "cell_type": "code",
   "execution_count": 99,
   "metadata": {},
   "outputs": [
    {
     "output_type": "execute_result",
     "data": {
      "text/plain": [
       "          date  newCases  newCases_trend  newCases_cycle dia_da_semana  \\\n",
       "0   2020-03-13         2             0.0            10.0        Friday   \n",
       "1   2020-03-14         0             0.0             6.0      Saturday   \n",
       "2   2020-03-15         0             0.0             5.0        Sunday   \n",
       "3   2020-03-16         0             0.0             3.0        Monday   \n",
       "4   2020-03-17         0             0.0             2.0       Tuesday   \n",
       "..         ...       ...             ...             ...           ...   \n",
       "382 2021-03-30      1490           946.0           544.0       Tuesday   \n",
       "383 2021-03-31      1313           936.0           377.0     Wednesday   \n",
       "384 2021-04-01      1165           926.0           239.0      Thursday   \n",
       "385 2021-04-02       830           915.0           -85.0        Friday   \n",
       "386 2021-04-03       746           904.0          -158.0      Saturday   \n",
       "\n",
       "     time_idx  \n",
       "0           0  \n",
       "1           1  \n",
       "2           2  \n",
       "3           3  \n",
       "4           4  \n",
       "..        ...  \n",
       "382       382  \n",
       "383       383  \n",
       "384       384  \n",
       "385       385  \n",
       "386       386  \n",
       "\n",
       "[387 rows x 6 columns]"
      ],
      "text/html": "<div>\n<style scoped>\n    .dataframe tbody tr th:only-of-type {\n        vertical-align: middle;\n    }\n\n    .dataframe tbody tr th {\n        vertical-align: top;\n    }\n\n    .dataframe thead th {\n        text-align: right;\n    }\n</style>\n<table border=\"1\" class=\"dataframe\">\n  <thead>\n    <tr style=\"text-align: right;\">\n      <th></th>\n      <th>date</th>\n      <th>newCases</th>\n      <th>newCases_trend</th>\n      <th>newCases_cycle</th>\n      <th>dia_da_semana</th>\n      <th>time_idx</th>\n    </tr>\n  </thead>\n  <tbody>\n    <tr>\n      <th>0</th>\n      <td>2020-03-13</td>\n      <td>2</td>\n      <td>0.0</td>\n      <td>10.0</td>\n      <td>Friday</td>\n      <td>0</td>\n    </tr>\n    <tr>\n      <th>1</th>\n      <td>2020-03-14</td>\n      <td>0</td>\n      <td>0.0</td>\n      <td>6.0</td>\n      <td>Saturday</td>\n      <td>1</td>\n    </tr>\n    <tr>\n      <th>2</th>\n      <td>2020-03-15</td>\n      <td>0</td>\n      <td>0.0</td>\n      <td>5.0</td>\n      <td>Sunday</td>\n      <td>2</td>\n    </tr>\n    <tr>\n      <th>3</th>\n      <td>2020-03-16</td>\n      <td>0</td>\n      <td>0.0</td>\n      <td>3.0</td>\n      <td>Monday</td>\n      <td>3</td>\n    </tr>\n    <tr>\n      <th>4</th>\n      <td>2020-03-17</td>\n      <td>0</td>\n      <td>0.0</td>\n      <td>2.0</td>\n      <td>Tuesday</td>\n      <td>4</td>\n    </tr>\n    <tr>\n      <th>...</th>\n      <td>...</td>\n      <td>...</td>\n      <td>...</td>\n      <td>...</td>\n      <td>...</td>\n      <td>...</td>\n    </tr>\n    <tr>\n      <th>382</th>\n      <td>2021-03-30</td>\n      <td>1490</td>\n      <td>946.0</td>\n      <td>544.0</td>\n      <td>Tuesday</td>\n      <td>382</td>\n    </tr>\n    <tr>\n      <th>383</th>\n      <td>2021-03-31</td>\n      <td>1313</td>\n      <td>936.0</td>\n      <td>377.0</td>\n      <td>Wednesday</td>\n      <td>383</td>\n    </tr>\n    <tr>\n      <th>384</th>\n      <td>2021-04-01</td>\n      <td>1165</td>\n      <td>926.0</td>\n      <td>239.0</td>\n      <td>Thursday</td>\n      <td>384</td>\n    </tr>\n    <tr>\n      <th>385</th>\n      <td>2021-04-02</td>\n      <td>830</td>\n      <td>915.0</td>\n      <td>-85.0</td>\n      <td>Friday</td>\n      <td>385</td>\n    </tr>\n    <tr>\n      <th>386</th>\n      <td>2021-04-03</td>\n      <td>746</td>\n      <td>904.0</td>\n      <td>-158.0</td>\n      <td>Saturday</td>\n      <td>386</td>\n    </tr>\n  </tbody>\n</table>\n<p>387 rows × 6 columns</p>\n</div>"
     },
     "metadata": {},
     "execution_count": 99
    }
   ],
   "source": []
  },
  {
   "cell_type": "code",
   "execution_count": null,
   "metadata": {},
   "outputs": [],
   "source": []
  }
 ],
 "metadata": {
  "kernelspec": {
   "display_name": "base",
   "language": "python",
   "name": "base"
  },
  "language_info": {
   "codemirror_mode": {
    "name": "ipython",
    "version": 3
   },
   "file_extension": ".py",
   "mimetype": "text/x-python",
   "name": "python",
   "nbconvert_exporter": "python",
   "pygments_lexer": "ipython3",
   "version": "3.8.5-final"
  }
 },
 "nbformat": 4,
 "nbformat_minor": 2
}