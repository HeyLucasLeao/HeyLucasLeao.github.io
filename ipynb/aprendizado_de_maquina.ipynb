{
 "cells": [
  {
   "cell_type": "markdown",
   "metadata": {},
   "source": [
    "# Aprendizado de Máquina"
   ]
  },
  {
   "cell_type": "markdown",
   "metadata": {},
   "source": [
    "### Este documento apenas tem objetivo para fins exploratórios. Ele não agrega a nada sobre o relatório principal. Nele, testei e explorei possibilidades acerca de utilizar algoritmos envolvendo Gradient Boosting, porém, devido a inconscitência dos dados, isto é, ser um Random Walk extremamente volátil, junto a um desbalanceamento de emissões de casos, tornou-se dificultoso um trabalho para se chegar em um modelo que apresentasse uma acurácia consistente, se baseando no erro percentual absoluto médio simétrico."
   ]
  },
  {
   "cell_type": "code",
   "execution_count": 1,
   "metadata": {
    "execution": {
     "iopub.execute_input": "2021-01-06T10:23:24.380140Z",
     "iopub.status.busy": "2021-01-06T10:23:24.379116Z",
     "iopub.status.idle": "2021-01-06T10:23:36.317396Z",
     "shell.execute_reply": "2021-01-06T10:23:36.316399Z"
    }
   },
   "outputs": [],
   "source": [
    "import plotly.express as px\n",
    "import pandas as pd\n",
    "import numpy as np\n",
    "import requests\n",
    "import gzip\n",
    "import plotly.graph_objects as go"
   ]
  },
  {
   "cell_type": "code",
   "execution_count": 2,
   "metadata": {},
   "outputs": [],
   "source": [
    "from sktime.forecasting.model_selection import temporal_train_test_split\n",
    "from sktime.performance_metrics.forecasting import smape_loss"
   ]
  },
  {
   "cell_type": "code",
   "execution_count": 3,
   "metadata": {},
   "outputs": [],
   "source": [
    "from numpy import ravel\n",
    "import sklearn.model_selection\n",
    "from sktime.forecasting.compose import make_reduction\n",
    "from skopt import gp_minimize\n",
    "from lightgbm import LGBMRegressor\n",
    "from statsmodels.tsa.filters.hp_filter import hpfilter\n",
    "from sktime.forecasting.model_evaluation import evaluate\n",
    "from sktime.forecasting.model_selection import ExpandingWindowSplitter\n",
    "from sktime.utils.plotting import plot_series\n",
    "from sktime.forecasting.model_selection import ForecastingGridSearchCV"
   ]
  },
  {
   "cell_type": "code",
   "execution_count": 4,
   "metadata": {},
   "outputs": [],
   "source": [
    "from sktime.forecasting.naive import NaiveForecaster\n",
    "from sklearn.model_selection import train_test_split\n",
    "import torch\n",
    "import torch.nn as nn\n",
    "import torch.nn.functional as F\n",
    "import torch.optim as optim"
   ]
  },
  {
   "cell_type": "code",
   "execution_count": 5,
   "metadata": {},
   "outputs": [],
   "source": [
    "import pytorch_lightning as pl\n",
    "from pytorch_lightning.callbacks import EarlyStopping, LearningRateMonitor\n",
    "\n",
    "from pytorch_forecasting import TimeSeriesDataSet, TemporalFusionTransformer"
   ]
  },
  {
   "cell_type": "code",
   "execution_count": 6,
   "metadata": {},
   "outputs": [],
   "source": [
    "SEED = 4"
   ]
  },
  {
   "cell_type": "code",
   "execution_count": null,
   "metadata": {
    "execution": {
     "iopub.execute_input": "2021-01-06T10:23:48.381745Z",
     "iopub.status.busy": "2021-01-06T10:23:48.380746Z",
     "iopub.status.idle": "2021-01-06T10:23:56.739574Z",
     "shell.execute_reply": "2021-01-06T10:23:56.739574Z"
    }
   },
   "outputs": [],
   "source": [
    "url = 'https://github.com/wcota/covid19br/blob/master/cases-brazil-cities-time.csv.gz?raw=true'\n",
    "r = requests.get(url, allow_redirects=True)\n",
    "open('data.csv.gz','wb').write(r.content)\n",
    "gz = gzip.open('data.csv.gz')\n",
    "df = pd.read_csv(gz)"
   ]
  },
  {
   "cell_type": "markdown",
   "metadata": {},
   "source": [
    "## Validação de Modelos"
   ]
  },
  {
   "cell_type": "code",
   "execution_count": null,
   "metadata": {
    "execution": {
     "iopub.execute_input": "2021-01-06T10:23:56.742565Z",
     "iopub.status.busy": "2021-01-06T10:23:56.742565Z",
     "iopub.status.idle": "2021-01-06T10:23:57.094021Z",
     "shell.execute_reply": "2021-01-06T10:23:57.092994Z"
    }
   },
   "outputs": [],
   "source": [
    "total_de_casos_amazonas = df.query(\"state == 'AM'\").groupby('date').sum()\n",
    "total_de_casos_amazonas.index = pd.to_datetime(total_de_casos_amazonas.index)\n",
    "total_de_casos_amazonas.index.freq = 'D'\n",
    "total_de_casos_amazonas.drop(columns=['epi_week', 'ibgeID', 'cod_RegiaoDeSaude'], inplace=True)\n",
    "total_de_casos_amazonas = total_de_casos_amazonas.iloc[:,:4]"
   ]
  },
  {
   "cell_type": "code",
   "execution_count": null,
   "metadata": {},
   "outputs": [],
   "source": [
    "def to_zero(x):\n",
    "    if x < 0:\n",
    "        return 0\n",
    "    return x"
   ]
  },
  {
   "cell_type": "code",
   "execution_count": null,
   "metadata": {},
   "outputs": [],
   "source": [
    "for col in total_de_casos_amazonas.columns:\n",
    "    cycle, trend = hpfilter(total_de_casos_amazonas[col])\n",
    "    total_de_casos_amazonas[col + '_' + 'cycle'] = cycle.round()\n",
    "    total_de_casos_amazonas[col + '_' + 'trend'] = trend.round()"
   ]
  },
  {
   "cell_type": "code",
   "execution_count": null,
   "metadata": {},
   "outputs": [],
   "source": [
    "dici = {'Monday': 1,\n",
    "       'Tuesday': 2,\n",
    "       'Wednesday': 3,\n",
    "       'Thursday': 4,\n",
    "       'Friday': 5,\n",
    "       'Saturday': 6,\n",
    "       'Sunday': 7}\n",
    "total_de_casos_amazonas['dia_da_semana'] = total_de_casos_amazonas.index.day_name()\n",
    "total_de_casos_amazonas['dia_da_semana'] = total_de_casos_amazonas['dia_da_semana'].apply(lambda x: dici[x])"
   ]
  },
  {
   "cell_type": "code",
   "execution_count": null,
   "metadata": {},
   "outputs": [],
   "source": [
    "total_de_casos_amazonas"
   ]
  },
  {
   "cell_type": "code",
   "execution_count": null,
   "metadata": {},
   "outputs": [],
   "source": []
  }
 ],
 "metadata": {
  "kernelspec": {
   "display_name": "base",
   "language": "python",
   "name": "base"
  },
  "language_info": {
   "codemirror_mode": {
    "name": "ipython",
    "version": 3
   },
   "file_extension": ".py",
   "mimetype": "text/x-python",
   "name": "python",
   "nbconvert_exporter": "python",
   "pygments_lexer": "ipython3",
   "version": "3.8.5"
  }
 },
 "nbformat": 4,
 "nbformat_minor": 2
}
