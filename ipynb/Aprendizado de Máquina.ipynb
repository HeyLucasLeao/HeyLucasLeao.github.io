{
 "cells": [
  {
   "cell_type": "markdown",
   "metadata": {},
   "source": [
    "# Aprendizado de Máquina"
   ]
  },
  {
   "cell_type": "code",
   "execution_count": 1,
   "metadata": {
    "execution": {
     "iopub.execute_input": "2021-01-06T10:23:24.380140Z",
     "iopub.status.busy": "2021-01-06T10:23:24.379116Z",
     "iopub.status.idle": "2021-01-06T10:23:36.317396Z",
     "shell.execute_reply": "2021-01-06T10:23:36.316399Z"
    }
   },
   "outputs": [],
   "source": [
    "import plotly.express as px\n",
    "import pandas as pd\n",
    "import numpy as np\n",
    "import requests\n",
    "import gzip\n",
    "import plotly.graph_objects as go\n",
    "import datetime\n",
    "from datetime import datetime\n",
    "from datetime import timedelta\n",
    "from calendar import month_abbr\n",
    "from os import environ\n",
    "from fbprophet.plot import plot_plotly"
   ]
  },
  {
   "cell_type": "code",
   "execution_count": 2,
   "metadata": {},
   "outputs": [],
   "source": [
    "from sktime.forecasting.model_selection import temporal_train_test_split\n",
    "from sktime.performance_metrics.forecasting import smape_loss"
   ]
  },
  {
   "cell_type": "code",
   "execution_count": 3,
   "metadata": {},
   "outputs": [],
   "source": [
    "from numpy import ravel\n",
    "import sklearn.model_selection\n",
    "from sktime.forecasting.compose import RecursiveRegressionForecaster\n",
    "from skopt import dummy_minimize\n",
    "from lightgbm import LGBMRegressor\n",
    "from sklearn.impute import SimpleImputer"
   ]
  },
  {
   "cell_type": "code",
   "execution_count": 4,
   "metadata": {
    "execution": {
     "iopub.execute_input": "2021-01-06T10:23:48.381745Z",
     "iopub.status.busy": "2021-01-06T10:23:48.380746Z",
     "iopub.status.idle": "2021-01-06T10:23:56.739574Z",
     "shell.execute_reply": "2021-01-06T10:23:56.739574Z"
    }
   },
   "outputs": [],
   "source": [
    "url = 'https://github.com/wcota/covid19br/blob/master/cases-brazil-cities-time.csv.gz?raw=true'\n",
    "r = requests.get(url, allow_redirects=True)\n",
    "open('data.csv.gz','wb').write(r.content)\n",
    "gz = gzip.open('data.csv.gz')\n",
    "df = pd.read_csv(gz)"
   ]
  },
  {
   "cell_type": "markdown",
   "metadata": {},
   "source": [
    "## Validação de Modelos"
   ]
  },
  {
   "cell_type": "code",
   "execution_count": 5,
   "metadata": {
    "execution": {
     "iopub.execute_input": "2021-01-06T10:23:56.742565Z",
     "iopub.status.busy": "2021-01-06T10:23:56.742565Z",
     "iopub.status.idle": "2021-01-06T10:23:57.094021Z",
     "shell.execute_reply": "2021-01-06T10:23:57.092994Z"
    }
   },
   "outputs": [],
   "source": [
    "total_de_casos_amazonas = df.query(\"state == 'AM'\").groupby('date').sum()\n",
    "total_de_casos_amazonas.index = pd.to_datetime(total_de_casos_amazonas.index)\n",
    "total_de_casos_amazonas.index.freq = 'D'"
   ]
  },
  {
   "cell_type": "code",
   "execution_count": 6,
   "metadata": {},
   "outputs": [],
   "source": [
    "SEED = 4"
   ]
  },
  {
   "cell_type": "code",
   "execution_count": 7,
   "metadata": {},
   "outputs": [],
   "source": [
    "dici = {'Monday': 'Segunda',\n",
    "'Tuesday': 'Terça',\n",
    "'Wednesday': 'Quarta',\n",
    "'Thursday': 'Quinta',\n",
    "'Friday': 'Sexta',\n",
    "'Saturday': 'Sábado',\n",
    "'Sunday': 'Domingo'}"
   ]
  },
  {
   "cell_type": "code",
   "execution_count": 8,
   "metadata": {},
   "outputs": [],
   "source": [
    "total_de_casos_amazonas['dia_da_semana'] = total_de_casos_amazonas.index.day_name()"
   ]
  },
  {
   "cell_type": "code",
   "execution_count": 9,
   "metadata": {},
   "outputs": [],
   "source": [
    "total_de_casos_amazonas['dia_da_semana'] = total_de_casos_amazonas['dia_da_semana'].apply(lambda x: dici[x])"
   ]
  },
  {
   "cell_type": "code",
   "execution_count": 10,
   "metadata": {},
   "outputs": [],
   "source": [
    "ignorar_dias = ['Segunda', 'Domingo']"
   ]
  },
  {
   "cell_type": "code",
   "execution_count": 11,
   "metadata": {},
   "outputs": [],
   "source": [
    "nova_coluna = []"
   ]
  },
  {
   "cell_type": "code",
   "execution_count": 12,
   "metadata": {},
   "outputs": [],
   "source": [
    "for i in range(len(total_de_casos_amazonas)):\n",
    "    if total_de_casos_amazonas['dia_da_semana'].iloc[i] in ignorar_dias:\n",
    "        nova_coluna.append(np.nan)\n",
    "    else:\n",
    "        nova_coluna.append(total_de_casos_amazonas['newCases'].iloc[i])"
   ]
  },
  {
   "cell_type": "code",
   "execution_count": 13,
   "metadata": {},
   "outputs": [],
   "source": [
    "total_de_casos_amazonas['newCases'] = nova_coluna"
   ]
  },
  {
   "cell_type": "code",
   "execution_count": 14,
   "metadata": {},
   "outputs": [],
   "source": [
    "imputer = SimpleImputer(missing_values=np.nan,strategy='median')\n",
    "imputer = imputer.fit_transform(total_de_casos_amazonas.iloc[:,:-1])"
   ]
  },
  {
   "cell_type": "code",
   "execution_count": 15,
   "metadata": {},
   "outputs": [],
   "source": [
    "total_de_casos_amazonas.iloc[:,:-1] = imputer"
   ]
  },
  {
   "cell_type": "code",
   "execution_count": 16,
   "metadata": {},
   "outputs": [],
   "source": [
    "total_de_casos_amazonas.newCases = total_de_casos_amazonas.newCases.round()"
   ]
  },
  {
   "cell_type": "code",
   "execution_count": 17,
   "metadata": {},
   "outputs": [],
   "source": [
    "y = total_de_casos_amazonas.newCases"
   ]
  },
  {
   "cell_type": "code",
   "execution_count": 51,
   "metadata": {},
   "outputs": [],
   "source": [
    "y_train, y_test = temporal_train_test_split(y, test_size= 7)"
   ]
  },
  {
   "cell_type": "code",
   "execution_count": 19,
   "metadata": {},
   "outputs": [],
   "source": [
    "fh = np.arange(1, len(y_test) + 1)"
   ]
  },
  {
   "cell_type": "code",
   "execution_count": 20,
   "metadata": {},
   "outputs": [
    {
     "output_type": "stream",
     "name": "stdout",
     "text": [
      "Iteration No: 1 started. Evaluating function at random point.\n",
      "[0.06327656730105531, 71, 2, 0.8628399009188652, 0.6481320413049753, 493] \n",
      "\n",
      "Iteration No: 1 ended. Evaluation done at random point.\n",
      "Time taken: 1.0704\n",
      "Function value obtained: 0.2825\n",
      "Current minimum: 0.2825\n",
      "Iteration No: 2 started. Evaluating function at random point.\n",
      "[0.0027050730096210155, 105, 95, 0.7134992241139206, 0.9128606713660984, 776] \n",
      "\n",
      "Iteration No: 2 ended. Evaluation done at random point.\n",
      "Time taken: 0.1976\n",
      "Function value obtained: 0.3686\n",
      "Current minimum: 0.2825\n",
      "Iteration No: 3 started. Evaluating function at random point.\n",
      "[0.03620477422893411, 40, 53, 0.9842306433165472, 0.24745801726422886, 249] \n",
      "\n",
      "Iteration No: 3 ended. Evaluation done at random point.\n",
      "Time taken: 0.1242\n",
      "Function value obtained: 0.3745\n",
      "Current minimum: 0.2825\n",
      "Iteration No: 4 started. Evaluating function at random point.\n",
      "[0.042062540164342105, 127, 57, 0.0919520550349246, 0.9609876709428125, 748] \n",
      "\n",
      "Iteration No: 4 ended. Evaluation done at random point.\n",
      "Time taken: 0.1227\n",
      "Function value obtained: 0.3474\n",
      "Current minimum: 0.2825\n",
      "Iteration No: 5 started. Evaluating function at random point.\n",
      "[0.0010915647147779802, 60, 88, 0.947753658689371, 0.5017142776835626, 261] \n",
      "\n",
      "Iteration No: 5 ended. Evaluation done at random point.\n",
      "Time taken: 0.1347\n",
      "Function value obtained: 0.3397\n",
      "Current minimum: 0.2825\n",
      "Iteration No: 6 started. Evaluating function at random point.\n",
      "[0.0013533779189430324, 111, 29, 0.872588621800476, 0.8591753055721483, 710] \n",
      "\n",
      "Iteration No: 6 ended. Evaluation done at random point.\n",
      "Time taken: 0.2369\n",
      "Function value obtained: 0.2810\n",
      "Current minimum: 0.2810\n",
      "Iteration No: 7 started. Evaluating function at random point.\n",
      "[0.011371497149642092, 52, 18, 0.2979234721719005, 0.13218236522675356, 287] \n",
      "\n",
      "Iteration No: 7 ended. Evaluation done at random point.\n",
      "Time taken: 0.1022\n",
      "Function value obtained: 0.4176\n",
      "Current minimum: 0.2810\n",
      "Iteration No: 8 started. Evaluating function at random point.\n",
      "[0.012314174496234818, 25, 95, 0.35031040595040225, 0.31693474266547406, 431] \n",
      "\n",
      "Iteration No: 8 ended. Evaluation done at random point.\n",
      "Time taken: 0.0758\n",
      "Function value obtained: 0.3474\n",
      "Current minimum: 0.2810\n",
      "Iteration No: 9 started. Evaluating function at random point.\n",
      "[0.0062201377958643915, 116, 71, 0.7790347187356178, 0.2610765190370178, 566] \n",
      "\n",
      "Iteration No: 9 ended. Evaluation done at random point.\n",
      "Time taken: 0.1581\n",
      "Function value obtained: 0.3831\n",
      "Current minimum: 0.2810\n",
      "Iteration No: 10 started. Evaluating function at random point.\n",
      "[0.010117334727109762, 117, 86, 0.1290106373057054, 0.32761865155725006, 159] \n",
      "\n",
      "Iteration No: 10 ended. Evaluation done at random point.\n",
      "Time taken: 0.0693\n",
      "Function value obtained: 0.3474\n",
      "Current minimum: 0.2810\n",
      "Iteration No: 11 started. Evaluating function at random point.\n",
      "[0.06180197188255592, 10, 38, 0.8203596896072781, 0.213563492506852, 666] \n",
      "\n",
      "Iteration No: 11 ended. Evaluation done at random point.\n",
      "Time taken: 0.1167\n",
      "Function value obtained: 0.3718\n",
      "Current minimum: 0.2810\n",
      "Iteration No: 12 started. Evaluating function at random point.\n",
      "[0.0023168120809679477, 32, 5, 0.4602309677741663, 0.8471692918885118, 643] \n",
      "\n",
      "Iteration No: 12 ended. Evaluation done at random point.\n",
      "Time taken: 0.3102\n",
      "Function value obtained: 0.2930\n",
      "Current minimum: 0.2810\n",
      "Iteration No: 13 started. Evaluating function at random point.\n",
      "[0.024907561965918448, 80, 10, 0.9093472835765465, 0.43877752657923763, 726] \n",
      "\n",
      "Iteration No: 13 ended. Evaluation done at random point.\n",
      "Time taken: 0.3361\n",
      "Function value obtained: 0.3389\n",
      "Current minimum: 0.2810\n",
      "Iteration No: 14 started. Evaluating function at random point.\n",
      "[0.049078049938118595, 6, 40, 0.6159037112149178, 0.17619544991836925, 836] \n",
      "\n",
      "Iteration No: 14 ended. Evaluation done at random point.\n",
      "Time taken: 0.1342\n",
      "Function value obtained: 0.4222\n",
      "Current minimum: 0.2810\n",
      "Iteration No: 15 started. Evaluating function at random point.\n",
      "[0.001228275132159861, 55, 23, 0.256558778136363, 0.8263148930911763, 127] \n",
      "\n",
      "Iteration No: 15 ended. Evaluation done at random point.\n",
      "Time taken: 0.0798\n",
      "Function value obtained: 0.3383\n",
      "Current minimum: 0.2810\n",
      "Iteration No: 16 started. Evaluating function at random point.\n",
      "[0.01611116779294787, 45, 87, 0.5630709931606661, 0.21626810530339394, 494] \n",
      "\n",
      "Iteration No: 16 ended. Evaluation done at random point.\n",
      "Time taken: 0.0803\n",
      "Function value obtained: 0.3402\n",
      "Current minimum: 0.2810\n",
      "Iteration No: 17 started. Evaluating function at random point.\n",
      "[0.07956266498142855, 119, 8, 0.09610742959857489, 0.19883630630605964, 415] \n",
      "\n",
      "Iteration No: 17 ended. Evaluation done at random point.\n",
      "Time taken: 0.1466\n",
      "Function value obtained: 0.3636\n",
      "Current minimum: 0.2810\n",
      "Iteration No: 18 started. Evaluating function at random point.\n",
      "[0.04637640720810472, 66, 88, 0.17248856910706784, 0.8480218897682718, 988] \n",
      "\n",
      "Iteration No: 18 ended. Evaluation done at random point.\n",
      "Time taken: 0.1017\n",
      "Function value obtained: 0.3474\n",
      "Current minimum: 0.2810\n",
      "Iteration No: 19 started. Evaluating function at random point.\n",
      "[0.04171467307105799, 33, 36, 0.9404269042132899, 0.31253649990151944, 475] \n",
      "\n",
      "Iteration No: 19 ended. Evaluation done at random point.\n",
      "Time taken: 0.1272\n",
      "Function value obtained: 0.2947\n",
      "Current minimum: 0.2810\n",
      "Iteration No: 20 started. Evaluating function at random point.\n",
      "[0.0053592788022858405, 82, 8, 0.3827709503127399, 0.27012318351053943, 570] \n",
      "\n",
      "Iteration No: 20 ended. Evaluation done at random point.\n",
      "Time taken: 0.1701\n",
      "Function value obtained: 0.3069\n",
      "Current minimum: 0.2810\n",
      "Iteration No: 21 started. Evaluating function at random point.\n",
      "[0.004377551755279261, 43, 4, 0.5681080692628621, 0.43399556156121155, 619] \n",
      "\n",
      "Iteration No: 21 ended. Evaluation done at random point.\n",
      "Time taken: 0.3805\n",
      "Function value obtained: 0.2724\n",
      "Current minimum: 0.2724\n",
      "Iteration No: 22 started. Evaluating function at random point.\n",
      "[0.006682583950549282, 30, 76, 0.907300763082334, 0.981654635836437, 381] \n",
      "\n",
      "Iteration No: 22 ended. Evaluation done at random point.\n",
      "Time taken: 0.0937\n",
      "Function value obtained: 0.3852\n",
      "Current minimum: 0.2724\n",
      "Iteration No: 23 started. Evaluating function at random point.\n",
      "[0.05670034642877683, 7, 74, 0.5275156717356378, 0.7727453339354737, 648] \n",
      "\n",
      "Iteration No: 23 ended. Evaluation done at random point.\n",
      "Time taken: 0.0957\n",
      "Function value obtained: 0.4083\n",
      "Current minimum: 0.2724\n",
      "Iteration No: 24 started. Evaluating function at random point.\n",
      "[0.001018220371397086, 21, 81, 0.18818921124796484, 0.3779151073364658, 560] \n",
      "\n",
      "Iteration No: 24 ended. Evaluation done at random point.\n",
      "Time taken: 0.1356\n",
      "Function value obtained: 0.3474\n",
      "Current minimum: 0.2724\n",
      "Iteration No: 25 started. Evaluating function at random point.\n",
      "[0.03880133204736965, 78, 77, 0.9466076305888934, 0.2564018143797483, 739] \n",
      "\n",
      "Iteration No: 25 ended. Evaluation done at random point.\n",
      "Time taken: 0.1376\n",
      "Function value obtained: 0.4587\n",
      "Current minimum: 0.2724\n",
      "Iteration No: 26 started. Evaluating function at random point.\n",
      "[0.002458155884597445, 53, 63, 0.05990534212573755, 0.3069072126082252, 689] \n",
      "\n",
      "Iteration No: 26 ended. Evaluation done at random point.\n",
      "Time taken: 0.0823\n",
      "Function value obtained: 0.3474\n",
      "Current minimum: 0.2724\n",
      "Iteration No: 27 started. Evaluating function at random point.\n",
      "[0.08842111523458891, 106, 4, 0.06517271365498266, 0.5889612835211807, 126] \n",
      "\n",
      "Iteration No: 27 ended. Evaluation done at random point.\n",
      "Time taken: 0.0748\n",
      "Function value obtained: 0.3280\n",
      "Current minimum: 0.2724\n",
      "Iteration No: 28 started. Evaluating function at random point.\n",
      "[0.0643803371849957, 83, 58, 0.5287059364413743, 0.6533375020714426, 307] \n",
      "\n",
      "Iteration No: 28 ended. Evaluation done at random point.\n",
      "Time taken: 0.0943\n",
      "Function value obtained: 0.4454\n",
      "Current minimum: 0.2724\n",
      "Iteration No: 29 started. Evaluating function at random point.\n",
      "[0.07931181342100058, 36, 29, 0.5171982537534936, 0.9382728395501004, 358] \n",
      "\n",
      "Iteration No: 29 ended. Evaluation done at random point.\n",
      "Time taken: 0.1047\n",
      "Function value obtained: 0.3409\n",
      "Current minimum: 0.2724\n",
      "Iteration No: 30 started. Evaluating function at random point.\n",
      "[0.003767676913287042, 107, 22, 0.7924545677028243, 0.41873098436142886, 813] \n",
      "\n",
      "Iteration No: 30 ended. Evaluation done at random point.\n",
      "Time taken: 0.2045\n",
      "Function value obtained: 0.3218\n",
      "Current minimum: 0.2724\n"
     ]
    }
   ],
   "source": [
    "def treinar_modelo(params):\n",
    "    SEED = 4\n",
    "\n",
    "    learning_rate = params[0]\n",
    "    num_leaves = params[1]\n",
    "    min_child_samples = params[2]\n",
    "    subsample = params[3]\n",
    "    colsample_bytree = params[4]\n",
    "    n_estimators = params[5]\n",
    "\n",
    "    print(params, '\\n')\n",
    "    \n",
    "    fh = np.arange(1, len(y_test) + 1)\n",
    "    mdl = LGBMRegressor(random_state=SEED,\n",
    "    learning_rate = learning_rate, \n",
    "    num_leaves = num_leaves, \n",
    "    min_child_samples = min_child_samples, \n",
    "    subsample = subsample,\n",
    "    colsample_bytree = colsample_bytree,\n",
    "    subsample_freq=1,\n",
    "    n_estimators=n_estimators)\n",
    "    reg = RecursiveRegressionForecaster(regressor = mdl, window_length= 7)\n",
    "    reg.fit(y_train)\n",
    "    y_pred = reg.predict(fh)\n",
    "\n",
    "    return smape_loss(y_test, y_pred)\n",
    "\n",
    "space = [(1e-3, 1e-1, 'log-uniform'), #learning rate\n",
    "(2, 128), #num_leaves\n",
    "(1, 100), #min_child_samples\n",
    "(0.05, 1.0), #subsample\n",
    "(0.1, 1.0), #colsample_bytree\n",
    "(100, 1000)] #n_estimators\n",
    "\n",
    "result = dummy_minimize(treinar_modelo, \n",
    "space,\n",
    "random_state=SEED, \n",
    "verbose=1,\n",
    "n_calls = 30)"
   ]
  },
  {
   "cell_type": "code",
   "execution_count": 21,
   "metadata": {},
   "outputs": [
    {
     "output_type": "execute_result",
     "data": {
      "text/plain": [
       "[0.004377551755279261, 43, 4, 0.5681080692628621, 0.43399556156121155, 619]"
      ]
     },
     "metadata": {},
     "execution_count": 21
    }
   ],
   "source": [
    "result.x"
   ]
  },
  {
   "cell_type": "code",
   "execution_count": 22,
   "metadata": {},
   "outputs": [],
   "source": [
    "learning_rate, num_leaves, min_child_samples, subsample, colsample_bytree, n_estimators = result.x"
   ]
  },
  {
   "cell_type": "code",
   "execution_count": 23,
   "metadata": {},
   "outputs": [],
   "source": [
    "mdl = LGBMRegressor(random_state=SEED,\n",
    "learning_rate=learning_rate,\n",
    "num_leaves=num_leaves,\n",
    "min_child_samples=min_child_samples,\n",
    "subsample=subsample,\n",
    "subsample_freq=1,\n",
    "colsample_bytree=colsample_bytree,\n",
    "n_estimators=n_estimators)"
   ]
  },
  {
   "cell_type": "code",
   "execution_count": 24,
   "metadata": {},
   "outputs": [],
   "source": [
    "mdl = LGBMRegressor(random_state=SEED,\n",
    "learning_rate=0.0023168120809679477,\n",
    "num_leaves=32,\n",
    "min_child_samples=5,\n",
    "subsample=0.4602309677741663,\n",
    "subsample_freq=1,\n",
    "colsample_bytree=0.8471692918885118,\n",
    "n_estimators=643)"
   ]
  },
  {
   "cell_type": "code",
   "execution_count": 25,
   "metadata": {},
   "outputs": [],
   "source": [
    "reg = RecursiveRegressionForecaster(regressor=mdl ,window_length=7)\n",
    "reg.fit(y_train)\n",
    "y_pred = reg.predict(fh)"
   ]
  },
  {
   "cell_type": "code",
   "execution_count": 26,
   "metadata": {},
   "outputs": [
    {
     "output_type": "execute_result",
     "data": {
      "text/plain": [
       "0.29303928931066425"
      ]
     },
     "metadata": {},
     "execution_count": 26
    }
   ],
   "source": [
    "smape_loss(y_test, y_pred)"
   ]
  },
  {
   "cell_type": "code",
   "execution_count": 27,
   "metadata": {},
   "outputs": [
    {
     "output_type": "display_data",
     "data": {
      "application/vnd.plotly.v1+json": {
       "config": {
        "plotlyServerURL": "https://plot.ly"
       },
       "data": [
        {
         "hovertemplate": "variable=0<br>index=%{x}<br>value=%{y}<extra></extra>",
         "legendgroup": "0",
         "line": {
          "color": "#636efa",
          "dash": "solid"
         },
         "mode": "lines",
         "name": "0",
         "orientation": "v",
         "showlegend": true,
         "type": "scatter",
         "x": [
          "2021-02-27T00:00:00",
          "2021-02-28T00:00:00",
          "2021-03-01T00:00:00",
          "2021-03-02T00:00:00",
          "2021-03-03T00:00:00",
          "2021-03-04T00:00:00",
          "2021-03-05T00:00:00"
         ],
         "xaxis": "x",
         "y": [
          1544,
          985,
          1097,
          1380,
          1362,
          1397,
          1381
         ],
         "yaxis": "y"
        }
       ],
       "layout": {
        "legend": {
         "title": {
          "text": "variable"
         },
         "tracegroupgap": 0
        },
        "margin": {
         "t": 60
        },
        "template": {
         "data": {
          "bar": [
           {
            "error_x": {
             "color": "#2a3f5f"
            },
            "error_y": {
             "color": "#2a3f5f"
            },
            "marker": {
             "line": {
              "color": "#E5ECF6",
              "width": 0.5
             }
            },
            "type": "bar"
           }
          ],
          "barpolar": [
           {
            "marker": {
             "line": {
              "color": "#E5ECF6",
              "width": 0.5
             }
            },
            "type": "barpolar"
           }
          ],
          "carpet": [
           {
            "aaxis": {
             "endlinecolor": "#2a3f5f",
             "gridcolor": "white",
             "linecolor": "white",
             "minorgridcolor": "white",
             "startlinecolor": "#2a3f5f"
            },
            "baxis": {
             "endlinecolor": "#2a3f5f",
             "gridcolor": "white",
             "linecolor": "white",
             "minorgridcolor": "white",
             "startlinecolor": "#2a3f5f"
            },
            "type": "carpet"
           }
          ],
          "choropleth": [
           {
            "colorbar": {
             "outlinewidth": 0,
             "ticks": ""
            },
            "type": "choropleth"
           }
          ],
          "contour": [
           {
            "colorbar": {
             "outlinewidth": 0,
             "ticks": ""
            },
            "colorscale": [
             [
              0,
              "#0d0887"
             ],
             [
              0.1111111111111111,
              "#46039f"
             ],
             [
              0.2222222222222222,
              "#7201a8"
             ],
             [
              0.3333333333333333,
              "#9c179e"
             ],
             [
              0.4444444444444444,
              "#bd3786"
             ],
             [
              0.5555555555555556,
              "#d8576b"
             ],
             [
              0.6666666666666666,
              "#ed7953"
             ],
             [
              0.7777777777777778,
              "#fb9f3a"
             ],
             [
              0.8888888888888888,
              "#fdca26"
             ],
             [
              1,
              "#f0f921"
             ]
            ],
            "type": "contour"
           }
          ],
          "contourcarpet": [
           {
            "colorbar": {
             "outlinewidth": 0,
             "ticks": ""
            },
            "type": "contourcarpet"
           }
          ],
          "heatmap": [
           {
            "colorbar": {
             "outlinewidth": 0,
             "ticks": ""
            },
            "colorscale": [
             [
              0,
              "#0d0887"
             ],
             [
              0.1111111111111111,
              "#46039f"
             ],
             [
              0.2222222222222222,
              "#7201a8"
             ],
             [
              0.3333333333333333,
              "#9c179e"
             ],
             [
              0.4444444444444444,
              "#bd3786"
             ],
             [
              0.5555555555555556,
              "#d8576b"
             ],
             [
              0.6666666666666666,
              "#ed7953"
             ],
             [
              0.7777777777777778,
              "#fb9f3a"
             ],
             [
              0.8888888888888888,
              "#fdca26"
             ],
             [
              1,
              "#f0f921"
             ]
            ],
            "type": "heatmap"
           }
          ],
          "heatmapgl": [
           {
            "colorbar": {
             "outlinewidth": 0,
             "ticks": ""
            },
            "colorscale": [
             [
              0,
              "#0d0887"
             ],
             [
              0.1111111111111111,
              "#46039f"
             ],
             [
              0.2222222222222222,
              "#7201a8"
             ],
             [
              0.3333333333333333,
              "#9c179e"
             ],
             [
              0.4444444444444444,
              "#bd3786"
             ],
             [
              0.5555555555555556,
              "#d8576b"
             ],
             [
              0.6666666666666666,
              "#ed7953"
             ],
             [
              0.7777777777777778,
              "#fb9f3a"
             ],
             [
              0.8888888888888888,
              "#fdca26"
             ],
             [
              1,
              "#f0f921"
             ]
            ],
            "type": "heatmapgl"
           }
          ],
          "histogram": [
           {
            "marker": {
             "colorbar": {
              "outlinewidth": 0,
              "ticks": ""
             }
            },
            "type": "histogram"
           }
          ],
          "histogram2d": [
           {
            "colorbar": {
             "outlinewidth": 0,
             "ticks": ""
            },
            "colorscale": [
             [
              0,
              "#0d0887"
             ],
             [
              0.1111111111111111,
              "#46039f"
             ],
             [
              0.2222222222222222,
              "#7201a8"
             ],
             [
              0.3333333333333333,
              "#9c179e"
             ],
             [
              0.4444444444444444,
              "#bd3786"
             ],
             [
              0.5555555555555556,
              "#d8576b"
             ],
             [
              0.6666666666666666,
              "#ed7953"
             ],
             [
              0.7777777777777778,
              "#fb9f3a"
             ],
             [
              0.8888888888888888,
              "#fdca26"
             ],
             [
              1,
              "#f0f921"
             ]
            ],
            "type": "histogram2d"
           }
          ],
          "histogram2dcontour": [
           {
            "colorbar": {
             "outlinewidth": 0,
             "ticks": ""
            },
            "colorscale": [
             [
              0,
              "#0d0887"
             ],
             [
              0.1111111111111111,
              "#46039f"
             ],
             [
              0.2222222222222222,
              "#7201a8"
             ],
             [
              0.3333333333333333,
              "#9c179e"
             ],
             [
              0.4444444444444444,
              "#bd3786"
             ],
             [
              0.5555555555555556,
              "#d8576b"
             ],
             [
              0.6666666666666666,
              "#ed7953"
             ],
             [
              0.7777777777777778,
              "#fb9f3a"
             ],
             [
              0.8888888888888888,
              "#fdca26"
             ],
             [
              1,
              "#f0f921"
             ]
            ],
            "type": "histogram2dcontour"
           }
          ],
          "mesh3d": [
           {
            "colorbar": {
             "outlinewidth": 0,
             "ticks": ""
            },
            "type": "mesh3d"
           }
          ],
          "parcoords": [
           {
            "line": {
             "colorbar": {
              "outlinewidth": 0,
              "ticks": ""
             }
            },
            "type": "parcoords"
           }
          ],
          "pie": [
           {
            "automargin": true,
            "type": "pie"
           }
          ],
          "scatter": [
           {
            "marker": {
             "colorbar": {
              "outlinewidth": 0,
              "ticks": ""
             }
            },
            "type": "scatter"
           }
          ],
          "scatter3d": [
           {
            "line": {
             "colorbar": {
              "outlinewidth": 0,
              "ticks": ""
             }
            },
            "marker": {
             "colorbar": {
              "outlinewidth": 0,
              "ticks": ""
             }
            },
            "type": "scatter3d"
           }
          ],
          "scattercarpet": [
           {
            "marker": {
             "colorbar": {
              "outlinewidth": 0,
              "ticks": ""
             }
            },
            "type": "scattercarpet"
           }
          ],
          "scattergeo": [
           {
            "marker": {
             "colorbar": {
              "outlinewidth": 0,
              "ticks": ""
             }
            },
            "type": "scattergeo"
           }
          ],
          "scattergl": [
           {
            "marker": {
             "colorbar": {
              "outlinewidth": 0,
              "ticks": ""
             }
            },
            "type": "scattergl"
           }
          ],
          "scattermapbox": [
           {
            "marker": {
             "colorbar": {
              "outlinewidth": 0,
              "ticks": ""
             }
            },
            "type": "scattermapbox"
           }
          ],
          "scatterpolar": [
           {
            "marker": {
             "colorbar": {
              "outlinewidth": 0,
              "ticks": ""
             }
            },
            "type": "scatterpolar"
           }
          ],
          "scatterpolargl": [
           {
            "marker": {
             "colorbar": {
              "outlinewidth": 0,
              "ticks": ""
             }
            },
            "type": "scatterpolargl"
           }
          ],
          "scatterternary": [
           {
            "marker": {
             "colorbar": {
              "outlinewidth": 0,
              "ticks": ""
             }
            },
            "type": "scatterternary"
           }
          ],
          "surface": [
           {
            "colorbar": {
             "outlinewidth": 0,
             "ticks": ""
            },
            "colorscale": [
             [
              0,
              "#0d0887"
             ],
             [
              0.1111111111111111,
              "#46039f"
             ],
             [
              0.2222222222222222,
              "#7201a8"
             ],
             [
              0.3333333333333333,
              "#9c179e"
             ],
             [
              0.4444444444444444,
              "#bd3786"
             ],
             [
              0.5555555555555556,
              "#d8576b"
             ],
             [
              0.6666666666666666,
              "#ed7953"
             ],
             [
              0.7777777777777778,
              "#fb9f3a"
             ],
             [
              0.8888888888888888,
              "#fdca26"
             ],
             [
              1,
              "#f0f921"
             ]
            ],
            "type": "surface"
           }
          ],
          "table": [
           {
            "cells": {
             "fill": {
              "color": "#EBF0F8"
             },
             "line": {
              "color": "white"
             }
            },
            "header": {
             "fill": {
              "color": "#C8D4E3"
             },
             "line": {
              "color": "white"
             }
            },
            "type": "table"
           }
          ]
         },
         "layout": {
          "annotationdefaults": {
           "arrowcolor": "#2a3f5f",
           "arrowhead": 0,
           "arrowwidth": 1
          },
          "coloraxis": {
           "colorbar": {
            "outlinewidth": 0,
            "ticks": ""
           }
          },
          "colorscale": {
           "diverging": [
            [
             0,
             "#8e0152"
            ],
            [
             0.1,
             "#c51b7d"
            ],
            [
             0.2,
             "#de77ae"
            ],
            [
             0.3,
             "#f1b6da"
            ],
            [
             0.4,
             "#fde0ef"
            ],
            [
             0.5,
             "#f7f7f7"
            ],
            [
             0.6,
             "#e6f5d0"
            ],
            [
             0.7,
             "#b8e186"
            ],
            [
             0.8,
             "#7fbc41"
            ],
            [
             0.9,
             "#4d9221"
            ],
            [
             1,
             "#276419"
            ]
           ],
           "sequential": [
            [
             0,
             "#0d0887"
            ],
            [
             0.1111111111111111,
             "#46039f"
            ],
            [
             0.2222222222222222,
             "#7201a8"
            ],
            [
             0.3333333333333333,
             "#9c179e"
            ],
            [
             0.4444444444444444,
             "#bd3786"
            ],
            [
             0.5555555555555556,
             "#d8576b"
            ],
            [
             0.6666666666666666,
             "#ed7953"
            ],
            [
             0.7777777777777778,
             "#fb9f3a"
            ],
            [
             0.8888888888888888,
             "#fdca26"
            ],
            [
             1,
             "#f0f921"
            ]
           ],
           "sequentialminus": [
            [
             0,
             "#0d0887"
            ],
            [
             0.1111111111111111,
             "#46039f"
            ],
            [
             0.2222222222222222,
             "#7201a8"
            ],
            [
             0.3333333333333333,
             "#9c179e"
            ],
            [
             0.4444444444444444,
             "#bd3786"
            ],
            [
             0.5555555555555556,
             "#d8576b"
            ],
            [
             0.6666666666666666,
             "#ed7953"
            ],
            [
             0.7777777777777778,
             "#fb9f3a"
            ],
            [
             0.8888888888888888,
             "#fdca26"
            ],
            [
             1,
             "#f0f921"
            ]
           ]
          },
          "colorway": [
           "#636efa",
           "#EF553B",
           "#00cc96",
           "#ab63fa",
           "#FFA15A",
           "#19d3f3",
           "#FF6692",
           "#B6E880",
           "#FF97FF",
           "#FECB52"
          ],
          "font": {
           "color": "#2a3f5f"
          },
          "geo": {
           "bgcolor": "white",
           "lakecolor": "white",
           "landcolor": "#E5ECF6",
           "showlakes": true,
           "showland": true,
           "subunitcolor": "white"
          },
          "hoverlabel": {
           "align": "left"
          },
          "hovermode": "closest",
          "mapbox": {
           "style": "light"
          },
          "paper_bgcolor": "white",
          "plot_bgcolor": "#E5ECF6",
          "polar": {
           "angularaxis": {
            "gridcolor": "white",
            "linecolor": "white",
            "ticks": ""
           },
           "bgcolor": "#E5ECF6",
           "radialaxis": {
            "gridcolor": "white",
            "linecolor": "white",
            "ticks": ""
           }
          },
          "scene": {
           "xaxis": {
            "backgroundcolor": "#E5ECF6",
            "gridcolor": "white",
            "gridwidth": 2,
            "linecolor": "white",
            "showbackground": true,
            "ticks": "",
            "zerolinecolor": "white"
           },
           "yaxis": {
            "backgroundcolor": "#E5ECF6",
            "gridcolor": "white",
            "gridwidth": 2,
            "linecolor": "white",
            "showbackground": true,
            "ticks": "",
            "zerolinecolor": "white"
           },
           "zaxis": {
            "backgroundcolor": "#E5ECF6",
            "gridcolor": "white",
            "gridwidth": 2,
            "linecolor": "white",
            "showbackground": true,
            "ticks": "",
            "zerolinecolor": "white"
           }
          },
          "shapedefaults": {
           "line": {
            "color": "#2a3f5f"
           }
          },
          "ternary": {
           "aaxis": {
            "gridcolor": "white",
            "linecolor": "white",
            "ticks": ""
           },
           "baxis": {
            "gridcolor": "white",
            "linecolor": "white",
            "ticks": ""
           },
           "bgcolor": "#E5ECF6",
           "caxis": {
            "gridcolor": "white",
            "linecolor": "white",
            "ticks": ""
           }
          },
          "title": {
           "x": 0.05
          },
          "xaxis": {
           "automargin": true,
           "gridcolor": "white",
           "linecolor": "white",
           "ticks": "",
           "title": {
            "standoff": 15
           },
           "zerolinecolor": "white",
           "zerolinewidth": 2
          },
          "yaxis": {
           "automargin": true,
           "gridcolor": "white",
           "linecolor": "white",
           "ticks": "",
           "title": {
            "standoff": 15
           },
           "zerolinecolor": "white",
           "zerolinewidth": 2
          }
         }
        },
        "xaxis": {
         "anchor": "y",
         "domain": [
          0,
          1
         ],
         "title": {
          "text": "index"
         }
        },
        "yaxis": {
         "anchor": "x",
         "domain": [
          0,
          1
         ],
         "title": {
          "text": "value"
         }
        }
       }
      }
     },
     "metadata": {}
    }
   ],
   "source": [
    "px.line(y_pred.round())"
   ]
  },
  {
   "cell_type": "code",
   "execution_count": 28,
   "metadata": {},
   "outputs": [],
   "source": [
    "from fbprophet import Prophet"
   ]
  },
  {
   "cell_type": "code",
   "execution_count": 29,
   "metadata": {},
   "outputs": [],
   "source": [
    "df_prophet = df.query(\"state == 'AM'\").groupby('date').sum()\n",
    "df_prophet.index = pd.to_datetime(total_de_casos_amazonas.index)\n",
    "df_prophet.index.freq = 'D'"
   ]
  },
  {
   "cell_type": "code",
   "execution_count": 74,
   "metadata": {},
   "outputs": [],
   "source": [
    "df_prophet = df_prophet.reset_index().rename(columns=({'newCases': 'y', 'date': 'ds'}))"
   ]
  },
  {
   "cell_type": "code",
   "execution_count": 75,
   "metadata": {},
   "outputs": [],
   "source": [
    "y_train, y_test = temporal_train_test_split(df_prophet, test_size=7)"
   ]
  },
  {
   "cell_type": "code",
   "execution_count": 76,
   "metadata": {},
   "outputs": [
    {
     "output_type": "stream",
     "name": "stderr",
     "text": [
      "INFO:fbprophet:Disabling yearly seasonality. Run prophet with yearly_seasonality=True to override this.\n",
      "INFO:fbprophet:Disabling daily seasonality. Run prophet with daily_seasonality=True to override this.\n"
     ]
    },
    {
     "output_type": "execute_result",
     "data": {
      "text/plain": [
       "<fbprophet.forecaster.Prophet at 0x26aac7fc9a0>"
      ]
     },
     "metadata": {},
     "execution_count": 76
    }
   ],
   "source": [
    "ml_model = Prophet(interval_width= 0.95, changepoint_prior_scale=0.5, seasonality_prior_scale=10) #modelo RAW\n",
    "ml_model.fit(y_train)"
   ]
  },
  {
   "cell_type": "code",
   "execution_count": 77,
   "metadata": {},
   "outputs": [],
   "source": [
    "future_dates = ml_model.make_future_dataframe(periods=7, freq='D')"
   ]
  },
  {
   "cell_type": "code",
   "execution_count": 78,
   "metadata": {},
   "outputs": [],
   "source": [
    "forecast = ml_model.predict(future_dates)"
   ]
  },
  {
   "cell_type": "code",
   "execution_count": 80,
   "metadata": {},
   "outputs": [
    {
     "output_type": "display_data",
     "data": {
      "application/vnd.plotly.v1+json": {
       "config": {
        "plotlyServerURL": "https://plot.ly"
       },
       "data": [
        {
         "marker": {
          "color": "black",
          "size": 4
         },
         "mode": "markers",
         "name": "Actual",
         "type": "scatter",
         "x": [
          "2020-03-13T00:00:00",
          "2020-03-14T00:00:00",
          "2020-03-15T00:00:00",
          "2020-03-16T00:00:00",
          "2020-03-17T00:00:00",
          "2020-03-18T00:00:00",
          "2020-03-19T00:00:00",
          "2020-03-20T00:00:00",
          "2020-03-21T00:00:00",
          "2020-03-22T00:00:00",
          "2020-03-23T00:00:00",
          "2020-03-24T00:00:00",
          "2020-03-25T00:00:00",
          "2020-03-26T00:00:00",
          "2020-03-27T00:00:00",
          "2020-03-28T00:00:00",
          "2020-03-29T00:00:00",
          "2020-03-30T00:00:00",
          "2020-03-31T00:00:00",
          "2020-04-01T00:00:00",
          "2020-04-02T00:00:00",
          "2020-04-03T00:00:00",
          "2020-04-04T00:00:00",
          "2020-04-05T00:00:00",
          "2020-04-06T00:00:00",
          "2020-04-07T00:00:00",
          "2020-04-08T00:00:00",
          "2020-04-09T00:00:00",
          "2020-04-10T00:00:00",
          "2020-04-11T00:00:00",
          "2020-04-12T00:00:00",
          "2020-04-13T00:00:00",
          "2020-04-14T00:00:00",
          "2020-04-15T00:00:00",
          "2020-04-16T00:00:00",
          "2020-04-17T00:00:00",
          "2020-04-18T00:00:00",
          "2020-04-19T00:00:00",
          "2020-04-20T00:00:00",
          "2020-04-21T00:00:00",
          "2020-04-22T00:00:00",
          "2020-04-23T00:00:00",
          "2020-04-24T00:00:00",
          "2020-04-25T00:00:00",
          "2020-04-26T00:00:00",
          "2020-04-27T00:00:00",
          "2020-04-28T00:00:00",
          "2020-04-29T00:00:00",
          "2020-04-30T00:00:00",
          "2020-05-01T00:00:00",
          "2020-05-02T00:00:00",
          "2020-05-03T00:00:00",
          "2020-05-04T00:00:00",
          "2020-05-05T00:00:00",
          "2020-05-06T00:00:00",
          "2020-05-07T00:00:00",
          "2020-05-08T00:00:00",
          "2020-05-09T00:00:00",
          "2020-05-10T00:00:00",
          "2020-05-11T00:00:00",
          "2020-05-12T00:00:00",
          "2020-05-13T00:00:00",
          "2020-05-14T00:00:00",
          "2020-05-15T00:00:00",
          "2020-05-16T00:00:00",
          "2020-05-17T00:00:00",
          "2020-05-18T00:00:00",
          "2020-05-19T00:00:00",
          "2020-05-20T00:00:00",
          "2020-05-21T00:00:00",
          "2020-05-22T00:00:00",
          "2020-05-23T00:00:00",
          "2020-05-24T00:00:00",
          "2020-05-25T00:00:00",
          "2020-05-26T00:00:00",
          "2020-05-27T00:00:00",
          "2020-05-28T00:00:00",
          "2020-05-29T00:00:00",
          "2020-05-30T00:00:00",
          "2020-05-31T00:00:00",
          "2020-06-01T00:00:00",
          "2020-06-02T00:00:00",
          "2020-06-03T00:00:00",
          "2020-06-04T00:00:00",
          "2020-06-05T00:00:00",
          "2020-06-06T00:00:00",
          "2020-06-07T00:00:00",
          "2020-06-08T00:00:00",
          "2020-06-09T00:00:00",
          "2020-06-10T00:00:00",
          "2020-06-11T00:00:00",
          "2020-06-12T00:00:00",
          "2020-06-13T00:00:00",
          "2020-06-14T00:00:00",
          "2020-06-15T00:00:00",
          "2020-06-16T00:00:00",
          "2020-06-17T00:00:00",
          "2020-06-18T00:00:00",
          "2020-06-19T00:00:00",
          "2020-06-20T00:00:00",
          "2020-06-21T00:00:00",
          "2020-06-22T00:00:00",
          "2020-06-23T00:00:00",
          "2020-06-24T00:00:00",
          "2020-06-25T00:00:00",
          "2020-06-26T00:00:00",
          "2020-06-27T00:00:00",
          "2020-06-28T00:00:00",
          "2020-06-29T00:00:00",
          "2020-06-30T00:00:00",
          "2020-07-01T00:00:00",
          "2020-07-02T00:00:00",
          "2020-07-03T00:00:00",
          "2020-07-04T00:00:00",
          "2020-07-05T00:00:00",
          "2020-07-06T00:00:00",
          "2020-07-07T00:00:00",
          "2020-07-08T00:00:00",
          "2020-07-09T00:00:00",
          "2020-07-10T00:00:00",
          "2020-07-11T00:00:00",
          "2020-07-12T00:00:00",
          "2020-07-13T00:00:00",
          "2020-07-14T00:00:00",
          "2020-07-15T00:00:00",
          "2020-07-16T00:00:00",
          "2020-07-17T00:00:00",
          "2020-07-18T00:00:00",
          "2020-07-19T00:00:00",
          "2020-07-20T00:00:00",
          "2020-07-21T00:00:00",
          "2020-07-22T00:00:00",
          "2020-07-23T00:00:00",
          "2020-07-24T00:00:00",
          "2020-07-25T00:00:00",
          "2020-07-26T00:00:00",
          "2020-07-27T00:00:00",
          "2020-07-28T00:00:00",
          "2020-07-29T00:00:00",
          "2020-07-30T00:00:00",
          "2020-07-31T00:00:00",
          "2020-08-01T00:00:00",
          "2020-08-02T00:00:00",
          "2020-08-03T00:00:00",
          "2020-08-04T00:00:00",
          "2020-08-05T00:00:00",
          "2020-08-06T00:00:00",
          "2020-08-07T00:00:00",
          "2020-08-08T00:00:00",
          "2020-08-09T00:00:00",
          "2020-08-10T00:00:00",
          "2020-08-11T00:00:00",
          "2020-08-12T00:00:00",
          "2020-08-13T00:00:00",
          "2020-08-14T00:00:00",
          "2020-08-15T00:00:00",
          "2020-08-16T00:00:00",
          "2020-08-17T00:00:00",
          "2020-08-18T00:00:00",
          "2020-08-19T00:00:00",
          "2020-08-20T00:00:00",
          "2020-08-21T00:00:00",
          "2020-08-22T00:00:00",
          "2020-08-23T00:00:00",
          "2020-08-24T00:00:00",
          "2020-08-25T00:00:00",
          "2020-08-26T00:00:00",
          "2020-08-27T00:00:00",
          "2020-08-28T00:00:00",
          "2020-08-29T00:00:00",
          "2020-08-30T00:00:00",
          "2020-08-31T00:00:00",
          "2020-09-01T00:00:00",
          "2020-09-02T00:00:00",
          "2020-09-03T00:00:00",
          "2020-09-04T00:00:00",
          "2020-09-05T00:00:00",
          "2020-09-06T00:00:00",
          "2020-09-07T00:00:00",
          "2020-09-08T00:00:00",
          "2020-09-09T00:00:00",
          "2020-09-10T00:00:00",
          "2020-09-11T00:00:00",
          "2020-09-12T00:00:00",
          "2020-09-13T00:00:00",
          "2020-09-14T00:00:00",
          "2020-09-15T00:00:00",
          "2020-09-16T00:00:00",
          "2020-09-17T00:00:00",
          "2020-09-18T00:00:00",
          "2020-09-19T00:00:00",
          "2020-09-20T00:00:00",
          "2020-09-21T00:00:00",
          "2020-09-22T00:00:00",
          "2020-09-23T00:00:00",
          "2020-09-24T00:00:00",
          "2020-09-25T00:00:00",
          "2020-09-26T00:00:00",
          "2020-09-27T00:00:00",
          "2020-09-28T00:00:00",
          "2020-09-29T00:00:00",
          "2020-09-30T00:00:00",
          "2020-10-01T00:00:00",
          "2020-10-02T00:00:00",
          "2020-10-03T00:00:00",
          "2020-10-04T00:00:00",
          "2020-10-05T00:00:00",
          "2020-10-06T00:00:00",
          "2020-10-07T00:00:00",
          "2020-10-08T00:00:00",
          "2020-10-09T00:00:00",
          "2020-10-10T00:00:00",
          "2020-10-11T00:00:00",
          "2020-10-12T00:00:00",
          "2020-10-13T00:00:00",
          "2020-10-14T00:00:00",
          "2020-10-15T00:00:00",
          "2020-10-16T00:00:00",
          "2020-10-17T00:00:00",
          "2020-10-18T00:00:00",
          "2020-10-19T00:00:00",
          "2020-10-20T00:00:00",
          "2020-10-21T00:00:00",
          "2020-10-22T00:00:00",
          "2020-10-23T00:00:00",
          "2020-10-24T00:00:00",
          "2020-10-25T00:00:00",
          "2020-10-26T00:00:00",
          "2020-10-27T00:00:00",
          "2020-10-28T00:00:00",
          "2020-10-29T00:00:00",
          "2020-10-30T00:00:00",
          "2020-10-31T00:00:00",
          "2020-11-01T00:00:00",
          "2020-11-02T00:00:00",
          "2020-11-03T00:00:00",
          "2020-11-04T00:00:00",
          "2020-11-05T00:00:00",
          "2020-11-06T00:00:00",
          "2020-11-07T00:00:00",
          "2020-11-08T00:00:00",
          "2020-11-09T00:00:00",
          "2020-11-10T00:00:00",
          "2020-11-11T00:00:00",
          "2020-11-12T00:00:00",
          "2020-11-13T00:00:00",
          "2020-11-14T00:00:00",
          "2020-11-15T00:00:00",
          "2020-11-16T00:00:00",
          "2020-11-17T00:00:00",
          "2020-11-18T00:00:00",
          "2020-11-19T00:00:00",
          "2020-11-20T00:00:00",
          "2020-11-21T00:00:00",
          "2020-11-22T00:00:00",
          "2020-11-23T00:00:00",
          "2020-11-24T00:00:00",
          "2020-11-25T00:00:00",
          "2020-11-26T00:00:00",
          "2020-11-27T00:00:00",
          "2020-11-28T00:00:00",
          "2020-11-29T00:00:00",
          "2020-11-30T00:00:00",
          "2020-12-01T00:00:00",
          "2020-12-02T00:00:00",
          "2020-12-03T00:00:00",
          "2020-12-04T00:00:00",
          "2020-12-05T00:00:00",
          "2020-12-06T00:00:00",
          "2020-12-07T00:00:00",
          "2020-12-08T00:00:00",
          "2020-12-09T00:00:00",
          "2020-12-10T00:00:00",
          "2020-12-11T00:00:00",
          "2020-12-12T00:00:00",
          "2020-12-13T00:00:00",
          "2020-12-14T00:00:00",
          "2020-12-15T00:00:00",
          "2020-12-16T00:00:00",
          "2020-12-17T00:00:00",
          "2020-12-18T00:00:00",
          "2020-12-19T00:00:00",
          "2020-12-20T00:00:00",
          "2020-12-21T00:00:00",
          "2020-12-22T00:00:00",
          "2020-12-23T00:00:00",
          "2020-12-24T00:00:00",
          "2020-12-25T00:00:00",
          "2020-12-26T00:00:00",
          "2020-12-27T00:00:00",
          "2020-12-28T00:00:00",
          "2020-12-29T00:00:00",
          "2020-12-30T00:00:00",
          "2020-12-31T00:00:00",
          "2021-01-01T00:00:00",
          "2021-01-02T00:00:00",
          "2021-01-03T00:00:00",
          "2021-01-04T00:00:00",
          "2021-01-05T00:00:00",
          "2021-01-06T00:00:00",
          "2021-01-07T00:00:00",
          "2021-01-08T00:00:00",
          "2021-01-09T00:00:00",
          "2021-01-10T00:00:00",
          "2021-01-11T00:00:00",
          "2021-01-12T00:00:00",
          "2021-01-13T00:00:00",
          "2021-01-14T00:00:00",
          "2021-01-15T00:00:00",
          "2021-01-16T00:00:00",
          "2021-01-17T00:00:00",
          "2021-01-18T00:00:00",
          "2021-01-19T00:00:00",
          "2021-01-20T00:00:00",
          "2021-01-21T00:00:00",
          "2021-01-22T00:00:00",
          "2021-01-23T00:00:00",
          "2021-01-24T00:00:00",
          "2021-01-25T00:00:00",
          "2021-01-26T00:00:00",
          "2021-01-27T00:00:00",
          "2021-01-28T00:00:00",
          "2021-01-29T00:00:00",
          "2021-01-30T00:00:00",
          "2021-01-31T00:00:00",
          "2021-02-01T00:00:00",
          "2021-02-02T00:00:00",
          "2021-02-03T00:00:00",
          "2021-02-04T00:00:00",
          "2021-02-05T00:00:00",
          "2021-02-06T00:00:00",
          "2021-02-07T00:00:00",
          "2021-02-08T00:00:00",
          "2021-02-09T00:00:00",
          "2021-02-10T00:00:00",
          "2021-02-11T00:00:00",
          "2021-02-12T00:00:00",
          "2021-02-13T00:00:00",
          "2021-02-14T00:00:00",
          "2021-02-15T00:00:00",
          "2021-02-16T00:00:00",
          "2021-02-17T00:00:00",
          "2021-02-18T00:00:00",
          "2021-02-19T00:00:00",
          "2021-02-20T00:00:00",
          "2021-02-21T00:00:00",
          "2021-02-22T00:00:00",
          "2021-02-23T00:00:00",
          "2021-02-24T00:00:00",
          "2021-02-25T00:00:00",
          "2021-02-26T00:00:00"
         ],
         "y": [
          2,
          0,
          0,
          0,
          0,
          0,
          1,
          4,
          4,
          15,
          6,
          15,
          7,
          13,
          14,
          30,
          29,
          11,
          24,
          25,
          29,
          31,
          51,
          106,
          115,
          104,
          168,
          95,
          82,
          69,
          156,
          69,
          209,
          70,
          165,
          90,
          88,
          147,
          116,
          110,
          209,
          409,
          306,
          441,
          198,
          95,
          409,
          464,
          453,
          469,
          339,
          621,
          630,
          796,
          1134,
          856,
          628,
          1198,
          674,
          320,
          1249,
          1648,
          1365,
          1211,
          1285,
          651,
          585,
          1219,
          1572,
          1663,
          1671,
          1764,
          1065,
          415,
          1667,
          1559,
          2638,
          2763,
          1651,
          818,
          396,
          1421,
          1152,
          2126,
          1193,
          1119,
          484,
          548,
          1417,
          1615,
          1140,
          1122,
          915,
          480,
          271,
          1241,
          1529,
          1189,
          947,
          1219,
          508,
          321,
          1342,
          1691,
          503,
          953,
          802,
          627,
          244,
          930,
          1461,
          1246,
          1007,
          1408,
          69,
          413,
          2740,
          915,
          1236,
          1189,
          723,
          296,
          886,
          1388,
          1144,
          1081,
          797,
          1712,
          379,
          476,
          775,
          557,
          1498,
          1205,
          670,
          369,
          616,
          1039,
          975,
          1047,
          800,
          837,
          347,
          262,
          883,
          981,
          804,
          803,
          571,
          522,
          247,
          908,
          815,
          882,
          975,
          464,
          671,
          351,
          618,
          711,
          743,
          457,
          577,
          246,
          177,
          787,
          833,
          671,
          761,
          1015,
          201,
          236,
          623,
          874,
          727,
          667,
          539,
          85,
          94,
          318,
          736,
          701,
          763,
          516,
          193,
          275,
          743,
          701,
          650,
          858,
          1214,
          184,
          163,
          767,
          726,
          876,
          916,
          964,
          247,
          292,
          1256,
          1362,
          914,
          959,
          938,
          245,
          191,
          998,
          921,
          875,
          866,
          805,
          419,
          8,
          399,
          654,
          848,
          418,
          1402,
          411,
          261,
          938,
          1669,
          765,
          966,
          779,
          349,
          344,
          1050,
          865,
          1013,
          838,
          249,
          291,
          165,
          421,
          839,
          671,
          0,
          1324,
          270,
          305,
          802,
          715,
          603,
          507,
          569,
          168,
          219,
          906,
          703,
          957,
          740,
          488,
          131,
          303,
          799,
          719,
          916,
          928,
          658,
          191,
          209,
          1065,
          698,
          879,
          789,
          706,
          331,
          207,
          955,
          438,
          821,
          843,
          342,
          554,
          451,
          651,
          988,
          894,
          1156,
          706,
          302,
          351,
          1217,
          862,
          999,
          401,
          201,
          429,
          318,
          1447,
          1369,
          1443,
          561,
          293,
          546,
          559,
          1928,
          2192,
          1706,
          2342,
          1856,
          965,
          2151,
          1958,
          1474,
          3816,
          3151,
          2856,
          1277,
          1790,
          1537,
          5009,
          2202,
          3975,
          3404,
          1152,
          1222,
          3525,
          3146,
          1852,
          2116,
          4420,
          1400,
          1323,
          2460,
          2685,
          2689,
          2238,
          2965,
          985,
          919,
          1442,
          2744,
          2205,
          2445,
          1828,
          632,
          925,
          1808,
          1808,
          2141,
          1950,
          1664,
          753,
          1161,
          2147,
          1608,
          1420,
          1572
         ]
        },
        {
         "hoverinfo": "skip",
         "line": {
          "width": 0
         },
         "mode": "lines",
         "type": "scatter",
         "x": [
          "2020-03-13T00:00:00",
          "2020-03-14T00:00:00",
          "2020-03-15T00:00:00",
          "2020-03-16T00:00:00",
          "2020-03-17T00:00:00",
          "2020-03-18T00:00:00",
          "2020-03-19T00:00:00",
          "2020-03-20T00:00:00",
          "2020-03-21T00:00:00",
          "2020-03-22T00:00:00",
          "2020-03-23T00:00:00",
          "2020-03-24T00:00:00",
          "2020-03-25T00:00:00",
          "2020-03-26T00:00:00",
          "2020-03-27T00:00:00",
          "2020-03-28T00:00:00",
          "2020-03-29T00:00:00",
          "2020-03-30T00:00:00",
          "2020-03-31T00:00:00",
          "2020-04-01T00:00:00",
          "2020-04-02T00:00:00",
          "2020-04-03T00:00:00",
          "2020-04-04T00:00:00",
          "2020-04-05T00:00:00",
          "2020-04-06T00:00:00",
          "2020-04-07T00:00:00",
          "2020-04-08T00:00:00",
          "2020-04-09T00:00:00",
          "2020-04-10T00:00:00",
          "2020-04-11T00:00:00",
          "2020-04-12T00:00:00",
          "2020-04-13T00:00:00",
          "2020-04-14T00:00:00",
          "2020-04-15T00:00:00",
          "2020-04-16T00:00:00",
          "2020-04-17T00:00:00",
          "2020-04-18T00:00:00",
          "2020-04-19T00:00:00",
          "2020-04-20T00:00:00",
          "2020-04-21T00:00:00",
          "2020-04-22T00:00:00",
          "2020-04-23T00:00:00",
          "2020-04-24T00:00:00",
          "2020-04-25T00:00:00",
          "2020-04-26T00:00:00",
          "2020-04-27T00:00:00",
          "2020-04-28T00:00:00",
          "2020-04-29T00:00:00",
          "2020-04-30T00:00:00",
          "2020-05-01T00:00:00",
          "2020-05-02T00:00:00",
          "2020-05-03T00:00:00",
          "2020-05-04T00:00:00",
          "2020-05-05T00:00:00",
          "2020-05-06T00:00:00",
          "2020-05-07T00:00:00",
          "2020-05-08T00:00:00",
          "2020-05-09T00:00:00",
          "2020-05-10T00:00:00",
          "2020-05-11T00:00:00",
          "2020-05-12T00:00:00",
          "2020-05-13T00:00:00",
          "2020-05-14T00:00:00",
          "2020-05-15T00:00:00",
          "2020-05-16T00:00:00",
          "2020-05-17T00:00:00",
          "2020-05-18T00:00:00",
          "2020-05-19T00:00:00",
          "2020-05-20T00:00:00",
          "2020-05-21T00:00:00",
          "2020-05-22T00:00:00",
          "2020-05-23T00:00:00",
          "2020-05-24T00:00:00",
          "2020-05-25T00:00:00",
          "2020-05-26T00:00:00",
          "2020-05-27T00:00:00",
          "2020-05-28T00:00:00",
          "2020-05-29T00:00:00",
          "2020-05-30T00:00:00",
          "2020-05-31T00:00:00",
          "2020-06-01T00:00:00",
          "2020-06-02T00:00:00",
          "2020-06-03T00:00:00",
          "2020-06-04T00:00:00",
          "2020-06-05T00:00:00",
          "2020-06-06T00:00:00",
          "2020-06-07T00:00:00",
          "2020-06-08T00:00:00",
          "2020-06-09T00:00:00",
          "2020-06-10T00:00:00",
          "2020-06-11T00:00:00",
          "2020-06-12T00:00:00",
          "2020-06-13T00:00:00",
          "2020-06-14T00:00:00",
          "2020-06-15T00:00:00",
          "2020-06-16T00:00:00",
          "2020-06-17T00:00:00",
          "2020-06-18T00:00:00",
          "2020-06-19T00:00:00",
          "2020-06-20T00:00:00",
          "2020-06-21T00:00:00",
          "2020-06-22T00:00:00",
          "2020-06-23T00:00:00",
          "2020-06-24T00:00:00",
          "2020-06-25T00:00:00",
          "2020-06-26T00:00:00",
          "2020-06-27T00:00:00",
          "2020-06-28T00:00:00",
          "2020-06-29T00:00:00",
          "2020-06-30T00:00:00",
          "2020-07-01T00:00:00",
          "2020-07-02T00:00:00",
          "2020-07-03T00:00:00",
          "2020-07-04T00:00:00",
          "2020-07-05T00:00:00",
          "2020-07-06T00:00:00",
          "2020-07-07T00:00:00",
          "2020-07-08T00:00:00",
          "2020-07-09T00:00:00",
          "2020-07-10T00:00:00",
          "2020-07-11T00:00:00",
          "2020-07-12T00:00:00",
          "2020-07-13T00:00:00",
          "2020-07-14T00:00:00",
          "2020-07-15T00:00:00",
          "2020-07-16T00:00:00",
          "2020-07-17T00:00:00",
          "2020-07-18T00:00:00",
          "2020-07-19T00:00:00",
          "2020-07-20T00:00:00",
          "2020-07-21T00:00:00",
          "2020-07-22T00:00:00",
          "2020-07-23T00:00:00",
          "2020-07-24T00:00:00",
          "2020-07-25T00:00:00",
          "2020-07-26T00:00:00",
          "2020-07-27T00:00:00",
          "2020-07-28T00:00:00",
          "2020-07-29T00:00:00",
          "2020-07-30T00:00:00",
          "2020-07-31T00:00:00",
          "2020-08-01T00:00:00",
          "2020-08-02T00:00:00",
          "2020-08-03T00:00:00",
          "2020-08-04T00:00:00",
          "2020-08-05T00:00:00",
          "2020-08-06T00:00:00",
          "2020-08-07T00:00:00",
          "2020-08-08T00:00:00",
          "2020-08-09T00:00:00",
          "2020-08-10T00:00:00",
          "2020-08-11T00:00:00",
          "2020-08-12T00:00:00",
          "2020-08-13T00:00:00",
          "2020-08-14T00:00:00",
          "2020-08-15T00:00:00",
          "2020-08-16T00:00:00",
          "2020-08-17T00:00:00",
          "2020-08-18T00:00:00",
          "2020-08-19T00:00:00",
          "2020-08-20T00:00:00",
          "2020-08-21T00:00:00",
          "2020-08-22T00:00:00",
          "2020-08-23T00:00:00",
          "2020-08-24T00:00:00",
          "2020-08-25T00:00:00",
          "2020-08-26T00:00:00",
          "2020-08-27T00:00:00",
          "2020-08-28T00:00:00",
          "2020-08-29T00:00:00",
          "2020-08-30T00:00:00",
          "2020-08-31T00:00:00",
          "2020-09-01T00:00:00",
          "2020-09-02T00:00:00",
          "2020-09-03T00:00:00",
          "2020-09-04T00:00:00",
          "2020-09-05T00:00:00",
          "2020-09-06T00:00:00",
          "2020-09-07T00:00:00",
          "2020-09-08T00:00:00",
          "2020-09-09T00:00:00",
          "2020-09-10T00:00:00",
          "2020-09-11T00:00:00",
          "2020-09-12T00:00:00",
          "2020-09-13T00:00:00",
          "2020-09-14T00:00:00",
          "2020-09-15T00:00:00",
          "2020-09-16T00:00:00",
          "2020-09-17T00:00:00",
          "2020-09-18T00:00:00",
          "2020-09-19T00:00:00",
          "2020-09-20T00:00:00",
          "2020-09-21T00:00:00",
          "2020-09-22T00:00:00",
          "2020-09-23T00:00:00",
          "2020-09-24T00:00:00",
          "2020-09-25T00:00:00",
          "2020-09-26T00:00:00",
          "2020-09-27T00:00:00",
          "2020-09-28T00:00:00",
          "2020-09-29T00:00:00",
          "2020-09-30T00:00:00",
          "2020-10-01T00:00:00",
          "2020-10-02T00:00:00",
          "2020-10-03T00:00:00",
          "2020-10-04T00:00:00",
          "2020-10-05T00:00:00",
          "2020-10-06T00:00:00",
          "2020-10-07T00:00:00",
          "2020-10-08T00:00:00",
          "2020-10-09T00:00:00",
          "2020-10-10T00:00:00",
          "2020-10-11T00:00:00",
          "2020-10-12T00:00:00",
          "2020-10-13T00:00:00",
          "2020-10-14T00:00:00",
          "2020-10-15T00:00:00",
          "2020-10-16T00:00:00",
          "2020-10-17T00:00:00",
          "2020-10-18T00:00:00",
          "2020-10-19T00:00:00",
          "2020-10-20T00:00:00",
          "2020-10-21T00:00:00",
          "2020-10-22T00:00:00",
          "2020-10-23T00:00:00",
          "2020-10-24T00:00:00",
          "2020-10-25T00:00:00",
          "2020-10-26T00:00:00",
          "2020-10-27T00:00:00",
          "2020-10-28T00:00:00",
          "2020-10-29T00:00:00",
          "2020-10-30T00:00:00",
          "2020-10-31T00:00:00",
          "2020-11-01T00:00:00",
          "2020-11-02T00:00:00",
          "2020-11-03T00:00:00",
          "2020-11-04T00:00:00",
          "2020-11-05T00:00:00",
          "2020-11-06T00:00:00",
          "2020-11-07T00:00:00",
          "2020-11-08T00:00:00",
          "2020-11-09T00:00:00",
          "2020-11-10T00:00:00",
          "2020-11-11T00:00:00",
          "2020-11-12T00:00:00",
          "2020-11-13T00:00:00",
          "2020-11-14T00:00:00",
          "2020-11-15T00:00:00",
          "2020-11-16T00:00:00",
          "2020-11-17T00:00:00",
          "2020-11-18T00:00:00",
          "2020-11-19T00:00:00",
          "2020-11-20T00:00:00",
          "2020-11-21T00:00:00",
          "2020-11-22T00:00:00",
          "2020-11-23T00:00:00",
          "2020-11-24T00:00:00",
          "2020-11-25T00:00:00",
          "2020-11-26T00:00:00",
          "2020-11-27T00:00:00",
          "2020-11-28T00:00:00",
          "2020-11-29T00:00:00",
          "2020-11-30T00:00:00",
          "2020-12-01T00:00:00",
          "2020-12-02T00:00:00",
          "2020-12-03T00:00:00",
          "2020-12-04T00:00:00",
          "2020-12-05T00:00:00",
          "2020-12-06T00:00:00",
          "2020-12-07T00:00:00",
          "2020-12-08T00:00:00",
          "2020-12-09T00:00:00",
          "2020-12-10T00:00:00",
          "2020-12-11T00:00:00",
          "2020-12-12T00:00:00",
          "2020-12-13T00:00:00",
          "2020-12-14T00:00:00",
          "2020-12-15T00:00:00",
          "2020-12-16T00:00:00",
          "2020-12-17T00:00:00",
          "2020-12-18T00:00:00",
          "2020-12-19T00:00:00",
          "2020-12-20T00:00:00",
          "2020-12-21T00:00:00",
          "2020-12-22T00:00:00",
          "2020-12-23T00:00:00",
          "2020-12-24T00:00:00",
          "2020-12-25T00:00:00",
          "2020-12-26T00:00:00",
          "2020-12-27T00:00:00",
          "2020-12-28T00:00:00",
          "2020-12-29T00:00:00",
          "2020-12-30T00:00:00",
          "2020-12-31T00:00:00",
          "2021-01-01T00:00:00",
          "2021-01-02T00:00:00",
          "2021-01-03T00:00:00",
          "2021-01-04T00:00:00",
          "2021-01-05T00:00:00",
          "2021-01-06T00:00:00",
          "2021-01-07T00:00:00",
          "2021-01-08T00:00:00",
          "2021-01-09T00:00:00",
          "2021-01-10T00:00:00",
          "2021-01-11T00:00:00",
          "2021-01-12T00:00:00",
          "2021-01-13T00:00:00",
          "2021-01-14T00:00:00",
          "2021-01-15T00:00:00",
          "2021-01-16T00:00:00",
          "2021-01-17T00:00:00",
          "2021-01-18T00:00:00",
          "2021-01-19T00:00:00",
          "2021-01-20T00:00:00",
          "2021-01-21T00:00:00",
          "2021-01-22T00:00:00",
          "2021-01-23T00:00:00",
          "2021-01-24T00:00:00",
          "2021-01-25T00:00:00",
          "2021-01-26T00:00:00",
          "2021-01-27T00:00:00",
          "2021-01-28T00:00:00",
          "2021-01-29T00:00:00",
          "2021-01-30T00:00:00",
          "2021-01-31T00:00:00",
          "2021-02-01T00:00:00",
          "2021-02-02T00:00:00",
          "2021-02-03T00:00:00",
          "2021-02-04T00:00:00",
          "2021-02-05T00:00:00",
          "2021-02-06T00:00:00",
          "2021-02-07T00:00:00",
          "2021-02-08T00:00:00",
          "2021-02-09T00:00:00",
          "2021-02-10T00:00:00",
          "2021-02-11T00:00:00",
          "2021-02-12T00:00:00",
          "2021-02-13T00:00:00",
          "2021-02-14T00:00:00",
          "2021-02-15T00:00:00",
          "2021-02-16T00:00:00",
          "2021-02-17T00:00:00",
          "2021-02-18T00:00:00",
          "2021-02-19T00:00:00",
          "2021-02-20T00:00:00",
          "2021-02-21T00:00:00",
          "2021-02-22T00:00:00",
          "2021-02-23T00:00:00",
          "2021-02-24T00:00:00",
          "2021-02-25T00:00:00",
          "2021-02-26T00:00:00",
          "2021-02-27T00:00:00",
          "2021-02-28T00:00:00",
          "2021-03-01T00:00:00",
          "2021-03-02T00:00:00",
          "2021-03-03T00:00:00",
          "2021-03-04T00:00:00",
          "2021-03-05T00:00:00"
         ],
         "y": [
          -948.7025650364002,
          -985.3246262702285,
          -1477.977775789063,
          -1466.1527217451653,
          -922.8054865048737,
          -789.7984238753395,
          -873.4962343888469,
          -963.482766314098,
          -857.7849497388323,
          -1393.844480944059,
          -1406.8288719620366,
          -838.4904469174896,
          -709.8628738786863,
          -809.5744492794377,
          -780.4615930012765,
          -784.0519319739001,
          -1341.0902869234233,
          -1356.8038141531574,
          -742.4186907409204,
          -646.4356550950431,
          -709.9456963692976,
          -651.1199978079866,
          -693.6607903075969,
          -1314.966196906877,
          -1262.3200336699704,
          -595.4586098810443,
          -480.28247464269,
          -570.5455277587927,
          -604.4917811771452,
          -589.3424806843625,
          -1092.1811147642177,
          -1119.757251211219,
          -482.5937185036382,
          -390.0934538340509,
          -382.69919190145004,
          -518.0167991453461,
          -413.4447734061056,
          -986.0508328204633,
          -945.2236362382572,
          -351.9676606599548,
          -170.90750539506604,
          -314.3890429107313,
          -284.9853828750755,
          -293.8868763818665,
          -828.611939243402,
          -800.524996878717,
          -214.73161464897606,
          -56.226216860204104,
          -56.44431816537541,
          -162.27023951331702,
          -47.701268583240385,
          -626.2478464403533,
          -678.7159205279022,
          -72.5682517198371,
          175.50253933646184,
          41.704287018412515,
          -52.90554894043289,
          65.73644851002885,
          -451.29407377905426,
          -492.7147667765747,
          135.72553336277284,
          284.11861956617815,
          258.1912463037151,
          173.97676273081245,
          249.9154236672361,
          -316.5371421862162,
          -284.9370740852062,
          311.4578720268445,
          533.4075603362883,
          422.5866794713094,
          346.2944150416016,
          276.07246237573185,
          -214.5118641044553,
          -256.7240384476774,
          340.4220325184005,
          475.8051308365354,
          438.36690155500753,
          423.2193981996975,
          516.2722336747997,
          -97.56314689423132,
          -169.27657239575643,
          420.27096331663915,
          486.4995832579091,
          494.3866728720683,
          353.83907301656507,
          405.6248137702252,
          -278.6563674708514,
          -280.795122452033,
          384.9249962527356,
          461.81290578497226,
          347.75443019648685,
          317.2628668624998,
          408.3450909298914,
          -272.71825657526267,
          -260.4419188499356,
          409.01740561337687,
          433.5198458908513,
          347.1629542580709,
          227.98526826979446,
          261.5160930521809,
          -311.4783603109233,
          -379.0768690390804,
          263.15009702795555,
          388.67191751699517,
          341.20129520534067,
          221.40267943695497,
          182.31947682625773,
          -316.45949636313304,
          -403.3840539897957,
          286.84763117740187,
          302.0699233093552,
          234.66985371565085,
          202.5439818030898,
          121.69507234346194,
          -376.3785909520522,
          -475.1420375916783,
          275.4126969936347,
          243.80649829348587,
          253.63585268217903,
          126.1611903411887,
          140.50911180581238,
          -425.9676648712977,
          -461.6037824459651,
          125.36910879489128,
          243.55725022906597,
          164.08760427389961,
          84.76647037459477,
          55.80441133953254,
          -487.0864123117327,
          -608.7176394728539,
          106.27106414556435,
          214.22381190481113,
          59.1789905731179,
          20.307680343949286,
          19.526222954907805,
          -559.6393498721807,
          -572.9615819990998,
          14.11354959712781,
          116.62006298811266,
          38.72671578585295,
          0.6648919930504218,
          28.654683594650514,
          -625.6784113321213,
          -686.1913843818863,
          20.936242421196653,
          160.88625564788052,
          51.75548278178991,
          -40.570828557578736,
          -63.41752085298872,
          -683.8142588930681,
          -698.5469179047135,
          -43.45140727926087,
          49.708591034564684,
          -13.02804142350132,
          -150.80763196659848,
          -117.48743417262027,
          -697.9892565055341,
          -710.4372346302472,
          -108.93831932718062,
          33.32717315018773,
          -120.65756053461013,
          -117.68924566102149,
          -122.6684559246895,
          -747.7028002635482,
          -742.2589605908676,
          -153.33137242176804,
          6.15353109821514,
          -35.67391467482191,
          -171.65036530647296,
          -164.03066701968118,
          -668.555827642655,
          -723.7286062717943,
          -87.49765829767412,
          -4.7162486397731636,
          -140.35136943363833,
          -195.50801873927063,
          -125.54358422969837,
          -709.0458937166018,
          -759.236587239849,
          -129.54395057382865,
          24.1454246441817,
          -46.886850578914625,
          -105.13264666551875,
          -116.03279825202,
          -743.1297510574009,
          -708.8973399157524,
          -109.27562332372685,
          -29.975625668272606,
          -82.92271116717184,
          -145.54500587325666,
          -116.86351666298461,
          -740.3211114091288,
          -694.9516858667096,
          -107.94006499016503,
          -17.471492956160898,
          -56.63761467546002,
          -162.56333669068684,
          -57.1441664822202,
          -770.109570773289,
          -783.7184429468352,
          -127.50720613844263,
          -34.139635993966955,
          -66.40553235160012,
          -176.67068236121844,
          -159.5986396028525,
          -750.5427009191483,
          -780.8265145083573,
          -107.68951167317304,
          -32.82506098077378,
          -119.64244438235544,
          -164.31078120560102,
          -232.78198987236593,
          -725.546215895596,
          -693.0540302844385,
          -76.4679727635905,
          -42.98294902633019,
          -112.21894695579894,
          -223.1167920061532,
          -164.7088145500413,
          -680.5719397159453,
          -658.3393168793716,
          -123.66380090714857,
          -131.71912888818622,
          -163.43883657717535,
          -163.65646082847272,
          -201.83108709471088,
          -761.9723632660098,
          -765.5253192033501,
          -96.84688293172142,
          -89.27858301476215,
          -93.91581271231038,
          -243.1180412555291,
          -194.5120443238318,
          -744.7682932944787,
          -684.6606241964148,
          -169.10226439630878,
          -113.57030755026881,
          -78.31669042517285,
          -229.2854182898199,
          -159.2994652212077,
          -750.1919718506023,
          -725.2351039675834,
          -137.9493480552257,
          -32.2175708555334,
          -81.97501019271986,
          -183.51635753524369,
          -217.83150287028943,
          -751.7787863213466,
          -721.8046041580396,
          -110.25894485820284,
          -8.241959893172536,
          -70.17469273054941,
          -79.47520113694463,
          -158.5781181797656,
          -680.649443501457,
          -730.5074751828695,
          -103.90877226642219,
          -91.9012115334868,
          -56.22051145072399,
          -70.75108461700843,
          -56.48165363632023,
          -626.9246555544206,
          -576.4520182218141,
          -18.497333386113866,
          22.50981551858101,
          53.95112845912644,
          -71.0645066410862,
          36.64197453735301,
          -605.8328498423476,
          -595.4656173119428,
          100.5267429101102,
          219.10812761172906,
          118.47449487307325,
          134.48421459977558,
          159.76863677882625,
          -418.6781793946573,
          -409.89717638819485,
          187.44734138104533,
          312.6283366070058,
          301.75305917652724,
          268.49792122322907,
          199.05469915047308,
          -339.43286380896484,
          -272.6114406906841,
          331.7686615548971,
          422.252066271142,
          450.74843868243534,
          363.557927273337,
          342.2501733403893,
          -104.35647177623551,
          -120.0477221079394,
          502.05716737401997,
          588.2901641851297,
          529.7478688367801,
          475.4678252114737,
          522.3232477231522,
          -56.573623695710246,
          -50.297068763630975,
          639.1542061462121,
          679.2050023641505,
          716.867812235899,
          683.0968986961875,
          621.5688882863313,
          78.85923313547742,
          130.47288846121157,
          744.4096169155135,
          872.5238327437057,
          781.5763701328287,
          752.0002970757241,
          806.5089133695155,
          194.39413683009906,
          298.38747026696234,
          902.4936993521503,
          1027.0918717485715,
          966.4950889578076,
          967.8566664191287,
          876.5976031745132,
          375.5510780540932,
          406.156237812018,
          1039.1805746285054,
          1088.352585982477,
          1102.86343790087,
          1046.4002842187076,
          1024.3890316564487,
          520.597900411065,
          489.7417381636626,
          1054.3465759097292,
          1187.5817846312295,
          1149.0846984467235,
          1210.4087370001212,
          1176.5726572747365,
          664.4309192742794,
          698.1096674127614,
          1272.0744072599307,
          1353.6719072268827,
          1389.7122383021426,
          1253.3722796794805,
          1310.2340408501245,
          728.1689094385871,
          714.6112388168056,
          1381.6335835012148,
          1508.9858213824552,
          1487.62668801779,
          1403.1455821919908,
          1470.4771911931355,
          925.1439550320009,
          840.0669270543657,
          1469.2899616130298,
          1560.8784405994659,
          1611.7170395817145,
          1604.4467300136628,
          1608.8889477501625,
          987.2185095354807,
          1122.9468315283627,
          1687.5458812514905,
          1711.0429772867592,
          1729.5810287987192,
          1709.4528001025094
         ]
        },
        {
         "fill": "tonexty",
         "fillcolor": "rgba(0, 114, 178, 0.2)",
         "line": {
          "color": "#0072B2",
          "width": 2
         },
         "mode": "lines",
         "name": "Predicted",
         "type": "scatter",
         "x": [
          "2020-03-13T00:00:00",
          "2020-03-14T00:00:00",
          "2020-03-15T00:00:00",
          "2020-03-16T00:00:00",
          "2020-03-17T00:00:00",
          "2020-03-18T00:00:00",
          "2020-03-19T00:00:00",
          "2020-03-20T00:00:00",
          "2020-03-21T00:00:00",
          "2020-03-22T00:00:00",
          "2020-03-23T00:00:00",
          "2020-03-24T00:00:00",
          "2020-03-25T00:00:00",
          "2020-03-26T00:00:00",
          "2020-03-27T00:00:00",
          "2020-03-28T00:00:00",
          "2020-03-29T00:00:00",
          "2020-03-30T00:00:00",
          "2020-03-31T00:00:00",
          "2020-04-01T00:00:00",
          "2020-04-02T00:00:00",
          "2020-04-03T00:00:00",
          "2020-04-04T00:00:00",
          "2020-04-05T00:00:00",
          "2020-04-06T00:00:00",
          "2020-04-07T00:00:00",
          "2020-04-08T00:00:00",
          "2020-04-09T00:00:00",
          "2020-04-10T00:00:00",
          "2020-04-11T00:00:00",
          "2020-04-12T00:00:00",
          "2020-04-13T00:00:00",
          "2020-04-14T00:00:00",
          "2020-04-15T00:00:00",
          "2020-04-16T00:00:00",
          "2020-04-17T00:00:00",
          "2020-04-18T00:00:00",
          "2020-04-19T00:00:00",
          "2020-04-20T00:00:00",
          "2020-04-21T00:00:00",
          "2020-04-22T00:00:00",
          "2020-04-23T00:00:00",
          "2020-04-24T00:00:00",
          "2020-04-25T00:00:00",
          "2020-04-26T00:00:00",
          "2020-04-27T00:00:00",
          "2020-04-28T00:00:00",
          "2020-04-29T00:00:00",
          "2020-04-30T00:00:00",
          "2020-05-01T00:00:00",
          "2020-05-02T00:00:00",
          "2020-05-03T00:00:00",
          "2020-05-04T00:00:00",
          "2020-05-05T00:00:00",
          "2020-05-06T00:00:00",
          "2020-05-07T00:00:00",
          "2020-05-08T00:00:00",
          "2020-05-09T00:00:00",
          "2020-05-10T00:00:00",
          "2020-05-11T00:00:00",
          "2020-05-12T00:00:00",
          "2020-05-13T00:00:00",
          "2020-05-14T00:00:00",
          "2020-05-15T00:00:00",
          "2020-05-16T00:00:00",
          "2020-05-17T00:00:00",
          "2020-05-18T00:00:00",
          "2020-05-19T00:00:00",
          "2020-05-20T00:00:00",
          "2020-05-21T00:00:00",
          "2020-05-22T00:00:00",
          "2020-05-23T00:00:00",
          "2020-05-24T00:00:00",
          "2020-05-25T00:00:00",
          "2020-05-26T00:00:00",
          "2020-05-27T00:00:00",
          "2020-05-28T00:00:00",
          "2020-05-29T00:00:00",
          "2020-05-30T00:00:00",
          "2020-05-31T00:00:00",
          "2020-06-01T00:00:00",
          "2020-06-02T00:00:00",
          "2020-06-03T00:00:00",
          "2020-06-04T00:00:00",
          "2020-06-05T00:00:00",
          "2020-06-06T00:00:00",
          "2020-06-07T00:00:00",
          "2020-06-08T00:00:00",
          "2020-06-09T00:00:00",
          "2020-06-10T00:00:00",
          "2020-06-11T00:00:00",
          "2020-06-12T00:00:00",
          "2020-06-13T00:00:00",
          "2020-06-14T00:00:00",
          "2020-06-15T00:00:00",
          "2020-06-16T00:00:00",
          "2020-06-17T00:00:00",
          "2020-06-18T00:00:00",
          "2020-06-19T00:00:00",
          "2020-06-20T00:00:00",
          "2020-06-21T00:00:00",
          "2020-06-22T00:00:00",
          "2020-06-23T00:00:00",
          "2020-06-24T00:00:00",
          "2020-06-25T00:00:00",
          "2020-06-26T00:00:00",
          "2020-06-27T00:00:00",
          "2020-06-28T00:00:00",
          "2020-06-29T00:00:00",
          "2020-06-30T00:00:00",
          "2020-07-01T00:00:00",
          "2020-07-02T00:00:00",
          "2020-07-03T00:00:00",
          "2020-07-04T00:00:00",
          "2020-07-05T00:00:00",
          "2020-07-06T00:00:00",
          "2020-07-07T00:00:00",
          "2020-07-08T00:00:00",
          "2020-07-09T00:00:00",
          "2020-07-10T00:00:00",
          "2020-07-11T00:00:00",
          "2020-07-12T00:00:00",
          "2020-07-13T00:00:00",
          "2020-07-14T00:00:00",
          "2020-07-15T00:00:00",
          "2020-07-16T00:00:00",
          "2020-07-17T00:00:00",
          "2020-07-18T00:00:00",
          "2020-07-19T00:00:00",
          "2020-07-20T00:00:00",
          "2020-07-21T00:00:00",
          "2020-07-22T00:00:00",
          "2020-07-23T00:00:00",
          "2020-07-24T00:00:00",
          "2020-07-25T00:00:00",
          "2020-07-26T00:00:00",
          "2020-07-27T00:00:00",
          "2020-07-28T00:00:00",
          "2020-07-29T00:00:00",
          "2020-07-30T00:00:00",
          "2020-07-31T00:00:00",
          "2020-08-01T00:00:00",
          "2020-08-02T00:00:00",
          "2020-08-03T00:00:00",
          "2020-08-04T00:00:00",
          "2020-08-05T00:00:00",
          "2020-08-06T00:00:00",
          "2020-08-07T00:00:00",
          "2020-08-08T00:00:00",
          "2020-08-09T00:00:00",
          "2020-08-10T00:00:00",
          "2020-08-11T00:00:00",
          "2020-08-12T00:00:00",
          "2020-08-13T00:00:00",
          "2020-08-14T00:00:00",
          "2020-08-15T00:00:00",
          "2020-08-16T00:00:00",
          "2020-08-17T00:00:00",
          "2020-08-18T00:00:00",
          "2020-08-19T00:00:00",
          "2020-08-20T00:00:00",
          "2020-08-21T00:00:00",
          "2020-08-22T00:00:00",
          "2020-08-23T00:00:00",
          "2020-08-24T00:00:00",
          "2020-08-25T00:00:00",
          "2020-08-26T00:00:00",
          "2020-08-27T00:00:00",
          "2020-08-28T00:00:00",
          "2020-08-29T00:00:00",
          "2020-08-30T00:00:00",
          "2020-08-31T00:00:00",
          "2020-09-01T00:00:00",
          "2020-09-02T00:00:00",
          "2020-09-03T00:00:00",
          "2020-09-04T00:00:00",
          "2020-09-05T00:00:00",
          "2020-09-06T00:00:00",
          "2020-09-07T00:00:00",
          "2020-09-08T00:00:00",
          "2020-09-09T00:00:00",
          "2020-09-10T00:00:00",
          "2020-09-11T00:00:00",
          "2020-09-12T00:00:00",
          "2020-09-13T00:00:00",
          "2020-09-14T00:00:00",
          "2020-09-15T00:00:00",
          "2020-09-16T00:00:00",
          "2020-09-17T00:00:00",
          "2020-09-18T00:00:00",
          "2020-09-19T00:00:00",
          "2020-09-20T00:00:00",
          "2020-09-21T00:00:00",
          "2020-09-22T00:00:00",
          "2020-09-23T00:00:00",
          "2020-09-24T00:00:00",
          "2020-09-25T00:00:00",
          "2020-09-26T00:00:00",
          "2020-09-27T00:00:00",
          "2020-09-28T00:00:00",
          "2020-09-29T00:00:00",
          "2020-09-30T00:00:00",
          "2020-10-01T00:00:00",
          "2020-10-02T00:00:00",
          "2020-10-03T00:00:00",
          "2020-10-04T00:00:00",
          "2020-10-05T00:00:00",
          "2020-10-06T00:00:00",
          "2020-10-07T00:00:00",
          "2020-10-08T00:00:00",
          "2020-10-09T00:00:00",
          "2020-10-10T00:00:00",
          "2020-10-11T00:00:00",
          "2020-10-12T00:00:00",
          "2020-10-13T00:00:00",
          "2020-10-14T00:00:00",
          "2020-10-15T00:00:00",
          "2020-10-16T00:00:00",
          "2020-10-17T00:00:00",
          "2020-10-18T00:00:00",
          "2020-10-19T00:00:00",
          "2020-10-20T00:00:00",
          "2020-10-21T00:00:00",
          "2020-10-22T00:00:00",
          "2020-10-23T00:00:00",
          "2020-10-24T00:00:00",
          "2020-10-25T00:00:00",
          "2020-10-26T00:00:00",
          "2020-10-27T00:00:00",
          "2020-10-28T00:00:00",
          "2020-10-29T00:00:00",
          "2020-10-30T00:00:00",
          "2020-10-31T00:00:00",
          "2020-11-01T00:00:00",
          "2020-11-02T00:00:00",
          "2020-11-03T00:00:00",
          "2020-11-04T00:00:00",
          "2020-11-05T00:00:00",
          "2020-11-06T00:00:00",
          "2020-11-07T00:00:00",
          "2020-11-08T00:00:00",
          "2020-11-09T00:00:00",
          "2020-11-10T00:00:00",
          "2020-11-11T00:00:00",
          "2020-11-12T00:00:00",
          "2020-11-13T00:00:00",
          "2020-11-14T00:00:00",
          "2020-11-15T00:00:00",
          "2020-11-16T00:00:00",
          "2020-11-17T00:00:00",
          "2020-11-18T00:00:00",
          "2020-11-19T00:00:00",
          "2020-11-20T00:00:00",
          "2020-11-21T00:00:00",
          "2020-11-22T00:00:00",
          "2020-11-23T00:00:00",
          "2020-11-24T00:00:00",
          "2020-11-25T00:00:00",
          "2020-11-26T00:00:00",
          "2020-11-27T00:00:00",
          "2020-11-28T00:00:00",
          "2020-11-29T00:00:00",
          "2020-11-30T00:00:00",
          "2020-12-01T00:00:00",
          "2020-12-02T00:00:00",
          "2020-12-03T00:00:00",
          "2020-12-04T00:00:00",
          "2020-12-05T00:00:00",
          "2020-12-06T00:00:00",
          "2020-12-07T00:00:00",
          "2020-12-08T00:00:00",
          "2020-12-09T00:00:00",
          "2020-12-10T00:00:00",
          "2020-12-11T00:00:00",
          "2020-12-12T00:00:00",
          "2020-12-13T00:00:00",
          "2020-12-14T00:00:00",
          "2020-12-15T00:00:00",
          "2020-12-16T00:00:00",
          "2020-12-17T00:00:00",
          "2020-12-18T00:00:00",
          "2020-12-19T00:00:00",
          "2020-12-20T00:00:00",
          "2020-12-21T00:00:00",
          "2020-12-22T00:00:00",
          "2020-12-23T00:00:00",
          "2020-12-24T00:00:00",
          "2020-12-25T00:00:00",
          "2020-12-26T00:00:00",
          "2020-12-27T00:00:00",
          "2020-12-28T00:00:00",
          "2020-12-29T00:00:00",
          "2020-12-30T00:00:00",
          "2020-12-31T00:00:00",
          "2021-01-01T00:00:00",
          "2021-01-02T00:00:00",
          "2021-01-03T00:00:00",
          "2021-01-04T00:00:00",
          "2021-01-05T00:00:00",
          "2021-01-06T00:00:00",
          "2021-01-07T00:00:00",
          "2021-01-08T00:00:00",
          "2021-01-09T00:00:00",
          "2021-01-10T00:00:00",
          "2021-01-11T00:00:00",
          "2021-01-12T00:00:00",
          "2021-01-13T00:00:00",
          "2021-01-14T00:00:00",
          "2021-01-15T00:00:00",
          "2021-01-16T00:00:00",
          "2021-01-17T00:00:00",
          "2021-01-18T00:00:00",
          "2021-01-19T00:00:00",
          "2021-01-20T00:00:00",
          "2021-01-21T00:00:00",
          "2021-01-22T00:00:00",
          "2021-01-23T00:00:00",
          "2021-01-24T00:00:00",
          "2021-01-25T00:00:00",
          "2021-01-26T00:00:00",
          "2021-01-27T00:00:00",
          "2021-01-28T00:00:00",
          "2021-01-29T00:00:00",
          "2021-01-30T00:00:00",
          "2021-01-31T00:00:00",
          "2021-02-01T00:00:00",
          "2021-02-02T00:00:00",
          "2021-02-03T00:00:00",
          "2021-02-04T00:00:00",
          "2021-02-05T00:00:00",
          "2021-02-06T00:00:00",
          "2021-02-07T00:00:00",
          "2021-02-08T00:00:00",
          "2021-02-09T00:00:00",
          "2021-02-10T00:00:00",
          "2021-02-11T00:00:00",
          "2021-02-12T00:00:00",
          "2021-02-13T00:00:00",
          "2021-02-14T00:00:00",
          "2021-02-15T00:00:00",
          "2021-02-16T00:00:00",
          "2021-02-17T00:00:00",
          "2021-02-18T00:00:00",
          "2021-02-19T00:00:00",
          "2021-02-20T00:00:00",
          "2021-02-21T00:00:00",
          "2021-02-22T00:00:00",
          "2021-02-23T00:00:00",
          "2021-02-24T00:00:00",
          "2021-02-25T00:00:00",
          "2021-02-26T00:00:00",
          "2021-02-27T00:00:00",
          "2021-02-28T00:00:00",
          "2021-03-01T00:00:00",
          "2021-03-02T00:00:00",
          "2021-03-03T00:00:00",
          "2021-03-04T00:00:00",
          "2021-03-05T00:00:00"
         ],
         "y": [
          -50.47451807174593,
          -31.635029971502888,
          -595.0377453701608,
          -593.208974949709,
          40.93181702137878,
          132.3396254617005,
          91.57196136718002,
          38.02224338107091,
          56.861731481482096,
          -506.540983917002,
          -504.71221349565826,
          129.42857847562408,
          220.8363872189515,
          180.06872342702837,
          126.51900574433704,
          145.35849414749842,
          -418.044220947554,
          -416.2154502230619,
          217.92534204977844,
          309.3331507949633,
          268.5654870031067,
          215.01576932044136,
          233.85525772488577,
          -325.8564173985318,
          -320.3366067025636,
          317.49522554187797,
          412.59407425826043,
          375.5174504383215,
          325.6587727278601,
          348.1893011038028,
          -211.52237401933124,
          -206.00256332295862,
          431.8292689212629,
          526.9281176370218,
          497.62762799842966,
          455.5450844685032,
          485.8517470246481,
          -66.08379391752709,
          -52.78784903938117,
          592.820117383949,
          695.6951002822915,
          666.3946106435491,
          624.3120671136189,
          654.6187296698271,
          102.68318872744817,
          115.97913360431613,
          761.7119080025857,
          864.7116988738771,
          835.5360172088524,
          793.5782816522566,
          824.0097521832488,
          272.19901921285043,
          285.6197720635144,
          931.3525464624792,
          1034.3523373329788,
          1005.1766556678035,
          963.2189201112042,
          993.6503902125977,
          441.83965681233366,
          455.26040923422767,
          1100.9931832028958,
          1203.9929736440645,
          1174.8172915487837,
          1132.8595555627119,
          1163.2910256632201,
          611.4802922630205,
          624.9010446836237,
          1270.6338186543267,
          1360.4257513058558,
          1318.0422114212413,
          1262.8766176459283,
          1280.1002299568759,
          715.0816387687663,
          715.2945333991065,
          1347.8194495801595,
          1437.6113822310645,
          1395.2278423468724,
          1340.06224857094,
          1357.2858608822403,
          774.2372539443955,
          756.4201328255954,
          1370.9150332573972,
          1442.6769501583938,
          1382.2633945245493,
          1309.067784999052,
          1308.2613815601287,
          725.2127746228355,
          707.3956535044263,
          1321.890553934442,
          1393.6524708366346,
          1333.2389149934224,
          1260.0433052584629,
          1259.2369016097284,
          676.1882944637871,
          658.3711731348509,
          1272.8660733550514,
          1344.6279900476004,
          1284.2144342042377,
          1211.0188244694675,
          1210.212420821823,
          627.1638136749456,
          609.3466892961233,
          1223.841586466228,
          1295.6035001076941,
          1235.1899412142466,
          1161.9943284290198,
          1161.1879217305768,
          578.1393115330952,
          560.3221871551516,
          1174.8170843251219,
          1246.5789979669191,
          1186.1654390730282,
          1112.9698262877973,
          1112.1634194204746,
          529.1148090541141,
          511.297684506815,
          1125.7925815101698,
          1197.554494982778,
          1137.1409359203883,
          1063.9453229670046,
          1063.1389160993588,
          480.09030573328204,
          462.27318118588664,
          1076.768078189522,
          1148.5299800950606,
          1088.1164094662913,
          1014.9207849460053,
          1014.1143665136792,
          431.06574457924546,
          413.2486084667835,
          1027.7434939037526,
          1099.5053958094538,
          1039.091825180024,
          965.8962006598978,
          965.0897822270642,
          382.04123114460145,
          364.2241658838271,
          978.7191221708936,
          1050.4810949300027,
          990.0675951526835,
          916.8720414845733,
          916.0656939030293,
          333.0171428219774,
          315.20007756085795,
          929.6950338477044,
          1001.4570066064362,
          941.0508731342559,
          867.8626857716247,
          867.0637044952396,
          284.0225197197607,
          266.2128207643348,
          880.7151433562503,
          952.4844824196477,
          892.0783489479197,
          818.8901615844459,
          818.0911803078516,
          235.04999553243664,
          220.58400114441713,
          838.4300283020755,
          913.5430719339437,
          856.4806430293401,
          786.6361602328908,
          789.1808835233877,
          209.48340331479727,
          195.01740892600066,
          812.8634360846933,
          887.9764797163521,
          830.9140508118152,
          764.6190057755284,
          770.7131668266722,
          194.56512437640822,
          183.64856774775268,
          805.0440326668906,
          883.7065140575079,
          830.1935229126002,
          763.89847787628,
          769.9926389271094,
          193.84459647701914,
          182.9280398492557,
          804.3235047677588,
          883.0339160084978,
          829.5688547132643,
          763.3217395265983,
          769.4638304267112,
          193.36371782609865,
          182.49509104683546,
          803.938485817165,
          882.6488970576953,
          829.1838357625579,
          762.9367205760816,
          769.0788114760644,
          192.97869754128612,
          182.110069424529,
          803.5534628588794,
          882.2638727621971,
          828.7988101309525,
          762.5516936080389,
          768.6937831722005,
          192.59366923673105,
          181.72504112085255,
          803.1684345550689,
          881.8788444584242,
          828.4137826654453,
          762.1666669808847,
          768.3087573827404,
          192.2086442862087,
          181.34001700910795,
          802.7834112799246,
          881.4938220228623,
          828.0287602301966,
          761.7816445460485,
          767.9237349475811,
          191.82362185257028,
          180.9549948142684,
          802.3983893250834,
          881.1088003087308,
          827.6437387555072,
          761.3966233114877,
          767.5387139544356,
          191.43860109813346,
          180.5699740607236,
          802.013368571733,
          880.7237795545886,
          827.2587180015709,
          761.0116037287148,
          767.1536955424854,
          191.05358385719967,
          180.1849579914977,
          801.6283536742037,
          880.3387658279339,
          826.8737054465889,
          760.6265911737293,
          766.7686829871851,
          190.66857130158604,
          179.79994543559462,
          801.2967283674338,
          880.0605277684713,
          826.6488546346309,
          760.455127609868,
          766.6506066722828,
          190.60388223305415,
          179.78864361465105,
          801.2854265447045,
          880.0492259471845,
          826.6375528134699,
          760.443825788191,
          766.6393048503965,
          194.52246954357355,
          187.63712005889113,
          813.0637921210662,
          895.7574806560502,
          846.2756966539573,
          784.0118587612392,
          794.1372269556562,
          222.02039164862936,
          215.1350421638375,
          840.5617142263789,
          923.2554027609076,
          881.8093245521729,
          827.5811924527203,
          845.7422664396757,
          281.6611369275925,
          282.8114932350144,
          916.2738710907967,
          1007.003265417579,
          965.5571872087241,
          911.3290551089481,
          929.4901290962563,
          365.40899958397006,
          373.4425953330517,
          1013.7882126323061,
          1111.4008464013166,
          1076.8380076353221,
          1029.4931149776546,
          1054.5374284067072,
          497.3395383369223,
          505.37313408638323,
          1145.718751384351,
          1243.3313851548046,
          1208.7685463889068,
          1161.4236568641277,
          1186.4679734253634,
          629.2700864883693,
          637.3036853707395,
          1277.6493058005788,
          1375.26194270333,
          1340.6991070700053,
          1293.3542175452512,
          1318.3985341077703,
          761.2006471688651,
          769.2342460521147,
          1409.5798664826493,
          1507.1925033846078,
          1472.6296677515186,
          1425.2847782263752,
          1450.3290947885805,
          893.131207849848,
          901.1648067334879,
          1541.5104271638895,
          1639.1230640659332,
          1604.5602284326162,
          1557.215338907693,
          1582.2596554693896,
          1025.0617685320694,
          1033.0953674131945,
          1673.4409878451306,
          1771.0536247472107,
          1736.4907891137434,
          1689.1458995890098,
          1714.1902161505777,
          1156.9923292135395,
          1165.0259280950695,
          1805.3715485272,
          1902.9841854282417,
          1868.421349794872,
          1821.076460269844,
          1846.1207768310078,
          1288.9228898940353,
          1296.9564887764448,
          1937.3021092084402,
          2034.9147461100604,
          2000.3519104759991,
          1953.0070209509688,
          1978.051337512196,
          1420.8534505750195,
          1428.887049457819,
          2069.232669888029,
          2166.845306790845,
          2132.282471157098,
          2084.9375816324787,
          2109.98189819498,
          1552.784011257727,
          1560.8176101391944,
          2201.1632305696844,
          2298.7758674721226,
          2264.2130318382547,
          2216.868142313602,
          2241.9124588757904,
          1684.7145719387102,
          1692.7481708210685,
          2333.093791251339,
          2430.7064281534012,
          2396.143592519709,
          2348.7987029949204,
          2373.8430195565998,
          1816.6451326192068,
          1824.678731501943,
          2465.024351930514,
          2562.6369888341856,
          2528.0741532008356,
          2480.729263676237,
          2505.77358023741,
          1948.5756933006771,
          1956.60929218215,
          2596.954912612168,
          2694.5675495154633,
          2660.0047138819345,
          2612.659824357071
         ]
        },
        {
         "fill": "tonexty",
         "fillcolor": "rgba(0, 114, 178, 0.2)",
         "hoverinfo": "skip",
         "line": {
          "width": 0
         },
         "mode": "lines",
         "type": "scatter",
         "x": [
          "2020-03-13T00:00:00",
          "2020-03-14T00:00:00",
          "2020-03-15T00:00:00",
          "2020-03-16T00:00:00",
          "2020-03-17T00:00:00",
          "2020-03-18T00:00:00",
          "2020-03-19T00:00:00",
          "2020-03-20T00:00:00",
          "2020-03-21T00:00:00",
          "2020-03-22T00:00:00",
          "2020-03-23T00:00:00",
          "2020-03-24T00:00:00",
          "2020-03-25T00:00:00",
          "2020-03-26T00:00:00",
          "2020-03-27T00:00:00",
          "2020-03-28T00:00:00",
          "2020-03-29T00:00:00",
          "2020-03-30T00:00:00",
          "2020-03-31T00:00:00",
          "2020-04-01T00:00:00",
          "2020-04-02T00:00:00",
          "2020-04-03T00:00:00",
          "2020-04-04T00:00:00",
          "2020-04-05T00:00:00",
          "2020-04-06T00:00:00",
          "2020-04-07T00:00:00",
          "2020-04-08T00:00:00",
          "2020-04-09T00:00:00",
          "2020-04-10T00:00:00",
          "2020-04-11T00:00:00",
          "2020-04-12T00:00:00",
          "2020-04-13T00:00:00",
          "2020-04-14T00:00:00",
          "2020-04-15T00:00:00",
          "2020-04-16T00:00:00",
          "2020-04-17T00:00:00",
          "2020-04-18T00:00:00",
          "2020-04-19T00:00:00",
          "2020-04-20T00:00:00",
          "2020-04-21T00:00:00",
          "2020-04-22T00:00:00",
          "2020-04-23T00:00:00",
          "2020-04-24T00:00:00",
          "2020-04-25T00:00:00",
          "2020-04-26T00:00:00",
          "2020-04-27T00:00:00",
          "2020-04-28T00:00:00",
          "2020-04-29T00:00:00",
          "2020-04-30T00:00:00",
          "2020-05-01T00:00:00",
          "2020-05-02T00:00:00",
          "2020-05-03T00:00:00",
          "2020-05-04T00:00:00",
          "2020-05-05T00:00:00",
          "2020-05-06T00:00:00",
          "2020-05-07T00:00:00",
          "2020-05-08T00:00:00",
          "2020-05-09T00:00:00",
          "2020-05-10T00:00:00",
          "2020-05-11T00:00:00",
          "2020-05-12T00:00:00",
          "2020-05-13T00:00:00",
          "2020-05-14T00:00:00",
          "2020-05-15T00:00:00",
          "2020-05-16T00:00:00",
          "2020-05-17T00:00:00",
          "2020-05-18T00:00:00",
          "2020-05-19T00:00:00",
          "2020-05-20T00:00:00",
          "2020-05-21T00:00:00",
          "2020-05-22T00:00:00",
          "2020-05-23T00:00:00",
          "2020-05-24T00:00:00",
          "2020-05-25T00:00:00",
          "2020-05-26T00:00:00",
          "2020-05-27T00:00:00",
          "2020-05-28T00:00:00",
          "2020-05-29T00:00:00",
          "2020-05-30T00:00:00",
          "2020-05-31T00:00:00",
          "2020-06-01T00:00:00",
          "2020-06-02T00:00:00",
          "2020-06-03T00:00:00",
          "2020-06-04T00:00:00",
          "2020-06-05T00:00:00",
          "2020-06-06T00:00:00",
          "2020-06-07T00:00:00",
          "2020-06-08T00:00:00",
          "2020-06-09T00:00:00",
          "2020-06-10T00:00:00",
          "2020-06-11T00:00:00",
          "2020-06-12T00:00:00",
          "2020-06-13T00:00:00",
          "2020-06-14T00:00:00",
          "2020-06-15T00:00:00",
          "2020-06-16T00:00:00",
          "2020-06-17T00:00:00",
          "2020-06-18T00:00:00",
          "2020-06-19T00:00:00",
          "2020-06-20T00:00:00",
          "2020-06-21T00:00:00",
          "2020-06-22T00:00:00",
          "2020-06-23T00:00:00",
          "2020-06-24T00:00:00",
          "2020-06-25T00:00:00",
          "2020-06-26T00:00:00",
          "2020-06-27T00:00:00",
          "2020-06-28T00:00:00",
          "2020-06-29T00:00:00",
          "2020-06-30T00:00:00",
          "2020-07-01T00:00:00",
          "2020-07-02T00:00:00",
          "2020-07-03T00:00:00",
          "2020-07-04T00:00:00",
          "2020-07-05T00:00:00",
          "2020-07-06T00:00:00",
          "2020-07-07T00:00:00",
          "2020-07-08T00:00:00",
          "2020-07-09T00:00:00",
          "2020-07-10T00:00:00",
          "2020-07-11T00:00:00",
          "2020-07-12T00:00:00",
          "2020-07-13T00:00:00",
          "2020-07-14T00:00:00",
          "2020-07-15T00:00:00",
          "2020-07-16T00:00:00",
          "2020-07-17T00:00:00",
          "2020-07-18T00:00:00",
          "2020-07-19T00:00:00",
          "2020-07-20T00:00:00",
          "2020-07-21T00:00:00",
          "2020-07-22T00:00:00",
          "2020-07-23T00:00:00",
          "2020-07-24T00:00:00",
          "2020-07-25T00:00:00",
          "2020-07-26T00:00:00",
          "2020-07-27T00:00:00",
          "2020-07-28T00:00:00",
          "2020-07-29T00:00:00",
          "2020-07-30T00:00:00",
          "2020-07-31T00:00:00",
          "2020-08-01T00:00:00",
          "2020-08-02T00:00:00",
          "2020-08-03T00:00:00",
          "2020-08-04T00:00:00",
          "2020-08-05T00:00:00",
          "2020-08-06T00:00:00",
          "2020-08-07T00:00:00",
          "2020-08-08T00:00:00",
          "2020-08-09T00:00:00",
          "2020-08-10T00:00:00",
          "2020-08-11T00:00:00",
          "2020-08-12T00:00:00",
          "2020-08-13T00:00:00",
          "2020-08-14T00:00:00",
          "2020-08-15T00:00:00",
          "2020-08-16T00:00:00",
          "2020-08-17T00:00:00",
          "2020-08-18T00:00:00",
          "2020-08-19T00:00:00",
          "2020-08-20T00:00:00",
          "2020-08-21T00:00:00",
          "2020-08-22T00:00:00",
          "2020-08-23T00:00:00",
          "2020-08-24T00:00:00",
          "2020-08-25T00:00:00",
          "2020-08-26T00:00:00",
          "2020-08-27T00:00:00",
          "2020-08-28T00:00:00",
          "2020-08-29T00:00:00",
          "2020-08-30T00:00:00",
          "2020-08-31T00:00:00",
          "2020-09-01T00:00:00",
          "2020-09-02T00:00:00",
          "2020-09-03T00:00:00",
          "2020-09-04T00:00:00",
          "2020-09-05T00:00:00",
          "2020-09-06T00:00:00",
          "2020-09-07T00:00:00",
          "2020-09-08T00:00:00",
          "2020-09-09T00:00:00",
          "2020-09-10T00:00:00",
          "2020-09-11T00:00:00",
          "2020-09-12T00:00:00",
          "2020-09-13T00:00:00",
          "2020-09-14T00:00:00",
          "2020-09-15T00:00:00",
          "2020-09-16T00:00:00",
          "2020-09-17T00:00:00",
          "2020-09-18T00:00:00",
          "2020-09-19T00:00:00",
          "2020-09-20T00:00:00",
          "2020-09-21T00:00:00",
          "2020-09-22T00:00:00",
          "2020-09-23T00:00:00",
          "2020-09-24T00:00:00",
          "2020-09-25T00:00:00",
          "2020-09-26T00:00:00",
          "2020-09-27T00:00:00",
          "2020-09-28T00:00:00",
          "2020-09-29T00:00:00",
          "2020-09-30T00:00:00",
          "2020-10-01T00:00:00",
          "2020-10-02T00:00:00",
          "2020-10-03T00:00:00",
          "2020-10-04T00:00:00",
          "2020-10-05T00:00:00",
          "2020-10-06T00:00:00",
          "2020-10-07T00:00:00",
          "2020-10-08T00:00:00",
          "2020-10-09T00:00:00",
          "2020-10-10T00:00:00",
          "2020-10-11T00:00:00",
          "2020-10-12T00:00:00",
          "2020-10-13T00:00:00",
          "2020-10-14T00:00:00",
          "2020-10-15T00:00:00",
          "2020-10-16T00:00:00",
          "2020-10-17T00:00:00",
          "2020-10-18T00:00:00",
          "2020-10-19T00:00:00",
          "2020-10-20T00:00:00",
          "2020-10-21T00:00:00",
          "2020-10-22T00:00:00",
          "2020-10-23T00:00:00",
          "2020-10-24T00:00:00",
          "2020-10-25T00:00:00",
          "2020-10-26T00:00:00",
          "2020-10-27T00:00:00",
          "2020-10-28T00:00:00",
          "2020-10-29T00:00:00",
          "2020-10-30T00:00:00",
          "2020-10-31T00:00:00",
          "2020-11-01T00:00:00",
          "2020-11-02T00:00:00",
          "2020-11-03T00:00:00",
          "2020-11-04T00:00:00",
          "2020-11-05T00:00:00",
          "2020-11-06T00:00:00",
          "2020-11-07T00:00:00",
          "2020-11-08T00:00:00",
          "2020-11-09T00:00:00",
          "2020-11-10T00:00:00",
          "2020-11-11T00:00:00",
          "2020-11-12T00:00:00",
          "2020-11-13T00:00:00",
          "2020-11-14T00:00:00",
          "2020-11-15T00:00:00",
          "2020-11-16T00:00:00",
          "2020-11-17T00:00:00",
          "2020-11-18T00:00:00",
          "2020-11-19T00:00:00",
          "2020-11-20T00:00:00",
          "2020-11-21T00:00:00",
          "2020-11-22T00:00:00",
          "2020-11-23T00:00:00",
          "2020-11-24T00:00:00",
          "2020-11-25T00:00:00",
          "2020-11-26T00:00:00",
          "2020-11-27T00:00:00",
          "2020-11-28T00:00:00",
          "2020-11-29T00:00:00",
          "2020-11-30T00:00:00",
          "2020-12-01T00:00:00",
          "2020-12-02T00:00:00",
          "2020-12-03T00:00:00",
          "2020-12-04T00:00:00",
          "2020-12-05T00:00:00",
          "2020-12-06T00:00:00",
          "2020-12-07T00:00:00",
          "2020-12-08T00:00:00",
          "2020-12-09T00:00:00",
          "2020-12-10T00:00:00",
          "2020-12-11T00:00:00",
          "2020-12-12T00:00:00",
          "2020-12-13T00:00:00",
          "2020-12-14T00:00:00",
          "2020-12-15T00:00:00",
          "2020-12-16T00:00:00",
          "2020-12-17T00:00:00",
          "2020-12-18T00:00:00",
          "2020-12-19T00:00:00",
          "2020-12-20T00:00:00",
          "2020-12-21T00:00:00",
          "2020-12-22T00:00:00",
          "2020-12-23T00:00:00",
          "2020-12-24T00:00:00",
          "2020-12-25T00:00:00",
          "2020-12-26T00:00:00",
          "2020-12-27T00:00:00",
          "2020-12-28T00:00:00",
          "2020-12-29T00:00:00",
          "2020-12-30T00:00:00",
          "2020-12-31T00:00:00",
          "2021-01-01T00:00:00",
          "2021-01-02T00:00:00",
          "2021-01-03T00:00:00",
          "2021-01-04T00:00:00",
          "2021-01-05T00:00:00",
          "2021-01-06T00:00:00",
          "2021-01-07T00:00:00",
          "2021-01-08T00:00:00",
          "2021-01-09T00:00:00",
          "2021-01-10T00:00:00",
          "2021-01-11T00:00:00",
          "2021-01-12T00:00:00",
          "2021-01-13T00:00:00",
          "2021-01-14T00:00:00",
          "2021-01-15T00:00:00",
          "2021-01-16T00:00:00",
          "2021-01-17T00:00:00",
          "2021-01-18T00:00:00",
          "2021-01-19T00:00:00",
          "2021-01-20T00:00:00",
          "2021-01-21T00:00:00",
          "2021-01-22T00:00:00",
          "2021-01-23T00:00:00",
          "2021-01-24T00:00:00",
          "2021-01-25T00:00:00",
          "2021-01-26T00:00:00",
          "2021-01-27T00:00:00",
          "2021-01-28T00:00:00",
          "2021-01-29T00:00:00",
          "2021-01-30T00:00:00",
          "2021-01-31T00:00:00",
          "2021-02-01T00:00:00",
          "2021-02-02T00:00:00",
          "2021-02-03T00:00:00",
          "2021-02-04T00:00:00",
          "2021-02-05T00:00:00",
          "2021-02-06T00:00:00",
          "2021-02-07T00:00:00",
          "2021-02-08T00:00:00",
          "2021-02-09T00:00:00",
          "2021-02-10T00:00:00",
          "2021-02-11T00:00:00",
          "2021-02-12T00:00:00",
          "2021-02-13T00:00:00",
          "2021-02-14T00:00:00",
          "2021-02-15T00:00:00",
          "2021-02-16T00:00:00",
          "2021-02-17T00:00:00",
          "2021-02-18T00:00:00",
          "2021-02-19T00:00:00",
          "2021-02-20T00:00:00",
          "2021-02-21T00:00:00",
          "2021-02-22T00:00:00",
          "2021-02-23T00:00:00",
          "2021-02-24T00:00:00",
          "2021-02-25T00:00:00",
          "2021-02-26T00:00:00",
          "2021-02-27T00:00:00",
          "2021-02-28T00:00:00",
          "2021-03-01T00:00:00",
          "2021-03-02T00:00:00",
          "2021-03-03T00:00:00",
          "2021-03-04T00:00:00",
          "2021-03-05T00:00:00"
         ],
         "y": [
          878.9616291237119,
          888.8324564437727,
          328.5923475354924,
          291.6182120608823,
          965.8883588709506,
          974.7241816726589,
          978.6739174487468,
          960.4783734749359,
          950.838904682013,
          368.2509150894419,
          431.2435258691965,
          1096.4170575470303,
          1134.1447302296617,
          1067.8669197033046,
          1077.083652932157,
          1124.2066562037664,
          538.731574067372,
          474.74518760639853,
          1133.5760371160732,
          1249.9396380470112,
          1234.6762714926751,
          1181.423056141655,
          1220.6264434977095,
          549.7225731610692,
          637.4374617173643,
          1228.5769710473048,
          1322.690555628067,
          1284.9407311747548,
          1201.499877388113,
          1258.047253367287,
          746.5924840505003,
          685.2214020748614,
          1343.9401082168617,
          1428.1417355835617,
          1459.9875616149366,
          1446.4791249867146,
          1373.3461481412828,
          901.5359686554378,
          882.1767621301876,
          1523.386712534712,
          1681.0348458449764,
          1637.770975592965,
          1464.6902094250233,
          1625.8041605521537,
          1101.7541081336358,
          1056.096988297444,
          1656.6517706567467,
          1707.9599278980486,
          1704.5828288159694,
          1744.0465228654984,
          1761.4554715305032,
          1155.2729481249125,
          1234.5933649688789,
          1809.937563842382,
          1967.376432734372,
          1946.941337324959,
          1892.3508191270846,
          1887.3314877180464,
          1357.385515159818,
          1310.9101360043146,
          1960.8522738625202,
          2091.420543795891,
          2086.879643948526,
          2087.947489104339,
          2126.175167322476,
          1543.2315798328532,
          1634.7647558702502,
          2201.8748602787,
          2305.0009458735767,
          2269.8887412403487,
          2176.269474786833,
          2190.504095133136,
          1679.7390100472321,
          1597.2614171586963,
          2313.174689781802,
          2326.28373260649,
          2210.390222134851,
          2238.0351887800675,
          2364.7076073913063,
          1693.6623390974619,
          1684.715144892147,
          2268.5539171961723,
          2424.3710705968665,
          2292.938561463243,
          2206.2330699310455,
          2292.8033811453083,
          1648.2400730221864,
          1599.3943572754004,
          2312.4270485293273,
          2338.4187291378744,
          2267.447032169494,
          2183.198152925061,
          2194.816741400982,
          1624.00034876924,
          1570.459733619219,
          2186.1808508018257,
          2246.239348224643,
          2198.3934466009623,
          2133.4388960241567,
          2177.670255026248,
          1560.4967493208078,
          1511.6434043582176,
          2153.504118367293,
          2319.586010042127,
          2107.875035307505,
          2130.7151484585224,
          2045.9058576739787,
          1508.1090658713204,
          1472.5180976644272,
          2045.0756516133827,
          2225.1125696669405,
          2122.7393485444036,
          2027.148564100797,
          2132.0895385920194,
          1487.1489343401483,
          1390.3825194133763,
          2008.18913002176,
          2130.0726030641877,
          2102.9206136145485,
          1989.7675337738513,
          1998.9791257028844,
          1409.849064512696,
          1444.5664998539685,
          1923.8996073717094,
          2094.042848365083,
          2048.9918371983204,
          1911.2900545119885,
          1936.1322007728797,
          1366.7053396456968,
          1324.7466330813209,
          1967.5376901386724,
          1976.1760049732854,
          1865.6384849724996,
          1840.7645932745845,
          1828.6517257788514,
          1253.9197811238448,
          1331.5388873081254,
          1972.6488363117328,
          1979.259895975917,
          1953.639919533402,
          1777.2818674108444,
          1835.951066237166,
          1180.61612139003,
          1204.291021151061,
          1860.7283360574243,
          1969.609629975606,
          1934.0213641522867,
          1759.3952552879773,
          1784.9739539870397,
          1123.4967533017389,
          1201.3323794362575,
          1824.1370708518796,
          1790.79816047843,
          1833.490897793117,
          1788.6984505124112,
          1732.750024476226,
          1136.4908040366713,
          1113.5086309964415,
          1835.290182644068,
          1872.3087837662576,
          1759.2274280293086,
          1702.1575121913736,
          1729.7785160053274,
          1180.3214021614413,
          1138.4464739797133,
          1717.0416349796517,
          1761.0760274304735,
          1722.0121438239994,
          1660.8337495265348,
          1656.194729414241,
          1115.4658438952163,
          1130.9449783939033,
          1795.2601682634822,
          1866.5266158016161,
          1726.0893255742806,
          1605.267210711876,
          1727.0604580235088,
          1156.7161406416722,
          1057.2955418916383,
          1784.1273448180896,
          1769.338217288597,
          1851.6044350550487,
          1625.8952055390107,
          1735.9143858946172,
          1062.9032045917288,
          1070.2420286813742,
          1740.115180650174,
          1827.371939810174,
          1779.380676612198,
          1695.9462831348858,
          1598.408820294612,
          1161.8123002158486,
          1105.0553127761991,
          1640.7825806973503,
          1804.696657595361,
          1800.5861245137896,
          1766.989730371672,
          1723.936272359739,
          1093.5820684682453,
          1097.719442447515,
          1771.0733878670178,
          1799.3380007564037,
          1783.7314836444677,
          1714.0754256423374,
          1688.4743759443134,
          1146.105579495639,
          1064.4618467042774,
          1775.9958239612893,
          1809.1820190500148,
          1702.386313436046,
          1750.4785367029237,
          1663.2331739997344,
          1154.2851091120958,
          1063.153700840921,
          1689.6891451340562,
          1797.8851071894126,
          1752.8027896848569,
          1711.8278597061171,
          1677.4168201990108,
          1148.4920446143562,
          1070.8839114358136,
          1717.4751731746685,
          1774.1894348262201,
          1730.7391516913492,
          1721.0922515645727,
          1679.8992133579925,
          1166.9814326640208,
          1118.1558534130588,
          1655.1227046282388,
          1769.551928256709,
          1768.430303423047,
          1687.439762610044,
          1687.3205210409049,
          1162.0226621327188,
          1052.6627645593892,
          1636.3243082789536,
          1802.6238093358236,
          1712.3701370735694,
          1638.683307499663,
          1780.515634070245,
          1047.1143697601804,
          1076.2852138132992,
          1778.435642714857,
          1792.4020666212614,
          1706.6775417716635,
          1671.8987796294161,
          1674.0232235050196,
          1080.2500133588414,
          1145.3532636748894,
          1664.9824915100328,
          1875.5864937940078,
          1755.5817453326213,
          1729.8591458413655,
          1745.439725073205,
          1123.9898047771162,
          1150.8482152253116,
          1740.906450379973,
          1852.8850171403162,
          1794.5663315181866,
          1703.4853198989747,
          1753.996059374488,
          1160.5725826356581,
          1236.5736244212399,
          1886.04750997016,
          1890.5023632620278,
          1825.2113283626472,
          1855.2975396688828,
          1905.7195723333407,
          1209.3921548325404,
          1198.0342849628883,
          1887.7796609350503,
          2064.866057072231,
          2024.4597550655242,
          1946.7291593777525,
          2005.0051779412008,
          1391.0201839708454,
          1388.462778061432,
          2058.539030704772,
          2234.1448365090077,
          2193.68392387873,
          2067.7614906614394,
          2156.417993671744,
          1543.426232609387,
          1610.5144428919316,
          2197.9876206001973,
          2274.848682446561,
          2197.145749622283,
          2233.902811628266,
          2223.612737948234,
          1675.4734744108669,
          1744.2825418389054,
          2362.2471048736456,
          2530.1304460081265,
          2407.8208604731453,
          2384.8381376619254,
          2340.345054902576,
          1821.601153265572,
          1762.0134543779798,
          2467.9554264497237,
          2616.37930983199,
          2450.720102353387,
          2493.3004413995905,
          2452.3007320352003,
          2025.7106095569227,
          1969.1747015032163,
          2539.1946879186744,
          2673.2689912374058,
          2679.7621499392408,
          2565.878303377541,
          2706.0195205333416,
          2112.7716810461484,
          2069.762548014541,
          2712.343338524951,
          2837.7150739139256,
          2803.5373006560717,
          2728.76784826395,
          2828.151052415033,
          2268.7512111259607,
          2213.475199065989,
          2861.46661249154,
          2971.657660888132,
          2904.6758955923156,
          2834.493138481891,
          2895.9128608646683,
          2339.424345347871,
          2344.9849499040315,
          2992.603809400859,
          3145.1682770011294,
          3070.9401921573594,
          2987.5814676969317,
          3125.8200910145783,
          2427.8345945931246,
          2493.7876558576904,
          3084.787819868128,
          3176.207898646394,
          3162.8765799086063,
          3098.380203055098,
          3198.110318378798,
          2638.5603554617487,
          2609.678776162741,
          3254.3758567559958,
          3418.1808280225255,
          3330.962352353911,
          3225.0003248438256,
          3315.8412383695454,
          2785.638626035992,
          2797.1439033321412,
          3360.782256181077,
          3506.565768015429,
          3413.53274909918,
          3416.34191036381,
          3438.309002691168,
          2901.3519451941042,
          2838.194782047928,
          3502.2319397449114,
          3638.361330511402,
          3573.478285636574,
          3540.7297728359745
         ]
        }
       ],
       "layout": {
        "height": 600,
        "showlegend": false,
        "template": {
         "data": {
          "bar": [
           {
            "error_x": {
             "color": "#2a3f5f"
            },
            "error_y": {
             "color": "#2a3f5f"
            },
            "marker": {
             "line": {
              "color": "#E5ECF6",
              "width": 0.5
             }
            },
            "type": "bar"
           }
          ],
          "barpolar": [
           {
            "marker": {
             "line": {
              "color": "#E5ECF6",
              "width": 0.5
             }
            },
            "type": "barpolar"
           }
          ],
          "carpet": [
           {
            "aaxis": {
             "endlinecolor": "#2a3f5f",
             "gridcolor": "white",
             "linecolor": "white",
             "minorgridcolor": "white",
             "startlinecolor": "#2a3f5f"
            },
            "baxis": {
             "endlinecolor": "#2a3f5f",
             "gridcolor": "white",
             "linecolor": "white",
             "minorgridcolor": "white",
             "startlinecolor": "#2a3f5f"
            },
            "type": "carpet"
           }
          ],
          "choropleth": [
           {
            "colorbar": {
             "outlinewidth": 0,
             "ticks": ""
            },
            "type": "choropleth"
           }
          ],
          "contour": [
           {
            "colorbar": {
             "outlinewidth": 0,
             "ticks": ""
            },
            "colorscale": [
             [
              0,
              "#0d0887"
             ],
             [
              0.1111111111111111,
              "#46039f"
             ],
             [
              0.2222222222222222,
              "#7201a8"
             ],
             [
              0.3333333333333333,
              "#9c179e"
             ],
             [
              0.4444444444444444,
              "#bd3786"
             ],
             [
              0.5555555555555556,
              "#d8576b"
             ],
             [
              0.6666666666666666,
              "#ed7953"
             ],
             [
              0.7777777777777778,
              "#fb9f3a"
             ],
             [
              0.8888888888888888,
              "#fdca26"
             ],
             [
              1,
              "#f0f921"
             ]
            ],
            "type": "contour"
           }
          ],
          "contourcarpet": [
           {
            "colorbar": {
             "outlinewidth": 0,
             "ticks": ""
            },
            "type": "contourcarpet"
           }
          ],
          "heatmap": [
           {
            "colorbar": {
             "outlinewidth": 0,
             "ticks": ""
            },
            "colorscale": [
             [
              0,
              "#0d0887"
             ],
             [
              0.1111111111111111,
              "#46039f"
             ],
             [
              0.2222222222222222,
              "#7201a8"
             ],
             [
              0.3333333333333333,
              "#9c179e"
             ],
             [
              0.4444444444444444,
              "#bd3786"
             ],
             [
              0.5555555555555556,
              "#d8576b"
             ],
             [
              0.6666666666666666,
              "#ed7953"
             ],
             [
              0.7777777777777778,
              "#fb9f3a"
             ],
             [
              0.8888888888888888,
              "#fdca26"
             ],
             [
              1,
              "#f0f921"
             ]
            ],
            "type": "heatmap"
           }
          ],
          "heatmapgl": [
           {
            "colorbar": {
             "outlinewidth": 0,
             "ticks": ""
            },
            "colorscale": [
             [
              0,
              "#0d0887"
             ],
             [
              0.1111111111111111,
              "#46039f"
             ],
             [
              0.2222222222222222,
              "#7201a8"
             ],
             [
              0.3333333333333333,
              "#9c179e"
             ],
             [
              0.4444444444444444,
              "#bd3786"
             ],
             [
              0.5555555555555556,
              "#d8576b"
             ],
             [
              0.6666666666666666,
              "#ed7953"
             ],
             [
              0.7777777777777778,
              "#fb9f3a"
             ],
             [
              0.8888888888888888,
              "#fdca26"
             ],
             [
              1,
              "#f0f921"
             ]
            ],
            "type": "heatmapgl"
           }
          ],
          "histogram": [
           {
            "marker": {
             "colorbar": {
              "outlinewidth": 0,
              "ticks": ""
             }
            },
            "type": "histogram"
           }
          ],
          "histogram2d": [
           {
            "colorbar": {
             "outlinewidth": 0,
             "ticks": ""
            },
            "colorscale": [
             [
              0,
              "#0d0887"
             ],
             [
              0.1111111111111111,
              "#46039f"
             ],
             [
              0.2222222222222222,
              "#7201a8"
             ],
             [
              0.3333333333333333,
              "#9c179e"
             ],
             [
              0.4444444444444444,
              "#bd3786"
             ],
             [
              0.5555555555555556,
              "#d8576b"
             ],
             [
              0.6666666666666666,
              "#ed7953"
             ],
             [
              0.7777777777777778,
              "#fb9f3a"
             ],
             [
              0.8888888888888888,
              "#fdca26"
             ],
             [
              1,
              "#f0f921"
             ]
            ],
            "type": "histogram2d"
           }
          ],
          "histogram2dcontour": [
           {
            "colorbar": {
             "outlinewidth": 0,
             "ticks": ""
            },
            "colorscale": [
             [
              0,
              "#0d0887"
             ],
             [
              0.1111111111111111,
              "#46039f"
             ],
             [
              0.2222222222222222,
              "#7201a8"
             ],
             [
              0.3333333333333333,
              "#9c179e"
             ],
             [
              0.4444444444444444,
              "#bd3786"
             ],
             [
              0.5555555555555556,
              "#d8576b"
             ],
             [
              0.6666666666666666,
              "#ed7953"
             ],
             [
              0.7777777777777778,
              "#fb9f3a"
             ],
             [
              0.8888888888888888,
              "#fdca26"
             ],
             [
              1,
              "#f0f921"
             ]
            ],
            "type": "histogram2dcontour"
           }
          ],
          "mesh3d": [
           {
            "colorbar": {
             "outlinewidth": 0,
             "ticks": ""
            },
            "type": "mesh3d"
           }
          ],
          "parcoords": [
           {
            "line": {
             "colorbar": {
              "outlinewidth": 0,
              "ticks": ""
             }
            },
            "type": "parcoords"
           }
          ],
          "pie": [
           {
            "automargin": true,
            "type": "pie"
           }
          ],
          "scatter": [
           {
            "marker": {
             "colorbar": {
              "outlinewidth": 0,
              "ticks": ""
             }
            },
            "type": "scatter"
           }
          ],
          "scatter3d": [
           {
            "line": {
             "colorbar": {
              "outlinewidth": 0,
              "ticks": ""
             }
            },
            "marker": {
             "colorbar": {
              "outlinewidth": 0,
              "ticks": ""
             }
            },
            "type": "scatter3d"
           }
          ],
          "scattercarpet": [
           {
            "marker": {
             "colorbar": {
              "outlinewidth": 0,
              "ticks": ""
             }
            },
            "type": "scattercarpet"
           }
          ],
          "scattergeo": [
           {
            "marker": {
             "colorbar": {
              "outlinewidth": 0,
              "ticks": ""
             }
            },
            "type": "scattergeo"
           }
          ],
          "scattergl": [
           {
            "marker": {
             "colorbar": {
              "outlinewidth": 0,
              "ticks": ""
             }
            },
            "type": "scattergl"
           }
          ],
          "scattermapbox": [
           {
            "marker": {
             "colorbar": {
              "outlinewidth": 0,
              "ticks": ""
             }
            },
            "type": "scattermapbox"
           }
          ],
          "scatterpolar": [
           {
            "marker": {
             "colorbar": {
              "outlinewidth": 0,
              "ticks": ""
             }
            },
            "type": "scatterpolar"
           }
          ],
          "scatterpolargl": [
           {
            "marker": {
             "colorbar": {
              "outlinewidth": 0,
              "ticks": ""
             }
            },
            "type": "scatterpolargl"
           }
          ],
          "scatterternary": [
           {
            "marker": {
             "colorbar": {
              "outlinewidth": 0,
              "ticks": ""
             }
            },
            "type": "scatterternary"
           }
          ],
          "surface": [
           {
            "colorbar": {
             "outlinewidth": 0,
             "ticks": ""
            },
            "colorscale": [
             [
              0,
              "#0d0887"
             ],
             [
              0.1111111111111111,
              "#46039f"
             ],
             [
              0.2222222222222222,
              "#7201a8"
             ],
             [
              0.3333333333333333,
              "#9c179e"
             ],
             [
              0.4444444444444444,
              "#bd3786"
             ],
             [
              0.5555555555555556,
              "#d8576b"
             ],
             [
              0.6666666666666666,
              "#ed7953"
             ],
             [
              0.7777777777777778,
              "#fb9f3a"
             ],
             [
              0.8888888888888888,
              "#fdca26"
             ],
             [
              1,
              "#f0f921"
             ]
            ],
            "type": "surface"
           }
          ],
          "table": [
           {
            "cells": {
             "fill": {
              "color": "#EBF0F8"
             },
             "line": {
              "color": "white"
             }
            },
            "header": {
             "fill": {
              "color": "#C8D4E3"
             },
             "line": {
              "color": "white"
             }
            },
            "type": "table"
           }
          ]
         },
         "layout": {
          "annotationdefaults": {
           "arrowcolor": "#2a3f5f",
           "arrowhead": 0,
           "arrowwidth": 1
          },
          "coloraxis": {
           "colorbar": {
            "outlinewidth": 0,
            "ticks": ""
           }
          },
          "colorscale": {
           "diverging": [
            [
             0,
             "#8e0152"
            ],
            [
             0.1,
             "#c51b7d"
            ],
            [
             0.2,
             "#de77ae"
            ],
            [
             0.3,
             "#f1b6da"
            ],
            [
             0.4,
             "#fde0ef"
            ],
            [
             0.5,
             "#f7f7f7"
            ],
            [
             0.6,
             "#e6f5d0"
            ],
            [
             0.7,
             "#b8e186"
            ],
            [
             0.8,
             "#7fbc41"
            ],
            [
             0.9,
             "#4d9221"
            ],
            [
             1,
             "#276419"
            ]
           ],
           "sequential": [
            [
             0,
             "#0d0887"
            ],
            [
             0.1111111111111111,
             "#46039f"
            ],
            [
             0.2222222222222222,
             "#7201a8"
            ],
            [
             0.3333333333333333,
             "#9c179e"
            ],
            [
             0.4444444444444444,
             "#bd3786"
            ],
            [
             0.5555555555555556,
             "#d8576b"
            ],
            [
             0.6666666666666666,
             "#ed7953"
            ],
            [
             0.7777777777777778,
             "#fb9f3a"
            ],
            [
             0.8888888888888888,
             "#fdca26"
            ],
            [
             1,
             "#f0f921"
            ]
           ],
           "sequentialminus": [
            [
             0,
             "#0d0887"
            ],
            [
             0.1111111111111111,
             "#46039f"
            ],
            [
             0.2222222222222222,
             "#7201a8"
            ],
            [
             0.3333333333333333,
             "#9c179e"
            ],
            [
             0.4444444444444444,
             "#bd3786"
            ],
            [
             0.5555555555555556,
             "#d8576b"
            ],
            [
             0.6666666666666666,
             "#ed7953"
            ],
            [
             0.7777777777777778,
             "#fb9f3a"
            ],
            [
             0.8888888888888888,
             "#fdca26"
            ],
            [
             1,
             "#f0f921"
            ]
           ]
          },
          "colorway": [
           "#636efa",
           "#EF553B",
           "#00cc96",
           "#ab63fa",
           "#FFA15A",
           "#19d3f3",
           "#FF6692",
           "#B6E880",
           "#FF97FF",
           "#FECB52"
          ],
          "font": {
           "color": "#2a3f5f"
          },
          "geo": {
           "bgcolor": "white",
           "lakecolor": "white",
           "landcolor": "#E5ECF6",
           "showlakes": true,
           "showland": true,
           "subunitcolor": "white"
          },
          "hoverlabel": {
           "align": "left"
          },
          "hovermode": "closest",
          "mapbox": {
           "style": "light"
          },
          "paper_bgcolor": "white",
          "plot_bgcolor": "#E5ECF6",
          "polar": {
           "angularaxis": {
            "gridcolor": "white",
            "linecolor": "white",
            "ticks": ""
           },
           "bgcolor": "#E5ECF6",
           "radialaxis": {
            "gridcolor": "white",
            "linecolor": "white",
            "ticks": ""
           }
          },
          "scene": {
           "xaxis": {
            "backgroundcolor": "#E5ECF6",
            "gridcolor": "white",
            "gridwidth": 2,
            "linecolor": "white",
            "showbackground": true,
            "ticks": "",
            "zerolinecolor": "white"
           },
           "yaxis": {
            "backgroundcolor": "#E5ECF6",
            "gridcolor": "white",
            "gridwidth": 2,
            "linecolor": "white",
            "showbackground": true,
            "ticks": "",
            "zerolinecolor": "white"
           },
           "zaxis": {
            "backgroundcolor": "#E5ECF6",
            "gridcolor": "white",
            "gridwidth": 2,
            "linecolor": "white",
            "showbackground": true,
            "ticks": "",
            "zerolinecolor": "white"
           }
          },
          "shapedefaults": {
           "line": {
            "color": "#2a3f5f"
           }
          },
          "ternary": {
           "aaxis": {
            "gridcolor": "white",
            "linecolor": "white",
            "ticks": ""
           },
           "baxis": {
            "gridcolor": "white",
            "linecolor": "white",
            "ticks": ""
           },
           "bgcolor": "#E5ECF6",
           "caxis": {
            "gridcolor": "white",
            "linecolor": "white",
            "ticks": ""
           }
          },
          "title": {
           "x": 0.05
          },
          "xaxis": {
           "automargin": true,
           "gridcolor": "white",
           "linecolor": "white",
           "ticks": "",
           "title": {
            "standoff": 15
           },
           "zerolinecolor": "white",
           "zerolinewidth": 2
          },
          "yaxis": {
           "automargin": true,
           "gridcolor": "white",
           "linecolor": "white",
           "ticks": "",
           "title": {
            "standoff": 15
           },
           "zerolinecolor": "white",
           "zerolinewidth": 2
          }
         }
        },
        "width": 900,
        "xaxis": {
         "rangeselector": {
          "buttons": [
           {
            "count": 7,
            "label": "1w",
            "step": "day",
            "stepmode": "backward"
           },
           {
            "count": 1,
            "label": "1m",
            "step": "month",
            "stepmode": "backward"
           },
           {
            "count": 6,
            "label": "6m",
            "step": "month",
            "stepmode": "backward"
           },
           {
            "count": 1,
            "label": "1y",
            "step": "year",
            "stepmode": "backward"
           },
           {
            "step": "all"
           }
          ]
         },
         "rangeslider": {
          "visible": true
         },
         "title": {
          "text": "ds"
         },
         "type": "date"
        },
        "yaxis": {
         "title": {
          "text": "y"
         }
        }
       }
      }
     },
     "metadata": {}
    }
   ],
   "source": [
    "fig = plot_plotly(ml_model, forecast)\n",
    "fig"
   ]
  },
  {
   "cell_type": "code",
   "execution_count": null,
   "metadata": {},
   "outputs": [],
   "source": []
  }
 ],
 "metadata": {
  "kernelspec": {
   "display_name": "Python 3",
   "language": "python",
   "name": "python3"
  },
  "language_info": {
   "codemirror_mode": {
    "name": "ipython",
    "version": 3
   },
   "file_extension": ".py",
   "mimetype": "text/x-python",
   "name": "python",
   "nbconvert_exporter": "python",
   "pygments_lexer": "ipython3",
   "version": "3.8.5-final"
  }
 },
 "nbformat": 4,
 "nbformat_minor": 2
}