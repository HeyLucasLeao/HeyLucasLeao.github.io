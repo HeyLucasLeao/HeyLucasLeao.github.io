{
 "cells": [
  {
   "cell_type": "markdown",
   "metadata": {},
   "source": [
    "# Aprendizado de Máquina"
   ]
  },
  {
   "cell_type": "markdown",
   "metadata": {},
   "source": [
    "### Este documento apenas tem objetivo para fins exploratórios. Ele não agrega a nada sobre o relatório principal. Nele, testei e explorei possibilidades acerca de utilizar algoritmos envolvendo Gradient Boosting, porém, devido a inconscitência dos dados, isto é, ser um Random Walk extremamente volátil, junto a um desbalanceamento de emissões de casos, tornou-se dificultoso um trabalho para se chegar em um modelo que apresentasse uma acurácia consistente, se baseando no erro percentual absoluto médio simétrico."
   ]
  },
  {
   "cell_type": "code",
   "execution_count": 2,
   "metadata": {
    "execution": {
     "iopub.execute_input": "2021-01-06T10:23:24.380140Z",
     "iopub.status.busy": "2021-01-06T10:23:24.379116Z",
     "iopub.status.idle": "2021-01-06T10:23:36.317396Z",
     "shell.execute_reply": "2021-01-06T10:23:36.316399Z"
    }
   },
   "outputs": [],
   "source": [
    "import plotly.express as px\n",
    "import pandas as pd\n",
    "import numpy as np\n",
    "import requests\n",
    "import gzip\n",
    "import plotly.graph_objects as go"
   ]
  },
  {
   "cell_type": "code",
   "execution_count": 3,
   "metadata": {},
   "outputs": [],
   "source": [
    "from sktime.forecasting.model_selection import temporal_train_test_split\n",
    "from sktime.performance_metrics.forecasting import smape_loss"
   ]
  },
  {
   "cell_type": "code",
   "execution_count": 1,
   "metadata": {},
   "outputs": [],
   "source": [
    "from numpy import ravel\n",
    "import sklearn.model_selection\n",
    "from sktime.forecasting.compose import make_reduction\n",
    "from skopt import dummy_minimize\n",
    "from lightgbm import LGBMRegressor\n",
    "from statsmodels.tsa.filters.hp_filter import hpfilter\n",
    "from sktime.forecasting.model_evaluation import evaluate\n",
    "from sktime.forecasting.model_selection import ExpandingWindowSplitter\n",
    "from sktime.utils.plotting import plot_series\n",
    "from sktime.forecasting.model_selection import ForecastingGridSearchCV"
   ]
  },
  {
   "cell_type": "code",
   "execution_count": 4,
   "metadata": {},
   "outputs": [],
   "source": [
    "from sktime.forecasting.naive import NaiveForecaster\n",
    "from sklearn.model_selection import train_test_split"
   ]
  },
  {
   "cell_type": "code",
   "execution_count": 13,
   "metadata": {},
   "outputs": [
    {
     "name": "stderr",
     "output_type": "stream",
     "text": [
      "C:\\Users\\heylu\\miniconda3\\envs\\lazypredict\\lib\\site-packages\\sklearn\\utils\\deprecation.py:143: FutureWarning: The sklearn.utils.testing module is  deprecated in version 0.22 and will be removed in version 0.24. The corresponding classes / functions should instead be imported from sklearn.utils. Anything that cannot be imported from sklearn.utils is now part of the private API.\n",
      "  warnings.warn(message, FutureWarning)\n"
     ]
    }
   ],
   "source": [
    "from lazypredict.Supervised import LazyRegressor"
   ]
  },
  {
   "cell_type": "code",
   "execution_count": 6,
   "metadata": {
    "execution": {
     "iopub.execute_input": "2021-01-06T10:23:48.381745Z",
     "iopub.status.busy": "2021-01-06T10:23:48.380746Z",
     "iopub.status.idle": "2021-01-06T10:23:56.739574Z",
     "shell.execute_reply": "2021-01-06T10:23:56.739574Z"
    }
   },
   "outputs": [],
   "source": [
    "url = 'https://github.com/wcota/covid19br/blob/master/cases-brazil-cities-time.csv.gz?raw=true'\n",
    "r = requests.get(url, allow_redirects=True)\n",
    "open('data.csv.gz','wb').write(r.content)\n",
    "gz = gzip.open('data.csv.gz')\n",
    "df = pd.read_csv(gz)"
   ]
  },
  {
   "cell_type": "markdown",
   "metadata": {},
   "source": [
    "## Validação de Modelos"
   ]
  },
  {
   "cell_type": "code",
   "execution_count": 7,
   "metadata": {
    "execution": {
     "iopub.execute_input": "2021-01-06T10:23:56.742565Z",
     "iopub.status.busy": "2021-01-06T10:23:56.742565Z",
     "iopub.status.idle": "2021-01-06T10:23:57.094021Z",
     "shell.execute_reply": "2021-01-06T10:23:57.092994Z"
    }
   },
   "outputs": [],
   "source": [
    "total_de_casos_amazonas = df.query(\"state == 'AM'\").groupby('date').sum()\n",
    "total_de_casos_amazonas.index = pd.to_datetime(total_de_casos_amazonas.index)\n",
    "total_de_casos_amazonas.index.freq = 'D'"
   ]
  },
  {
   "cell_type": "code",
   "execution_count": 8,
   "metadata": {},
   "outputs": [],
   "source": [
    "def to_zero(x):\n",
    "    if x < 0:\n",
    "        return 0\n",
    "    return x"
   ]
  },
  {
   "cell_type": "code",
   "execution_count": 157,
   "metadata": {},
   "outputs": [
    {
     "ename": "KeyError",
     "evalue": "\"['epi_week' 'ibgeID' 'cod_RegiaoDeSaude'] not found in axis\"",
     "output_type": "error",
     "traceback": [
      "\u001b[1;31m---------------------------------------------------------------------------\u001b[0m",
      "\u001b[1;31mKeyError\u001b[0m                                  Traceback (most recent call last)",
      "\u001b[1;32m<ipython-input-157-19ddceeca6a3>\u001b[0m in \u001b[0;36m<module>\u001b[1;34m\u001b[0m\n\u001b[1;32m----> 1\u001b[1;33m \u001b[0mtotal_de_casos_amazonas\u001b[0m\u001b[1;33m.\u001b[0m\u001b[0mdrop\u001b[0m\u001b[1;33m(\u001b[0m\u001b[0mcolumns\u001b[0m\u001b[1;33m=\u001b[0m\u001b[1;33m[\u001b[0m\u001b[1;34m'epi_week'\u001b[0m\u001b[1;33m,\u001b[0m \u001b[1;34m'ibgeID'\u001b[0m\u001b[1;33m,\u001b[0m \u001b[1;34m'cod_RegiaoDeSaude'\u001b[0m\u001b[1;33m]\u001b[0m\u001b[1;33m,\u001b[0m \u001b[0minplace\u001b[0m\u001b[1;33m=\u001b[0m\u001b[1;32mTrue\u001b[0m\u001b[1;33m)\u001b[0m\u001b[1;33m\u001b[0m\u001b[1;33m\u001b[0m\u001b[0m\n\u001b[0m",
      "\u001b[1;32m~\\miniconda3\\envs\\lazypredict\\lib\\site-packages\\pandas\\core\\frame.py\u001b[0m in \u001b[0;36mdrop\u001b[1;34m(self, labels, axis, index, columns, level, inplace, errors)\u001b[0m\n\u001b[0;32m   3995\u001b[0m             \u001b[0mlevel\u001b[0m\u001b[1;33m=\u001b[0m\u001b[0mlevel\u001b[0m\u001b[1;33m,\u001b[0m\u001b[1;33m\u001b[0m\u001b[1;33m\u001b[0m\u001b[0m\n\u001b[0;32m   3996\u001b[0m             \u001b[0minplace\u001b[0m\u001b[1;33m=\u001b[0m\u001b[0minplace\u001b[0m\u001b[1;33m,\u001b[0m\u001b[1;33m\u001b[0m\u001b[1;33m\u001b[0m\u001b[0m\n\u001b[1;32m-> 3997\u001b[1;33m             \u001b[0merrors\u001b[0m\u001b[1;33m=\u001b[0m\u001b[0merrors\u001b[0m\u001b[1;33m,\u001b[0m\u001b[1;33m\u001b[0m\u001b[1;33m\u001b[0m\u001b[0m\n\u001b[0m\u001b[0;32m   3998\u001b[0m         )\n\u001b[0;32m   3999\u001b[0m \u001b[1;33m\u001b[0m\u001b[0m\n",
      "\u001b[1;32m~\\miniconda3\\envs\\lazypredict\\lib\\site-packages\\pandas\\core\\generic.py\u001b[0m in \u001b[0;36mdrop\u001b[1;34m(self, labels, axis, index, columns, level, inplace, errors)\u001b[0m\n\u001b[0;32m   3934\u001b[0m         \u001b[1;32mfor\u001b[0m \u001b[0maxis\u001b[0m\u001b[1;33m,\u001b[0m \u001b[0mlabels\u001b[0m \u001b[1;32min\u001b[0m \u001b[0maxes\u001b[0m\u001b[1;33m.\u001b[0m\u001b[0mitems\u001b[0m\u001b[1;33m(\u001b[0m\u001b[1;33m)\u001b[0m\u001b[1;33m:\u001b[0m\u001b[1;33m\u001b[0m\u001b[1;33m\u001b[0m\u001b[0m\n\u001b[0;32m   3935\u001b[0m             \u001b[1;32mif\u001b[0m \u001b[0mlabels\u001b[0m \u001b[1;32mis\u001b[0m \u001b[1;32mnot\u001b[0m \u001b[1;32mNone\u001b[0m\u001b[1;33m:\u001b[0m\u001b[1;33m\u001b[0m\u001b[1;33m\u001b[0m\u001b[0m\n\u001b[1;32m-> 3936\u001b[1;33m                 \u001b[0mobj\u001b[0m \u001b[1;33m=\u001b[0m \u001b[0mobj\u001b[0m\u001b[1;33m.\u001b[0m\u001b[0m_drop_axis\u001b[0m\u001b[1;33m(\u001b[0m\u001b[0mlabels\u001b[0m\u001b[1;33m,\u001b[0m \u001b[0maxis\u001b[0m\u001b[1;33m,\u001b[0m \u001b[0mlevel\u001b[0m\u001b[1;33m=\u001b[0m\u001b[0mlevel\u001b[0m\u001b[1;33m,\u001b[0m \u001b[0merrors\u001b[0m\u001b[1;33m=\u001b[0m\u001b[0merrors\u001b[0m\u001b[1;33m)\u001b[0m\u001b[1;33m\u001b[0m\u001b[1;33m\u001b[0m\u001b[0m\n\u001b[0m\u001b[0;32m   3937\u001b[0m \u001b[1;33m\u001b[0m\u001b[0m\n\u001b[0;32m   3938\u001b[0m         \u001b[1;32mif\u001b[0m \u001b[0minplace\u001b[0m\u001b[1;33m:\u001b[0m\u001b[1;33m\u001b[0m\u001b[1;33m\u001b[0m\u001b[0m\n",
      "\u001b[1;32m~\\miniconda3\\envs\\lazypredict\\lib\\site-packages\\pandas\\core\\generic.py\u001b[0m in \u001b[0;36m_drop_axis\u001b[1;34m(self, labels, axis, level, errors)\u001b[0m\n\u001b[0;32m   3968\u001b[0m                 \u001b[0mnew_axis\u001b[0m \u001b[1;33m=\u001b[0m \u001b[0maxis\u001b[0m\u001b[1;33m.\u001b[0m\u001b[0mdrop\u001b[0m\u001b[1;33m(\u001b[0m\u001b[0mlabels\u001b[0m\u001b[1;33m,\u001b[0m \u001b[0mlevel\u001b[0m\u001b[1;33m=\u001b[0m\u001b[0mlevel\u001b[0m\u001b[1;33m,\u001b[0m \u001b[0merrors\u001b[0m\u001b[1;33m=\u001b[0m\u001b[0merrors\u001b[0m\u001b[1;33m)\u001b[0m\u001b[1;33m\u001b[0m\u001b[1;33m\u001b[0m\u001b[0m\n\u001b[0;32m   3969\u001b[0m             \u001b[1;32melse\u001b[0m\u001b[1;33m:\u001b[0m\u001b[1;33m\u001b[0m\u001b[1;33m\u001b[0m\u001b[0m\n\u001b[1;32m-> 3970\u001b[1;33m                 \u001b[0mnew_axis\u001b[0m \u001b[1;33m=\u001b[0m \u001b[0maxis\u001b[0m\u001b[1;33m.\u001b[0m\u001b[0mdrop\u001b[0m\u001b[1;33m(\u001b[0m\u001b[0mlabels\u001b[0m\u001b[1;33m,\u001b[0m \u001b[0merrors\u001b[0m\u001b[1;33m=\u001b[0m\u001b[0merrors\u001b[0m\u001b[1;33m)\u001b[0m\u001b[1;33m\u001b[0m\u001b[1;33m\u001b[0m\u001b[0m\n\u001b[0m\u001b[0;32m   3971\u001b[0m             \u001b[0mresult\u001b[0m \u001b[1;33m=\u001b[0m \u001b[0mself\u001b[0m\u001b[1;33m.\u001b[0m\u001b[0mreindex\u001b[0m\u001b[1;33m(\u001b[0m\u001b[1;33m**\u001b[0m\u001b[1;33m{\u001b[0m\u001b[0maxis_name\u001b[0m\u001b[1;33m:\u001b[0m \u001b[0mnew_axis\u001b[0m\u001b[1;33m}\u001b[0m\u001b[1;33m)\u001b[0m\u001b[1;33m\u001b[0m\u001b[1;33m\u001b[0m\u001b[0m\n\u001b[0;32m   3972\u001b[0m \u001b[1;33m\u001b[0m\u001b[0m\n",
      "\u001b[1;32m~\\miniconda3\\envs\\lazypredict\\lib\\site-packages\\pandas\\core\\indexes\\base.py\u001b[0m in \u001b[0;36mdrop\u001b[1;34m(self, labels, errors)\u001b[0m\n\u001b[0;32m   5016\u001b[0m         \u001b[1;32mif\u001b[0m \u001b[0mmask\u001b[0m\u001b[1;33m.\u001b[0m\u001b[0many\u001b[0m\u001b[1;33m(\u001b[0m\u001b[1;33m)\u001b[0m\u001b[1;33m:\u001b[0m\u001b[1;33m\u001b[0m\u001b[1;33m\u001b[0m\u001b[0m\n\u001b[0;32m   5017\u001b[0m             \u001b[1;32mif\u001b[0m \u001b[0merrors\u001b[0m \u001b[1;33m!=\u001b[0m \u001b[1;34m\"ignore\"\u001b[0m\u001b[1;33m:\u001b[0m\u001b[1;33m\u001b[0m\u001b[1;33m\u001b[0m\u001b[0m\n\u001b[1;32m-> 5018\u001b[1;33m                 \u001b[1;32mraise\u001b[0m \u001b[0mKeyError\u001b[0m\u001b[1;33m(\u001b[0m\u001b[1;34mf\"{labels[mask]} not found in axis\"\u001b[0m\u001b[1;33m)\u001b[0m\u001b[1;33m\u001b[0m\u001b[1;33m\u001b[0m\u001b[0m\n\u001b[0m\u001b[0;32m   5019\u001b[0m             \u001b[0mindexer\u001b[0m \u001b[1;33m=\u001b[0m \u001b[0mindexer\u001b[0m\u001b[1;33m[\u001b[0m\u001b[1;33m~\u001b[0m\u001b[0mmask\u001b[0m\u001b[1;33m]\u001b[0m\u001b[1;33m\u001b[0m\u001b[1;33m\u001b[0m\u001b[0m\n\u001b[0;32m   5020\u001b[0m         \u001b[1;32mreturn\u001b[0m \u001b[0mself\u001b[0m\u001b[1;33m.\u001b[0m\u001b[0mdelete\u001b[0m\u001b[1;33m(\u001b[0m\u001b[0mindexer\u001b[0m\u001b[1;33m)\u001b[0m\u001b[1;33m\u001b[0m\u001b[1;33m\u001b[0m\u001b[0m\n",
      "\u001b[1;31mKeyError\u001b[0m: \"['epi_week' 'ibgeID' 'cod_RegiaoDeSaude'] not found in axis\""
     ]
    }
   ],
   "source": [
    "total_de_casos_amazonas.drop(columns=['epi_week', 'ibgeID', 'cod_RegiaoDeSaude'], inplace=True)"
   ]
  },
  {
   "cell_type": "code",
   "execution_count": 158,
   "metadata": {},
   "outputs": [],
   "source": [
    "total_de_casos_amazonas['newDeaths'] = total_de_casos_amazonas['newDeaths'].apply(to_zero)"
   ]
  },
  {
   "cell_type": "code",
   "execution_count": 159,
   "metadata": {},
   "outputs": [],
   "source": [
    "total_de_casos_amazonas['newCases'] = total_de_casos_amazonas['newCases'].apply(to_zero)"
   ]
  },
  {
   "cell_type": "code",
   "execution_count": 161,
   "metadata": {},
   "outputs": [],
   "source": [
    "SEED = 4"
   ]
  },
  {
   "cell_type": "code",
   "execution_count": 232,
   "metadata": {},
   "outputs": [],
   "source": [
    "y = total_de_casos_amazonas['newCases']\n",
    "_, y = hpfilter(y)\n",
    "y = y.apply(to_zero).round()\n",
    "y = y.apply(lambda x: int(x))\n",
    "X = y.index\n",
    "X = np.array([int(x) for x in range(len(X))])\n",
    "y = y.values"
   ]
  },
  {
   "cell_type": "code",
   "execution_count": 233,
   "metadata": {},
   "outputs": [],
   "source": [
    "split = 7"
   ]
  },
  {
   "cell_type": "code",
   "execution_count": 234,
   "metadata": {},
   "outputs": [],
   "source": [
    "X_train, X_test = X[:-(split)], X[-(split):]\n",
    "y_train, y_test = y[:-(split)], y[-(split):]"
   ]
  },
  {
   "cell_type": "code",
   "execution_count": 235,
   "metadata": {},
   "outputs": [],
   "source": [
    "reg = LazyRegressor(verbose=0, ignore_warnings=False, custom_metric=None)"
   ]
  },
  {
   "cell_type": "code",
   "execution_count": 236,
   "metadata": {},
   "outputs": [
    {
     "name": "stderr",
     "output_type": "stream",
     "text": [
      " 31%|█████████████████████████▍                                                        | 13/42 [00:00<00:00, 41.73it/s]"
     ]
    },
    {
     "name": "stdout",
     "output_type": "stream",
     "text": [
      "GammaRegressor model failed to execute\n",
      "Some value(s) of y are out of the valid range for family GammaDistribution\n"
     ]
    },
    {
     "name": "stderr",
     "output_type": "stream",
     "text": [
      " 81%|██████████████████████████████████████████████████████████████████▍               | 34/42 [00:01<00:00, 22.45it/s]"
     ]
    },
    {
     "name": "stdout",
     "output_type": "stream",
     "text": [
      "OrthogonalMatchingPursuitCV model failed to execute\n",
      "Found array with 1 feature(s) (shape=(393, 1)) while a minimum of 2 is required by OrthogonalMatchingPursuitCV.\n"
     ]
    },
    {
     "name": "stderr",
     "output_type": "stream",
     "text": [
      "100%|██████████████████████████████████████████████████████████████████████████████████| 42/42 [00:01<00:00, 30.87it/s]\n"
     ]
    }
   ],
   "source": [
    "models, predictions = reg.fit(X_train, X_test, y_train, y_test)"
   ]
  },
  {
   "cell_type": "code",
   "execution_count": 237,
   "metadata": {},
   "outputs": [
    {
     "data": {
      "text/html": [
       "<div>\n",
       "<style scoped>\n",
       "    .dataframe tbody tr th:only-of-type {\n",
       "        vertical-align: middle;\n",
       "    }\n",
       "\n",
       "    .dataframe tbody tr th {\n",
       "        vertical-align: top;\n",
       "    }\n",
       "\n",
       "    .dataframe thead th {\n",
       "        text-align: right;\n",
       "    }\n",
       "</style>\n",
       "<table border=\"1\" class=\"dataframe\">\n",
       "  <thead>\n",
       "    <tr style=\"text-align: right;\">\n",
       "      <th></th>\n",
       "      <th>Adjusted R-Squared</th>\n",
       "      <th>R-Squared</th>\n",
       "      <th>RMSE</th>\n",
       "      <th>Time Taken</th>\n",
       "    </tr>\n",
       "    <tr>\n",
       "      <th>Model</th>\n",
       "      <th></th>\n",
       "      <th></th>\n",
       "      <th></th>\n",
       "      <th></th>\n",
       "    </tr>\n",
       "  </thead>\n",
       "  <tbody>\n",
       "    <tr>\n",
       "      <th>DecisionTreeRegressor</th>\n",
       "      <td>-5.26</td>\n",
       "      <td>-4.21</td>\n",
       "      <td>43.22</td>\n",
       "      <td>0.01</td>\n",
       "    </tr>\n",
       "    <tr>\n",
       "      <th>ExtraTreeRegressor</th>\n",
       "      <td>-5.26</td>\n",
       "      <td>-4.21</td>\n",
       "      <td>43.22</td>\n",
       "      <td>0.01</td>\n",
       "    </tr>\n",
       "    <tr>\n",
       "      <th>ExtraTreesRegressor</th>\n",
       "      <td>-5.26</td>\n",
       "      <td>-4.21</td>\n",
       "      <td>43.22</td>\n",
       "      <td>0.10</td>\n",
       "    </tr>\n",
       "    <tr>\n",
       "      <th>XGBRegressor</th>\n",
       "      <td>-5.42</td>\n",
       "      <td>-4.35</td>\n",
       "      <td>43.77</td>\n",
       "      <td>0.03</td>\n",
       "    </tr>\n",
       "    <tr>\n",
       "      <th>BaggingRegressor</th>\n",
       "      <td>-6.94</td>\n",
       "      <td>-5.61</td>\n",
       "      <td>48.69</td>\n",
       "      <td>0.02</td>\n",
       "    </tr>\n",
       "    <tr>\n",
       "      <th>RandomForestRegressor</th>\n",
       "      <td>-7.18</td>\n",
       "      <td>-5.82</td>\n",
       "      <td>49.43</td>\n",
       "      <td>0.13</td>\n",
       "    </tr>\n",
       "    <tr>\n",
       "      <th>GradientBoostingRegressor</th>\n",
       "      <td>-7.80</td>\n",
       "      <td>-6.33</td>\n",
       "      <td>51.26</td>\n",
       "      <td>0.03</td>\n",
       "    </tr>\n",
       "    <tr>\n",
       "      <th>SVR</th>\n",
       "      <td>-7.80</td>\n",
       "      <td>-6.33</td>\n",
       "      <td>51.27</td>\n",
       "      <td>0.01</td>\n",
       "    </tr>\n",
       "    <tr>\n",
       "      <th>KNeighborsRegressor</th>\n",
       "      <td>-11.80</td>\n",
       "      <td>-9.67</td>\n",
       "      <td>61.83</td>\n",
       "      <td>0.01</td>\n",
       "    </tr>\n",
       "    <tr>\n",
       "      <th>NuSVR</th>\n",
       "      <td>-17.99</td>\n",
       "      <td>-14.83</td>\n",
       "      <td>75.32</td>\n",
       "      <td>0.01</td>\n",
       "    </tr>\n",
       "    <tr>\n",
       "      <th>DummyRegressor</th>\n",
       "      <td>-35.53</td>\n",
       "      <td>-29.45</td>\n",
       "      <td>104.46</td>\n",
       "      <td>0.01</td>\n",
       "    </tr>\n",
       "    <tr>\n",
       "      <th>RANSACRegressor</th>\n",
       "      <td>-40.33</td>\n",
       "      <td>-33.44</td>\n",
       "      <td>111.11</td>\n",
       "      <td>0.02</td>\n",
       "    </tr>\n",
       "    <tr>\n",
       "      <th>HistGradientBoostingRegressor</th>\n",
       "      <td>-56.88</td>\n",
       "      <td>-47.23</td>\n",
       "      <td>131.48</td>\n",
       "      <td>0.18</td>\n",
       "    </tr>\n",
       "    <tr>\n",
       "      <th>LGBMRegressor</th>\n",
       "      <td>-60.56</td>\n",
       "      <td>-50.30</td>\n",
       "      <td>135.60</td>\n",
       "      <td>0.03</td>\n",
       "    </tr>\n",
       "    <tr>\n",
       "      <th>AdaBoostRegressor</th>\n",
       "      <td>-121.07</td>\n",
       "      <td>-100.72</td>\n",
       "      <td>190.94</td>\n",
       "      <td>0.03</td>\n",
       "    </tr>\n",
       "    <tr>\n",
       "      <th>KernelRidge</th>\n",
       "      <td>-267.66</td>\n",
       "      <td>-222.88</td>\n",
       "      <td>283.27</td>\n",
       "      <td>0.01</td>\n",
       "    </tr>\n",
       "    <tr>\n",
       "      <th>LinearSVR</th>\n",
       "      <td>-271.34</td>\n",
       "      <td>-225.95</td>\n",
       "      <td>285.20</td>\n",
       "      <td>0.01</td>\n",
       "    </tr>\n",
       "    <tr>\n",
       "      <th>PassiveAggressiveRegressor</th>\n",
       "      <td>-299.96</td>\n",
       "      <td>-249.80</td>\n",
       "      <td>299.81</td>\n",
       "      <td>0.01</td>\n",
       "    </tr>\n",
       "    <tr>\n",
       "      <th>TweedieRegressor</th>\n",
       "      <td>-446.24</td>\n",
       "      <td>-371.70</td>\n",
       "      <td>365.48</td>\n",
       "      <td>0.01</td>\n",
       "    </tr>\n",
       "    <tr>\n",
       "      <th>GeneralizedLinearRegressor</th>\n",
       "      <td>-446.24</td>\n",
       "      <td>-371.70</td>\n",
       "      <td>365.48</td>\n",
       "      <td>0.01</td>\n",
       "    </tr>\n",
       "    <tr>\n",
       "      <th>HuberRegressor</th>\n",
       "      <td>-616.26</td>\n",
       "      <td>-513.38</td>\n",
       "      <td>429.37</td>\n",
       "      <td>0.01</td>\n",
       "    </tr>\n",
       "    <tr>\n",
       "      <th>ElasticNet</th>\n",
       "      <td>-683.61</td>\n",
       "      <td>-569.51</td>\n",
       "      <td>452.19</td>\n",
       "      <td>0.01</td>\n",
       "    </tr>\n",
       "    <tr>\n",
       "      <th>ElasticNetCV</th>\n",
       "      <td>-859.37</td>\n",
       "      <td>-715.98</td>\n",
       "      <td>506.92</td>\n",
       "      <td>0.05</td>\n",
       "    </tr>\n",
       "    <tr>\n",
       "      <th>LassoLars</th>\n",
       "      <td>-1174.38</td>\n",
       "      <td>-978.48</td>\n",
       "      <td>592.50</td>\n",
       "      <td>0.01</td>\n",
       "    </tr>\n",
       "    <tr>\n",
       "      <th>BayesianRidge</th>\n",
       "      <td>-1302.45</td>\n",
       "      <td>-1085.21</td>\n",
       "      <td>623.94</td>\n",
       "      <td>0.01</td>\n",
       "    </tr>\n",
       "    <tr>\n",
       "      <th>Lasso</th>\n",
       "      <td>-1309.67</td>\n",
       "      <td>-1091.23</td>\n",
       "      <td>625.67</td>\n",
       "      <td>0.01</td>\n",
       "    </tr>\n",
       "    <tr>\n",
       "      <th>RidgeCV</th>\n",
       "      <td>-1311.48</td>\n",
       "      <td>-1092.74</td>\n",
       "      <td>626.10</td>\n",
       "      <td>0.01</td>\n",
       "    </tr>\n",
       "    <tr>\n",
       "      <th>Ridge</th>\n",
       "      <td>-1311.48</td>\n",
       "      <td>-1092.74</td>\n",
       "      <td>626.10</td>\n",
       "      <td>0.01</td>\n",
       "    </tr>\n",
       "    <tr>\n",
       "      <th>LassoCV</th>\n",
       "      <td>-1314.87</td>\n",
       "      <td>-1095.56</td>\n",
       "      <td>626.91</td>\n",
       "      <td>0.05</td>\n",
       "    </tr>\n",
       "    <tr>\n",
       "      <th>LassoLarsIC</th>\n",
       "      <td>-1317.07</td>\n",
       "      <td>-1097.39</td>\n",
       "      <td>627.43</td>\n",
       "      <td>0.01</td>\n",
       "    </tr>\n",
       "    <tr>\n",
       "      <th>Lars</th>\n",
       "      <td>-1317.07</td>\n",
       "      <td>-1097.39</td>\n",
       "      <td>627.43</td>\n",
       "      <td>0.01</td>\n",
       "    </tr>\n",
       "    <tr>\n",
       "      <th>LassoLarsCV</th>\n",
       "      <td>-1317.07</td>\n",
       "      <td>-1097.39</td>\n",
       "      <td>627.43</td>\n",
       "      <td>0.01</td>\n",
       "    </tr>\n",
       "    <tr>\n",
       "      <th>LarsCV</th>\n",
       "      <td>-1317.07</td>\n",
       "      <td>-1097.39</td>\n",
       "      <td>627.43</td>\n",
       "      <td>0.01</td>\n",
       "    </tr>\n",
       "    <tr>\n",
       "      <th>OrthogonalMatchingPursuit</th>\n",
       "      <td>-1317.07</td>\n",
       "      <td>-1097.39</td>\n",
       "      <td>627.43</td>\n",
       "      <td>0.01</td>\n",
       "    </tr>\n",
       "    <tr>\n",
       "      <th>LinearRegression</th>\n",
       "      <td>-1317.07</td>\n",
       "      <td>-1097.39</td>\n",
       "      <td>627.43</td>\n",
       "      <td>0.01</td>\n",
       "    </tr>\n",
       "    <tr>\n",
       "      <th>TransformedTargetRegressor</th>\n",
       "      <td>-1317.07</td>\n",
       "      <td>-1097.39</td>\n",
       "      <td>627.43</td>\n",
       "      <td>0.01</td>\n",
       "    </tr>\n",
       "    <tr>\n",
       "      <th>SGDRegressor</th>\n",
       "      <td>-1317.32</td>\n",
       "      <td>-1097.60</td>\n",
       "      <td>627.49</td>\n",
       "      <td>0.01</td>\n",
       "    </tr>\n",
       "    <tr>\n",
       "      <th>PoissonRegressor</th>\n",
       "      <td>-1854.34</td>\n",
       "      <td>-1545.12</td>\n",
       "      <td>744.41</td>\n",
       "      <td>0.01</td>\n",
       "    </tr>\n",
       "    <tr>\n",
       "      <th>MLPRegressor</th>\n",
       "      <td>-1961.90</td>\n",
       "      <td>-1634.75</td>\n",
       "      <td>765.68</td>\n",
       "      <td>0.44</td>\n",
       "    </tr>\n",
       "    <tr>\n",
       "      <th>GaussianProcessRegressor</th>\n",
       "      <td>-3184.64</td>\n",
       "      <td>-2653.70</td>\n",
       "      <td>975.43</td>\n",
       "      <td>0.02</td>\n",
       "    </tr>\n",
       "  </tbody>\n",
       "</table>\n",
       "</div>"
      ],
      "text/plain": [
       "                               Adjusted R-Squared  R-Squared   RMSE  \\\n",
       "Model                                                                 \n",
       "DecisionTreeRegressor                       -5.26      -4.21  43.22   \n",
       "ExtraTreeRegressor                          -5.26      -4.21  43.22   \n",
       "ExtraTreesRegressor                         -5.26      -4.21  43.22   \n",
       "XGBRegressor                                -5.42      -4.35  43.77   \n",
       "BaggingRegressor                            -6.94      -5.61  48.69   \n",
       "RandomForestRegressor                       -7.18      -5.82  49.43   \n",
       "GradientBoostingRegressor                   -7.80      -6.33  51.26   \n",
       "SVR                                         -7.80      -6.33  51.27   \n",
       "KNeighborsRegressor                        -11.80      -9.67  61.83   \n",
       "NuSVR                                      -17.99     -14.83  75.32   \n",
       "DummyRegressor                             -35.53     -29.45 104.46   \n",
       "RANSACRegressor                            -40.33     -33.44 111.11   \n",
       "HistGradientBoostingRegressor              -56.88     -47.23 131.48   \n",
       "LGBMRegressor                              -60.56     -50.30 135.60   \n",
       "AdaBoostRegressor                         -121.07    -100.72 190.94   \n",
       "KernelRidge                               -267.66    -222.88 283.27   \n",
       "LinearSVR                                 -271.34    -225.95 285.20   \n",
       "PassiveAggressiveRegressor                -299.96    -249.80 299.81   \n",
       "TweedieRegressor                          -446.24    -371.70 365.48   \n",
       "GeneralizedLinearRegressor                -446.24    -371.70 365.48   \n",
       "HuberRegressor                            -616.26    -513.38 429.37   \n",
       "ElasticNet                                -683.61    -569.51 452.19   \n",
       "ElasticNetCV                              -859.37    -715.98 506.92   \n",
       "LassoLars                                -1174.38    -978.48 592.50   \n",
       "BayesianRidge                            -1302.45   -1085.21 623.94   \n",
       "Lasso                                    -1309.67   -1091.23 625.67   \n",
       "RidgeCV                                  -1311.48   -1092.74 626.10   \n",
       "Ridge                                    -1311.48   -1092.74 626.10   \n",
       "LassoCV                                  -1314.87   -1095.56 626.91   \n",
       "LassoLarsIC                              -1317.07   -1097.39 627.43   \n",
       "Lars                                     -1317.07   -1097.39 627.43   \n",
       "LassoLarsCV                              -1317.07   -1097.39 627.43   \n",
       "LarsCV                                   -1317.07   -1097.39 627.43   \n",
       "OrthogonalMatchingPursuit                -1317.07   -1097.39 627.43   \n",
       "LinearRegression                         -1317.07   -1097.39 627.43   \n",
       "TransformedTargetRegressor               -1317.07   -1097.39 627.43   \n",
       "SGDRegressor                             -1317.32   -1097.60 627.49   \n",
       "PoissonRegressor                         -1854.34   -1545.12 744.41   \n",
       "MLPRegressor                             -1961.90   -1634.75 765.68   \n",
       "GaussianProcessRegressor                 -3184.64   -2653.70 975.43   \n",
       "\n",
       "                               Time Taken  \n",
       "Model                                      \n",
       "DecisionTreeRegressor                0.01  \n",
       "ExtraTreeRegressor                   0.01  \n",
       "ExtraTreesRegressor                  0.10  \n",
       "XGBRegressor                         0.03  \n",
       "BaggingRegressor                     0.02  \n",
       "RandomForestRegressor                0.13  \n",
       "GradientBoostingRegressor            0.03  \n",
       "SVR                                  0.01  \n",
       "KNeighborsRegressor                  0.01  \n",
       "NuSVR                                0.01  \n",
       "DummyRegressor                       0.01  \n",
       "RANSACRegressor                      0.02  \n",
       "HistGradientBoostingRegressor        0.18  \n",
       "LGBMRegressor                        0.03  \n",
       "AdaBoostRegressor                    0.03  \n",
       "KernelRidge                          0.01  \n",
       "LinearSVR                            0.01  \n",
       "PassiveAggressiveRegressor           0.01  \n",
       "TweedieRegressor                     0.01  \n",
       "GeneralizedLinearRegressor           0.01  \n",
       "HuberRegressor                       0.01  \n",
       "ElasticNet                           0.01  \n",
       "ElasticNetCV                         0.05  \n",
       "LassoLars                            0.01  \n",
       "BayesianRidge                        0.01  \n",
       "Lasso                                0.01  \n",
       "RidgeCV                              0.01  \n",
       "Ridge                                0.01  \n",
       "LassoCV                              0.05  \n",
       "LassoLarsIC                          0.01  \n",
       "Lars                                 0.01  \n",
       "LassoLarsCV                          0.01  \n",
       "LarsCV                               0.01  \n",
       "OrthogonalMatchingPursuit            0.01  \n",
       "LinearRegression                     0.01  \n",
       "TransformedTargetRegressor           0.01  \n",
       "SGDRegressor                         0.01  \n",
       "PoissonRegressor                     0.01  \n",
       "MLPRegressor                         0.44  \n",
       "GaussianProcessRegressor             0.02  "
      ]
     },
     "execution_count": 237,
     "metadata": {},
     "output_type": "execute_result"
    }
   ],
   "source": [
    "predictions"
   ]
  },
  {
   "cell_type": "code",
   "execution_count": null,
   "metadata": {},
   "outputs": [],
   "source": []
  }
 ],
 "metadata": {
  "kernelspec": {
   "display_name": "Python [conda env:lazypredict]",
   "language": "python",
   "name": "conda-env-lazypredict-py"
  },
  "language_info": {
   "codemirror_mode": {
    "name": "ipython",
    "version": 3
   },
   "file_extension": ".py",
   "mimetype": "text/x-python",
   "name": "python",
   "nbconvert_exporter": "python",
   "pygments_lexer": "ipython3",
   "version": "3.7.9"
  }
 },
 "nbformat": 4,
 "nbformat_minor": 2
}
